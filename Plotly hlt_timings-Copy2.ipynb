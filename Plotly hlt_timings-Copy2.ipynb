{
 "cells": [
  {
   "cell_type": "code",
   "execution_count": 3,
   "metadata": {},
   "outputs": [],
   "source": [
    "import numpy as np\n",
    "import pandas as pd\n",
    "\n",
    "from plotly.offline import init_notebook_mode, iplot\n",
    "init_notebook_mode()\n"
   ]
  },
  {
   "cell_type": "code",
   "execution_count": 8,
   "metadata": {},
   "outputs": [
    {
     "name": "stdout",
     "output_type": "stream",
     "text": [
      "--2020-04-21 08:47:50--  https://raw.githubusercontent.com/livcms/hlt_timing/master/sen_constPU0_numEvent100_timings.csv\n",
      "Resolving raw.githubusercontent.com (raw.githubusercontent.com)... 151.101.236.133\n",
      "Connecting to raw.githubusercontent.com (raw.githubusercontent.com)|151.101.236.133|:443... connected.\n",
      "HTTP request sent, awaiting response... 200 OK\n",
      "Length: 6029 (5.9K) [text/plain]\n",
      "Saving to: ‘sen_constPU0_numEvent100_timings.csv.3’\n",
      "\n",
      "sen_constPU0_numEve 100%[===================>]   5.89K  --.-KB/s    in 0.001s  \n",
      "\n",
      "2020-04-21 08:47:50 (8.86 MB/s) - ‘sen_constPU0_numEvent100_timings.csv.3’ saved [6029/6029]\n",
      "\n",
      "--2020-04-21 08:47:50--  https://raw.githubusercontent.com/livcms/hlt_timing/master/sen_constPU140_numEvent100_timings.csv\n",
      "Resolving raw.githubusercontent.com (raw.githubusercontent.com)... 151.101.236.133\n",
      "Connecting to raw.githubusercontent.com (raw.githubusercontent.com)|151.101.236.133|:443... connected.\n",
      "HTTP request sent, awaiting response... 200 OK\n",
      "Length: 6169 (6.0K) [text/plain]\n",
      "Saving to: ‘sen_constPU140_numEvent100_timings.csv.3’\n",
      "\n",
      "sen_constPU140_numE 100%[===================>]   6.02K  --.-KB/s    in 0.001s  \n",
      "\n",
      "2020-04-21 08:47:50 (4.05 MB/s) - ‘sen_constPU140_numEvent100_timings.csv.3’ saved [6169/6169]\n",
      "\n",
      "--2020-04-21 08:47:50--  https://raw.githubusercontent.com/livcms/hlt_timing/master/sen_constPU200_numEvent100_timings.csv\n",
      "Resolving raw.githubusercontent.com (raw.githubusercontent.com)... 151.101.236.133\n",
      "Connecting to raw.githubusercontent.com (raw.githubusercontent.com)|151.101.236.133|:443... connected.\n",
      "HTTP request sent, awaiting response... 200 OK\n",
      "Length: 6216 (6.1K) [text/plain]\n",
      "Saving to: ‘sen_constPU200_numEvent100_timings.csv.3’\n",
      "\n",
      "sen_constPU200_numE 100%[===================>]   6.07K  --.-KB/s    in 0.001s  \n",
      "\n",
      "2020-04-21 08:47:51 (10.8 MB/s) - ‘sen_constPU200_numEvent100_timings.csv.3’ saved [6216/6216]\n",
      "\n"
     ]
    }
   ],
   "source": [
    "! wget https://raw.githubusercontent.com/livcms/hlt_timing/master/sen_constPU0_numEvent100_timings.csv\n",
    "! wget https://raw.githubusercontent.com/livcms/hlt_timing/master/sen_constPU140_numEvent100_timings.csv\n",
    "! wget https://raw.githubusercontent.com/livcms/hlt_timing/master/sen_constPU200_numEvent100_timings.csv"
   ]
  },
  {
   "cell_type": "code",
   "execution_count": 9,
   "metadata": {},
   "outputs": [],
   "source": [
    "pu0=pd.read_csv(\"sen_constPU0_numEvent100_timings.csv\")\n",
    "pu140 =pd.read_csv(\"sen_constPU140_numEvent100_timings.csv\")\n",
    "pu200 = pd.read_csv(\"sen_constPU200_numEvent100_timings.csv\")"
   ]
  },
  {
   "cell_type": "code",
   "execution_count": 10,
   "metadata": {},
   "outputs": [],
   "source": [
    "def categorise_modules(module):\n",
    "    if \"cutsReco\" in module: \n",
    "        return \"cutsReco\"\n",
    "    elif \"trackValidator\" in module: \n",
    "        return \"trackValidator\"\n",
    "    elif \"siPixel\" in module: \n",
    "        return \"siPixel\"\n",
    "    elif \"initialStep\" in module: \n",
    "        return \"initialStep\"\n",
    "    elif \"highPt\" in module: \n",
    "        return \"highPt\"\n",
    "    elif \"ecal\" in module: \n",
    "        return \"ecal\"\n",
    "    else: \n",
    "        return \"other\""
   ]
  },
  {
   "cell_type": "code",
   "execution_count": 11,
   "metadata": {},
   "outputs": [],
   "source": [
    "\n",
    "#pu0.drop(\"Std (ms) at 100 events\", axis=1, inplace=True)\n",
    "allpu = pu0.copy()\n",
    "allpu[\"PU140\"] = pu140[\"Average time/event (ms) at 100 events\"]\n",
    "allpu[\"PU200\"] = pu200[\"Average time/event (ms) at 100 events\"]\n",
    "allpu[\"ModuleType\"] = allpu[\"Module\"].apply(lambda x: categorise_modules(x))\n",
    "allpu.rename(columns={'Average time/event (ms) at 100 events':'PU0'}, inplace=True)"
   ]
  },
  {
   "cell_type": "code",
   "execution_count": 12,
   "metadata": {},
   "outputs": [],
   "source": [
    "def nlargest_three(x): \n",
    "    largestpu0 = allpu.nlargest(x, \"PU0\")[\"Module\"]\n",
    "    largestpu140 = allpu.nlargest(x, \"PU140\")[\"Module\"]\n",
    "    largestpu200 = allpu.nlargest(x, \"PU200\")[\"Module\"]\n",
    "    \n",
    "    nlongest_mod = np.unique((largestpu0.append(largestpu140)).append(largestpu200))\n",
    "    #df = dt.loc[allpu['Module'].isin(nlongest_mod)]\n",
    "    return nlongest_mod\n"
   ]
  },
  {
   "cell_type": "code",
   "execution_count": 65,
   "metadata": {},
   "outputs": [],
   "source": [
    "def plot1():\n",
    "    num_steps = len(np.arange(0,151,10))\n",
    "    trace_list1 = [\n",
    "        # Create subplots: use 'domain' type for Pie subplot\n",
    "        go.Pie(values=allpu.nlargest(step, \"PU0\")[\"PU0\"][5:],\n",
    "               labels=allpu.nlargest(step, \"PU0\")[\"Module\"][5:],\n",
    "               domain={'x':[0.1,0.9], 'y':[0.05,0.9]},\n",
    "               hole=0.5,\n",
    "               direction='clockwise',\n",
    "               sort=True,\n",
    "               marker=dict(line=dict(color='#000000', width=0.2))\n",
    "                  ) for step in np.arange(0,151,10)]\n",
    "\n",
    "    trace_list2 = [\n",
    "        # Create subplots: use 'domain' type for Pie subplot\n",
    "        go.Pie(values=allpu.nlargest(step, \"PU140\")[\"PU0\"][5:],\n",
    "               labels=allpu.nlargest(step, \"PU140\")[\"Module\"][5:],\n",
    "               domain={'x':[0.1,0.9], 'y':[0.05,0.9]},\n",
    "               hole=0.75,\n",
    "               direction='clockwise',\n",
    "               sort=True,\n",
    "               marker=dict(line=dict(color='#000000', width=0.2))\n",
    "                  ) for step in np.arange(0, 151, 10)]\n",
    "\n",
    "    trace_list3 = [\n",
    "        # Create subplots: use 'domain' type for Pie subplot\n",
    "        go.Pie(values=allpu.nlargest(step, \"PU200\")[\"PU0\"][5:],\n",
    "               labels=allpu.nlargest(step, \"PU200\")[\"Module\"][5:],\n",
    "               domain={'x':[0.1,0.9], 'y':[0.05,0.9]},\n",
    "               hole=0.9,\n",
    "               direction='clockwise',\n",
    "               sort=True,\n",
    "               marker=dict(line=dict(color='#000000', width=0.2))\n",
    "                  ) for step in np.arange(0, 151, 10)]\n",
    "\n",
    "\n",
    "    fig = go.Figure(data=trace_list1+trace_list2+trace_list3)\n",
    "    fig.update_traces(textposition= \"none\", textinfo=None)\n",
    "\n",
    "\n",
    "    steps = []\n",
    "    for i in range(num_steps):\n",
    "        # Hide all traces\n",
    "        step = dict(\n",
    "            method = 'restyle',  \n",
    "            args = ['visible', [False] * len(fig.data)],\n",
    "        )\n",
    "        # Enable the two traces we want to see\n",
    "        step['args'][1][i] = True\n",
    "        step['args'][1][i+num_steps] = True\n",
    "        step['args'][1][i+2*num_steps] = True\n",
    "\n",
    "        # Add step to step list\n",
    "        steps.append(step)\n",
    "\n",
    "    sliders = [dict(\n",
    "        steps = steps,\n",
    "        active=10,\n",
    "        currentvalue={\"prefix\": \"Showing the \"},\n",
    "        pad={\"t\": 50},\n",
    "    )]\n",
    "\n",
    "\n",
    "    fig.layout.sliders = sliders\n",
    "\n",
    "    fig['layout']['sliders'][0]['currentvalue']['suffix']=' longest modules in ms: '\n",
    "    for i, date in enumerate(np.arange(0,151,10)):\n",
    "        fig['layout']['sliders'][0]['steps'][i]['label']=str(date)\n",
    "\n",
    "    fig.update_layout(\n",
    "        title=\"n longest modules at PU 0,140,200\")\n",
    "    \n",
    "    iplot(fig, show_link=False)"
   ]
  },
  {
   "cell_type": "code",
   "execution_count": 26,
   "metadata": {},
   "outputs": [],
   "source": [
    "#import chart_studio as py\n",
    "def plot2(nmods):\n",
    "\n",
    "    nmods =20 \n",
    "\n",
    "    trace_list1 = go.Pie(values=allpu.nlargest(nmods, \"PU0\")[\"PU0\"][5:],\n",
    "           labels=allpu.nlargest(nmods, \"PU0\")[\"Module\"][5:],\n",
    "           domain={'x':[0.1,0.9], 'y':[0.05,0.9]},\n",
    "           hole=0.5,\n",
    "           direction='clockwise',\n",
    "           sort=True,\n",
    "           marker=dict(line=dict(color='#000000', width=0.2))\n",
    "              )\n",
    "\n",
    "    trace_list2 = go.Pie(values=allpu.nlargest(nmods, \"PU140\")[\"PU0\"][5:],\n",
    "           labels=allpu.nlargest(nmods, \"PU140\")[\"Module\"][5:],\n",
    "           domain={'x':[0.1,0.9], 'y':[0.05,0.9]},\n",
    "           hole=0.75,\n",
    "           direction='clockwise',\n",
    "           sort=True,\n",
    "           marker=dict(line=dict(color='#000000', width=0.2))\n",
    "              )\n",
    "\n",
    "    trace_list3 =  go.Pie(values=allpu.nlargest(nmods, \"PU200\")[\"PU0\"][5:],\n",
    "           labels=allpu.nlargest(nmods, \"PU200\")[\"Module\"][5:],\n",
    "           domain={'x':[0.1,0.9], 'y':[0.05,0.9]},\n",
    "           hole=0.9,\n",
    "           direction='clockwise',\n",
    "           sort=True,\n",
    "           marker=dict(line=dict(color='#000000', width=0.2))\n",
    "              )\n",
    "\n",
    "    data = [trace_list1, trace_list2, trace_list3]\n",
    "\n",
    "\n",
    "\n",
    "    updatemenus = list([\n",
    "    dict(type=\"buttons\",\n",
    "         active=-1,\n",
    "         buttons=list([\n",
    "            dict(label = 'PU0',\n",
    "                 method = 'update',\n",
    "                 args = [{'visible': [True, False, False]}]),\n",
    "\n",
    "            dict(label = 'PU140',\n",
    "                 method = 'update',\n",
    "                 args = [{'visible': [False, True, False]}]),\n",
    "\n",
    "            dict(label = 'PU200',\n",
    "                 method = 'update',\n",
    "                 args = [{'visible': [False, False, True]}]),\n",
    "\n",
    "            dict(label = 'PU0 and PU140',\n",
    "                 method = 'update',\n",
    "                 args = [{'visible': [True, True, False]}]),\n",
    "\n",
    "            dict(label = 'PU0 and 200',\n",
    "                 method = 'update',\n",
    "                 args = [{'visible': [True, False, True]}]),\n",
    "\n",
    "            dict(label = 'PU140 and 200',\n",
    "                 method = 'update',\n",
    "                 args = [{'visible': [False, True, True]}]),\n",
    "\n",
    "            dict(label = 'All',\n",
    "                 method = 'update',\n",
    "                 args = [{'visible': [True, True, True]}])\n",
    "        ]),\n",
    "    )\n",
    "    ])\n",
    "\n",
    "\n",
    "\n",
    "\n",
    "\n",
    "    layout = dict(title='Compare n modules for selected pileups', showlegend=False,\n",
    "              updatemenus=updatemenus)\n",
    "\n",
    "    fig2 = dict(data=data, layout=layout)\n",
    "    \n",
    "    iplot(fig2, filename='update_button')"
   ]
  },
  {
   "cell_type": "code",
   "execution_count": 30,
   "metadata": {},
   "outputs": [],
   "source": [
    "itLocalReco =[\n",
    "    'siPhase2Clusters', \n",
    "    'siPixelClusters', \n",
    "    'siPixelClusterShapeCache',\n",
    "    'siPixelClustersPreSplitting', \n",
    "    'siPixelRecHits', \n",
    "    'siPixelRecHitsPreSplitting'\n",
    "]"
   ]
  },
  {
   "cell_type": "code",
   "execution_count": 31,
   "metadata": {},
   "outputs": [],
   "source": [
    "caloLocalReco = [\n",
    "    'hbhereco',\n",
    "    'hfprereco',\n",
    "    'hfreco',\n",
    "    'horeco',\n",
    "    'ecalUncalibRecHitSequence',\n",
    "    'ecalRecHit'\n",
    "]"
   ]
  },
  {
   "cell_type": "code",
   "execution_count": 32,
   "metadata": {},
   "outputs": [],
   "source": [
    "initialStepSequence = [\n",
    "    'initialStepSeedLayers', \n",
    "    'initialStepTrackingRegions', \n",
    "    'initialStepHitDoublets',\n",
    "    'initialStepHitQuadruplets', \n",
    "    'initialStepSeeds', \n",
    "    'initialStepTrackCandidates', \n",
    "    'initialStepTracks',\n",
    "    'initialStepPVSequence', #uses beamspot\n",
    "    'initialStepSelector']"
   ]
  },
  {
   "cell_type": "code",
   "execution_count": 33,
   "metadata": {},
   "outputs": [],
   "source": [
    "highPtTripletStepSequence = [\n",
    "    'highPtTripletStepClusters',\n",
    "    'highPtTripletStepSeedLayers',\n",
    "    'highPtTripletStepTrackingRegions',\n",
    "    'highPtTripletStepHitDoublets',\n",
    "    'highPtTripletStepHitTriplets',\n",
    "    'highPtTripletStepSeedLayers',\n",
    "    'highPtTripletStepSeeds',\n",
    "    'highPtTripletStepTrackCandidates',\n",
    "    'highPtTripletStepTracks',\n",
    "    'highPtTripletStepSelector',\n",
    "    'initialStepSeedClusterMask',# needed by electron, but also by highPtTripletStepSeedClusterMask\n",
    "    'highPtTripletStepSeedClusterMask']"
   ]
  },
  {
   "cell_type": "code",
   "execution_count": 34,
   "metadata": {},
   "outputs": [],
   "source": [
    "vertexReco = [\n",
    "    'ak4CaloJetsForTrk',\n",
    "    'unsortedOfflinePrimaryVertices',\n",
    "    'trackWithVertexRefSelectorBeforeSorting',\n",
    "    'trackRefsForJetsBeforeSorting',\n",
    "    'offlinePrimaryVertices',\n",
    "    'offlinePrimaryVerticesWithBS',\n",
    "    'inclusiveVertexFinder',\n",
    "    'vertexMerger',\n",
    "    'trackVertexArbitrator',\n",
    "    'inclusiveSecondaryVertices'\n",
    "]"
   ]
  },
  {
   "cell_type": "code",
   "execution_count": 35,
   "metadata": {},
   "outputs": [],
   "source": [
    "DQM_offline = ['PV0p1',\n",
    "               'TrackMon_ckf',\n",
    "               'TrackSeedMonhighPtTripletStep',\n",
    "               'TrackSeedMoninitialStep', \n",
    "               'TrackSeedMonlowPtQuadStep', \n",
    "               'TrackSplitMonitor', \n",
    "               'TrackerCollisionSelectedTrackMonCommongeneralTracks',\n",
    "               'TrackerCollisionSelectedTrackMonCommonhighPurityPV0p1', \n",
    "               'TrackerCollisionSelectedTrackMonCommonhighPurityPt1', \n",
    "               'TrackerCollisionSelectedTrackMonCommonhighPurityPtRange0to1',\n",
    "               'dqmInfoTracking', \n",
    "               'highPurityPV0p1', \n",
    "               'highPurityPt1',\n",
    "               'highPurityPtRange0to1', \n",
    "               'primaryVertexResolution', \n",
    "               'pvMonitor', \n",
    "               'trackingDQMgoodOfflinePrimaryVertices'\n",
    "]"
   ]
  },
  {
   "cell_type": "code",
   "execution_count": 36,
   "metadata": {},
   "outputs": [],
   "source": [
    "preval = [\n",
    "'trackValidatorTrackingOnly',\n",
    "'trackValidatorTPPtLess09Standalone',\n",
    "'trackValidatorFromPVStandalone',\n",
    "'trackValidatorFromPVAllTPStandalone',\n",
    "'trackValidatorAllTPEfficStandalone', \n",
    "'trackValidatorBHadronTrackingOnly', \n",
    "'trackValidatorSeedingTrackingOnly', \n",
    "'trackValidatorSeedingPreSplittingTrackingOnly', \n",
    "'trackValidatorBuilding', \n",
    "'trackValidatorBuildingPreSplitting', \n",
    "'VertexAssociatorByPositionAndTracks', \n",
    "'cutsRecoTracksBtvLike', \n",
    "'cutsRecoTracksFromPVHighPtTripletStep', \n",
    "'cutsRecoTracksFromPVHighPtTripletStepHp', \n",
    "'cutsRecoTracksFromPVHp',\n",
    "'cutsRecoTracksFromPVInitialStep', \n",
    "'cutsRecoTracksFromPVInitialStepHp', \n",
    "'cutsRecoTracksFromPVLowPtQuadStep', \n",
    "'cutsRecoTracksFromPVLowPtQuadStepHp', \n",
    "'cutsRecoTracksFromPVPt09HighPtTripletStep', \n",
    "'cutsRecoTracksFromPVPt09HighPtTripletStepHp', \n",
    "'cutsRecoTracksFromPVPt09Hp', \n",
    "'cutsRecoTracksFromPVPt09InitialStep', \n",
    "'cutsRecoTracksFromPVPt09InitialStepHp', \n",
    "'cutsRecoTracksFromPVPt09LowPtQuadStep', \n",
    "'cutsRecoTracksFromPVPt09LowPtQuadStepHp',  \n",
    "'cutsRecoTracksHighPtTripletStep', \n",
    "'cutsRecoTracksHighPtTripletStepByAlgoMask', \n",
    "'cutsRecoTracksHighPtTripletStepByAlgoMaskHp', \n",
    "'cutsRecoTracksHighPtTripletStepByOriginalAlgo', \n",
    "'cutsRecoTracksHighPtTripletStepByOriginalAlgoHp', \n",
    "'cutsRecoTracksHighPtTripletStepHp',\n",
    "'cutsRecoTracksHp',\n",
    "'cutsRecoTracksInitialStep',\n",
    "'cutsRecoTracksInitialStepByAlgoMask',\n",
    "'cutsRecoTracksInitialStepByAlgoMaskHp',\n",
    "'cutsRecoTracksInitialStepByOriginalAlgo',\n",
    "'cutsRecoTracksInitialStepByOriginalAlgoHp',\n",
    "'cutsRecoTracksInitialStepHp',\n",
    "'cutsRecoTracksLowPtQuadStep',\n",
    "'cutsRecoTracksLowPtQuadStepByAlgoMask',\n",
    "'cutsRecoTracksLowPtQuadStepByAlgoMaskHp',\n",
    "'cutsRecoTracksLowPtQuadStepByOriginalAlgo',\n",
    "'cutsRecoTracksLowPtQuadStepByOriginalAlgoHp',\n",
    "'cutsRecoTracksLowPtQuadStepHp',\n",
    "'cutsRecoTracksPt09HighPtTripletStep',\n",
    "'cutsRecoTracksPt09HighPtTripletStepHp',\n",
    "'cutsRecoTracksPt09H',\n",
    "'cutsRecoTracksPt09InitialStep',\n",
    "'cutsRecoTracksPt09InitialStepHp',\n",
    "'cutsRecoTracksPt09LowPtQuadStep', \n",
    "'cutsRecoTracksPt09LowPtQuadStepHp',\n",
    "'generalTracksFromPV',\n",
    "'generalTracksFromPVPt09',\n",
    "'generalTracksPt09',\n",
    "'quickTrackAssociatorByHits',\n",
    "'quickTrackAssociatorByHitsPreSplitting',\n",
    "'seedTrackshighPtTripletStepSeeds',\n",
    "'seedTracksinitialStepSeeds',\n",
    "'seedTrackslowPtQuadStepSeeds', \n",
    "'tpClusterProducer',\n",
    "'tpClusterProducerPreSplitting',\n",
    "'trackingParticleNumberOfLayersProducer',\n",
    "'trackingParticleRecoTrackAsssociation',\n",
    "'trackingParticlesBHadron', \n",
    "'trackingParticlesConversion', \n",
    "'trackingParticlesElectron', \n",
    "'trackingParticlesSignal',\n",
    "'selectedOfflinePrimaryVertices',\n",
    "'selectedOfflinePrimaryVerticesWithBS', \n",
    "'simHitTPAssocProducer', \n",
    "'v0Validator', \n",
    "'vertexAnalysisTrackingOnly'\n",
    "'cutsRecoTracksPt09Hp', \n",
    "'vertexAnalysisTrackingOnly'\n",
    "]"
   ]
  },
  {
   "cell_type": "code",
   "execution_count": 37,
   "metadata": {},
   "outputs": [],
   "source": [
    "raw_2digi= [\n",
    "    'ecalDigis', \n",
    "    'hcalDigis', \n",
    "    'muonCSCDigis', \n",
    "    'muonDTDigis', \n",
    "    'muonGEMDigis', \n",
    "    'muonRPCDigis', \n",
    "    'muonRPCNewDigis', \n",
    "    'scalersRawToDigi'\n",
    "]"
   ]
  },
  {
   "cell_type": "code",
   "execution_count": 38,
   "metadata": {},
   "outputs": [],
   "source": [
    "def categorise_modules2(module):\n",
    "    if module in itLocalReco: \n",
    "        return \"itLocalReco\"\n",
    "    elif module in caloLocalReco: \n",
    "        return \"caloLocalReco\"\n",
    "    elif module in initialStepSequence: \n",
    "        return \"initialStepSequence\"\n",
    "    elif module in highPtTripletStepSequence: \n",
    "        return \"highPtTripletStepSequence\"\n",
    "    elif module in vertexReco: \n",
    "        return \"vertexReco\"\n",
    "    elif module in DQM_offline:\n",
    "        return \"DQM_offline\"\n",
    "    elif module in preval: \n",
    "        return \"preval\"\n",
    "    elif module in raw_2digi: \n",
    "        return \"raw_2digi\"\n",
    "    else: \n",
    "        return \"other\""
   ]
  },
  {
   "cell_type": "code",
   "execution_count": 39,
   "metadata": {},
   "outputs": [],
   "source": [
    "allpu_mt = allpu.copy()\n",
    "\n",
    "allpu_mt[\"ModuleType\"] = allpu_mt[\"Module\"].apply(lambda x: categorise_modules2(x.strip()))"
   ]
  },
  {
   "cell_type": "code",
   "execution_count": 90,
   "metadata": {},
   "outputs": [],
   "source": [
    "#pd.set_option('display.max_rows', df.shape[0]+1)\n",
    "#tmp[tmp[\"ModuleType\"]==\"other\"]"
   ]
  },
  {
   "cell_type": "code",
   "execution_count": 91,
   "metadata": {},
   "outputs": [],
   "source": [
    "def plot3():\n",
    "\n",
    "    sumbyModuleType = allpu_mt[5:].groupby(['ModuleType']).sum().reset_index()\n",
    "\n",
    "    trace1 = [go.Pie(values=sumbyModuleType[\"PU0\"],\n",
    "               labels=sumbyModuleType[\"ModuleType\"],\n",
    "               domain={'x':[0.1,0.9], 'y':[0.05,0.9]},\n",
    "               hole=0.5,\n",
    "               direction='clockwise',\n",
    "               sort=True,\n",
    "               marker=dict(line=dict(color='#000000', width=0.2))\n",
    "                  )]\n",
    "\n",
    "\n",
    "    trace2 =   [go.Pie(values=sumbyModuleType[\"PU140\"],\n",
    "               labels=sumbyModuleType[\"ModuleType\"],\n",
    "               domain={'x':[0.1,0.9], 'y':[0.05,0.9]},\n",
    "               hole=0.75,\n",
    "               direction='clockwise',\n",
    "               sort=True,\n",
    "               marker=dict(line=dict(color='#000000', width=0.2))\n",
    "                  )]\n",
    "\n",
    "    trace3 =  [go.Pie(values=sumbyModuleType[\"PU200\"],\n",
    "               labels=sumbyModuleType[\"ModuleType\"],\n",
    "               domain={'x':[0.1,0.9], 'y':[0.05,0.9]},\n",
    "               hole=0.9,\n",
    "               direction='clockwise',\n",
    "               sort=True,\n",
    "               marker=dict(line=dict(color='#000000', width=0.2))\n",
    "                  )]\n",
    "\n",
    "    fig3 = go.Figure(data=trace1+trace2+trace3)\n",
    "\n",
    "\n",
    "    fig3.update_layout(\n",
    "        title=\"Total for module types at PU0, 140, 200\")\n",
    "\n",
    "\n",
    "    fig3.update_traces(textposition= \"none\", textinfo=None)\n",
    "\n",
    "\n",
    "    iplot(fig3)"
   ]
  },
  {
   "cell_type": "code",
   "execution_count": 95,
   "metadata": {},
   "outputs": [],
   "source": [
    "import warnings\n",
    "warnings.filterwarnings(\"ignore\")\n",
    "\n",
    "def plot4(pu):\n",
    "    step =20 \n",
    "\n",
    "    col = \"PU\"+str(pu)\n",
    "\n",
    "    trace_list1 = go.Pie(values=allpu_mt[allpu_mt[\"ModuleType\"]==\"DQM_offline\"][col],\n",
    "            labels=allpu_mt[allpu_mt[\"ModuleType\"]==\"DQM_offline\"][\"Module\"],\n",
    "               domain={'x':[0.1,0.9], 'y':[0.05,0.9]},\n",
    "               hole=0.5,\n",
    "               direction='clockwise',\n",
    "               sort=True,\n",
    "               marker=dict(line=dict(color='#000000', width=0.2))\n",
    "                  )\n",
    "\n",
    "    trace_list2 = go.Pie(values=allpu_mt[allpu_mt[\"ModuleType\"]==\"preval\"][col],\n",
    "            labels=allpu_mt[allpu_mt[\"ModuleType\"]==\"preval\"][\"Module\"],\n",
    "               domain={'x':[0.1,0.9], 'y':[0.05,0.9]},\n",
    "               hole=0.5,\n",
    "               direction='clockwise',\n",
    "               sort=True,\n",
    "               marker=dict(line=dict(color='#000000', width=0.2))\n",
    "                  )\n",
    "\n",
    "    trace_list3 = go.Pie(values=allpu_mt[allpu_mt[\"ModuleType\"]==\"raw_2digi\"][col],\n",
    "            labels=allpu_mt[allpu_mt[\"ModuleType\"]==\"raw_2digi\"][\"Module\"],\n",
    "               domain={'x':[0.1,0.9], 'y':[0.05,0.9]},\n",
    "               hole=0.5,\n",
    "               direction='clockwise',\n",
    "               sort=True,\n",
    "               marker=dict(line=dict(color='#000000', width=0.2))\n",
    "                  )\n",
    "\n",
    "    trace_list4 = go.Pie(values=allpu_mt[allpu_mt[\"ModuleType\"]==\"caloLocalReco\"][col],\n",
    "            labels=allpu_mt[allpu_mt[\"ModuleType\"]==\"caloLocalReco\"][\"Module\"],\n",
    "               domain={'x':[0.1,0.9], 'y':[0.05,0.9]},\n",
    "               hole=0.5,\n",
    "               direction='clockwise',\n",
    "               sort=True,\n",
    "               marker=dict(line=dict(color='#000000', width=0.2))\n",
    "                  )\n",
    "\n",
    "    trace_list5 = go.Pie(values=allpu_mt[allpu_mt[\"ModuleType\"]==\"initialStepSequence\"][col],\n",
    "            labels=allpu_mt[allpu_mt[\"ModuleType\"]==\"initialStepSequence\"][\"Module\"],\n",
    "               domain={'x':[0.1,0.9], 'y':[0.05,0.9]},\n",
    "               hole=0.5,\n",
    "               direction='clockwise',\n",
    "               sort=True,\n",
    "               marker=dict(line=dict(color='#000000', width=0.2))\n",
    "                  )\n",
    "\n",
    "    trace_list6 = go.Pie(values=allpu_mt[allpu_mt[\"ModuleType\"]==\"highPtTripletStepSequence\"][col],\n",
    "            labels=allpu.nlargest(step, \"PU0\")[allpu_mt[\"ModuleType\"]==\"highPtTripletStepSequence\"][\"Module\"],\n",
    "               domain={'x':[0.1,0.9], 'y':[0.05,0.9]},\n",
    "               hole=0.5,\n",
    "               direction='clockwise',\n",
    "               sort=True,\n",
    "               marker=dict(line=dict(color='#000000', width=0.2))\n",
    "                  )\n",
    "\n",
    "    trace_list7 = go.Pie(values=allpu_mt[5:].nlargest(step, \"PU0\")[allpu_mt[5:][\"ModuleType\"]==\"other\"][col],\n",
    "            labels=allpu_mt[5:].nlargest(step, \"PU0\")[allpu_mt[5:][\"ModuleType\"]==\"other\"][\"Module\"],\n",
    "               domain={'x':[0.1,0.9], 'y':[0.05,0.9]},\n",
    "               hole=0.5,\n",
    "               direction='clockwise',\n",
    "               sort=True,\n",
    "               marker=dict(line=dict(color='#000000', width=0.2))\n",
    "                  )\n",
    "    data = [trace_list1, trace_list2, trace_list3, trace_list4, trace_list5, trace_list6, trace_list7]\n",
    "\n",
    "\n",
    "\n",
    "    updatemenus = list([\n",
    "        dict(type=\"buttons\",\n",
    "             active=-1,\n",
    "             buttons=list([\n",
    "                dict(label = 'DQM_offline',\n",
    "                     method = 'update',\n",
    "                     args = [{'visible': [True, False, False, False, False, False, False]}]),\n",
    "\n",
    "                dict(label = 'preval',\n",
    "                     method = 'update',\n",
    "                     args = [{'visible': [False, True, False, False, False, False, False]}]),\n",
    "\n",
    "                dict(label = 'raw_digi',\n",
    "                     method = 'update',\n",
    "                     args = [{'visible': [False, False, True, False, False, False, False]}]),\n",
    "\n",
    "                dict(label = 'caloLocalReco',\n",
    "                     method = 'update',\n",
    "                     args = [{'visible': [False, False, False, True, False, False, False]}]),\n",
    "\n",
    "                dict(label = 'initialStepSequence',\n",
    "                     method = 'update',\n",
    "                     args = [{'visible': [False, False, False, False, True, False, False]}]),\n",
    "\n",
    "                dict(label = 'highPtTripletStepSequence',\n",
    "                     method = 'update',\n",
    "                     args = [{'visible': [False, False, False, False, False, True, False]}]),\n",
    "\n",
    "                 dict(label = 'other',\n",
    "                     method = 'update',\n",
    "                     args = [{'visible': [False, False, False, False, False, False, True]}]),\n",
    "\n",
    "                dict(label = 'All',\n",
    "                     method = 'update',\n",
    "                     args = [{'visible': [True, True, True, True, True, True, True]}])\n",
    "            ]),\n",
    "        )\n",
    "    ])\n",
    "\n",
    "\n",
    "\n",
    "\n",
    "\n",
    "    layout = dict(title='Modules by path for '+col, showlegend=False,\n",
    "                  updatemenus=updatemenus)\n",
    "\n",
    "    fig = dict(data=data, layout=layout)\n",
    "    iplot(fig, filename='update_button')"
   ]
  },
  {
   "cell_type": "markdown",
   "metadata": {},
   "source": [
    "# RESULTS"
   ]
  },
  {
   "cell_type": "markdown",
   "metadata": {},
   "source": [
    "## Fig 1 - n longest modules at various PUs "
   ]
  },
  {
   "cell_type": "markdown",
   "metadata": {},
   "source": [
    "Inner circle is no pileup, middle is PU140, outer is PU200. "
   ]
  },
  {
   "cell_type": "code",
   "execution_count": 66,
   "metadata": {},
   "outputs": [
    {
     "data": {
      "application/vnd.plotly.v1+json": {
       "config": {
        "linkText": "Export to plot.ly",
        "plotlyServerURL": "https://plot.ly",
        "showLink": false
       },
       "data": [
        {
         "direction": "clockwise",
         "domain": {
          "x": [
           0.1,
           0.9
          ],
          "y": [
           0.05,
           0.9
          ]
         },
         "hole": 0.5,
         "labels": [],
         "marker": {
          "line": {
           "color": "#000000",
           "width": 0.2
          }
         },
         "sort": true,
         "textposition": "none",
         "type": "pie",
         "values": []
        },
        {
         "direction": "clockwise",
         "domain": {
          "x": [
           0.1,
           0.9
          ],
          "y": [
           0.05,
           0.9
          ]
         },
         "hole": 0.5,
         "labels": [
          "hbhereco ",
          "initialStepTrackCandidates ",
          "ecalMultiFitUncalibRecHit ",
          "ecalRecHit ",
          "trackValidatorTrackingOnly "
         ],
         "marker": {
          "line": {
           "color": "#000000",
           "width": 0.2
          }
         },
         "sort": true,
         "textposition": "none",
         "type": "pie",
         "values": [
          183.94,
          64.78,
          59.13,
          41.21,
          40.09
         ]
        },
        {
         "direction": "clockwise",
         "domain": {
          "x": [
           0.1,
           0.9
          ],
          "y": [
           0.05,
           0.9
          ]
         },
         "hole": 0.5,
         "labels": [
          "hbhereco ",
          "initialStepTrackCandidates ",
          "ecalMultiFitUncalibRecHit ",
          "ecalRecHit ",
          "trackValidatorTrackingOnly ",
          "TrackerCollisionSelectedTrackMonCommongeneralTracks ",
          "initialStepTracks ",
          "TrackerCollisionSelectedTrackMonCommonhighPurityPV0p1 ",
          "initialStepSeeds ",
          "firstStepPrimaryVerticesUnsorted ",
          "TrackerCollisionSelectedTrackMonCommonhighPurityPt1 ",
          "trackValidatorFromPVStandalone ",
          "highPtTripletStepTrackCandidates ",
          "source ",
          "offlineBeamSpot "
         ],
         "marker": {
          "line": {
           "color": "#000000",
           "width": 0.2
          }
         },
         "sort": true,
         "textposition": "none",
         "type": "pie",
         "values": [
          183.94,
          64.78,
          59.13,
          41.21,
          40.09,
          38.8,
          37.41,
          32.44,
          28.36,
          25.47,
          24.52,
          24.38,
          22.03,
          21.32,
          20.25
         ]
        },
        {
         "direction": "clockwise",
         "domain": {
          "x": [
           0.1,
           0.9
          ],
          "y": [
           0.05,
           0.9
          ]
         },
         "hole": 0.5,
         "labels": [
          "hbhereco ",
          "initialStepTrackCandidates ",
          "ecalMultiFitUncalibRecHit ",
          "ecalRecHit ",
          "trackValidatorTrackingOnly ",
          "TrackerCollisionSelectedTrackMonCommongeneralTracks ",
          "initialStepTracks ",
          "TrackerCollisionSelectedTrackMonCommonhighPurityPV0p1 ",
          "initialStepSeeds ",
          "firstStepPrimaryVerticesUnsorted ",
          "TrackerCollisionSelectedTrackMonCommonhighPurityPt1 ",
          "trackValidatorFromPVStandalone ",
          "highPtTripletStepTrackCandidates ",
          "source ",
          "offlineBeamSpot ",
          "trackValidatorAllTPEfficStandalone ",
          "trackValidatorSeedingTrackingOnly ",
          "TrackerCollisionSelectedTrackMonCommonhighPurityPtRange0to1 ",
          "trackingParticleRecoTrackAsssociation ",
          "trackingParticlesSignal ",
          "unsortedOfflinePrimaryVertices ",
          "siPixelClustersPreSplitting ",
          "trackValidatorFromPVAllTPStandalone ",
          "trackingParticleNumberOfLayersProducer ",
          "siPixelRecHits "
         ],
         "marker": {
          "line": {
           "color": "#000000",
           "width": 0.2
          }
         },
         "sort": true,
         "textposition": "none",
         "type": "pie",
         "values": [
          183.94,
          64.78,
          59.13,
          41.21,
          40.09,
          38.8,
          37.41,
          32.44,
          28.36,
          25.47,
          24.52,
          24.38,
          22.03,
          21.32,
          20.25,
          17.44,
          16.36,
          15.79,
          14.22,
          13.87,
          13.45,
          13.23,
          12.23,
          11.82,
          11.57
         ]
        },
        {
         "direction": "clockwise",
         "domain": {
          "x": [
           0.1,
           0.9
          ],
          "y": [
           0.05,
           0.9
          ]
         },
         "hole": 0.5,
         "labels": [
          "hbhereco ",
          "initialStepTrackCandidates ",
          "ecalMultiFitUncalibRecHit ",
          "ecalRecHit ",
          "trackValidatorTrackingOnly ",
          "TrackerCollisionSelectedTrackMonCommongeneralTracks ",
          "initialStepTracks ",
          "TrackerCollisionSelectedTrackMonCommonhighPurityPV0p1 ",
          "initialStepSeeds ",
          "firstStepPrimaryVerticesUnsorted ",
          "TrackerCollisionSelectedTrackMonCommonhighPurityPt1 ",
          "trackValidatorFromPVStandalone ",
          "highPtTripletStepTrackCandidates ",
          "source ",
          "offlineBeamSpot ",
          "trackValidatorAllTPEfficStandalone ",
          "trackValidatorSeedingTrackingOnly ",
          "TrackerCollisionSelectedTrackMonCommonhighPurityPtRange0to1 ",
          "trackingParticleRecoTrackAsssociation ",
          "trackingParticlesSignal ",
          "unsortedOfflinePrimaryVertices ",
          "siPixelClustersPreSplitting ",
          "trackValidatorFromPVAllTPStandalone ",
          "trackingParticleNumberOfLayersProducer ",
          "siPixelRecHits ",
          "MeasurementTrackerEvent ",
          "TrackSplitMonitor ",
          "initialStepSeedLayers ",
          "trackValidatorTPPtLess09Standalone ",
          "caloTowerForTrk ",
          "tpClusterProducer ",
          "ak4CaloJetsForTrk ",
          "primaryVertexResolution ",
          "trackValidatorBuilding ",
          "highPtTripletStepTracks "
         ],
         "marker": {
          "line": {
           "color": "#000000",
           "width": 0.2
          }
         },
         "sort": true,
         "textposition": "none",
         "type": "pie",
         "values": [
          183.94,
          64.78,
          59.13,
          41.21,
          40.09,
          38.8,
          37.41,
          32.44,
          28.36,
          25.47,
          24.52,
          24.38,
          22.03,
          21.32,
          20.25,
          17.44,
          16.36,
          15.79,
          14.22,
          13.87,
          13.45,
          13.23,
          12.23,
          11.82,
          11.57,
          10.29,
          10.25,
          10.25,
          9.96,
          8.27,
          7.61,
          6.99,
          6.11,
          5.73,
          5.3
         ]
        },
        {
         "direction": "clockwise",
         "domain": {
          "x": [
           0.1,
           0.9
          ],
          "y": [
           0.05,
           0.9
          ]
         },
         "hole": 0.5,
         "labels": [
          "hbhereco ",
          "initialStepTrackCandidates ",
          "ecalMultiFitUncalibRecHit ",
          "ecalRecHit ",
          "trackValidatorTrackingOnly ",
          "TrackerCollisionSelectedTrackMonCommongeneralTracks ",
          "initialStepTracks ",
          "TrackerCollisionSelectedTrackMonCommonhighPurityPV0p1 ",
          "initialStepSeeds ",
          "firstStepPrimaryVerticesUnsorted ",
          "TrackerCollisionSelectedTrackMonCommonhighPurityPt1 ",
          "trackValidatorFromPVStandalone ",
          "highPtTripletStepTrackCandidates ",
          "source ",
          "offlineBeamSpot ",
          "trackValidatorAllTPEfficStandalone ",
          "trackValidatorSeedingTrackingOnly ",
          "TrackerCollisionSelectedTrackMonCommonhighPurityPtRange0to1 ",
          "trackingParticleRecoTrackAsssociation ",
          "trackingParticlesSignal ",
          "unsortedOfflinePrimaryVertices ",
          "siPixelClustersPreSplitting ",
          "trackValidatorFromPVAllTPStandalone ",
          "trackingParticleNumberOfLayersProducer ",
          "siPixelRecHits ",
          "MeasurementTrackerEvent ",
          "TrackSplitMonitor ",
          "initialStepSeedLayers ",
          "trackValidatorTPPtLess09Standalone ",
          "caloTowerForTrk ",
          "tpClusterProducer ",
          "ak4CaloJetsForTrk ",
          "primaryVertexResolution ",
          "trackValidatorBuilding ",
          "highPtTripletStepTracks ",
          "ecalDigis ",
          "hcalDigis ",
          "seedTracksinitialStepSeeds ",
          "siPixelClusters ",
          "simHitTPAssocProducer ",
          "vertexAnalysisTrackingOnly ",
          "TrackSeedMoninitialStep ",
          "initialStepHitQuadruplets ",
          "initialStepHitDoublets ",
          "hfprereco "
         ],
         "marker": {
          "line": {
           "color": "#000000",
           "width": 0.2
          }
         },
         "sort": true,
         "textposition": "none",
         "type": "pie",
         "values": [
          183.94,
          64.78,
          59.13,
          41.21,
          40.09,
          38.8,
          37.41,
          32.44,
          28.36,
          25.47,
          24.52,
          24.38,
          22.03,
          21.32,
          20.25,
          17.44,
          16.36,
          15.79,
          14.22,
          13.87,
          13.45,
          13.23,
          12.23,
          11.82,
          11.57,
          10.29,
          10.25,
          10.25,
          9.96,
          8.27,
          7.61,
          6.99,
          6.11,
          5.73,
          5.3,
          3.44,
          3.32,
          3.25,
          2.97,
          2.96,
          2.91,
          2.54,
          2.44,
          2.35,
          2.25
         ]
        },
        {
         "direction": "clockwise",
         "domain": {
          "x": [
           0.1,
           0.9
          ],
          "y": [
           0.05,
           0.9
          ]
         },
         "hole": 0.5,
         "labels": [
          "hbhereco ",
          "initialStepTrackCandidates ",
          "ecalMultiFitUncalibRecHit ",
          "ecalRecHit ",
          "trackValidatorTrackingOnly ",
          "TrackerCollisionSelectedTrackMonCommongeneralTracks ",
          "initialStepTracks ",
          "TrackerCollisionSelectedTrackMonCommonhighPurityPV0p1 ",
          "initialStepSeeds ",
          "firstStepPrimaryVerticesUnsorted ",
          "TrackerCollisionSelectedTrackMonCommonhighPurityPt1 ",
          "trackValidatorFromPVStandalone ",
          "highPtTripletStepTrackCandidates ",
          "source ",
          "offlineBeamSpot ",
          "trackValidatorAllTPEfficStandalone ",
          "trackValidatorSeedingTrackingOnly ",
          "TrackerCollisionSelectedTrackMonCommonhighPurityPtRange0to1 ",
          "trackingParticleRecoTrackAsssociation ",
          "trackingParticlesSignal ",
          "unsortedOfflinePrimaryVertices ",
          "siPixelClustersPreSplitting ",
          "trackValidatorFromPVAllTPStandalone ",
          "trackingParticleNumberOfLayersProducer ",
          "siPixelRecHits ",
          "MeasurementTrackerEvent ",
          "TrackSplitMonitor ",
          "initialStepSeedLayers ",
          "trackValidatorTPPtLess09Standalone ",
          "caloTowerForTrk ",
          "tpClusterProducer ",
          "ak4CaloJetsForTrk ",
          "primaryVertexResolution ",
          "trackValidatorBuilding ",
          "highPtTripletStepTracks ",
          "ecalDigis ",
          "hcalDigis ",
          "seedTracksinitialStepSeeds ",
          "siPixelClusters ",
          "simHitTPAssocProducer ",
          "vertexAnalysisTrackingOnly ",
          "TrackSeedMoninitialStep ",
          "initialStepHitQuadruplets ",
          "initialStepHitDoublets ",
          "hfprereco ",
          "trackValidatorBHadronTrackingOnly ",
          "highPtTripletStepHitDoublets ",
          "generalTracks ",
          "highPtTripletStepSeeds ",
          "TrackSeedMonhighPtTripletStep ",
          "siPixelClusterShapeCache ",
          "hfreco ",
          "siPhase2Clusters ",
          "seedTrackshighPtTripletStepSeeds ",
          "highPtTripletStepHitTriplets "
         ],
         "marker": {
          "line": {
           "color": "#000000",
           "width": 0.2
          }
         },
         "sort": true,
         "textposition": "none",
         "type": "pie",
         "values": [
          183.94,
          64.78,
          59.13,
          41.21,
          40.09,
          38.8,
          37.41,
          32.44,
          28.36,
          25.47,
          24.52,
          24.38,
          22.03,
          21.32,
          20.25,
          17.44,
          16.36,
          15.79,
          14.22,
          13.87,
          13.45,
          13.23,
          12.23,
          11.82,
          11.57,
          10.29,
          10.25,
          10.25,
          9.96,
          8.27,
          7.61,
          6.99,
          6.11,
          5.73,
          5.3,
          3.44,
          3.32,
          3.25,
          2.97,
          2.96,
          2.91,
          2.54,
          2.44,
          2.35,
          2.25,
          1.92,
          1.29,
          0.88,
          0.85,
          0.83,
          0.81,
          0.78,
          0.41,
          0.36,
          0.34
         ]
        },
        {
         "direction": "clockwise",
         "domain": {
          "x": [
           0.1,
           0.9
          ],
          "y": [
           0.05,
           0.9
          ]
         },
         "hole": 0.5,
         "labels": [
          "hbhereco ",
          "initialStepTrackCandidates ",
          "ecalMultiFitUncalibRecHit ",
          "ecalRecHit ",
          "trackValidatorTrackingOnly ",
          "TrackerCollisionSelectedTrackMonCommongeneralTracks ",
          "initialStepTracks ",
          "TrackerCollisionSelectedTrackMonCommonhighPurityPV0p1 ",
          "initialStepSeeds ",
          "firstStepPrimaryVerticesUnsorted ",
          "TrackerCollisionSelectedTrackMonCommonhighPurityPt1 ",
          "trackValidatorFromPVStandalone ",
          "highPtTripletStepTrackCandidates ",
          "source ",
          "offlineBeamSpot ",
          "trackValidatorAllTPEfficStandalone ",
          "trackValidatorSeedingTrackingOnly ",
          "TrackerCollisionSelectedTrackMonCommonhighPurityPtRange0to1 ",
          "trackingParticleRecoTrackAsssociation ",
          "trackingParticlesSignal ",
          "unsortedOfflinePrimaryVertices ",
          "siPixelClustersPreSplitting ",
          "trackValidatorFromPVAllTPStandalone ",
          "trackingParticleNumberOfLayersProducer ",
          "siPixelRecHits ",
          "MeasurementTrackerEvent ",
          "TrackSplitMonitor ",
          "initialStepSeedLayers ",
          "trackValidatorTPPtLess09Standalone ",
          "caloTowerForTrk ",
          "tpClusterProducer ",
          "ak4CaloJetsForTrk ",
          "primaryVertexResolution ",
          "trackValidatorBuilding ",
          "highPtTripletStepTracks ",
          "ecalDigis ",
          "hcalDigis ",
          "seedTracksinitialStepSeeds ",
          "siPixelClusters ",
          "simHitTPAssocProducer ",
          "vertexAnalysisTrackingOnly ",
          "TrackSeedMoninitialStep ",
          "initialStepHitQuadruplets ",
          "initialStepHitDoublets ",
          "hfprereco ",
          "trackValidatorBHadronTrackingOnly ",
          "highPtTripletStepHitDoublets ",
          "generalTracks ",
          "highPtTripletStepSeeds ",
          "TrackSeedMonhighPtTripletStep ",
          "siPixelClusterShapeCache ",
          "hfreco ",
          "siPhase2Clusters ",
          "seedTrackshighPtTripletStepSeeds ",
          "highPtTripletStepHitTriplets ",
          "initialStepSelector ",
          "initialStepTrackingRegions ",
          "initialStepTrackRefsForJets ",
          "offlinePrimaryVerticesWithBS ",
          "firstStepPrimaryVertices ",
          "offlinePrimaryVertices ",
          "TrackMon_ckf ",
          "horeco ",
          "ecalDetIdToBeRecovered ",
          "highPtTripletStepClusters "
         ],
         "marker": {
          "line": {
           "color": "#000000",
           "width": 0.2
          }
         },
         "sort": true,
         "textposition": "none",
         "type": "pie",
         "values": [
          183.94,
          64.78,
          59.13,
          41.21,
          40.09,
          38.8,
          37.41,
          32.44,
          28.36,
          25.47,
          24.52,
          24.38,
          22.03,
          21.32,
          20.25,
          17.44,
          16.36,
          15.79,
          14.22,
          13.87,
          13.45,
          13.23,
          12.23,
          11.82,
          11.57,
          10.29,
          10.25,
          10.25,
          9.96,
          8.27,
          7.61,
          6.99,
          6.11,
          5.73,
          5.3,
          3.44,
          3.32,
          3.25,
          2.97,
          2.96,
          2.91,
          2.54,
          2.44,
          2.35,
          2.25,
          1.92,
          1.29,
          0.88,
          0.85,
          0.83,
          0.81,
          0.78,
          0.41,
          0.36,
          0.34,
          0.32,
          0.31,
          0.29,
          0.29,
          0.28,
          0.28,
          0.27,
          0.27,
          0.26,
          0.26
         ]
        },
        {
         "direction": "clockwise",
         "domain": {
          "x": [
           0.1,
           0.9
          ],
          "y": [
           0.05,
           0.9
          ]
         },
         "hole": 0.5,
         "labels": [
          "hbhereco ",
          "initialStepTrackCandidates ",
          "ecalMultiFitUncalibRecHit ",
          "ecalRecHit ",
          "trackValidatorTrackingOnly ",
          "TrackerCollisionSelectedTrackMonCommongeneralTracks ",
          "initialStepTracks ",
          "TrackerCollisionSelectedTrackMonCommonhighPurityPV0p1 ",
          "initialStepSeeds ",
          "firstStepPrimaryVerticesUnsorted ",
          "TrackerCollisionSelectedTrackMonCommonhighPurityPt1 ",
          "trackValidatorFromPVStandalone ",
          "highPtTripletStepTrackCandidates ",
          "source ",
          "offlineBeamSpot ",
          "trackValidatorAllTPEfficStandalone ",
          "trackValidatorSeedingTrackingOnly ",
          "TrackerCollisionSelectedTrackMonCommonhighPurityPtRange0to1 ",
          "trackingParticleRecoTrackAsssociation ",
          "trackingParticlesSignal ",
          "unsortedOfflinePrimaryVertices ",
          "siPixelClustersPreSplitting ",
          "trackValidatorFromPVAllTPStandalone ",
          "trackingParticleNumberOfLayersProducer ",
          "siPixelRecHits ",
          "MeasurementTrackerEvent ",
          "TrackSplitMonitor ",
          "initialStepSeedLayers ",
          "trackValidatorTPPtLess09Standalone ",
          "caloTowerForTrk ",
          "tpClusterProducer ",
          "ak4CaloJetsForTrk ",
          "primaryVertexResolution ",
          "trackValidatorBuilding ",
          "highPtTripletStepTracks ",
          "ecalDigis ",
          "hcalDigis ",
          "seedTracksinitialStepSeeds ",
          "siPixelClusters ",
          "simHitTPAssocProducer ",
          "vertexAnalysisTrackingOnly ",
          "TrackSeedMoninitialStep ",
          "initialStepHitQuadruplets ",
          "initialStepHitDoublets ",
          "hfprereco ",
          "trackValidatorBHadronTrackingOnly ",
          "highPtTripletStepHitDoublets ",
          "generalTracks ",
          "highPtTripletStepSeeds ",
          "TrackSeedMonhighPtTripletStep ",
          "siPixelClusterShapeCache ",
          "hfreco ",
          "siPhase2Clusters ",
          "seedTrackshighPtTripletStepSeeds ",
          "highPtTripletStepHitTriplets ",
          "initialStepSelector ",
          "initialStepTrackingRegions ",
          "initialStepTrackRefsForJets ",
          "offlinePrimaryVerticesWithBS ",
          "firstStepPrimaryVertices ",
          "offlinePrimaryVertices ",
          "TrackMon_ckf ",
          "horeco ",
          "ecalDetIdToBeRecovered ",
          "highPtTripletStepClusters ",
          "pvMonitor ",
          "quickTrackAssociatorByHits ",
          "scalersRawToDigi ",
          "trackWithVertexRefSelectorBeforeSorting ",
          "trackerClusterCheck ",
          "DQMoutput ",
          "DQMoutput_step ",
          "MC_Dqmoffline_v2 ",
          "MC_Tracking_v2 ",
          "MC_prevalidation_v2 "
         ],
         "marker": {
          "line": {
           "color": "#000000",
           "width": 0.2
          }
         },
         "sort": true,
         "textposition": "none",
         "type": "pie",
         "values": [
          183.94,
          64.78,
          59.13,
          41.21,
          40.09,
          38.8,
          37.41,
          32.44,
          28.36,
          25.47,
          24.52,
          24.38,
          22.03,
          21.32,
          20.25,
          17.44,
          16.36,
          15.79,
          14.22,
          13.87,
          13.45,
          13.23,
          12.23,
          11.82,
          11.57,
          10.29,
          10.25,
          10.25,
          9.96,
          8.27,
          7.61,
          6.99,
          6.11,
          5.73,
          5.3,
          3.44,
          3.32,
          3.25,
          2.97,
          2.96,
          2.91,
          2.54,
          2.44,
          2.35,
          2.25,
          1.92,
          1.29,
          0.88,
          0.85,
          0.83,
          0.81,
          0.78,
          0.41,
          0.36,
          0.34,
          0.32,
          0.31,
          0.29,
          0.29,
          0.28,
          0.28,
          0.27,
          0.27,
          0.26,
          0.26,
          0.26,
          0.26,
          0.26,
          0.26,
          0.26,
          0.25,
          0.25,
          0.25,
          0.25,
          0.25
         ]
        },
        {
         "direction": "clockwise",
         "domain": {
          "x": [
           0.1,
           0.9
          ],
          "y": [
           0.05,
           0.9
          ]
         },
         "hole": 0.5,
         "labels": [
          "hbhereco ",
          "initialStepTrackCandidates ",
          "ecalMultiFitUncalibRecHit ",
          "ecalRecHit ",
          "trackValidatorTrackingOnly ",
          "TrackerCollisionSelectedTrackMonCommongeneralTracks ",
          "initialStepTracks ",
          "TrackerCollisionSelectedTrackMonCommonhighPurityPV0p1 ",
          "initialStepSeeds ",
          "firstStepPrimaryVerticesUnsorted ",
          "TrackerCollisionSelectedTrackMonCommonhighPurityPt1 ",
          "trackValidatorFromPVStandalone ",
          "highPtTripletStepTrackCandidates ",
          "source ",
          "offlineBeamSpot ",
          "trackValidatorAllTPEfficStandalone ",
          "trackValidatorSeedingTrackingOnly ",
          "TrackerCollisionSelectedTrackMonCommonhighPurityPtRange0to1 ",
          "trackingParticleRecoTrackAsssociation ",
          "trackingParticlesSignal ",
          "unsortedOfflinePrimaryVertices ",
          "siPixelClustersPreSplitting ",
          "trackValidatorFromPVAllTPStandalone ",
          "trackingParticleNumberOfLayersProducer ",
          "siPixelRecHits ",
          "MeasurementTrackerEvent ",
          "TrackSplitMonitor ",
          "initialStepSeedLayers ",
          "trackValidatorTPPtLess09Standalone ",
          "caloTowerForTrk ",
          "tpClusterProducer ",
          "ak4CaloJetsForTrk ",
          "primaryVertexResolution ",
          "trackValidatorBuilding ",
          "highPtTripletStepTracks ",
          "ecalDigis ",
          "hcalDigis ",
          "seedTracksinitialStepSeeds ",
          "siPixelClusters ",
          "simHitTPAssocProducer ",
          "vertexAnalysisTrackingOnly ",
          "TrackSeedMoninitialStep ",
          "initialStepHitQuadruplets ",
          "initialStepHitDoublets ",
          "hfprereco ",
          "trackValidatorBHadronTrackingOnly ",
          "highPtTripletStepHitDoublets ",
          "generalTracks ",
          "highPtTripletStepSeeds ",
          "TrackSeedMonhighPtTripletStep ",
          "siPixelClusterShapeCache ",
          "hfreco ",
          "siPhase2Clusters ",
          "seedTrackshighPtTripletStepSeeds ",
          "highPtTripletStepHitTriplets ",
          "initialStepSelector ",
          "initialStepTrackingRegions ",
          "initialStepTrackRefsForJets ",
          "offlinePrimaryVerticesWithBS ",
          "firstStepPrimaryVertices ",
          "offlinePrimaryVertices ",
          "TrackMon_ckf ",
          "horeco ",
          "ecalDetIdToBeRecovered ",
          "highPtTripletStepClusters ",
          "pvMonitor ",
          "quickTrackAssociatorByHits ",
          "scalersRawToDigi ",
          "trackWithVertexRefSelectorBeforeSorting ",
          "trackerClusterCheck ",
          "DQMoutput ",
          "DQMoutput_step ",
          "MC_Dqmoffline_v2 ",
          "MC_Tracking_v2 ",
          "MC_prevalidation_v2 ",
          "MC_validation_v2 ",
          "PV0p1 ",
          "TriggerResults ",
          "VertexAssociatorByPositionAndTracks ",
          "bunchSpacingProducer ",
          "cutsRecoTracksBtvLike ",
          "cutsRecoTracksFromPVHighPtTripletStep ",
          "cutsRecoTracksFromPVHighPtTripletStepHp ",
          "cutsRecoTracksFromPVHp ",
          "cutsRecoTracksFromPVInitialStep "
         ],
         "marker": {
          "line": {
           "color": "#000000",
           "width": 0.2
          }
         },
         "sort": true,
         "textposition": "none",
         "type": "pie",
         "values": [
          183.94,
          64.78,
          59.13,
          41.21,
          40.09,
          38.8,
          37.41,
          32.44,
          28.36,
          25.47,
          24.52,
          24.38,
          22.03,
          21.32,
          20.25,
          17.44,
          16.36,
          15.79,
          14.22,
          13.87,
          13.45,
          13.23,
          12.23,
          11.82,
          11.57,
          10.29,
          10.25,
          10.25,
          9.96,
          8.27,
          7.61,
          6.99,
          6.11,
          5.73,
          5.3,
          3.44,
          3.32,
          3.25,
          2.97,
          2.96,
          2.91,
          2.54,
          2.44,
          2.35,
          2.25,
          1.92,
          1.29,
          0.88,
          0.85,
          0.83,
          0.81,
          0.78,
          0.41,
          0.36,
          0.34,
          0.32,
          0.31,
          0.29,
          0.29,
          0.28,
          0.28,
          0.27,
          0.27,
          0.26,
          0.26,
          0.26,
          0.26,
          0.26,
          0.26,
          0.26,
          0.25,
          0.25,
          0.25,
          0.25,
          0.25,
          0.25,
          0.25,
          0.25,
          0.25,
          0.25,
          0.25,
          0.25,
          0.25,
          0.25,
          0.25
         ]
        },
        {
         "direction": "clockwise",
         "domain": {
          "x": [
           0.1,
           0.9
          ],
          "y": [
           0.05,
           0.9
          ]
         },
         "hole": 0.5,
         "labels": [
          "hbhereco ",
          "initialStepTrackCandidates ",
          "ecalMultiFitUncalibRecHit ",
          "ecalRecHit ",
          "trackValidatorTrackingOnly ",
          "TrackerCollisionSelectedTrackMonCommongeneralTracks ",
          "initialStepTracks ",
          "TrackerCollisionSelectedTrackMonCommonhighPurityPV0p1 ",
          "initialStepSeeds ",
          "firstStepPrimaryVerticesUnsorted ",
          "TrackerCollisionSelectedTrackMonCommonhighPurityPt1 ",
          "trackValidatorFromPVStandalone ",
          "highPtTripletStepTrackCandidates ",
          "source ",
          "offlineBeamSpot ",
          "trackValidatorAllTPEfficStandalone ",
          "trackValidatorSeedingTrackingOnly ",
          "TrackerCollisionSelectedTrackMonCommonhighPurityPtRange0to1 ",
          "trackingParticleRecoTrackAsssociation ",
          "trackingParticlesSignal ",
          "unsortedOfflinePrimaryVertices ",
          "siPixelClustersPreSplitting ",
          "trackValidatorFromPVAllTPStandalone ",
          "trackingParticleNumberOfLayersProducer ",
          "siPixelRecHits ",
          "MeasurementTrackerEvent ",
          "TrackSplitMonitor ",
          "initialStepSeedLayers ",
          "trackValidatorTPPtLess09Standalone ",
          "caloTowerForTrk ",
          "tpClusterProducer ",
          "ak4CaloJetsForTrk ",
          "primaryVertexResolution ",
          "trackValidatorBuilding ",
          "highPtTripletStepTracks ",
          "ecalDigis ",
          "hcalDigis ",
          "seedTracksinitialStepSeeds ",
          "siPixelClusters ",
          "simHitTPAssocProducer ",
          "vertexAnalysisTrackingOnly ",
          "TrackSeedMoninitialStep ",
          "initialStepHitQuadruplets ",
          "initialStepHitDoublets ",
          "hfprereco ",
          "trackValidatorBHadronTrackingOnly ",
          "highPtTripletStepHitDoublets ",
          "generalTracks ",
          "highPtTripletStepSeeds ",
          "TrackSeedMonhighPtTripletStep ",
          "siPixelClusterShapeCache ",
          "hfreco ",
          "siPhase2Clusters ",
          "seedTrackshighPtTripletStepSeeds ",
          "highPtTripletStepHitTriplets ",
          "initialStepSelector ",
          "initialStepTrackingRegions ",
          "initialStepTrackRefsForJets ",
          "offlinePrimaryVerticesWithBS ",
          "firstStepPrimaryVertices ",
          "offlinePrimaryVertices ",
          "TrackMon_ckf ",
          "horeco ",
          "ecalDetIdToBeRecovered ",
          "highPtTripletStepClusters ",
          "pvMonitor ",
          "quickTrackAssociatorByHits ",
          "scalersRawToDigi ",
          "trackWithVertexRefSelectorBeforeSorting ",
          "trackerClusterCheck ",
          "DQMoutput ",
          "DQMoutput_step ",
          "MC_Dqmoffline_v2 ",
          "MC_Tracking_v2 ",
          "MC_prevalidation_v2 ",
          "MC_validation_v2 ",
          "PV0p1 ",
          "TriggerResults ",
          "VertexAssociatorByPositionAndTracks ",
          "bunchSpacingProducer ",
          "cutsRecoTracksBtvLike ",
          "cutsRecoTracksFromPVHighPtTripletStep ",
          "cutsRecoTracksFromPVHighPtTripletStepHp ",
          "cutsRecoTracksFromPVHp ",
          "cutsRecoTracksFromPVInitialStep ",
          "cutsRecoTracksFromPVInitialStepHp ",
          "cutsRecoTracksFromPVPt09HighPtTripletStep ",
          "cutsRecoTracksFromPVPt09HighPtTripletStepHp ",
          "cutsRecoTracksFromPVPt09Hp ",
          "cutsRecoTracksFromPVPt09InitialStep ",
          "cutsRecoTracksFromPVPt09InitialStepHp ",
          "cutsRecoTracksHighPtTripletStep ",
          "cutsRecoTracksHighPtTripletStepByAlgoMask ",
          "cutsRecoTracksHighPtTripletStepByAlgoMaskHp ",
          "cutsRecoTracksHighPtTripletStepByOriginalAlgo "
         ],
         "marker": {
          "line": {
           "color": "#000000",
           "width": 0.2
          }
         },
         "sort": true,
         "textposition": "none",
         "type": "pie",
         "values": [
          183.94,
          64.78,
          59.13,
          41.21,
          40.09,
          38.8,
          37.41,
          32.44,
          28.36,
          25.47,
          24.52,
          24.38,
          22.03,
          21.32,
          20.25,
          17.44,
          16.36,
          15.79,
          14.22,
          13.87,
          13.45,
          13.23,
          12.23,
          11.82,
          11.57,
          10.29,
          10.25,
          10.25,
          9.96,
          8.27,
          7.61,
          6.99,
          6.11,
          5.73,
          5.3,
          3.44,
          3.32,
          3.25,
          2.97,
          2.96,
          2.91,
          2.54,
          2.44,
          2.35,
          2.25,
          1.92,
          1.29,
          0.88,
          0.85,
          0.83,
          0.81,
          0.78,
          0.41,
          0.36,
          0.34,
          0.32,
          0.31,
          0.29,
          0.29,
          0.28,
          0.28,
          0.27,
          0.27,
          0.26,
          0.26,
          0.26,
          0.26,
          0.26,
          0.26,
          0.26,
          0.25,
          0.25,
          0.25,
          0.25,
          0.25,
          0.25,
          0.25,
          0.25,
          0.25,
          0.25,
          0.25,
          0.25,
          0.25,
          0.25,
          0.25,
          0.25,
          0.25,
          0.25,
          0.25,
          0.25,
          0.25,
          0.25,
          0.25,
          0.25,
          0.25
         ]
        },
        {
         "direction": "clockwise",
         "domain": {
          "x": [
           0.1,
           0.9
          ],
          "y": [
           0.05,
           0.9
          ]
         },
         "hole": 0.5,
         "labels": [
          "hbhereco ",
          "initialStepTrackCandidates ",
          "ecalMultiFitUncalibRecHit ",
          "ecalRecHit ",
          "trackValidatorTrackingOnly ",
          "TrackerCollisionSelectedTrackMonCommongeneralTracks ",
          "initialStepTracks ",
          "TrackerCollisionSelectedTrackMonCommonhighPurityPV0p1 ",
          "initialStepSeeds ",
          "firstStepPrimaryVerticesUnsorted ",
          "TrackerCollisionSelectedTrackMonCommonhighPurityPt1 ",
          "trackValidatorFromPVStandalone ",
          "highPtTripletStepTrackCandidates ",
          "source ",
          "offlineBeamSpot ",
          "trackValidatorAllTPEfficStandalone ",
          "trackValidatorSeedingTrackingOnly ",
          "TrackerCollisionSelectedTrackMonCommonhighPurityPtRange0to1 ",
          "trackingParticleRecoTrackAsssociation ",
          "trackingParticlesSignal ",
          "unsortedOfflinePrimaryVertices ",
          "siPixelClustersPreSplitting ",
          "trackValidatorFromPVAllTPStandalone ",
          "trackingParticleNumberOfLayersProducer ",
          "siPixelRecHits ",
          "MeasurementTrackerEvent ",
          "TrackSplitMonitor ",
          "initialStepSeedLayers ",
          "trackValidatorTPPtLess09Standalone ",
          "caloTowerForTrk ",
          "tpClusterProducer ",
          "ak4CaloJetsForTrk ",
          "primaryVertexResolution ",
          "trackValidatorBuilding ",
          "highPtTripletStepTracks ",
          "ecalDigis ",
          "hcalDigis ",
          "seedTracksinitialStepSeeds ",
          "siPixelClusters ",
          "simHitTPAssocProducer ",
          "vertexAnalysisTrackingOnly ",
          "TrackSeedMoninitialStep ",
          "initialStepHitQuadruplets ",
          "initialStepHitDoublets ",
          "hfprereco ",
          "trackValidatorBHadronTrackingOnly ",
          "highPtTripletStepHitDoublets ",
          "generalTracks ",
          "highPtTripletStepSeeds ",
          "TrackSeedMonhighPtTripletStep ",
          "siPixelClusterShapeCache ",
          "hfreco ",
          "siPhase2Clusters ",
          "seedTrackshighPtTripletStepSeeds ",
          "highPtTripletStepHitTriplets ",
          "initialStepSelector ",
          "initialStepTrackingRegions ",
          "initialStepTrackRefsForJets ",
          "offlinePrimaryVerticesWithBS ",
          "firstStepPrimaryVertices ",
          "offlinePrimaryVertices ",
          "TrackMon_ckf ",
          "horeco ",
          "ecalDetIdToBeRecovered ",
          "highPtTripletStepClusters ",
          "pvMonitor ",
          "quickTrackAssociatorByHits ",
          "scalersRawToDigi ",
          "trackWithVertexRefSelectorBeforeSorting ",
          "trackerClusterCheck ",
          "DQMoutput ",
          "DQMoutput_step ",
          "MC_Dqmoffline_v2 ",
          "MC_Tracking_v2 ",
          "MC_prevalidation_v2 ",
          "MC_validation_v2 ",
          "PV0p1 ",
          "TriggerResults ",
          "VertexAssociatorByPositionAndTracks ",
          "bunchSpacingProducer ",
          "cutsRecoTracksBtvLike ",
          "cutsRecoTracksFromPVHighPtTripletStep ",
          "cutsRecoTracksFromPVHighPtTripletStepHp ",
          "cutsRecoTracksFromPVHp ",
          "cutsRecoTracksFromPVInitialStep ",
          "cutsRecoTracksFromPVInitialStepHp ",
          "cutsRecoTracksFromPVPt09HighPtTripletStep ",
          "cutsRecoTracksFromPVPt09HighPtTripletStepHp ",
          "cutsRecoTracksFromPVPt09Hp ",
          "cutsRecoTracksFromPVPt09InitialStep ",
          "cutsRecoTracksFromPVPt09InitialStepHp ",
          "cutsRecoTracksHighPtTripletStep ",
          "cutsRecoTracksHighPtTripletStepByAlgoMask ",
          "cutsRecoTracksHighPtTripletStepByAlgoMaskHp ",
          "cutsRecoTracksHighPtTripletStepByOriginalAlgo ",
          "cutsRecoTracksHighPtTripletStepByOriginalAlgoHp ",
          "cutsRecoTracksHighPtTripletStepHp ",
          "cutsRecoTracksHp ",
          "cutsRecoTracksInitialStep ",
          "cutsRecoTracksInitialStepByAlgoMask ",
          "cutsRecoTracksInitialStepByAlgoMaskHp ",
          "cutsRecoTracksInitialStepByOriginalAlgo ",
          "cutsRecoTracksInitialStepByOriginalAlgoHp ",
          "cutsRecoTracksInitialStepHp ",
          "cutsRecoTracksPt09HighPtTripletStep "
         ],
         "marker": {
          "line": {
           "color": "#000000",
           "width": 0.2
          }
         },
         "sort": true,
         "textposition": "none",
         "type": "pie",
         "values": [
          183.94,
          64.78,
          59.13,
          41.21,
          40.09,
          38.8,
          37.41,
          32.44,
          28.36,
          25.47,
          24.52,
          24.38,
          22.03,
          21.32,
          20.25,
          17.44,
          16.36,
          15.79,
          14.22,
          13.87,
          13.45,
          13.23,
          12.23,
          11.82,
          11.57,
          10.29,
          10.25,
          10.25,
          9.96,
          8.27,
          7.61,
          6.99,
          6.11,
          5.73,
          5.3,
          3.44,
          3.32,
          3.25,
          2.97,
          2.96,
          2.91,
          2.54,
          2.44,
          2.35,
          2.25,
          1.92,
          1.29,
          0.88,
          0.85,
          0.83,
          0.81,
          0.78,
          0.41,
          0.36,
          0.34,
          0.32,
          0.31,
          0.29,
          0.29,
          0.28,
          0.28,
          0.27,
          0.27,
          0.26,
          0.26,
          0.26,
          0.26,
          0.26,
          0.26,
          0.26,
          0.25,
          0.25,
          0.25,
          0.25,
          0.25,
          0.25,
          0.25,
          0.25,
          0.25,
          0.25,
          0.25,
          0.25,
          0.25,
          0.25,
          0.25,
          0.25,
          0.25,
          0.25,
          0.25,
          0.25,
          0.25,
          0.25,
          0.25,
          0.25,
          0.25,
          0.25,
          0.25,
          0.25,
          0.25,
          0.25,
          0.25,
          0.25,
          0.25,
          0.25,
          0.25
         ]
        },
        {
         "direction": "clockwise",
         "domain": {
          "x": [
           0.1,
           0.9
          ],
          "y": [
           0.05,
           0.9
          ]
         },
         "hole": 0.5,
         "labels": [
          "hbhereco ",
          "initialStepTrackCandidates ",
          "ecalMultiFitUncalibRecHit ",
          "ecalRecHit ",
          "trackValidatorTrackingOnly ",
          "TrackerCollisionSelectedTrackMonCommongeneralTracks ",
          "initialStepTracks ",
          "TrackerCollisionSelectedTrackMonCommonhighPurityPV0p1 ",
          "initialStepSeeds ",
          "firstStepPrimaryVerticesUnsorted ",
          "TrackerCollisionSelectedTrackMonCommonhighPurityPt1 ",
          "trackValidatorFromPVStandalone ",
          "highPtTripletStepTrackCandidates ",
          "source ",
          "offlineBeamSpot ",
          "trackValidatorAllTPEfficStandalone ",
          "trackValidatorSeedingTrackingOnly ",
          "TrackerCollisionSelectedTrackMonCommonhighPurityPtRange0to1 ",
          "trackingParticleRecoTrackAsssociation ",
          "trackingParticlesSignal ",
          "unsortedOfflinePrimaryVertices ",
          "siPixelClustersPreSplitting ",
          "trackValidatorFromPVAllTPStandalone ",
          "trackingParticleNumberOfLayersProducer ",
          "siPixelRecHits ",
          "MeasurementTrackerEvent ",
          "TrackSplitMonitor ",
          "initialStepSeedLayers ",
          "trackValidatorTPPtLess09Standalone ",
          "caloTowerForTrk ",
          "tpClusterProducer ",
          "ak4CaloJetsForTrk ",
          "primaryVertexResolution ",
          "trackValidatorBuilding ",
          "highPtTripletStepTracks ",
          "ecalDigis ",
          "hcalDigis ",
          "seedTracksinitialStepSeeds ",
          "siPixelClusters ",
          "simHitTPAssocProducer ",
          "vertexAnalysisTrackingOnly ",
          "TrackSeedMoninitialStep ",
          "initialStepHitQuadruplets ",
          "initialStepHitDoublets ",
          "hfprereco ",
          "trackValidatorBHadronTrackingOnly ",
          "highPtTripletStepHitDoublets ",
          "generalTracks ",
          "highPtTripletStepSeeds ",
          "TrackSeedMonhighPtTripletStep ",
          "siPixelClusterShapeCache ",
          "hfreco ",
          "siPhase2Clusters ",
          "seedTrackshighPtTripletStepSeeds ",
          "highPtTripletStepHitTriplets ",
          "initialStepSelector ",
          "initialStepTrackingRegions ",
          "initialStepTrackRefsForJets ",
          "offlinePrimaryVerticesWithBS ",
          "firstStepPrimaryVertices ",
          "offlinePrimaryVertices ",
          "TrackMon_ckf ",
          "horeco ",
          "ecalDetIdToBeRecovered ",
          "highPtTripletStepClusters ",
          "pvMonitor ",
          "quickTrackAssociatorByHits ",
          "scalersRawToDigi ",
          "trackWithVertexRefSelectorBeforeSorting ",
          "trackerClusterCheck ",
          "DQMoutput ",
          "DQMoutput_step ",
          "MC_Dqmoffline_v2 ",
          "MC_Tracking_v2 ",
          "MC_prevalidation_v2 ",
          "MC_validation_v2 ",
          "PV0p1 ",
          "TriggerResults ",
          "VertexAssociatorByPositionAndTracks ",
          "bunchSpacingProducer ",
          "cutsRecoTracksBtvLike ",
          "cutsRecoTracksFromPVHighPtTripletStep ",
          "cutsRecoTracksFromPVHighPtTripletStepHp ",
          "cutsRecoTracksFromPVHp ",
          "cutsRecoTracksFromPVInitialStep ",
          "cutsRecoTracksFromPVInitialStepHp ",
          "cutsRecoTracksFromPVPt09HighPtTripletStep ",
          "cutsRecoTracksFromPVPt09HighPtTripletStepHp ",
          "cutsRecoTracksFromPVPt09Hp ",
          "cutsRecoTracksFromPVPt09InitialStep ",
          "cutsRecoTracksFromPVPt09InitialStepHp ",
          "cutsRecoTracksHighPtTripletStep ",
          "cutsRecoTracksHighPtTripletStepByAlgoMask ",
          "cutsRecoTracksHighPtTripletStepByAlgoMaskHp ",
          "cutsRecoTracksHighPtTripletStepByOriginalAlgo ",
          "cutsRecoTracksHighPtTripletStepByOriginalAlgoHp ",
          "cutsRecoTracksHighPtTripletStepHp ",
          "cutsRecoTracksHp ",
          "cutsRecoTracksInitialStep ",
          "cutsRecoTracksInitialStepByAlgoMask ",
          "cutsRecoTracksInitialStepByAlgoMaskHp ",
          "cutsRecoTracksInitialStepByOriginalAlgo ",
          "cutsRecoTracksInitialStepByOriginalAlgoHp ",
          "cutsRecoTracksInitialStepHp ",
          "cutsRecoTracksPt09HighPtTripletStep ",
          "cutsRecoTracksPt09HighPtTripletStepHp ",
          "cutsRecoTracksPt09Hp ",
          "cutsRecoTracksPt09InitialStep ",
          "cutsRecoTracksPt09InitialStepHp ",
          "dqmInfoTracking ",
          "generalTracksFromPV ",
          "generalTracksFromPVPt09 ",
          "generalTracksPt09 ",
          "highPtTripletStepSeedClusterMask ",
          "highPtTripletStepSeedLayers "
         ],
         "marker": {
          "line": {
           "color": "#000000",
           "width": 0.2
          }
         },
         "sort": true,
         "textposition": "none",
         "type": "pie",
         "values": [
          183.94,
          64.78,
          59.13,
          41.21,
          40.09,
          38.8,
          37.41,
          32.44,
          28.36,
          25.47,
          24.52,
          24.38,
          22.03,
          21.32,
          20.25,
          17.44,
          16.36,
          15.79,
          14.22,
          13.87,
          13.45,
          13.23,
          12.23,
          11.82,
          11.57,
          10.29,
          10.25,
          10.25,
          9.96,
          8.27,
          7.61,
          6.99,
          6.11,
          5.73,
          5.3,
          3.44,
          3.32,
          3.25,
          2.97,
          2.96,
          2.91,
          2.54,
          2.44,
          2.35,
          2.25,
          1.92,
          1.29,
          0.88,
          0.85,
          0.83,
          0.81,
          0.78,
          0.41,
          0.36,
          0.34,
          0.32,
          0.31,
          0.29,
          0.29,
          0.28,
          0.28,
          0.27,
          0.27,
          0.26,
          0.26,
          0.26,
          0.26,
          0.26,
          0.26,
          0.26,
          0.25,
          0.25,
          0.25,
          0.25,
          0.25,
          0.25,
          0.25,
          0.25,
          0.25,
          0.25,
          0.25,
          0.25,
          0.25,
          0.25,
          0.25,
          0.25,
          0.25,
          0.25,
          0.25,
          0.25,
          0.25,
          0.25,
          0.25,
          0.25,
          0.25,
          0.25,
          0.25,
          0.25,
          0.25,
          0.25,
          0.25,
          0.25,
          0.25,
          0.25,
          0.25,
          0.25,
          0.25,
          0.25,
          0.25,
          0.25,
          0.25,
          0.25,
          0.25,
          0.25,
          0.25
         ]
        },
        {
         "direction": "clockwise",
         "domain": {
          "x": [
           0.1,
           0.9
          ],
          "y": [
           0.05,
           0.9
          ]
         },
         "hole": 0.5,
         "labels": [
          "hbhereco ",
          "initialStepTrackCandidates ",
          "ecalMultiFitUncalibRecHit ",
          "ecalRecHit ",
          "trackValidatorTrackingOnly ",
          "TrackerCollisionSelectedTrackMonCommongeneralTracks ",
          "initialStepTracks ",
          "TrackerCollisionSelectedTrackMonCommonhighPurityPV0p1 ",
          "initialStepSeeds ",
          "firstStepPrimaryVerticesUnsorted ",
          "TrackerCollisionSelectedTrackMonCommonhighPurityPt1 ",
          "trackValidatorFromPVStandalone ",
          "highPtTripletStepTrackCandidates ",
          "source ",
          "offlineBeamSpot ",
          "trackValidatorAllTPEfficStandalone ",
          "trackValidatorSeedingTrackingOnly ",
          "TrackerCollisionSelectedTrackMonCommonhighPurityPtRange0to1 ",
          "trackingParticleRecoTrackAsssociation ",
          "trackingParticlesSignal ",
          "unsortedOfflinePrimaryVertices ",
          "siPixelClustersPreSplitting ",
          "trackValidatorFromPVAllTPStandalone ",
          "trackingParticleNumberOfLayersProducer ",
          "siPixelRecHits ",
          "MeasurementTrackerEvent ",
          "TrackSplitMonitor ",
          "initialStepSeedLayers ",
          "trackValidatorTPPtLess09Standalone ",
          "caloTowerForTrk ",
          "tpClusterProducer ",
          "ak4CaloJetsForTrk ",
          "primaryVertexResolution ",
          "trackValidatorBuilding ",
          "highPtTripletStepTracks ",
          "ecalDigis ",
          "hcalDigis ",
          "seedTracksinitialStepSeeds ",
          "siPixelClusters ",
          "simHitTPAssocProducer ",
          "vertexAnalysisTrackingOnly ",
          "TrackSeedMoninitialStep ",
          "initialStepHitQuadruplets ",
          "initialStepHitDoublets ",
          "hfprereco ",
          "trackValidatorBHadronTrackingOnly ",
          "highPtTripletStepHitDoublets ",
          "generalTracks ",
          "highPtTripletStepSeeds ",
          "TrackSeedMonhighPtTripletStep ",
          "siPixelClusterShapeCache ",
          "hfreco ",
          "siPhase2Clusters ",
          "seedTrackshighPtTripletStepSeeds ",
          "highPtTripletStepHitTriplets ",
          "initialStepSelector ",
          "initialStepTrackingRegions ",
          "initialStepTrackRefsForJets ",
          "offlinePrimaryVerticesWithBS ",
          "firstStepPrimaryVertices ",
          "offlinePrimaryVertices ",
          "TrackMon_ckf ",
          "horeco ",
          "ecalDetIdToBeRecovered ",
          "highPtTripletStepClusters ",
          "pvMonitor ",
          "quickTrackAssociatorByHits ",
          "scalersRawToDigi ",
          "trackWithVertexRefSelectorBeforeSorting ",
          "trackerClusterCheck ",
          "DQMoutput ",
          "DQMoutput_step ",
          "MC_Dqmoffline_v2 ",
          "MC_Tracking_v2 ",
          "MC_prevalidation_v2 ",
          "MC_validation_v2 ",
          "PV0p1 ",
          "TriggerResults ",
          "VertexAssociatorByPositionAndTracks ",
          "bunchSpacingProducer ",
          "cutsRecoTracksBtvLike ",
          "cutsRecoTracksFromPVHighPtTripletStep ",
          "cutsRecoTracksFromPVHighPtTripletStepHp ",
          "cutsRecoTracksFromPVHp ",
          "cutsRecoTracksFromPVInitialStep ",
          "cutsRecoTracksFromPVInitialStepHp ",
          "cutsRecoTracksFromPVPt09HighPtTripletStep ",
          "cutsRecoTracksFromPVPt09HighPtTripletStepHp ",
          "cutsRecoTracksFromPVPt09Hp ",
          "cutsRecoTracksFromPVPt09InitialStep ",
          "cutsRecoTracksFromPVPt09InitialStepHp ",
          "cutsRecoTracksHighPtTripletStep ",
          "cutsRecoTracksHighPtTripletStepByAlgoMask ",
          "cutsRecoTracksHighPtTripletStepByAlgoMaskHp ",
          "cutsRecoTracksHighPtTripletStepByOriginalAlgo ",
          "cutsRecoTracksHighPtTripletStepByOriginalAlgoHp ",
          "cutsRecoTracksHighPtTripletStepHp ",
          "cutsRecoTracksHp ",
          "cutsRecoTracksInitialStep ",
          "cutsRecoTracksInitialStepByAlgoMask ",
          "cutsRecoTracksInitialStepByAlgoMaskHp ",
          "cutsRecoTracksInitialStepByOriginalAlgo ",
          "cutsRecoTracksInitialStepByOriginalAlgoHp ",
          "cutsRecoTracksInitialStepHp ",
          "cutsRecoTracksPt09HighPtTripletStep ",
          "cutsRecoTracksPt09HighPtTripletStepHp ",
          "cutsRecoTracksPt09Hp ",
          "cutsRecoTracksPt09InitialStep ",
          "cutsRecoTracksPt09InitialStepHp ",
          "dqmInfoTracking ",
          "generalTracksFromPV ",
          "generalTracksFromPVPt09 ",
          "generalTracksPt09 ",
          "highPtTripletStepSeedClusterMask ",
          "highPtTripletStepSeedLayers ",
          "highPtTripletStepSelector ",
          "highPtTripletStepTrackingRegions ",
          "highPurityPV0p1 ",
          "highPurityPt1 ",
          "highPurityPtRange0to1 ",
          "inclusiveSecondaryVertices ",
          "inclusiveVertexFinder ",
          "initialStepSeedClusterMask ",
          "muonCSCDigis ",
          "muonDTDigis "
         ],
         "marker": {
          "line": {
           "color": "#000000",
           "width": 0.2
          }
         },
         "sort": true,
         "textposition": "none",
         "type": "pie",
         "values": [
          183.94,
          64.78,
          59.13,
          41.21,
          40.09,
          38.8,
          37.41,
          32.44,
          28.36,
          25.47,
          24.52,
          24.38,
          22.03,
          21.32,
          20.25,
          17.44,
          16.36,
          15.79,
          14.22,
          13.87,
          13.45,
          13.23,
          12.23,
          11.82,
          11.57,
          10.29,
          10.25,
          10.25,
          9.96,
          8.27,
          7.61,
          6.99,
          6.11,
          5.73,
          5.3,
          3.44,
          3.32,
          3.25,
          2.97,
          2.96,
          2.91,
          2.54,
          2.44,
          2.35,
          2.25,
          1.92,
          1.29,
          0.88,
          0.85,
          0.83,
          0.81,
          0.78,
          0.41,
          0.36,
          0.34,
          0.32,
          0.31,
          0.29,
          0.29,
          0.28,
          0.28,
          0.27,
          0.27,
          0.26,
          0.26,
          0.26,
          0.26,
          0.26,
          0.26,
          0.26,
          0.25,
          0.25,
          0.25,
          0.25,
          0.25,
          0.25,
          0.25,
          0.25,
          0.25,
          0.25,
          0.25,
          0.25,
          0.25,
          0.25,
          0.25,
          0.25,
          0.25,
          0.25,
          0.25,
          0.25,
          0.25,
          0.25,
          0.25,
          0.25,
          0.25,
          0.25,
          0.25,
          0.25,
          0.25,
          0.25,
          0.25,
          0.25,
          0.25,
          0.25,
          0.25,
          0.25,
          0.25,
          0.25,
          0.25,
          0.25,
          0.25,
          0.25,
          0.25,
          0.25,
          0.25,
          0.25,
          0.25,
          0.25,
          0.25,
          0.25,
          0.25,
          0.25,
          0.25,
          0.25,
          0.25
         ]
        },
        {
         "direction": "clockwise",
         "domain": {
          "x": [
           0.1,
           0.9
          ],
          "y": [
           0.05,
           0.9
          ]
         },
         "hole": 0.5,
         "labels": [
          "hbhereco ",
          "initialStepTrackCandidates ",
          "ecalMultiFitUncalibRecHit ",
          "ecalRecHit ",
          "trackValidatorTrackingOnly ",
          "TrackerCollisionSelectedTrackMonCommongeneralTracks ",
          "initialStepTracks ",
          "TrackerCollisionSelectedTrackMonCommonhighPurityPV0p1 ",
          "initialStepSeeds ",
          "firstStepPrimaryVerticesUnsorted ",
          "TrackerCollisionSelectedTrackMonCommonhighPurityPt1 ",
          "trackValidatorFromPVStandalone ",
          "highPtTripletStepTrackCandidates ",
          "source ",
          "offlineBeamSpot ",
          "trackValidatorAllTPEfficStandalone ",
          "trackValidatorSeedingTrackingOnly ",
          "TrackerCollisionSelectedTrackMonCommonhighPurityPtRange0to1 ",
          "trackingParticleRecoTrackAsssociation ",
          "trackingParticlesSignal ",
          "unsortedOfflinePrimaryVertices ",
          "siPixelClustersPreSplitting ",
          "trackValidatorFromPVAllTPStandalone ",
          "trackingParticleNumberOfLayersProducer ",
          "siPixelRecHits ",
          "MeasurementTrackerEvent ",
          "TrackSplitMonitor ",
          "initialStepSeedLayers ",
          "trackValidatorTPPtLess09Standalone ",
          "caloTowerForTrk ",
          "tpClusterProducer ",
          "ak4CaloJetsForTrk ",
          "primaryVertexResolution ",
          "trackValidatorBuilding ",
          "highPtTripletStepTracks ",
          "ecalDigis ",
          "hcalDigis ",
          "seedTracksinitialStepSeeds ",
          "siPixelClusters ",
          "simHitTPAssocProducer ",
          "vertexAnalysisTrackingOnly ",
          "TrackSeedMoninitialStep ",
          "initialStepHitQuadruplets ",
          "initialStepHitDoublets ",
          "hfprereco ",
          "trackValidatorBHadronTrackingOnly ",
          "highPtTripletStepHitDoublets ",
          "generalTracks ",
          "highPtTripletStepSeeds ",
          "TrackSeedMonhighPtTripletStep ",
          "siPixelClusterShapeCache ",
          "hfreco ",
          "siPhase2Clusters ",
          "seedTrackshighPtTripletStepSeeds ",
          "highPtTripletStepHitTriplets ",
          "initialStepSelector ",
          "initialStepTrackingRegions ",
          "initialStepTrackRefsForJets ",
          "offlinePrimaryVerticesWithBS ",
          "firstStepPrimaryVertices ",
          "offlinePrimaryVertices ",
          "TrackMon_ckf ",
          "horeco ",
          "ecalDetIdToBeRecovered ",
          "highPtTripletStepClusters ",
          "pvMonitor ",
          "quickTrackAssociatorByHits ",
          "scalersRawToDigi ",
          "trackWithVertexRefSelectorBeforeSorting ",
          "trackerClusterCheck ",
          "DQMoutput ",
          "DQMoutput_step ",
          "MC_Dqmoffline_v2 ",
          "MC_Tracking_v2 ",
          "MC_prevalidation_v2 ",
          "MC_validation_v2 ",
          "PV0p1 ",
          "TriggerResults ",
          "VertexAssociatorByPositionAndTracks ",
          "bunchSpacingProducer ",
          "cutsRecoTracksBtvLike ",
          "cutsRecoTracksFromPVHighPtTripletStep ",
          "cutsRecoTracksFromPVHighPtTripletStepHp ",
          "cutsRecoTracksFromPVHp ",
          "cutsRecoTracksFromPVInitialStep ",
          "cutsRecoTracksFromPVInitialStepHp ",
          "cutsRecoTracksFromPVPt09HighPtTripletStep ",
          "cutsRecoTracksFromPVPt09HighPtTripletStepHp ",
          "cutsRecoTracksFromPVPt09Hp ",
          "cutsRecoTracksFromPVPt09InitialStep ",
          "cutsRecoTracksFromPVPt09InitialStepHp ",
          "cutsRecoTracksHighPtTripletStep ",
          "cutsRecoTracksHighPtTripletStepByAlgoMask ",
          "cutsRecoTracksHighPtTripletStepByAlgoMaskHp ",
          "cutsRecoTracksHighPtTripletStepByOriginalAlgo ",
          "cutsRecoTracksHighPtTripletStepByOriginalAlgoHp ",
          "cutsRecoTracksHighPtTripletStepHp ",
          "cutsRecoTracksHp ",
          "cutsRecoTracksInitialStep ",
          "cutsRecoTracksInitialStepByAlgoMask ",
          "cutsRecoTracksInitialStepByAlgoMaskHp ",
          "cutsRecoTracksInitialStepByOriginalAlgo ",
          "cutsRecoTracksInitialStepByOriginalAlgoHp ",
          "cutsRecoTracksInitialStepHp ",
          "cutsRecoTracksPt09HighPtTripletStep ",
          "cutsRecoTracksPt09HighPtTripletStepHp ",
          "cutsRecoTracksPt09Hp ",
          "cutsRecoTracksPt09InitialStep ",
          "cutsRecoTracksPt09InitialStepHp ",
          "dqmInfoTracking ",
          "generalTracksFromPV ",
          "generalTracksFromPVPt09 ",
          "generalTracksPt09 ",
          "highPtTripletStepSeedClusterMask ",
          "highPtTripletStepSeedLayers ",
          "highPtTripletStepSelector ",
          "highPtTripletStepTrackingRegions ",
          "highPurityPV0p1 ",
          "highPurityPt1 ",
          "highPurityPtRange0to1 ",
          "inclusiveSecondaryVertices ",
          "inclusiveVertexFinder ",
          "initialStepSeedClusterMask ",
          "muonCSCDigis ",
          "muonDTDigis ",
          "muonGEMDigis ",
          "muonRPCDigis ",
          "muonRPCNewDigis ",
          "quickTrackAssociatorByHitsPreSplitting ",
          "raw2digi_step ",
          "selectedOfflinePrimaryVertices ",
          "selectedOfflinePrimaryVerticesWithBS ",
          "siPixelRecHitsPreSplitting ",
          "tpClusterProducerPreSplitting ",
          "trackRefsForJetsBeforeSorting "
         ],
         "marker": {
          "line": {
           "color": "#000000",
           "width": 0.2
          }
         },
         "sort": true,
         "textposition": "none",
         "type": "pie",
         "values": [
          183.94,
          64.78,
          59.13,
          41.21,
          40.09,
          38.8,
          37.41,
          32.44,
          28.36,
          25.47,
          24.52,
          24.38,
          22.03,
          21.32,
          20.25,
          17.44,
          16.36,
          15.79,
          14.22,
          13.87,
          13.45,
          13.23,
          12.23,
          11.82,
          11.57,
          10.29,
          10.25,
          10.25,
          9.96,
          8.27,
          7.61,
          6.99,
          6.11,
          5.73,
          5.3,
          3.44,
          3.32,
          3.25,
          2.97,
          2.96,
          2.91,
          2.54,
          2.44,
          2.35,
          2.25,
          1.92,
          1.29,
          0.88,
          0.85,
          0.83,
          0.81,
          0.78,
          0.41,
          0.36,
          0.34,
          0.32,
          0.31,
          0.29,
          0.29,
          0.28,
          0.28,
          0.27,
          0.27,
          0.26,
          0.26,
          0.26,
          0.26,
          0.26,
          0.26,
          0.26,
          0.25,
          0.25,
          0.25,
          0.25,
          0.25,
          0.25,
          0.25,
          0.25,
          0.25,
          0.25,
          0.25,
          0.25,
          0.25,
          0.25,
          0.25,
          0.25,
          0.25,
          0.25,
          0.25,
          0.25,
          0.25,
          0.25,
          0.25,
          0.25,
          0.25,
          0.25,
          0.25,
          0.25,
          0.25,
          0.25,
          0.25,
          0.25,
          0.25,
          0.25,
          0.25,
          0.25,
          0.25,
          0.25,
          0.25,
          0.25,
          0.25,
          0.25,
          0.25,
          0.25,
          0.25,
          0.25,
          0.25,
          0.25,
          0.25,
          0.25,
          0.25,
          0.25,
          0.25,
          0.25,
          0.25,
          0.25,
          0.25,
          0.25,
          0.25,
          0.25,
          0.25,
          0.25,
          0.25,
          0.25,
          0.25
         ]
        },
        {
         "direction": "clockwise",
         "domain": {
          "x": [
           0.1,
           0.9
          ],
          "y": [
           0.05,
           0.9
          ]
         },
         "hole": 0.5,
         "labels": [
          "hbhereco ",
          "initialStepTrackCandidates ",
          "ecalMultiFitUncalibRecHit ",
          "ecalRecHit ",
          "trackValidatorTrackingOnly ",
          "TrackerCollisionSelectedTrackMonCommongeneralTracks ",
          "initialStepTracks ",
          "TrackerCollisionSelectedTrackMonCommonhighPurityPV0p1 ",
          "initialStepSeeds ",
          "firstStepPrimaryVerticesUnsorted ",
          "TrackerCollisionSelectedTrackMonCommonhighPurityPt1 ",
          "trackValidatorFromPVStandalone ",
          "highPtTripletStepTrackCandidates ",
          "source ",
          "offlineBeamSpot ",
          "trackValidatorAllTPEfficStandalone ",
          "trackValidatorSeedingTrackingOnly ",
          "TrackerCollisionSelectedTrackMonCommonhighPurityPtRange0to1 ",
          "trackingParticleRecoTrackAsssociation ",
          "trackingParticlesSignal ",
          "unsortedOfflinePrimaryVertices ",
          "siPixelClustersPreSplitting ",
          "trackValidatorFromPVAllTPStandalone ",
          "trackingParticleNumberOfLayersProducer ",
          "siPixelRecHits ",
          "MeasurementTrackerEvent ",
          "initialStepSeedLayers ",
          "TrackSplitMonitor ",
          "trackValidatorTPPtLess09Standalone ",
          "caloTowerForTrk ",
          "tpClusterProducer ",
          "ak4CaloJetsForTrk ",
          "primaryVertexResolution ",
          "trackValidatorBuilding ",
          "highPtTripletStepTracks ",
          "ecalDigis ",
          "hcalDigis ",
          "seedTracksinitialStepSeeds ",
          "siPixelClusters ",
          "simHitTPAssocProducer ",
          "vertexAnalysisTrackingOnly ",
          "TrackSeedMoninitialStep ",
          "initialStepHitQuadruplets ",
          "initialStepHitDoublets ",
          "hfprereco ",
          "trackValidatorBHadronTrackingOnly ",
          "highPtTripletStepHitDoublets ",
          "generalTracks ",
          "highPtTripletStepSeeds ",
          "TrackSeedMonhighPtTripletStep ",
          "siPixelClusterShapeCache ",
          "hfreco ",
          "siPhase2Clusters ",
          "seedTrackshighPtTripletStepSeeds ",
          "highPtTripletStepHitTriplets ",
          "initialStepSelector ",
          "initialStepTrackingRegions ",
          "initialStepTrackRefsForJets ",
          "offlinePrimaryVerticesWithBS ",
          "firstStepPrimaryVertices ",
          "offlinePrimaryVertices ",
          "TrackMon_ckf ",
          "horeco ",
          "trackerClusterCheck ",
          "trackWithVertexRefSelectorBeforeSorting ",
          "ecalDetIdToBeRecovered ",
          "scalersRawToDigi ",
          "pvMonitor ",
          "highPtTripletStepClusters ",
          "quickTrackAssociatorByHits ",
          "tpClusterProducerPreSplitting ",
          "muonDTDigis ",
          "v0Validator ",
          "raw2digi_step ",
          "trackingParticlesElectron ",
          "trackingParticlesConversion ",
          "trackingDQMgoodOfflinePrimaryVertices ",
          "selectedOfflinePrimaryVertices ",
          "muonCSCDigis ",
          "muonGEMDigis ",
          "muonRPCDigis ",
          "muonRPCNewDigis ",
          "trackVertexArbitrator ",
          "trackValidatorSeedingPreSplittingTrackingOnly ",
          "selectedOfflinePrimaryVerticesWithBS ",
          "quickTrackAssociatorByHitsPreSplitting ",
          "trackRefsForJetsBeforeSorting ",
          "siPixelRecHitsPreSplitting ",
          "trackValidatorBuildingPreSplitting ",
          "highPtTripletStepSeedLayers ",
          "initialStepSeedClusterMask ",
          "cutsRecoTracksHighPtTripletStepByOriginalAlgo ",
          "cutsRecoTracksHighPtTripletStepByAlgoMask ",
          "cutsRecoTracksHighPtTripletStep ",
          "cutsRecoTracksFromPVPt09InitialStepHp ",
          "cutsRecoTracksFromPVPt09InitialStep ",
          "cutsRecoTracksFromPVPt09Hp ",
          "cutsRecoTracksFromPVPt09HighPtTripletStepHp ",
          "cutsRecoTracksFromPVPt09HighPtTripletStep ",
          "cutsRecoTracksFromPVInitialStepHp ",
          "cutsRecoTracksFromPVInitialStep ",
          "cutsRecoTracksFromPVHp ",
          "cutsRecoTracksFromPVHighPtTripletStepHp ",
          "cutsRecoTracksFromPVHighPtTripletStep ",
          "cutsRecoTracksBtvLike ",
          "bunchSpacingProducer ",
          "VertexAssociatorByPositionAndTracks ",
          "TriggerResults ",
          "PV0p1 ",
          "MC_validation_v2 ",
          "MC_prevalidation_v2 ",
          "MC_Tracking_v2 ",
          "MC_Dqmoffline_v2 ",
          "DQMoutput_step ",
          "DQMoutput ",
          "cutsRecoTracksHighPtTripletStepByAlgoMaskHp ",
          "cutsRecoTracksHighPtTripletStepByOriginalAlgoHp ",
          "inclusiveVertexFinder ",
          "cutsRecoTracksHighPtTripletStepHp ",
          "inclusiveSecondaryVertices ",
          "highPurityPtRange0to1 ",
          "highPurityPt1 ",
          "highPurityPV0p1 ",
          "highPtTripletStepTrackingRegions ",
          "highPtTripletStepSelector ",
          "highPtTripletStepSeedClusterMask ",
          "generalTracksPt09 ",
          "generalTracksFromPVPt09 ",
          "generalTracksFromPV ",
          "dqmInfoTracking ",
          "cutsRecoTracksPt09InitialStepHp ",
          "cutsRecoTracksPt09InitialStep ",
          "cutsRecoTracksPt09Hp ",
          "cutsRecoTracksPt09HighPtTripletStepHp ",
          "cutsRecoTracksPt09HighPtTripletStep ",
          "cutsRecoTracksInitialStepHp ",
          "cutsRecoTracksInitialStepByOriginalAlgoHp ",
          "cutsRecoTracksInitialStepByOriginalAlgo ",
          "cutsRecoTracksInitialStepByAlgoMaskHp ",
          "cutsRecoTracksInitialStepByAlgoMask ",
          "cutsRecoTracksInitialStep ",
          "cutsRecoTracksHp ",
          "vertexMerger "
         ],
         "marker": {
          "line": {
           "color": "#000000",
           "width": 0.2
          }
         },
         "sort": true,
         "textposition": "none",
         "type": "pie",
         "values": [
          183.94,
          64.78,
          59.13,
          41.21,
          40.09,
          38.8,
          37.41,
          32.44,
          28.36,
          25.47,
          24.52,
          24.38,
          22.03,
          21.32,
          20.25,
          17.44,
          16.36,
          15.79,
          14.22,
          13.87,
          13.45,
          13.23,
          12.23,
          11.82,
          11.57,
          10.29,
          10.25,
          10.25,
          9.96,
          8.27,
          7.61,
          6.99,
          6.11,
          5.73,
          5.3,
          3.44,
          3.32,
          3.25,
          2.97,
          2.96,
          2.91,
          2.54,
          2.44,
          2.35,
          2.25,
          1.92,
          1.29,
          0.88,
          0.85,
          0.83,
          0.81,
          0.78,
          0.41,
          0.36,
          0.34,
          0.32,
          0.31,
          0.29,
          0.29,
          0.28,
          0.28,
          0.27,
          0.27,
          0.26,
          0.26,
          0.26,
          0.26,
          0.26,
          0.26,
          0.26,
          0.25,
          0.25,
          0.25,
          0.25,
          0.25,
          0.25,
          0.25,
          0.25,
          0.25,
          0.25,
          0.25,
          0.25,
          0.25,
          0.25,
          0.25,
          0.25,
          0.25,
          0.25,
          0.25,
          0.25,
          0.25,
          0.25,
          0.25,
          0.25,
          0.25,
          0.25,
          0.25,
          0.25,
          0.25,
          0.25,
          0.25,
          0.25,
          0.25,
          0.25,
          0.25,
          0.25,
          0.25,
          0.25,
          0.25,
          0.25,
          0.25,
          0.25,
          0.25,
          0.25,
          0.25,
          0.25,
          0.25,
          0.25,
          0.25,
          0.25,
          0.25,
          0.25,
          0.25,
          0.25,
          0.25,
          0.25,
          0.25,
          0.25,
          0.25,
          0.25,
          0.25,
          0.25,
          0.25,
          0.25,
          0.25,
          0.25,
          0.25,
          0.25,
          0.25,
          0.25,
          0.25,
          0.25,
          0.25
         ]
        },
        {
         "direction": "clockwise",
         "domain": {
          "x": [
           0.1,
           0.9
          ],
          "y": [
           0.05,
           0.9
          ]
         },
         "hole": 0.75,
         "labels": [],
         "marker": {
          "line": {
           "color": "#000000",
           "width": 0.2
          }
         },
         "sort": true,
         "textposition": "none",
         "type": "pie",
         "values": []
        },
        {
         "direction": "clockwise",
         "domain": {
          "x": [
           0.1,
           0.9
          ],
          "y": [
           0.05,
           0.9
          ]
         },
         "hole": 0.75,
         "labels": [
          "unsortedOfflinePrimaryVertices ",
          "trackValidatorTrackingOnly ",
          "TrackerCollisionSelectedTrackMonCommongeneralTracks ",
          "trackValidatorSeedingTrackingOnly ",
          "highPtTripletStepTrackCandidates "
         ],
         "marker": {
          "line": {
           "color": "#000000",
           "width": 0.2
          }
         },
         "sort": true,
         "textposition": "none",
         "type": "pie",
         "values": [
          13.45,
          40.09,
          38.8,
          16.36,
          22.03
         ]
        },
        {
         "direction": "clockwise",
         "domain": {
          "x": [
           0.1,
           0.9
          ],
          "y": [
           0.05,
           0.9
          ]
         },
         "hole": 0.75,
         "labels": [
          "unsortedOfflinePrimaryVertices ",
          "trackValidatorTrackingOnly ",
          "TrackerCollisionSelectedTrackMonCommongeneralTracks ",
          "trackValidatorSeedingTrackingOnly ",
          "highPtTripletStepTrackCandidates ",
          "firstStepPrimaryVerticesUnsorted ",
          "tpClusterProducer ",
          "trackValidatorAllTPEfficStandalone ",
          "TrackerCollisionSelectedTrackMonCommonhighPurityPtRange0to1 ",
          "initialStepTracks ",
          "trackingParticlesBHadron ",
          "initialStepHitQuadruplets ",
          "highPtTripletStepHitTriplets ",
          "TrackerCollisionSelectedTrackMonCommonhighPurityPt1 ",
          "trackValidatorBuilding "
         ],
         "marker": {
          "line": {
           "color": "#000000",
           "width": 0.2
          }
         },
         "sort": true,
         "textposition": "none",
         "type": "pie",
         "values": [
          13.45,
          40.09,
          38.8,
          16.36,
          22.03,
          25.47,
          7.61,
          17.44,
          15.79,
          37.41,
          285.75,
          2.44,
          0.34,
          24.52,
          5.73
         ]
        },
        {
         "direction": "clockwise",
         "domain": {
          "x": [
           0.1,
           0.9
          ],
          "y": [
           0.05,
           0.9
          ]
         },
         "hole": 0.75,
         "labels": [
          "unsortedOfflinePrimaryVertices ",
          "trackValidatorTrackingOnly ",
          "TrackerCollisionSelectedTrackMonCommongeneralTracks ",
          "trackValidatorSeedingTrackingOnly ",
          "highPtTripletStepTrackCandidates ",
          "firstStepPrimaryVerticesUnsorted ",
          "tpClusterProducer ",
          "trackValidatorAllTPEfficStandalone ",
          "TrackerCollisionSelectedTrackMonCommonhighPurityPtRange0to1 ",
          "initialStepTracks ",
          "trackingParticlesBHadron ",
          "initialStepHitQuadruplets ",
          "highPtTripletStepHitTriplets ",
          "TrackerCollisionSelectedTrackMonCommonhighPurityPt1 ",
          "trackValidatorBuilding ",
          "initialStepSeeds ",
          "generalTracks ",
          "trackingParticlesSignal ",
          "highPtTripletStepTracks ",
          "trackValidatorTPPtLess09Standalone ",
          "hbhereco ",
          "ecalMultiFitUncalibRecHit ",
          "primaryVertexResolution ",
          "seedTracksinitialStepSeeds ",
          "trackValidatorFromPVAllTPStandalone "
         ],
         "marker": {
          "line": {
           "color": "#000000",
           "width": 0.2
          }
         },
         "sort": true,
         "textposition": "none",
         "type": "pie",
         "values": [
          13.45,
          40.09,
          38.8,
          16.36,
          22.03,
          25.47,
          7.61,
          17.44,
          15.79,
          37.41,
          285.75,
          2.44,
          0.34,
          24.52,
          5.73,
          28.36,
          0.88,
          13.87,
          5.3,
          9.96,
          183.94,
          59.13,
          6.11,
          3.25,
          12.23
         ]
        },
        {
         "direction": "clockwise",
         "domain": {
          "x": [
           0.1,
           0.9
          ],
          "y": [
           0.05,
           0.9
          ]
         },
         "hole": 0.75,
         "labels": [
          "unsortedOfflinePrimaryVertices ",
          "trackValidatorTrackingOnly ",
          "TrackerCollisionSelectedTrackMonCommongeneralTracks ",
          "trackValidatorSeedingTrackingOnly ",
          "highPtTripletStepTrackCandidates ",
          "firstStepPrimaryVerticesUnsorted ",
          "tpClusterProducer ",
          "trackValidatorAllTPEfficStandalone ",
          "TrackerCollisionSelectedTrackMonCommonhighPurityPtRange0to1 ",
          "initialStepTracks ",
          "trackingParticlesBHadron ",
          "initialStepHitQuadruplets ",
          "highPtTripletStepHitTriplets ",
          "TrackerCollisionSelectedTrackMonCommonhighPurityPt1 ",
          "trackValidatorBuilding ",
          "initialStepSeeds ",
          "generalTracks ",
          "trackingParticlesSignal ",
          "highPtTripletStepTracks ",
          "trackValidatorTPPtLess09Standalone ",
          "hbhereco ",
          "ecalMultiFitUncalibRecHit ",
          "primaryVertexResolution ",
          "seedTracksinitialStepSeeds ",
          "trackValidatorFromPVAllTPStandalone ",
          "simHitTPAssocProducer ",
          "siPixelClustersPreSplitting ",
          "siPixelClusters ",
          "trackingParticleRecoTrackAsssociation ",
          "trackingParticleNumberOfLayersProducer ",
          "vertexAnalysisTrackingOnly ",
          "initialStepHitDoublets ",
          "highPtTripletStepHitDoublets ",
          "TrackSeedMoninitialStep ",
          "offlinePrimaryVertices "
         ],
         "marker": {
          "line": {
           "color": "#000000",
           "width": 0.2
          }
         },
         "sort": true,
         "textposition": "none",
         "type": "pie",
         "values": [
          13.45,
          40.09,
          38.8,
          16.36,
          22.03,
          25.47,
          7.61,
          17.44,
          15.79,
          37.41,
          285.75,
          2.44,
          0.34,
          24.52,
          5.73,
          28.36,
          0.88,
          13.87,
          5.3,
          9.96,
          183.94,
          59.13,
          6.11,
          3.25,
          12.23,
          2.96,
          13.23,
          2.97,
          14.22,
          11.82,
          2.91,
          2.35,
          1.29,
          2.54,
          0.28
         ]
        },
        {
         "direction": "clockwise",
         "domain": {
          "x": [
           0.1,
           0.9
          ],
          "y": [
           0.05,
           0.9
          ]
         },
         "hole": 0.75,
         "labels": [
          "unsortedOfflinePrimaryVertices ",
          "trackValidatorTrackingOnly ",
          "TrackerCollisionSelectedTrackMonCommongeneralTracks ",
          "trackValidatorSeedingTrackingOnly ",
          "highPtTripletStepTrackCandidates ",
          "firstStepPrimaryVerticesUnsorted ",
          "tpClusterProducer ",
          "trackValidatorAllTPEfficStandalone ",
          "TrackerCollisionSelectedTrackMonCommonhighPurityPtRange0to1 ",
          "initialStepTracks ",
          "trackingParticlesBHadron ",
          "initialStepHitQuadruplets ",
          "highPtTripletStepHitTriplets ",
          "TrackerCollisionSelectedTrackMonCommonhighPurityPt1 ",
          "trackValidatorBuilding ",
          "initialStepSeeds ",
          "generalTracks ",
          "trackingParticlesSignal ",
          "highPtTripletStepTracks ",
          "trackValidatorTPPtLess09Standalone ",
          "hbhereco ",
          "ecalMultiFitUncalibRecHit ",
          "primaryVertexResolution ",
          "seedTracksinitialStepSeeds ",
          "trackValidatorFromPVAllTPStandalone ",
          "simHitTPAssocProducer ",
          "siPixelClustersPreSplitting ",
          "siPixelClusters ",
          "trackingParticleRecoTrackAsssociation ",
          "trackingParticleNumberOfLayersProducer ",
          "vertexAnalysisTrackingOnly ",
          "initialStepHitDoublets ",
          "highPtTripletStepHitDoublets ",
          "TrackSeedMoninitialStep ",
          "offlinePrimaryVertices ",
          "siPixelRecHits ",
          "offlinePrimaryVerticesWithBS ",
          "TrackerCollisionSelectedTrackMonCommonhighPurityPV0p1 ",
          "trackValidatorBHadronTrackingOnly ",
          "highPtTripletStepSeeds ",
          "firstStepPrimaryVertices ",
          "trackValidatorFromPVStandalone ",
          "offlineBeamSpot ",
          "siPixelClusterShapeCache ",
          "TrackSeedMonhighPtTripletStep "
         ],
         "marker": {
          "line": {
           "color": "#000000",
           "width": 0.2
          }
         },
         "sort": true,
         "textposition": "none",
         "type": "pie",
         "values": [
          13.45,
          40.09,
          38.8,
          16.36,
          22.03,
          25.47,
          7.61,
          17.44,
          15.79,
          37.41,
          285.75,
          2.44,
          0.34,
          24.52,
          5.73,
          28.36,
          0.88,
          13.87,
          5.3,
          9.96,
          183.94,
          59.13,
          6.11,
          3.25,
          12.23,
          2.96,
          13.23,
          2.97,
          14.22,
          11.82,
          2.91,
          2.35,
          1.29,
          2.54,
          0.28,
          11.57,
          0.29,
          32.44,
          1.92,
          0.85,
          0.28,
          24.38,
          20.25,
          0.81,
          0.83
         ]
        },
        {
         "direction": "clockwise",
         "domain": {
          "x": [
           0.1,
           0.9
          ],
          "y": [
           0.05,
           0.9
          ]
         },
         "hole": 0.75,
         "labels": [
          "unsortedOfflinePrimaryVertices ",
          "trackValidatorTrackingOnly ",
          "TrackerCollisionSelectedTrackMonCommongeneralTracks ",
          "trackValidatorSeedingTrackingOnly ",
          "highPtTripletStepTrackCandidates ",
          "firstStepPrimaryVerticesUnsorted ",
          "tpClusterProducer ",
          "trackValidatorAllTPEfficStandalone ",
          "TrackerCollisionSelectedTrackMonCommonhighPurityPtRange0to1 ",
          "initialStepTracks ",
          "trackingParticlesBHadron ",
          "initialStepHitQuadruplets ",
          "highPtTripletStepHitTriplets ",
          "TrackerCollisionSelectedTrackMonCommonhighPurityPt1 ",
          "trackValidatorBuilding ",
          "initialStepSeeds ",
          "generalTracks ",
          "trackingParticlesSignal ",
          "highPtTripletStepTracks ",
          "trackValidatorTPPtLess09Standalone ",
          "hbhereco ",
          "ecalMultiFitUncalibRecHit ",
          "primaryVertexResolution ",
          "seedTracksinitialStepSeeds ",
          "trackValidatorFromPVAllTPStandalone ",
          "simHitTPAssocProducer ",
          "siPixelClustersPreSplitting ",
          "siPixelClusters ",
          "trackingParticleRecoTrackAsssociation ",
          "trackingParticleNumberOfLayersProducer ",
          "vertexAnalysisTrackingOnly ",
          "initialStepHitDoublets ",
          "highPtTripletStepHitDoublets ",
          "TrackSeedMoninitialStep ",
          "offlinePrimaryVertices ",
          "siPixelRecHits ",
          "offlinePrimaryVerticesWithBS ",
          "TrackerCollisionSelectedTrackMonCommonhighPurityPV0p1 ",
          "trackValidatorBHadronTrackingOnly ",
          "highPtTripletStepSeeds ",
          "firstStepPrimaryVertices ",
          "trackValidatorFromPVStandalone ",
          "offlineBeamSpot ",
          "siPixelClusterShapeCache ",
          "TrackSeedMonhighPtTripletStep ",
          "ecalRecHit ",
          "seedTrackshighPtTripletStepSeeds ",
          "source ",
          "caloTowerForTrk ",
          "MeasurementTrackerEvent ",
          "TrackSplitMonitor ",
          "ak4CaloJetsForTrk ",
          "initialStepSelector ",
          "siPhase2Clusters ",
          "ecalDigis "
         ],
         "marker": {
          "line": {
           "color": "#000000",
           "width": 0.2
          }
         },
         "sort": true,
         "textposition": "none",
         "type": "pie",
         "values": [
          13.45,
          40.09,
          38.8,
          16.36,
          22.03,
          25.47,
          7.61,
          17.44,
          15.79,
          37.41,
          285.75,
          2.44,
          0.34,
          24.52,
          5.73,
          28.36,
          0.88,
          13.87,
          5.3,
          9.96,
          183.94,
          59.13,
          6.11,
          3.25,
          12.23,
          2.96,
          13.23,
          2.97,
          14.22,
          11.82,
          2.91,
          2.35,
          1.29,
          2.54,
          0.28,
          11.57,
          0.29,
          32.44,
          1.92,
          0.85,
          0.28,
          24.38,
          20.25,
          0.81,
          0.83,
          41.21,
          0.36,
          21.32,
          8.27,
          10.29,
          10.25,
          6.99,
          0.32,
          0.41,
          3.44
         ]
        },
        {
         "direction": "clockwise",
         "domain": {
          "x": [
           0.1,
           0.9
          ],
          "y": [
           0.05,
           0.9
          ]
         },
         "hole": 0.75,
         "labels": [
          "unsortedOfflinePrimaryVertices ",
          "trackValidatorTrackingOnly ",
          "TrackerCollisionSelectedTrackMonCommongeneralTracks ",
          "trackValidatorSeedingTrackingOnly ",
          "highPtTripletStepTrackCandidates ",
          "firstStepPrimaryVerticesUnsorted ",
          "tpClusterProducer ",
          "trackValidatorAllTPEfficStandalone ",
          "TrackerCollisionSelectedTrackMonCommonhighPurityPtRange0to1 ",
          "initialStepTracks ",
          "trackingParticlesBHadron ",
          "initialStepHitQuadruplets ",
          "highPtTripletStepHitTriplets ",
          "TrackerCollisionSelectedTrackMonCommonhighPurityPt1 ",
          "trackValidatorBuilding ",
          "initialStepSeeds ",
          "generalTracks ",
          "trackingParticlesSignal ",
          "highPtTripletStepTracks ",
          "trackValidatorTPPtLess09Standalone ",
          "hbhereco ",
          "ecalMultiFitUncalibRecHit ",
          "primaryVertexResolution ",
          "seedTracksinitialStepSeeds ",
          "trackValidatorFromPVAllTPStandalone ",
          "simHitTPAssocProducer ",
          "siPixelClustersPreSplitting ",
          "siPixelClusters ",
          "trackingParticleRecoTrackAsssociation ",
          "trackingParticleNumberOfLayersProducer ",
          "vertexAnalysisTrackingOnly ",
          "initialStepHitDoublets ",
          "highPtTripletStepHitDoublets ",
          "TrackSeedMoninitialStep ",
          "offlinePrimaryVertices ",
          "siPixelRecHits ",
          "offlinePrimaryVerticesWithBS ",
          "TrackerCollisionSelectedTrackMonCommonhighPurityPV0p1 ",
          "trackValidatorBHadronTrackingOnly ",
          "highPtTripletStepSeeds ",
          "firstStepPrimaryVertices ",
          "trackValidatorFromPVStandalone ",
          "offlineBeamSpot ",
          "siPixelClusterShapeCache ",
          "TrackSeedMonhighPtTripletStep ",
          "ecalRecHit ",
          "seedTrackshighPtTripletStepSeeds ",
          "source ",
          "caloTowerForTrk ",
          "MeasurementTrackerEvent ",
          "TrackSplitMonitor ",
          "ak4CaloJetsForTrk ",
          "initialStepSelector ",
          "siPhase2Clusters ",
          "ecalDigis ",
          "highPtTripletStepSeedLayers ",
          "trackingDQMgoodOfflinePrimaryVertices ",
          "cutsRecoTracksHp ",
          "highPtTripletStepSelector ",
          "hcalDigis ",
          "cutsRecoTracksInitialStepByOriginalAlgoHp ",
          "cutsRecoTracksInitialStep ",
          "cutsRecoTracksInitialStepByAlgoMask ",
          "cutsRecoTracksBtvLike ",
          "cutsRecoTracksInitialStepHp "
         ],
         "marker": {
          "line": {
           "color": "#000000",
           "width": 0.2
          }
         },
         "sort": true,
         "textposition": "none",
         "type": "pie",
         "values": [
          13.45,
          40.09,
          38.8,
          16.36,
          22.03,
          25.47,
          7.61,
          17.44,
          15.79,
          37.41,
          285.75,
          2.44,
          0.34,
          24.52,
          5.73,
          28.36,
          0.88,
          13.87,
          5.3,
          9.96,
          183.94,
          59.13,
          6.11,
          3.25,
          12.23,
          2.96,
          13.23,
          2.97,
          14.22,
          11.82,
          2.91,
          2.35,
          1.29,
          2.54,
          0.28,
          11.57,
          0.29,
          32.44,
          1.92,
          0.85,
          0.28,
          24.38,
          20.25,
          0.81,
          0.83,
          41.21,
          0.36,
          21.32,
          8.27,
          10.29,
          10.25,
          6.99,
          0.32,
          0.41,
          3.44,
          0.25,
          0.25,
          0.25,
          0.25,
          3.32,
          0.25,
          0.25,
          0.25,
          0.25,
          0.25
         ]
        },
        {
         "direction": "clockwise",
         "domain": {
          "x": [
           0.1,
           0.9
          ],
          "y": [
           0.05,
           0.9
          ]
         },
         "hole": 0.75,
         "labels": [
          "unsortedOfflinePrimaryVertices ",
          "trackValidatorTrackingOnly ",
          "TrackerCollisionSelectedTrackMonCommongeneralTracks ",
          "trackValidatorSeedingTrackingOnly ",
          "highPtTripletStepTrackCandidates ",
          "firstStepPrimaryVerticesUnsorted ",
          "tpClusterProducer ",
          "trackValidatorAllTPEfficStandalone ",
          "TrackerCollisionSelectedTrackMonCommonhighPurityPtRange0to1 ",
          "initialStepTracks ",
          "trackingParticlesBHadron ",
          "initialStepHitQuadruplets ",
          "highPtTripletStepHitTriplets ",
          "TrackerCollisionSelectedTrackMonCommonhighPurityPt1 ",
          "trackValidatorBuilding ",
          "initialStepSeeds ",
          "generalTracks ",
          "trackingParticlesSignal ",
          "highPtTripletStepTracks ",
          "trackValidatorTPPtLess09Standalone ",
          "hbhereco ",
          "ecalMultiFitUncalibRecHit ",
          "primaryVertexResolution ",
          "seedTracksinitialStepSeeds ",
          "trackValidatorFromPVAllTPStandalone ",
          "simHitTPAssocProducer ",
          "siPixelClustersPreSplitting ",
          "siPixelClusters ",
          "trackingParticleRecoTrackAsssociation ",
          "trackingParticleNumberOfLayersProducer ",
          "vertexAnalysisTrackingOnly ",
          "initialStepHitDoublets ",
          "highPtTripletStepHitDoublets ",
          "TrackSeedMoninitialStep ",
          "offlinePrimaryVertices ",
          "siPixelRecHits ",
          "offlinePrimaryVerticesWithBS ",
          "TrackerCollisionSelectedTrackMonCommonhighPurityPV0p1 ",
          "trackValidatorBHadronTrackingOnly ",
          "highPtTripletStepSeeds ",
          "firstStepPrimaryVertices ",
          "trackValidatorFromPVStandalone ",
          "offlineBeamSpot ",
          "siPixelClusterShapeCache ",
          "TrackSeedMonhighPtTripletStep ",
          "ecalRecHit ",
          "seedTrackshighPtTripletStepSeeds ",
          "source ",
          "caloTowerForTrk ",
          "MeasurementTrackerEvent ",
          "TrackSplitMonitor ",
          "ak4CaloJetsForTrk ",
          "initialStepSelector ",
          "siPhase2Clusters ",
          "ecalDigis ",
          "highPtTripletStepSeedLayers ",
          "trackingDQMgoodOfflinePrimaryVertices ",
          "cutsRecoTracksHp ",
          "highPtTripletStepSelector ",
          "hcalDigis ",
          "cutsRecoTracksInitialStepByOriginalAlgoHp ",
          "cutsRecoTracksInitialStep ",
          "cutsRecoTracksInitialStepByAlgoMask ",
          "cutsRecoTracksBtvLike ",
          "cutsRecoTracksInitialStepHp ",
          "generalTracksPt09 ",
          "cutsRecoTracksInitialStepByOriginalAlgo ",
          "trackWithVertexRefSelectorBeforeSorting ",
          "cutsRecoTracksInitialStepByAlgoMaskHp ",
          "generalTracksFromPV ",
          "trackRefsForJetsBeforeSorting ",
          "hfprereco ",
          "highPurityPtRange0to1 ",
          "initialStepTrackRefsForJets ",
          "cutsRecoTracksPt09Hp "
         ],
         "marker": {
          "line": {
           "color": "#000000",
           "width": 0.2
          }
         },
         "sort": true,
         "textposition": "none",
         "type": "pie",
         "values": [
          13.45,
          40.09,
          38.8,
          16.36,
          22.03,
          25.47,
          7.61,
          17.44,
          15.79,
          37.41,
          285.75,
          2.44,
          0.34,
          24.52,
          5.73,
          28.36,
          0.88,
          13.87,
          5.3,
          9.96,
          183.94,
          59.13,
          6.11,
          3.25,
          12.23,
          2.96,
          13.23,
          2.97,
          14.22,
          11.82,
          2.91,
          2.35,
          1.29,
          2.54,
          0.28,
          11.57,
          0.29,
          32.44,
          1.92,
          0.85,
          0.28,
          24.38,
          20.25,
          0.81,
          0.83,
          41.21,
          0.36,
          21.32,
          8.27,
          10.29,
          10.25,
          6.99,
          0.32,
          0.41,
          3.44,
          0.25,
          0.25,
          0.25,
          0.25,
          3.32,
          0.25,
          0.25,
          0.25,
          0.25,
          0.25,
          0.25,
          0.25,
          0.26,
          0.25,
          0.25,
          0.25,
          2.25,
          0.25,
          0.29,
          0.25
         ]
        },
        {
         "direction": "clockwise",
         "domain": {
          "x": [
           0.1,
           0.9
          ],
          "y": [
           0.05,
           0.9
          ]
         },
         "hole": 0.75,
         "labels": [
          "unsortedOfflinePrimaryVertices ",
          "trackValidatorTrackingOnly ",
          "TrackerCollisionSelectedTrackMonCommongeneralTracks ",
          "trackValidatorSeedingTrackingOnly ",
          "highPtTripletStepTrackCandidates ",
          "firstStepPrimaryVerticesUnsorted ",
          "tpClusterProducer ",
          "trackValidatorAllTPEfficStandalone ",
          "TrackerCollisionSelectedTrackMonCommonhighPurityPtRange0to1 ",
          "initialStepTracks ",
          "trackingParticlesBHadron ",
          "initialStepHitQuadruplets ",
          "highPtTripletStepHitTriplets ",
          "TrackerCollisionSelectedTrackMonCommonhighPurityPt1 ",
          "trackValidatorBuilding ",
          "initialStepSeeds ",
          "generalTracks ",
          "trackingParticlesSignal ",
          "highPtTripletStepTracks ",
          "trackValidatorTPPtLess09Standalone ",
          "hbhereco ",
          "ecalMultiFitUncalibRecHit ",
          "primaryVertexResolution ",
          "seedTracksinitialStepSeeds ",
          "trackValidatorFromPVAllTPStandalone ",
          "simHitTPAssocProducer ",
          "siPixelClustersPreSplitting ",
          "siPixelClusters ",
          "trackingParticleRecoTrackAsssociation ",
          "trackingParticleNumberOfLayersProducer ",
          "vertexAnalysisTrackingOnly ",
          "initialStepHitDoublets ",
          "highPtTripletStepHitDoublets ",
          "TrackSeedMoninitialStep ",
          "offlinePrimaryVertices ",
          "siPixelRecHits ",
          "offlinePrimaryVerticesWithBS ",
          "TrackerCollisionSelectedTrackMonCommonhighPurityPV0p1 ",
          "trackValidatorBHadronTrackingOnly ",
          "highPtTripletStepSeeds ",
          "firstStepPrimaryVertices ",
          "trackValidatorFromPVStandalone ",
          "offlineBeamSpot ",
          "siPixelClusterShapeCache ",
          "TrackSeedMonhighPtTripletStep ",
          "ecalRecHit ",
          "seedTrackshighPtTripletStepSeeds ",
          "source ",
          "caloTowerForTrk ",
          "MeasurementTrackerEvent ",
          "TrackSplitMonitor ",
          "ak4CaloJetsForTrk ",
          "initialStepSelector ",
          "siPhase2Clusters ",
          "ecalDigis ",
          "highPtTripletStepSeedLayers ",
          "trackingDQMgoodOfflinePrimaryVertices ",
          "cutsRecoTracksHp ",
          "highPtTripletStepSelector ",
          "hcalDigis ",
          "cutsRecoTracksInitialStepByOriginalAlgoHp ",
          "cutsRecoTracksInitialStep ",
          "cutsRecoTracksInitialStepByAlgoMask ",
          "cutsRecoTracksBtvLike ",
          "cutsRecoTracksInitialStepHp ",
          "generalTracksPt09 ",
          "cutsRecoTracksInitialStepByOriginalAlgo ",
          "trackWithVertexRefSelectorBeforeSorting ",
          "cutsRecoTracksInitialStepByAlgoMaskHp ",
          "generalTracksFromPV ",
          "trackRefsForJetsBeforeSorting ",
          "hfprereco ",
          "highPurityPtRange0to1 ",
          "initialStepTrackRefsForJets ",
          "cutsRecoTracksPt09Hp ",
          "highPurityPV0p1 ",
          "cutsRecoTracksHighPtTripletStep ",
          "initialStepSeedLayers ",
          "cutsRecoTracksHighPtTripletStepByOriginalAlgo ",
          "cutsRecoTracksHighPtTripletStepByOriginalAlgoHp ",
          "cutsRecoTracksHighPtTripletStepByAlgoMask ",
          "cutsRecoTracksPt09InitialStep ",
          "hfreco ",
          "highPtTripletStepClusters ",
          "cutsRecoTracksPt09InitialStepHp "
         ],
         "marker": {
          "line": {
           "color": "#000000",
           "width": 0.2
          }
         },
         "sort": true,
         "textposition": "none",
         "type": "pie",
         "values": [
          13.45,
          40.09,
          38.8,
          16.36,
          22.03,
          25.47,
          7.61,
          17.44,
          15.79,
          37.41,
          285.75,
          2.44,
          0.34,
          24.52,
          5.73,
          28.36,
          0.88,
          13.87,
          5.3,
          9.96,
          183.94,
          59.13,
          6.11,
          3.25,
          12.23,
          2.96,
          13.23,
          2.97,
          14.22,
          11.82,
          2.91,
          2.35,
          1.29,
          2.54,
          0.28,
          11.57,
          0.29,
          32.44,
          1.92,
          0.85,
          0.28,
          24.38,
          20.25,
          0.81,
          0.83,
          41.21,
          0.36,
          21.32,
          8.27,
          10.29,
          10.25,
          6.99,
          0.32,
          0.41,
          3.44,
          0.25,
          0.25,
          0.25,
          0.25,
          3.32,
          0.25,
          0.25,
          0.25,
          0.25,
          0.25,
          0.25,
          0.25,
          0.26,
          0.25,
          0.25,
          0.25,
          2.25,
          0.25,
          0.29,
          0.25,
          0.25,
          0.25,
          10.25,
          0.25,
          0.25,
          0.25,
          0.25,
          0.78,
          0.26,
          0.25
         ]
        },
        {
         "direction": "clockwise",
         "domain": {
          "x": [
           0.1,
           0.9
          ],
          "y": [
           0.05,
           0.9
          ]
         },
         "hole": 0.75,
         "labels": [
          "unsortedOfflinePrimaryVertices ",
          "trackValidatorTrackingOnly ",
          "TrackerCollisionSelectedTrackMonCommongeneralTracks ",
          "trackValidatorSeedingTrackingOnly ",
          "highPtTripletStepTrackCandidates ",
          "firstStepPrimaryVerticesUnsorted ",
          "tpClusterProducer ",
          "trackValidatorAllTPEfficStandalone ",
          "TrackerCollisionSelectedTrackMonCommonhighPurityPtRange0to1 ",
          "initialStepTracks ",
          "trackingParticlesBHadron ",
          "initialStepHitQuadruplets ",
          "highPtTripletStepHitTriplets ",
          "TrackerCollisionSelectedTrackMonCommonhighPurityPt1 ",
          "trackValidatorBuilding ",
          "initialStepSeeds ",
          "generalTracks ",
          "trackingParticlesSignal ",
          "highPtTripletStepTracks ",
          "trackValidatorTPPtLess09Standalone ",
          "hbhereco ",
          "ecalMultiFitUncalibRecHit ",
          "primaryVertexResolution ",
          "seedTracksinitialStepSeeds ",
          "trackValidatorFromPVAllTPStandalone ",
          "simHitTPAssocProducer ",
          "siPixelClustersPreSplitting ",
          "siPixelClusters ",
          "trackingParticleRecoTrackAsssociation ",
          "trackingParticleNumberOfLayersProducer ",
          "vertexAnalysisTrackingOnly ",
          "initialStepHitDoublets ",
          "highPtTripletStepHitDoublets ",
          "TrackSeedMoninitialStep ",
          "offlinePrimaryVertices ",
          "siPixelRecHits ",
          "offlinePrimaryVerticesWithBS ",
          "TrackerCollisionSelectedTrackMonCommonhighPurityPV0p1 ",
          "trackValidatorBHadronTrackingOnly ",
          "highPtTripletStepSeeds ",
          "firstStepPrimaryVertices ",
          "trackValidatorFromPVStandalone ",
          "offlineBeamSpot ",
          "siPixelClusterShapeCache ",
          "TrackSeedMonhighPtTripletStep ",
          "ecalRecHit ",
          "seedTrackshighPtTripletStepSeeds ",
          "source ",
          "caloTowerForTrk ",
          "MeasurementTrackerEvent ",
          "TrackSplitMonitor ",
          "ak4CaloJetsForTrk ",
          "initialStepSelector ",
          "siPhase2Clusters ",
          "ecalDigis ",
          "highPtTripletStepSeedLayers ",
          "trackingDQMgoodOfflinePrimaryVertices ",
          "cutsRecoTracksHp ",
          "highPtTripletStepSelector ",
          "hcalDigis ",
          "cutsRecoTracksInitialStepByOriginalAlgoHp ",
          "cutsRecoTracksInitialStep ",
          "cutsRecoTracksInitialStepByAlgoMask ",
          "cutsRecoTracksBtvLike ",
          "cutsRecoTracksInitialStepHp ",
          "generalTracksPt09 ",
          "cutsRecoTracksInitialStepByOriginalAlgo ",
          "trackWithVertexRefSelectorBeforeSorting ",
          "cutsRecoTracksInitialStepByAlgoMaskHp ",
          "generalTracksFromPV ",
          "trackRefsForJetsBeforeSorting ",
          "hfprereco ",
          "highPurityPtRange0to1 ",
          "initialStepTrackRefsForJets ",
          "cutsRecoTracksPt09Hp ",
          "highPurityPV0p1 ",
          "cutsRecoTracksHighPtTripletStep ",
          "initialStepSeedLayers ",
          "cutsRecoTracksHighPtTripletStepByOriginalAlgo ",
          "cutsRecoTracksHighPtTripletStepByOriginalAlgoHp ",
          "cutsRecoTracksHighPtTripletStepByAlgoMask ",
          "cutsRecoTracksPt09InitialStep ",
          "hfreco ",
          "highPtTripletStepClusters ",
          "cutsRecoTracksPt09InitialStepHp ",
          "PV0p1 ",
          "cutsRecoTracksHighPtTripletStepByAlgoMaskHp ",
          "cutsRecoTracksHighPtTripletStepHp ",
          "pvMonitor ",
          "selectedOfflinePrimaryVertices ",
          "highPurityPt1 ",
          "cutsRecoTracksPt09HighPtTripletStep ",
          "cutsRecoTracksPt09HighPtTripletStepHp ",
          "selectedOfflinePrimaryVerticesWithBS ",
          "MC_Dqmoffline_v2 "
         ],
         "marker": {
          "line": {
           "color": "#000000",
           "width": 0.2
          }
         },
         "sort": true,
         "textposition": "none",
         "type": "pie",
         "values": [
          13.45,
          40.09,
          38.8,
          16.36,
          22.03,
          25.47,
          7.61,
          17.44,
          15.79,
          37.41,
          285.75,
          2.44,
          0.34,
          24.52,
          5.73,
          28.36,
          0.88,
          13.87,
          5.3,
          9.96,
          183.94,
          59.13,
          6.11,
          3.25,
          12.23,
          2.96,
          13.23,
          2.97,
          14.22,
          11.82,
          2.91,
          2.35,
          1.29,
          2.54,
          0.28,
          11.57,
          0.29,
          32.44,
          1.92,
          0.85,
          0.28,
          24.38,
          20.25,
          0.81,
          0.83,
          41.21,
          0.36,
          21.32,
          8.27,
          10.29,
          10.25,
          6.99,
          0.32,
          0.41,
          3.44,
          0.25,
          0.25,
          0.25,
          0.25,
          3.32,
          0.25,
          0.25,
          0.25,
          0.25,
          0.25,
          0.25,
          0.25,
          0.26,
          0.25,
          0.25,
          0.25,
          2.25,
          0.25,
          0.29,
          0.25,
          0.25,
          0.25,
          10.25,
          0.25,
          0.25,
          0.25,
          0.25,
          0.78,
          0.26,
          0.25,
          0.25,
          0.25,
          0.25,
          0.26,
          0.25,
          0.25,
          0.25,
          0.25,
          0.25,
          0.25
         ]
        },
        {
         "direction": "clockwise",
         "domain": {
          "x": [
           0.1,
           0.9
          ],
          "y": [
           0.05,
           0.9
          ]
         },
         "hole": 0.75,
         "labels": [
          "unsortedOfflinePrimaryVertices ",
          "trackValidatorTrackingOnly ",
          "TrackerCollisionSelectedTrackMonCommongeneralTracks ",
          "trackValidatorSeedingTrackingOnly ",
          "highPtTripletStepTrackCandidates ",
          "firstStepPrimaryVerticesUnsorted ",
          "tpClusterProducer ",
          "trackValidatorAllTPEfficStandalone ",
          "TrackerCollisionSelectedTrackMonCommonhighPurityPtRange0to1 ",
          "initialStepTracks ",
          "trackingParticlesBHadron ",
          "initialStepHitQuadruplets ",
          "highPtTripletStepHitTriplets ",
          "TrackerCollisionSelectedTrackMonCommonhighPurityPt1 ",
          "trackValidatorBuilding ",
          "initialStepSeeds ",
          "generalTracks ",
          "trackingParticlesSignal ",
          "highPtTripletStepTracks ",
          "trackValidatorTPPtLess09Standalone ",
          "hbhereco ",
          "ecalMultiFitUncalibRecHit ",
          "primaryVertexResolution ",
          "seedTracksinitialStepSeeds ",
          "trackValidatorFromPVAllTPStandalone ",
          "simHitTPAssocProducer ",
          "siPixelClustersPreSplitting ",
          "siPixelClusters ",
          "trackingParticleRecoTrackAsssociation ",
          "trackingParticleNumberOfLayersProducer ",
          "vertexAnalysisTrackingOnly ",
          "initialStepHitDoublets ",
          "highPtTripletStepHitDoublets ",
          "TrackSeedMoninitialStep ",
          "offlinePrimaryVertices ",
          "siPixelRecHits ",
          "offlinePrimaryVerticesWithBS ",
          "TrackerCollisionSelectedTrackMonCommonhighPurityPV0p1 ",
          "trackValidatorBHadronTrackingOnly ",
          "highPtTripletStepSeeds ",
          "firstStepPrimaryVertices ",
          "trackValidatorFromPVStandalone ",
          "offlineBeamSpot ",
          "siPixelClusterShapeCache ",
          "TrackSeedMonhighPtTripletStep ",
          "ecalRecHit ",
          "seedTrackshighPtTripletStepSeeds ",
          "source ",
          "caloTowerForTrk ",
          "MeasurementTrackerEvent ",
          "TrackSplitMonitor ",
          "ak4CaloJetsForTrk ",
          "initialStepSelector ",
          "siPhase2Clusters ",
          "ecalDigis ",
          "highPtTripletStepSeedLayers ",
          "trackingDQMgoodOfflinePrimaryVertices ",
          "cutsRecoTracksHp ",
          "highPtTripletStepSelector ",
          "hcalDigis ",
          "cutsRecoTracksInitialStepByOriginalAlgoHp ",
          "cutsRecoTracksInitialStep ",
          "cutsRecoTracksInitialStepByAlgoMask ",
          "cutsRecoTracksBtvLike ",
          "cutsRecoTracksInitialStepHp ",
          "generalTracksPt09 ",
          "cutsRecoTracksInitialStepByOriginalAlgo ",
          "trackWithVertexRefSelectorBeforeSorting ",
          "cutsRecoTracksInitialStepByAlgoMaskHp ",
          "generalTracksFromPV ",
          "trackRefsForJetsBeforeSorting ",
          "hfprereco ",
          "highPurityPtRange0to1 ",
          "initialStepTrackRefsForJets ",
          "cutsRecoTracksPt09Hp ",
          "highPurityPV0p1 ",
          "cutsRecoTracksHighPtTripletStep ",
          "initialStepSeedLayers ",
          "cutsRecoTracksHighPtTripletStepByOriginalAlgo ",
          "cutsRecoTracksHighPtTripletStepByOriginalAlgoHp ",
          "cutsRecoTracksHighPtTripletStepByAlgoMask ",
          "cutsRecoTracksPt09InitialStep ",
          "hfreco ",
          "highPtTripletStepClusters ",
          "cutsRecoTracksPt09InitialStepHp ",
          "PV0p1 ",
          "cutsRecoTracksHighPtTripletStepByAlgoMaskHp ",
          "cutsRecoTracksHighPtTripletStepHp ",
          "pvMonitor ",
          "selectedOfflinePrimaryVertices ",
          "highPurityPt1 ",
          "cutsRecoTracksPt09HighPtTripletStep ",
          "cutsRecoTracksPt09HighPtTripletStepHp ",
          "selectedOfflinePrimaryVerticesWithBS ",
          "MC_Dqmoffline_v2 ",
          "initialStepTrackingRegions ",
          "horeco ",
          "TrackMon_ckf ",
          "VertexAssociatorByPositionAndTracks ",
          "ecalDetIdToBeRecovered ",
          "generalTracksFromPVPt09 ",
          "quickTrackAssociatorByHits ",
          "trackerClusterCheck ",
          "DQMoutput ",
          "DQMoutput_step "
         ],
         "marker": {
          "line": {
           "color": "#000000",
           "width": 0.2
          }
         },
         "sort": true,
         "textposition": "none",
         "type": "pie",
         "values": [
          13.45,
          40.09,
          38.8,
          16.36,
          22.03,
          25.47,
          7.61,
          17.44,
          15.79,
          37.41,
          285.75,
          2.44,
          0.34,
          24.52,
          5.73,
          28.36,
          0.88,
          13.87,
          5.3,
          9.96,
          183.94,
          59.13,
          6.11,
          3.25,
          12.23,
          2.96,
          13.23,
          2.97,
          14.22,
          11.82,
          2.91,
          2.35,
          1.29,
          2.54,
          0.28,
          11.57,
          0.29,
          32.44,
          1.92,
          0.85,
          0.28,
          24.38,
          20.25,
          0.81,
          0.83,
          41.21,
          0.36,
          21.32,
          8.27,
          10.29,
          10.25,
          6.99,
          0.32,
          0.41,
          3.44,
          0.25,
          0.25,
          0.25,
          0.25,
          3.32,
          0.25,
          0.25,
          0.25,
          0.25,
          0.25,
          0.25,
          0.25,
          0.26,
          0.25,
          0.25,
          0.25,
          2.25,
          0.25,
          0.29,
          0.25,
          0.25,
          0.25,
          10.25,
          0.25,
          0.25,
          0.25,
          0.25,
          0.78,
          0.26,
          0.25,
          0.25,
          0.25,
          0.25,
          0.26,
          0.25,
          0.25,
          0.25,
          0.25,
          0.25,
          0.25,
          0.31,
          0.27,
          0.27,
          0.25,
          0.26,
          0.25,
          0.26,
          0.26,
          0.25,
          0.25
         ]
        },
        {
         "direction": "clockwise",
         "domain": {
          "x": [
           0.1,
           0.9
          ],
          "y": [
           0.05,
           0.9
          ]
         },
         "hole": 0.75,
         "labels": [
          "unsortedOfflinePrimaryVertices ",
          "trackValidatorTrackingOnly ",
          "TrackerCollisionSelectedTrackMonCommongeneralTracks ",
          "trackValidatorSeedingTrackingOnly ",
          "highPtTripletStepTrackCandidates ",
          "firstStepPrimaryVerticesUnsorted ",
          "tpClusterProducer ",
          "trackValidatorAllTPEfficStandalone ",
          "TrackerCollisionSelectedTrackMonCommonhighPurityPtRange0to1 ",
          "initialStepTracks ",
          "trackingParticlesBHadron ",
          "initialStepHitQuadruplets ",
          "highPtTripletStepHitTriplets ",
          "TrackerCollisionSelectedTrackMonCommonhighPurityPt1 ",
          "trackValidatorBuilding ",
          "initialStepSeeds ",
          "generalTracks ",
          "trackingParticlesSignal ",
          "highPtTripletStepTracks ",
          "trackValidatorTPPtLess09Standalone ",
          "hbhereco ",
          "ecalMultiFitUncalibRecHit ",
          "primaryVertexResolution ",
          "seedTracksinitialStepSeeds ",
          "trackValidatorFromPVAllTPStandalone ",
          "simHitTPAssocProducer ",
          "siPixelClustersPreSplitting ",
          "siPixelClusters ",
          "trackingParticleRecoTrackAsssociation ",
          "trackingParticleNumberOfLayersProducer ",
          "vertexAnalysisTrackingOnly ",
          "initialStepHitDoublets ",
          "highPtTripletStepHitDoublets ",
          "TrackSeedMoninitialStep ",
          "offlinePrimaryVertices ",
          "siPixelRecHits ",
          "offlinePrimaryVerticesWithBS ",
          "TrackerCollisionSelectedTrackMonCommonhighPurityPV0p1 ",
          "trackValidatorBHadronTrackingOnly ",
          "highPtTripletStepSeeds ",
          "firstStepPrimaryVertices ",
          "trackValidatorFromPVStandalone ",
          "offlineBeamSpot ",
          "siPixelClusterShapeCache ",
          "TrackSeedMonhighPtTripletStep ",
          "ecalRecHit ",
          "seedTrackshighPtTripletStepSeeds ",
          "source ",
          "caloTowerForTrk ",
          "MeasurementTrackerEvent ",
          "TrackSplitMonitor ",
          "ak4CaloJetsForTrk ",
          "initialStepSelector ",
          "siPhase2Clusters ",
          "ecalDigis ",
          "highPtTripletStepSeedLayers ",
          "trackingDQMgoodOfflinePrimaryVertices ",
          "cutsRecoTracksHp ",
          "highPtTripletStepSelector ",
          "hcalDigis ",
          "cutsRecoTracksInitialStepByOriginalAlgoHp ",
          "cutsRecoTracksInitialStep ",
          "cutsRecoTracksInitialStepByAlgoMask ",
          "cutsRecoTracksBtvLike ",
          "cutsRecoTracksInitialStepHp ",
          "generalTracksPt09 ",
          "cutsRecoTracksInitialStepByOriginalAlgo ",
          "trackWithVertexRefSelectorBeforeSorting ",
          "cutsRecoTracksInitialStepByAlgoMaskHp ",
          "generalTracksFromPV ",
          "trackRefsForJetsBeforeSorting ",
          "hfprereco ",
          "highPurityPtRange0to1 ",
          "initialStepTrackRefsForJets ",
          "cutsRecoTracksPt09Hp ",
          "highPurityPV0p1 ",
          "cutsRecoTracksHighPtTripletStep ",
          "initialStepSeedLayers ",
          "cutsRecoTracksHighPtTripletStepByOriginalAlgo ",
          "cutsRecoTracksHighPtTripletStepByOriginalAlgoHp ",
          "cutsRecoTracksHighPtTripletStepByAlgoMask ",
          "cutsRecoTracksPt09InitialStep ",
          "hfreco ",
          "highPtTripletStepClusters ",
          "cutsRecoTracksPt09InitialStepHp ",
          "PV0p1 ",
          "cutsRecoTracksHighPtTripletStepByAlgoMaskHp ",
          "cutsRecoTracksHighPtTripletStepHp ",
          "pvMonitor ",
          "selectedOfflinePrimaryVertices ",
          "highPurityPt1 ",
          "cutsRecoTracksPt09HighPtTripletStep ",
          "cutsRecoTracksPt09HighPtTripletStepHp ",
          "selectedOfflinePrimaryVerticesWithBS ",
          "MC_Dqmoffline_v2 ",
          "initialStepTrackingRegions ",
          "horeco ",
          "TrackMon_ckf ",
          "VertexAssociatorByPositionAndTracks ",
          "ecalDetIdToBeRecovered ",
          "generalTracksFromPVPt09 ",
          "quickTrackAssociatorByHits ",
          "trackerClusterCheck ",
          "DQMoutput ",
          "DQMoutput_step ",
          "MC_Tracking_v2 ",
          "MC_prevalidation_v2 ",
          "MC_validation_v2 ",
          "TriggerResults ",
          "bunchSpacingProducer ",
          "cutsRecoTracksFromPVHighPtTripletStep ",
          "cutsRecoTracksFromPVHighPtTripletStepHp ",
          "cutsRecoTracksFromPVHp ",
          "cutsRecoTracksFromPVInitialStep ",
          "cutsRecoTracksFromPVInitialStepHp "
         ],
         "marker": {
          "line": {
           "color": "#000000",
           "width": 0.2
          }
         },
         "sort": true,
         "textposition": "none",
         "type": "pie",
         "values": [
          13.45,
          40.09,
          38.8,
          16.36,
          22.03,
          25.47,
          7.61,
          17.44,
          15.79,
          37.41,
          285.75,
          2.44,
          0.34,
          24.52,
          5.73,
          28.36,
          0.88,
          13.87,
          5.3,
          9.96,
          183.94,
          59.13,
          6.11,
          3.25,
          12.23,
          2.96,
          13.23,
          2.97,
          14.22,
          11.82,
          2.91,
          2.35,
          1.29,
          2.54,
          0.28,
          11.57,
          0.29,
          32.44,
          1.92,
          0.85,
          0.28,
          24.38,
          20.25,
          0.81,
          0.83,
          41.21,
          0.36,
          21.32,
          8.27,
          10.29,
          10.25,
          6.99,
          0.32,
          0.41,
          3.44,
          0.25,
          0.25,
          0.25,
          0.25,
          3.32,
          0.25,
          0.25,
          0.25,
          0.25,
          0.25,
          0.25,
          0.25,
          0.26,
          0.25,
          0.25,
          0.25,
          2.25,
          0.25,
          0.29,
          0.25,
          0.25,
          0.25,
          10.25,
          0.25,
          0.25,
          0.25,
          0.25,
          0.78,
          0.26,
          0.25,
          0.25,
          0.25,
          0.25,
          0.26,
          0.25,
          0.25,
          0.25,
          0.25,
          0.25,
          0.25,
          0.31,
          0.27,
          0.27,
          0.25,
          0.26,
          0.25,
          0.26,
          0.26,
          0.25,
          0.25,
          0.25,
          0.25,
          0.25,
          0.25,
          0.25,
          0.25,
          0.25,
          0.25,
          0.25,
          0.25
         ]
        },
        {
         "direction": "clockwise",
         "domain": {
          "x": [
           0.1,
           0.9
          ],
          "y": [
           0.05,
           0.9
          ]
         },
         "hole": 0.75,
         "labels": [
          "unsortedOfflinePrimaryVertices ",
          "trackValidatorTrackingOnly ",
          "TrackerCollisionSelectedTrackMonCommongeneralTracks ",
          "trackValidatorSeedingTrackingOnly ",
          "highPtTripletStepTrackCandidates ",
          "firstStepPrimaryVerticesUnsorted ",
          "tpClusterProducer ",
          "trackValidatorAllTPEfficStandalone ",
          "TrackerCollisionSelectedTrackMonCommonhighPurityPtRange0to1 ",
          "initialStepTracks ",
          "trackingParticlesBHadron ",
          "initialStepHitQuadruplets ",
          "highPtTripletStepHitTriplets ",
          "TrackerCollisionSelectedTrackMonCommonhighPurityPt1 ",
          "trackValidatorBuilding ",
          "initialStepSeeds ",
          "generalTracks ",
          "trackingParticlesSignal ",
          "highPtTripletStepTracks ",
          "trackValidatorTPPtLess09Standalone ",
          "hbhereco ",
          "ecalMultiFitUncalibRecHit ",
          "primaryVertexResolution ",
          "seedTracksinitialStepSeeds ",
          "trackValidatorFromPVAllTPStandalone ",
          "simHitTPAssocProducer ",
          "siPixelClustersPreSplitting ",
          "siPixelClusters ",
          "trackingParticleRecoTrackAsssociation ",
          "trackingParticleNumberOfLayersProducer ",
          "vertexAnalysisTrackingOnly ",
          "initialStepHitDoublets ",
          "highPtTripletStepHitDoublets ",
          "TrackSeedMoninitialStep ",
          "offlinePrimaryVertices ",
          "siPixelRecHits ",
          "offlinePrimaryVerticesWithBS ",
          "TrackerCollisionSelectedTrackMonCommonhighPurityPV0p1 ",
          "trackValidatorBHadronTrackingOnly ",
          "highPtTripletStepSeeds ",
          "firstStepPrimaryVertices ",
          "trackValidatorFromPVStandalone ",
          "offlineBeamSpot ",
          "siPixelClusterShapeCache ",
          "TrackSeedMonhighPtTripletStep ",
          "ecalRecHit ",
          "seedTrackshighPtTripletStepSeeds ",
          "source ",
          "caloTowerForTrk ",
          "MeasurementTrackerEvent ",
          "TrackSplitMonitor ",
          "ak4CaloJetsForTrk ",
          "initialStepSelector ",
          "siPhase2Clusters ",
          "ecalDigis ",
          "highPtTripletStepSeedLayers ",
          "trackingDQMgoodOfflinePrimaryVertices ",
          "cutsRecoTracksHp ",
          "highPtTripletStepSelector ",
          "hcalDigis ",
          "cutsRecoTracksInitialStepByOriginalAlgoHp ",
          "cutsRecoTracksInitialStep ",
          "cutsRecoTracksInitialStepByAlgoMask ",
          "cutsRecoTracksBtvLike ",
          "cutsRecoTracksInitialStepHp ",
          "generalTracksPt09 ",
          "cutsRecoTracksInitialStepByOriginalAlgo ",
          "trackWithVertexRefSelectorBeforeSorting ",
          "cutsRecoTracksInitialStepByAlgoMaskHp ",
          "generalTracksFromPV ",
          "trackRefsForJetsBeforeSorting ",
          "hfprereco ",
          "highPurityPtRange0to1 ",
          "initialStepTrackRefsForJets ",
          "cutsRecoTracksPt09Hp ",
          "highPurityPV0p1 ",
          "cutsRecoTracksHighPtTripletStep ",
          "initialStepSeedLayers ",
          "cutsRecoTracksHighPtTripletStepByOriginalAlgo ",
          "cutsRecoTracksHighPtTripletStepByOriginalAlgoHp ",
          "cutsRecoTracksHighPtTripletStepByAlgoMask ",
          "cutsRecoTracksPt09InitialStep ",
          "hfreco ",
          "highPtTripletStepClusters ",
          "cutsRecoTracksPt09InitialStepHp ",
          "PV0p1 ",
          "cutsRecoTracksHighPtTripletStepByAlgoMaskHp ",
          "cutsRecoTracksHighPtTripletStepHp ",
          "pvMonitor ",
          "selectedOfflinePrimaryVertices ",
          "highPurityPt1 ",
          "cutsRecoTracksPt09HighPtTripletStep ",
          "cutsRecoTracksPt09HighPtTripletStepHp ",
          "selectedOfflinePrimaryVerticesWithBS ",
          "MC_Dqmoffline_v2 ",
          "initialStepTrackingRegions ",
          "horeco ",
          "TrackMon_ckf ",
          "VertexAssociatorByPositionAndTracks ",
          "ecalDetIdToBeRecovered ",
          "generalTracksFromPVPt09 ",
          "quickTrackAssociatorByHits ",
          "trackerClusterCheck ",
          "DQMoutput ",
          "DQMoutput_step ",
          "MC_Tracking_v2 ",
          "MC_prevalidation_v2 ",
          "MC_validation_v2 ",
          "TriggerResults ",
          "bunchSpacingProducer ",
          "cutsRecoTracksFromPVHighPtTripletStep ",
          "cutsRecoTracksFromPVHighPtTripletStepHp ",
          "cutsRecoTracksFromPVHp ",
          "cutsRecoTracksFromPVInitialStep ",
          "cutsRecoTracksFromPVInitialStepHp ",
          "cutsRecoTracksFromPVPt09HighPtTripletStep ",
          "cutsRecoTracksFromPVPt09HighPtTripletStepHp ",
          "cutsRecoTracksFromPVPt09Hp ",
          "cutsRecoTracksFromPVPt09InitialStep ",
          "cutsRecoTracksFromPVPt09InitialStepHp ",
          "dqmInfoTracking ",
          "highPtTripletStepSeedClusterMask ",
          "highPtTripletStepTrackingRegions ",
          "inclusiveSecondaryVertices ",
          "inclusiveVertexFinder "
         ],
         "marker": {
          "line": {
           "color": "#000000",
           "width": 0.2
          }
         },
         "sort": true,
         "textposition": "none",
         "type": "pie",
         "values": [
          13.45,
          40.09,
          38.8,
          16.36,
          22.03,
          25.47,
          7.61,
          17.44,
          15.79,
          37.41,
          285.75,
          2.44,
          0.34,
          24.52,
          5.73,
          28.36,
          0.88,
          13.87,
          5.3,
          9.96,
          183.94,
          59.13,
          6.11,
          3.25,
          12.23,
          2.96,
          13.23,
          2.97,
          14.22,
          11.82,
          2.91,
          2.35,
          1.29,
          2.54,
          0.28,
          11.57,
          0.29,
          32.44,
          1.92,
          0.85,
          0.28,
          24.38,
          20.25,
          0.81,
          0.83,
          41.21,
          0.36,
          21.32,
          8.27,
          10.29,
          10.25,
          6.99,
          0.32,
          0.41,
          3.44,
          0.25,
          0.25,
          0.25,
          0.25,
          3.32,
          0.25,
          0.25,
          0.25,
          0.25,
          0.25,
          0.25,
          0.25,
          0.26,
          0.25,
          0.25,
          0.25,
          2.25,
          0.25,
          0.29,
          0.25,
          0.25,
          0.25,
          10.25,
          0.25,
          0.25,
          0.25,
          0.25,
          0.78,
          0.26,
          0.25,
          0.25,
          0.25,
          0.25,
          0.26,
          0.25,
          0.25,
          0.25,
          0.25,
          0.25,
          0.25,
          0.31,
          0.27,
          0.27,
          0.25,
          0.26,
          0.25,
          0.26,
          0.26,
          0.25,
          0.25,
          0.25,
          0.25,
          0.25,
          0.25,
          0.25,
          0.25,
          0.25,
          0.25,
          0.25,
          0.25,
          0.25,
          0.25,
          0.25,
          0.25,
          0.25,
          0.25,
          0.25,
          0.25,
          0.25,
          0.25
         ]
        },
        {
         "direction": "clockwise",
         "domain": {
          "x": [
           0.1,
           0.9
          ],
          "y": [
           0.05,
           0.9
          ]
         },
         "hole": 0.75,
         "labels": [
          "unsortedOfflinePrimaryVertices ",
          "trackValidatorTrackingOnly ",
          "TrackerCollisionSelectedTrackMonCommongeneralTracks ",
          "trackValidatorSeedingTrackingOnly ",
          "highPtTripletStepTrackCandidates ",
          "firstStepPrimaryVerticesUnsorted ",
          "tpClusterProducer ",
          "trackValidatorAllTPEfficStandalone ",
          "TrackerCollisionSelectedTrackMonCommonhighPurityPtRange0to1 ",
          "initialStepTracks ",
          "trackingParticlesBHadron ",
          "initialStepHitQuadruplets ",
          "highPtTripletStepHitTriplets ",
          "TrackerCollisionSelectedTrackMonCommonhighPurityPt1 ",
          "trackValidatorBuilding ",
          "initialStepSeeds ",
          "generalTracks ",
          "trackingParticlesSignal ",
          "highPtTripletStepTracks ",
          "trackValidatorTPPtLess09Standalone ",
          "hbhereco ",
          "ecalMultiFitUncalibRecHit ",
          "primaryVertexResolution ",
          "seedTracksinitialStepSeeds ",
          "trackValidatorFromPVAllTPStandalone ",
          "simHitTPAssocProducer ",
          "siPixelClustersPreSplitting ",
          "siPixelClusters ",
          "trackingParticleRecoTrackAsssociation ",
          "trackingParticleNumberOfLayersProducer ",
          "vertexAnalysisTrackingOnly ",
          "initialStepHitDoublets ",
          "highPtTripletStepHitDoublets ",
          "TrackSeedMoninitialStep ",
          "offlinePrimaryVertices ",
          "siPixelRecHits ",
          "offlinePrimaryVerticesWithBS ",
          "TrackerCollisionSelectedTrackMonCommonhighPurityPV0p1 ",
          "trackValidatorBHadronTrackingOnly ",
          "highPtTripletStepSeeds ",
          "firstStepPrimaryVertices ",
          "trackValidatorFromPVStandalone ",
          "offlineBeamSpot ",
          "siPixelClusterShapeCache ",
          "TrackSeedMonhighPtTripletStep ",
          "ecalRecHit ",
          "seedTrackshighPtTripletStepSeeds ",
          "source ",
          "caloTowerForTrk ",
          "MeasurementTrackerEvent ",
          "TrackSplitMonitor ",
          "ak4CaloJetsForTrk ",
          "initialStepSelector ",
          "siPhase2Clusters ",
          "ecalDigis ",
          "highPtTripletStepSeedLayers ",
          "trackingDQMgoodOfflinePrimaryVertices ",
          "cutsRecoTracksHp ",
          "highPtTripletStepSelector ",
          "hcalDigis ",
          "cutsRecoTracksInitialStepByOriginalAlgoHp ",
          "cutsRecoTracksInitialStep ",
          "cutsRecoTracksInitialStepByAlgoMask ",
          "cutsRecoTracksBtvLike ",
          "cutsRecoTracksInitialStepHp ",
          "generalTracksPt09 ",
          "cutsRecoTracksInitialStepByOriginalAlgo ",
          "trackWithVertexRefSelectorBeforeSorting ",
          "cutsRecoTracksInitialStepByAlgoMaskHp ",
          "generalTracksFromPV ",
          "trackRefsForJetsBeforeSorting ",
          "hfprereco ",
          "highPurityPtRange0to1 ",
          "initialStepTrackRefsForJets ",
          "cutsRecoTracksPt09Hp ",
          "highPurityPV0p1 ",
          "cutsRecoTracksHighPtTripletStep ",
          "initialStepSeedLayers ",
          "cutsRecoTracksHighPtTripletStepByOriginalAlgo ",
          "cutsRecoTracksHighPtTripletStepByOriginalAlgoHp ",
          "cutsRecoTracksHighPtTripletStepByAlgoMask ",
          "cutsRecoTracksPt09InitialStep ",
          "hfreco ",
          "highPtTripletStepClusters ",
          "cutsRecoTracksPt09InitialStepHp ",
          "PV0p1 ",
          "cutsRecoTracksHighPtTripletStepByAlgoMaskHp ",
          "cutsRecoTracksHighPtTripletStepHp ",
          "pvMonitor ",
          "selectedOfflinePrimaryVertices ",
          "highPurityPt1 ",
          "cutsRecoTracksPt09HighPtTripletStep ",
          "cutsRecoTracksPt09HighPtTripletStepHp ",
          "selectedOfflinePrimaryVerticesWithBS ",
          "MC_Dqmoffline_v2 ",
          "initialStepTrackingRegions ",
          "horeco ",
          "TrackMon_ckf ",
          "VertexAssociatorByPositionAndTracks ",
          "ecalDetIdToBeRecovered ",
          "generalTracksFromPVPt09 ",
          "quickTrackAssociatorByHits ",
          "trackerClusterCheck ",
          "DQMoutput ",
          "DQMoutput_step ",
          "MC_Tracking_v2 ",
          "MC_prevalidation_v2 ",
          "MC_validation_v2 ",
          "TriggerResults ",
          "bunchSpacingProducer ",
          "cutsRecoTracksFromPVHighPtTripletStep ",
          "cutsRecoTracksFromPVHighPtTripletStepHp ",
          "cutsRecoTracksFromPVHp ",
          "cutsRecoTracksFromPVInitialStep ",
          "cutsRecoTracksFromPVInitialStepHp ",
          "cutsRecoTracksFromPVPt09HighPtTripletStep ",
          "cutsRecoTracksFromPVPt09HighPtTripletStepHp ",
          "cutsRecoTracksFromPVPt09Hp ",
          "cutsRecoTracksFromPVPt09InitialStep ",
          "cutsRecoTracksFromPVPt09InitialStepHp ",
          "dqmInfoTracking ",
          "highPtTripletStepSeedClusterMask ",
          "highPtTripletStepTrackingRegions ",
          "inclusiveSecondaryVertices ",
          "inclusiveVertexFinder ",
          "initialStepSeedClusterMask ",
          "muonCSCDigis ",
          "muonDTDigis ",
          "muonGEMDigis ",
          "muonRPCDigis ",
          "muonRPCNewDigis ",
          "quickTrackAssociatorByHitsPreSplitting ",
          "raw2digi_step ",
          "scalersRawToDigi ",
          "siPixelRecHitsPreSplitting "
         ],
         "marker": {
          "line": {
           "color": "#000000",
           "width": 0.2
          }
         },
         "sort": true,
         "textposition": "none",
         "type": "pie",
         "values": [
          13.45,
          40.09,
          38.8,
          16.36,
          22.03,
          25.47,
          7.61,
          17.44,
          15.79,
          37.41,
          285.75,
          2.44,
          0.34,
          24.52,
          5.73,
          28.36,
          0.88,
          13.87,
          5.3,
          9.96,
          183.94,
          59.13,
          6.11,
          3.25,
          12.23,
          2.96,
          13.23,
          2.97,
          14.22,
          11.82,
          2.91,
          2.35,
          1.29,
          2.54,
          0.28,
          11.57,
          0.29,
          32.44,
          1.92,
          0.85,
          0.28,
          24.38,
          20.25,
          0.81,
          0.83,
          41.21,
          0.36,
          21.32,
          8.27,
          10.29,
          10.25,
          6.99,
          0.32,
          0.41,
          3.44,
          0.25,
          0.25,
          0.25,
          0.25,
          3.32,
          0.25,
          0.25,
          0.25,
          0.25,
          0.25,
          0.25,
          0.25,
          0.26,
          0.25,
          0.25,
          0.25,
          2.25,
          0.25,
          0.29,
          0.25,
          0.25,
          0.25,
          10.25,
          0.25,
          0.25,
          0.25,
          0.25,
          0.78,
          0.26,
          0.25,
          0.25,
          0.25,
          0.25,
          0.26,
          0.25,
          0.25,
          0.25,
          0.25,
          0.25,
          0.25,
          0.31,
          0.27,
          0.27,
          0.25,
          0.26,
          0.25,
          0.26,
          0.26,
          0.25,
          0.25,
          0.25,
          0.25,
          0.25,
          0.25,
          0.25,
          0.25,
          0.25,
          0.25,
          0.25,
          0.25,
          0.25,
          0.25,
          0.25,
          0.25,
          0.25,
          0.25,
          0.25,
          0.25,
          0.25,
          0.25,
          0.25,
          0.25,
          0.25,
          0.25,
          0.25,
          0.25,
          0.25,
          0.25,
          0.26,
          0.25
         ]
        },
        {
         "direction": "clockwise",
         "domain": {
          "x": [
           0.1,
           0.9
          ],
          "y": [
           0.05,
           0.9
          ]
         },
         "hole": 0.75,
         "labels": [
          "unsortedOfflinePrimaryVertices ",
          "trackValidatorTrackingOnly ",
          "TrackerCollisionSelectedTrackMonCommongeneralTracks ",
          "trackValidatorSeedingTrackingOnly ",
          "highPtTripletStepTrackCandidates ",
          "firstStepPrimaryVerticesUnsorted ",
          "tpClusterProducer ",
          "trackValidatorAllTPEfficStandalone ",
          "TrackerCollisionSelectedTrackMonCommonhighPurityPtRange0to1 ",
          "initialStepTracks ",
          "trackingParticlesBHadron ",
          "initialStepHitQuadruplets ",
          "highPtTripletStepHitTriplets ",
          "TrackerCollisionSelectedTrackMonCommonhighPurityPt1 ",
          "trackValidatorBuilding ",
          "initialStepSeeds ",
          "generalTracks ",
          "trackingParticlesSignal ",
          "highPtTripletStepTracks ",
          "trackValidatorTPPtLess09Standalone ",
          "hbhereco ",
          "ecalMultiFitUncalibRecHit ",
          "primaryVertexResolution ",
          "seedTracksinitialStepSeeds ",
          "trackValidatorFromPVAllTPStandalone ",
          "simHitTPAssocProducer ",
          "siPixelClustersPreSplitting ",
          "siPixelClusters ",
          "trackingParticleRecoTrackAsssociation ",
          "trackingParticleNumberOfLayersProducer ",
          "vertexAnalysisTrackingOnly ",
          "initialStepHitDoublets ",
          "highPtTripletStepHitDoublets ",
          "TrackSeedMoninitialStep ",
          "offlinePrimaryVertices ",
          "siPixelRecHits ",
          "offlinePrimaryVerticesWithBS ",
          "TrackerCollisionSelectedTrackMonCommonhighPurityPV0p1 ",
          "trackValidatorBHadronTrackingOnly ",
          "highPtTripletStepSeeds ",
          "firstStepPrimaryVertices ",
          "trackValidatorFromPVStandalone ",
          "offlineBeamSpot ",
          "siPixelClusterShapeCache ",
          "TrackSeedMonhighPtTripletStep ",
          "ecalRecHit ",
          "seedTrackshighPtTripletStepSeeds ",
          "source ",
          "caloTowerForTrk ",
          "TrackSplitMonitor ",
          "MeasurementTrackerEvent ",
          "ak4CaloJetsForTrk ",
          "initialStepSelector ",
          "siPhase2Clusters ",
          "ecalDigis ",
          "highPtTripletStepSeedLayers ",
          "trackingDQMgoodOfflinePrimaryVertices ",
          "cutsRecoTracksHp ",
          "highPtTripletStepSelector ",
          "hcalDigis ",
          "cutsRecoTracksInitialStepByOriginalAlgoHp ",
          "cutsRecoTracksInitialStep ",
          "cutsRecoTracksInitialStepByAlgoMask ",
          "cutsRecoTracksBtvLike ",
          "cutsRecoTracksInitialStepHp ",
          "generalTracksPt09 ",
          "cutsRecoTracksInitialStepByOriginalAlgo ",
          "trackWithVertexRefSelectorBeforeSorting ",
          "cutsRecoTracksInitialStepByAlgoMaskHp ",
          "generalTracksFromPV ",
          "trackRefsForJetsBeforeSorting ",
          "hfprereco ",
          "highPurityPtRange0to1 ",
          "initialStepTrackRefsForJets ",
          "cutsRecoTracksPt09Hp ",
          "highPurityPV0p1 ",
          "initialStepSeedLayers ",
          "cutsRecoTracksHighPtTripletStep ",
          "cutsRecoTracksHighPtTripletStepByOriginalAlgo ",
          "cutsRecoTracksHighPtTripletStepByOriginalAlgoHp ",
          "cutsRecoTracksPt09InitialStep ",
          "cutsRecoTracksHighPtTripletStepByAlgoMask ",
          "highPtTripletStepClusters ",
          "hfreco ",
          "cutsRecoTracksPt09InitialStepHp ",
          "PV0p1 ",
          "cutsRecoTracksHighPtTripletStepByAlgoMaskHp ",
          "cutsRecoTracksHighPtTripletStepHp ",
          "selectedOfflinePrimaryVertices ",
          "pvMonitor ",
          "highPurityPt1 ",
          "cutsRecoTracksPt09HighPtTripletStep ",
          "cutsRecoTracksPt09HighPtTripletStepHp ",
          "selectedOfflinePrimaryVerticesWithBS ",
          "MC_Dqmoffline_v2 ",
          "initialStepTrackingRegions ",
          "horeco ",
          "VertexAssociatorByPositionAndTracks ",
          "TrackMon_ckf ",
          "quickTrackAssociatorByHits ",
          "trackerClusterCheck ",
          "ecalDetIdToBeRecovered ",
          "generalTracksFromPVPt09 ",
          "quickTrackAssociatorByHitsPreSplitting ",
          "highPtTripletStepSeedClusterMask ",
          "trackValidatorSeedingPreSplittingTrackingOnly ",
          "TriggerResults ",
          "initialStepSeedClusterMask ",
          "inclusiveVertexFinder ",
          "trackVertexArbitrator ",
          "inclusiveSecondaryVertices ",
          "highPtTripletStepTrackingRegions ",
          "MC_validation_v2 ",
          "bunchSpacingProducer ",
          "MC_prevalidation_v2 ",
          "MC_Tracking_v2 ",
          "trackingParticlesConversion ",
          "trackingParticlesElectron ",
          "DQMoutput_step ",
          "v0Validator ",
          "DQMoutput ",
          "muonCSCDigis ",
          "trackValidatorBuildingPreSplitting ",
          "raw2digi_step ",
          "muonDTDigis ",
          "scalersRawToDigi ",
          "dqmInfoTracking ",
          "cutsRecoTracksFromPVPt09InitialStepHp ",
          "muonRPCNewDigis ",
          "muonRPCDigis ",
          "cutsRecoTracksFromPVPt09InitialStep ",
          "cutsRecoTracksFromPVPt09Hp ",
          "cutsRecoTracksFromPVPt09HighPtTripletStepHp ",
          "cutsRecoTracksFromPVPt09HighPtTripletStep ",
          "cutsRecoTracksFromPVInitialStepHp ",
          "siPixelRecHitsPreSplitting ",
          "cutsRecoTracksFromPVInitialStep ",
          "cutsRecoTracksFromPVHp ",
          "tpClusterProducerPreSplitting ",
          "muonGEMDigis ",
          "cutsRecoTracksFromPVHighPtTripletStepHp ",
          "cutsRecoTracksFromPVHighPtTripletStep ",
          "vertexMerger "
         ],
         "marker": {
          "line": {
           "color": "#000000",
           "width": 0.2
          }
         },
         "sort": true,
         "textposition": "none",
         "type": "pie",
         "values": [
          13.45,
          40.09,
          38.8,
          16.36,
          22.03,
          25.47,
          7.61,
          17.44,
          15.79,
          37.41,
          285.75,
          2.44,
          0.34,
          24.52,
          5.73,
          28.36,
          0.88,
          13.87,
          5.3,
          9.96,
          183.94,
          59.13,
          6.11,
          3.25,
          12.23,
          2.96,
          13.23,
          2.97,
          14.22,
          11.82,
          2.91,
          2.35,
          1.29,
          2.54,
          0.28,
          11.57,
          0.29,
          32.44,
          1.92,
          0.85,
          0.28,
          24.38,
          20.25,
          0.81,
          0.83,
          41.21,
          0.36,
          21.32,
          8.27,
          10.25,
          10.29,
          6.99,
          0.32,
          0.41,
          3.44,
          0.25,
          0.25,
          0.25,
          0.25,
          3.32,
          0.25,
          0.25,
          0.25,
          0.25,
          0.25,
          0.25,
          0.25,
          0.26,
          0.25,
          0.25,
          0.25,
          2.25,
          0.25,
          0.29,
          0.25,
          0.25,
          10.25,
          0.25,
          0.25,
          0.25,
          0.25,
          0.25,
          0.26,
          0.78,
          0.25,
          0.25,
          0.25,
          0.25,
          0.25,
          0.26,
          0.25,
          0.25,
          0.25,
          0.25,
          0.25,
          0.31,
          0.27,
          0.25,
          0.27,
          0.26,
          0.26,
          0.26,
          0.25,
          0.25,
          0.25,
          0.25,
          0.25,
          0.25,
          0.25,
          0.25,
          0.25,
          0.25,
          0.25,
          0.25,
          0.25,
          0.25,
          0.25,
          0.25,
          0.25,
          0.25,
          0.25,
          0.25,
          0.25,
          0.25,
          0.25,
          0.26,
          0.25,
          0.25,
          0.25,
          0.25,
          0.25,
          0.25,
          0.25,
          0.25,
          0.25,
          0.25,
          0.25,
          0.25,
          0.25,
          0.25,
          0.25,
          0.25,
          0.25
         ]
        },
        {
         "direction": "clockwise",
         "domain": {
          "x": [
           0.1,
           0.9
          ],
          "y": [
           0.05,
           0.9
          ]
         },
         "hole": 0.9,
         "labels": [],
         "marker": {
          "line": {
           "color": "#000000",
           "width": 0.2
          }
         },
         "sort": true,
         "textposition": "none",
         "type": "pie",
         "values": []
        },
        {
         "direction": "clockwise",
         "domain": {
          "x": [
           0.1,
           0.9
          ],
          "y": [
           0.05,
           0.9
          ]
         },
         "hole": 0.9,
         "labels": [
          "unsortedOfflinePrimaryVertices ",
          "trackingParticlesSignal ",
          "trackValidatorTrackingOnly ",
          "trackingParticlesBHadron ",
          "TrackerCollisionSelectedTrackMonCommongeneralTracks "
         ],
         "marker": {
          "line": {
           "color": "#000000",
           "width": 0.2
          }
         },
         "sort": true,
         "textposition": "none",
         "type": "pie",
         "values": [
          13.45,
          13.87,
          40.09,
          285.75,
          38.8
         ]
        },
        {
         "direction": "clockwise",
         "domain": {
          "x": [
           0.1,
           0.9
          ],
          "y": [
           0.05,
           0.9
          ]
         },
         "hole": 0.9,
         "labels": [
          "unsortedOfflinePrimaryVertices ",
          "trackingParticlesSignal ",
          "trackValidatorTrackingOnly ",
          "trackingParticlesBHadron ",
          "TrackerCollisionSelectedTrackMonCommongeneralTracks ",
          "trackingParticleRecoTrackAsssociation ",
          "trackValidatorSeedingTrackingOnly ",
          "highPtTripletStepTrackCandidates ",
          "firstStepPrimaryVerticesUnsorted ",
          "tpClusterProducer ",
          "trackValidatorAllTPEfficStandalone ",
          "TrackerCollisionSelectedTrackMonCommonhighPurityPtRange0to1 ",
          "initialStepTracks ",
          "highPtTripletStepHitTriplets ",
          "initialStepHitQuadruplets "
         ],
         "marker": {
          "line": {
           "color": "#000000",
           "width": 0.2
          }
         },
         "sort": true,
         "textposition": "none",
         "type": "pie",
         "values": [
          13.45,
          13.87,
          40.09,
          285.75,
          38.8,
          14.22,
          16.36,
          22.03,
          25.47,
          7.61,
          17.44,
          15.79,
          37.41,
          0.34,
          2.44
         ]
        },
        {
         "direction": "clockwise",
         "domain": {
          "x": [
           0.1,
           0.9
          ],
          "y": [
           0.05,
           0.9
          ]
         },
         "hole": 0.9,
         "labels": [
          "unsortedOfflinePrimaryVertices ",
          "trackingParticlesSignal ",
          "trackValidatorTrackingOnly ",
          "trackingParticlesBHadron ",
          "TrackerCollisionSelectedTrackMonCommongeneralTracks ",
          "trackingParticleRecoTrackAsssociation ",
          "trackValidatorSeedingTrackingOnly ",
          "highPtTripletStepTrackCandidates ",
          "firstStepPrimaryVerticesUnsorted ",
          "tpClusterProducer ",
          "trackValidatorAllTPEfficStandalone ",
          "TrackerCollisionSelectedTrackMonCommonhighPurityPtRange0to1 ",
          "initialStepTracks ",
          "highPtTripletStepHitTriplets ",
          "initialStepHitQuadruplets ",
          "trackingParticleNumberOfLayersProducer ",
          "generalTracks ",
          "TrackerCollisionSelectedTrackMonCommonhighPurityPt1 ",
          "trackValidatorBuilding ",
          "highPtTripletStepTracks ",
          "initialStepSeeds ",
          "source ",
          "trackValidatorTPPtLess09Standalone ",
          "ecalRecHit ",
          "ecalMultiFitUncalibRecHit "
         ],
         "marker": {
          "line": {
           "color": "#000000",
           "width": 0.2
          }
         },
         "sort": true,
         "textposition": "none",
         "type": "pie",
         "values": [
          13.45,
          13.87,
          40.09,
          285.75,
          38.8,
          14.22,
          16.36,
          22.03,
          25.47,
          7.61,
          17.44,
          15.79,
          37.41,
          0.34,
          2.44,
          11.82,
          0.88,
          24.52,
          5.73,
          5.3,
          28.36,
          21.32,
          9.96,
          41.21,
          59.13
         ]
        },
        {
         "direction": "clockwise",
         "domain": {
          "x": [
           0.1,
           0.9
          ],
          "y": [
           0.05,
           0.9
          ]
         },
         "hole": 0.9,
         "labels": [
          "unsortedOfflinePrimaryVertices ",
          "trackingParticlesSignal ",
          "trackValidatorTrackingOnly ",
          "trackingParticlesBHadron ",
          "TrackerCollisionSelectedTrackMonCommongeneralTracks ",
          "trackingParticleRecoTrackAsssociation ",
          "trackValidatorSeedingTrackingOnly ",
          "highPtTripletStepTrackCandidates ",
          "firstStepPrimaryVerticesUnsorted ",
          "tpClusterProducer ",
          "trackValidatorAllTPEfficStandalone ",
          "TrackerCollisionSelectedTrackMonCommonhighPurityPtRange0to1 ",
          "initialStepTracks ",
          "highPtTripletStepHitTriplets ",
          "initialStepHitQuadruplets ",
          "trackingParticleNumberOfLayersProducer ",
          "generalTracks ",
          "TrackerCollisionSelectedTrackMonCommonhighPurityPt1 ",
          "trackValidatorBuilding ",
          "highPtTripletStepTracks ",
          "initialStepSeeds ",
          "source ",
          "trackValidatorTPPtLess09Standalone ",
          "ecalRecHit ",
          "ecalMultiFitUncalibRecHit ",
          "offlineBeamSpot ",
          "primaryVertexResolution ",
          "simHitTPAssocProducer ",
          "TrackSplitMonitor ",
          "seedTracksinitialStepSeeds ",
          "trackValidatorFromPVAllTPStandalone ",
          "hbhereco ",
          "siPixelClustersPreSplitting ",
          "siPixelClusters ",
          "offlinePrimaryVertices "
         ],
         "marker": {
          "line": {
           "color": "#000000",
           "width": 0.2
          }
         },
         "sort": true,
         "textposition": "none",
         "type": "pie",
         "values": [
          13.45,
          13.87,
          40.09,
          285.75,
          38.8,
          14.22,
          16.36,
          22.03,
          25.47,
          7.61,
          17.44,
          15.79,
          37.41,
          0.34,
          2.44,
          11.82,
          0.88,
          24.52,
          5.73,
          5.3,
          28.36,
          21.32,
          9.96,
          41.21,
          59.13,
          20.25,
          6.11,
          2.96,
          10.25,
          3.25,
          12.23,
          183.94,
          13.23,
          2.97,
          0.28
         ]
        },
        {
         "direction": "clockwise",
         "domain": {
          "x": [
           0.1,
           0.9
          ],
          "y": [
           0.05,
           0.9
          ]
         },
         "hole": 0.9,
         "labels": [
          "unsortedOfflinePrimaryVertices ",
          "trackingParticlesSignal ",
          "trackValidatorTrackingOnly ",
          "trackingParticlesBHadron ",
          "TrackerCollisionSelectedTrackMonCommongeneralTracks ",
          "trackingParticleRecoTrackAsssociation ",
          "trackValidatorSeedingTrackingOnly ",
          "highPtTripletStepTrackCandidates ",
          "firstStepPrimaryVerticesUnsorted ",
          "tpClusterProducer ",
          "trackValidatorAllTPEfficStandalone ",
          "TrackerCollisionSelectedTrackMonCommonhighPurityPtRange0to1 ",
          "initialStepTracks ",
          "highPtTripletStepHitTriplets ",
          "initialStepHitQuadruplets ",
          "trackingParticleNumberOfLayersProducer ",
          "generalTracks ",
          "TrackerCollisionSelectedTrackMonCommonhighPurityPt1 ",
          "trackValidatorBuilding ",
          "highPtTripletStepTracks ",
          "initialStepSeeds ",
          "source ",
          "trackValidatorTPPtLess09Standalone ",
          "ecalRecHit ",
          "ecalMultiFitUncalibRecHit ",
          "offlineBeamSpot ",
          "primaryVertexResolution ",
          "simHitTPAssocProducer ",
          "TrackSplitMonitor ",
          "seedTracksinitialStepSeeds ",
          "trackValidatorFromPVAllTPStandalone ",
          "hbhereco ",
          "siPixelClustersPreSplitting ",
          "siPixelClusters ",
          "offlinePrimaryVertices ",
          "highPtTripletStepHitDoublets ",
          "initialStepHitDoublets ",
          "offlinePrimaryVerticesWithBS ",
          "vertexAnalysisTrackingOnly ",
          "siPixelRecHits ",
          "TrackSeedMoninitialStep ",
          "firstStepPrimaryVertices ",
          "highPtTripletStepSeeds ",
          "trackValidatorBHadronTrackingOnly ",
          "TrackerCollisionSelectedTrackMonCommonhighPurityPV0p1 "
         ],
         "marker": {
          "line": {
           "color": "#000000",
           "width": 0.2
          }
         },
         "sort": true,
         "textposition": "none",
         "type": "pie",
         "values": [
          13.45,
          13.87,
          40.09,
          285.75,
          38.8,
          14.22,
          16.36,
          22.03,
          25.47,
          7.61,
          17.44,
          15.79,
          37.41,
          0.34,
          2.44,
          11.82,
          0.88,
          24.52,
          5.73,
          5.3,
          28.36,
          21.32,
          9.96,
          41.21,
          59.13,
          20.25,
          6.11,
          2.96,
          10.25,
          3.25,
          12.23,
          183.94,
          13.23,
          2.97,
          0.28,
          1.29,
          2.35,
          0.29,
          2.91,
          11.57,
          2.54,
          0.28,
          0.85,
          1.92,
          32.44
         ]
        },
        {
         "direction": "clockwise",
         "domain": {
          "x": [
           0.1,
           0.9
          ],
          "y": [
           0.05,
           0.9
          ]
         },
         "hole": 0.9,
         "labels": [
          "unsortedOfflinePrimaryVertices ",
          "trackingParticlesSignal ",
          "trackValidatorTrackingOnly ",
          "trackingParticlesBHadron ",
          "TrackerCollisionSelectedTrackMonCommongeneralTracks ",
          "trackingParticleRecoTrackAsssociation ",
          "trackValidatorSeedingTrackingOnly ",
          "highPtTripletStepTrackCandidates ",
          "firstStepPrimaryVerticesUnsorted ",
          "tpClusterProducer ",
          "trackValidatorAllTPEfficStandalone ",
          "TrackerCollisionSelectedTrackMonCommonhighPurityPtRange0to1 ",
          "initialStepTracks ",
          "highPtTripletStepHitTriplets ",
          "initialStepHitQuadruplets ",
          "trackingParticleNumberOfLayersProducer ",
          "generalTracks ",
          "TrackerCollisionSelectedTrackMonCommonhighPurityPt1 ",
          "trackValidatorBuilding ",
          "highPtTripletStepTracks ",
          "initialStepSeeds ",
          "source ",
          "trackValidatorTPPtLess09Standalone ",
          "ecalRecHit ",
          "ecalMultiFitUncalibRecHit ",
          "offlineBeamSpot ",
          "primaryVertexResolution ",
          "simHitTPAssocProducer ",
          "TrackSplitMonitor ",
          "seedTracksinitialStepSeeds ",
          "trackValidatorFromPVAllTPStandalone ",
          "hbhereco ",
          "siPixelClustersPreSplitting ",
          "siPixelClusters ",
          "offlinePrimaryVertices ",
          "highPtTripletStepHitDoublets ",
          "initialStepHitDoublets ",
          "offlinePrimaryVerticesWithBS ",
          "vertexAnalysisTrackingOnly ",
          "siPixelRecHits ",
          "TrackSeedMoninitialStep ",
          "firstStepPrimaryVertices ",
          "highPtTripletStepSeeds ",
          "trackValidatorBHadronTrackingOnly ",
          "TrackerCollisionSelectedTrackMonCommonhighPurityPV0p1 ",
          "seedTrackshighPtTripletStepSeeds ",
          "TrackSeedMonhighPtTripletStep ",
          "trackValidatorFromPVStandalone ",
          "siPixelClusterShapeCache ",
          "MeasurementTrackerEvent ",
          "initialStepSeedLayers ",
          "initialStepSelector ",
          "caloTowerForTrk ",
          "ak4CaloJetsForTrk ",
          "siPhase2Clusters "
         ],
         "marker": {
          "line": {
           "color": "#000000",
           "width": 0.2
          }
         },
         "sort": true,
         "textposition": "none",
         "type": "pie",
         "values": [
          13.45,
          13.87,
          40.09,
          285.75,
          38.8,
          14.22,
          16.36,
          22.03,
          25.47,
          7.61,
          17.44,
          15.79,
          37.41,
          0.34,
          2.44,
          11.82,
          0.88,
          24.52,
          5.73,
          5.3,
          28.36,
          21.32,
          9.96,
          41.21,
          59.13,
          20.25,
          6.11,
          2.96,
          10.25,
          3.25,
          12.23,
          183.94,
          13.23,
          2.97,
          0.28,
          1.29,
          2.35,
          0.29,
          2.91,
          11.57,
          2.54,
          0.28,
          0.85,
          1.92,
          32.44,
          0.36,
          0.83,
          24.38,
          0.81,
          10.29,
          10.25,
          0.32,
          8.27,
          6.99,
          0.41
         ]
        },
        {
         "direction": "clockwise",
         "domain": {
          "x": [
           0.1,
           0.9
          ],
          "y": [
           0.05,
           0.9
          ]
         },
         "hole": 0.9,
         "labels": [
          "unsortedOfflinePrimaryVertices ",
          "trackingParticlesSignal ",
          "trackValidatorTrackingOnly ",
          "trackingParticlesBHadron ",
          "TrackerCollisionSelectedTrackMonCommongeneralTracks ",
          "trackingParticleRecoTrackAsssociation ",
          "trackValidatorSeedingTrackingOnly ",
          "highPtTripletStepTrackCandidates ",
          "firstStepPrimaryVerticesUnsorted ",
          "tpClusterProducer ",
          "trackValidatorAllTPEfficStandalone ",
          "TrackerCollisionSelectedTrackMonCommonhighPurityPtRange0to1 ",
          "initialStepTracks ",
          "highPtTripletStepHitTriplets ",
          "initialStepHitQuadruplets ",
          "trackingParticleNumberOfLayersProducer ",
          "generalTracks ",
          "TrackerCollisionSelectedTrackMonCommonhighPurityPt1 ",
          "trackValidatorBuilding ",
          "highPtTripletStepTracks ",
          "initialStepSeeds ",
          "source ",
          "trackValidatorTPPtLess09Standalone ",
          "ecalRecHit ",
          "ecalMultiFitUncalibRecHit ",
          "offlineBeamSpot ",
          "primaryVertexResolution ",
          "simHitTPAssocProducer ",
          "TrackSplitMonitor ",
          "seedTracksinitialStepSeeds ",
          "trackValidatorFromPVAllTPStandalone ",
          "hbhereco ",
          "siPixelClustersPreSplitting ",
          "siPixelClusters ",
          "offlinePrimaryVertices ",
          "highPtTripletStepHitDoublets ",
          "initialStepHitDoublets ",
          "offlinePrimaryVerticesWithBS ",
          "vertexAnalysisTrackingOnly ",
          "siPixelRecHits ",
          "TrackSeedMoninitialStep ",
          "firstStepPrimaryVertices ",
          "highPtTripletStepSeeds ",
          "trackValidatorBHadronTrackingOnly ",
          "TrackerCollisionSelectedTrackMonCommonhighPurityPV0p1 ",
          "seedTrackshighPtTripletStepSeeds ",
          "TrackSeedMonhighPtTripletStep ",
          "trackValidatorFromPVStandalone ",
          "siPixelClusterShapeCache ",
          "MeasurementTrackerEvent ",
          "initialStepSeedLayers ",
          "initialStepSelector ",
          "caloTowerForTrk ",
          "ak4CaloJetsForTrk ",
          "siPhase2Clusters ",
          "highPtTripletStepSelector ",
          "highPtTripletStepSeedLayers ",
          "ecalDigis ",
          "cutsRecoTracksHp ",
          "cutsRecoTracksBtvLike ",
          "generalTracksPt09 ",
          "cutsRecoTracksInitialStepByAlgoMask ",
          "trackWithVertexRefSelectorBeforeSorting ",
          "cutsRecoTracksInitialStepByAlgoMaskHp ",
          "cutsRecoTracksInitialStepByOriginalAlgo "
         ],
         "marker": {
          "line": {
           "color": "#000000",
           "width": 0.2
          }
         },
         "sort": true,
         "textposition": "none",
         "type": "pie",
         "values": [
          13.45,
          13.87,
          40.09,
          285.75,
          38.8,
          14.22,
          16.36,
          22.03,
          25.47,
          7.61,
          17.44,
          15.79,
          37.41,
          0.34,
          2.44,
          11.82,
          0.88,
          24.52,
          5.73,
          5.3,
          28.36,
          21.32,
          9.96,
          41.21,
          59.13,
          20.25,
          6.11,
          2.96,
          10.25,
          3.25,
          12.23,
          183.94,
          13.23,
          2.97,
          0.28,
          1.29,
          2.35,
          0.29,
          2.91,
          11.57,
          2.54,
          0.28,
          0.85,
          1.92,
          32.44,
          0.36,
          0.83,
          24.38,
          0.81,
          10.29,
          10.25,
          0.32,
          8.27,
          6.99,
          0.41,
          0.25,
          0.25,
          3.44,
          0.25,
          0.25,
          0.25,
          0.25,
          0.26,
          0.25,
          0.25
         ]
        },
        {
         "direction": "clockwise",
         "domain": {
          "x": [
           0.1,
           0.9
          ],
          "y": [
           0.05,
           0.9
          ]
         },
         "hole": 0.9,
         "labels": [
          "unsortedOfflinePrimaryVertices ",
          "trackingParticlesSignal ",
          "trackValidatorTrackingOnly ",
          "trackingParticlesBHadron ",
          "TrackerCollisionSelectedTrackMonCommongeneralTracks ",
          "trackingParticleRecoTrackAsssociation ",
          "trackValidatorSeedingTrackingOnly ",
          "highPtTripletStepTrackCandidates ",
          "firstStepPrimaryVerticesUnsorted ",
          "tpClusterProducer ",
          "trackValidatorAllTPEfficStandalone ",
          "TrackerCollisionSelectedTrackMonCommonhighPurityPtRange0to1 ",
          "initialStepTracks ",
          "highPtTripletStepHitTriplets ",
          "initialStepHitQuadruplets ",
          "trackingParticleNumberOfLayersProducer ",
          "generalTracks ",
          "TrackerCollisionSelectedTrackMonCommonhighPurityPt1 ",
          "trackValidatorBuilding ",
          "highPtTripletStepTracks ",
          "initialStepSeeds ",
          "source ",
          "trackValidatorTPPtLess09Standalone ",
          "ecalRecHit ",
          "ecalMultiFitUncalibRecHit ",
          "offlineBeamSpot ",
          "primaryVertexResolution ",
          "simHitTPAssocProducer ",
          "TrackSplitMonitor ",
          "seedTracksinitialStepSeeds ",
          "trackValidatorFromPVAllTPStandalone ",
          "hbhereco ",
          "siPixelClustersPreSplitting ",
          "siPixelClusters ",
          "offlinePrimaryVertices ",
          "highPtTripletStepHitDoublets ",
          "initialStepHitDoublets ",
          "offlinePrimaryVerticesWithBS ",
          "vertexAnalysisTrackingOnly ",
          "siPixelRecHits ",
          "TrackSeedMoninitialStep ",
          "firstStepPrimaryVertices ",
          "highPtTripletStepSeeds ",
          "trackValidatorBHadronTrackingOnly ",
          "TrackerCollisionSelectedTrackMonCommonhighPurityPV0p1 ",
          "seedTrackshighPtTripletStepSeeds ",
          "TrackSeedMonhighPtTripletStep ",
          "trackValidatorFromPVStandalone ",
          "siPixelClusterShapeCache ",
          "MeasurementTrackerEvent ",
          "initialStepSeedLayers ",
          "initialStepSelector ",
          "caloTowerForTrk ",
          "ak4CaloJetsForTrk ",
          "siPhase2Clusters ",
          "highPtTripletStepSelector ",
          "highPtTripletStepSeedLayers ",
          "ecalDigis ",
          "cutsRecoTracksHp ",
          "cutsRecoTracksBtvLike ",
          "generalTracksPt09 ",
          "cutsRecoTracksInitialStepByAlgoMask ",
          "trackWithVertexRefSelectorBeforeSorting ",
          "cutsRecoTracksInitialStepByAlgoMaskHp ",
          "cutsRecoTracksInitialStepByOriginalAlgo ",
          "cutsRecoTracksInitialStepByOriginalAlgoHp ",
          "cutsRecoTracksInitialStep ",
          "cutsRecoTracksInitialStepHp ",
          "generalTracksFromPV ",
          "trackRefsForJetsBeforeSorting ",
          "hcalDigis ",
          "trackingDQMgoodOfflinePrimaryVertices ",
          "highPurityPtRange0to1 ",
          "initialStepTrackRefsForJets ",
          "hfprereco "
         ],
         "marker": {
          "line": {
           "color": "#000000",
           "width": 0.2
          }
         },
         "sort": true,
         "textposition": "none",
         "type": "pie",
         "values": [
          13.45,
          13.87,
          40.09,
          285.75,
          38.8,
          14.22,
          16.36,
          22.03,
          25.47,
          7.61,
          17.44,
          15.79,
          37.41,
          0.34,
          2.44,
          11.82,
          0.88,
          24.52,
          5.73,
          5.3,
          28.36,
          21.32,
          9.96,
          41.21,
          59.13,
          20.25,
          6.11,
          2.96,
          10.25,
          3.25,
          12.23,
          183.94,
          13.23,
          2.97,
          0.28,
          1.29,
          2.35,
          0.29,
          2.91,
          11.57,
          2.54,
          0.28,
          0.85,
          1.92,
          32.44,
          0.36,
          0.83,
          24.38,
          0.81,
          10.29,
          10.25,
          0.32,
          8.27,
          6.99,
          0.41,
          0.25,
          0.25,
          3.44,
          0.25,
          0.25,
          0.25,
          0.25,
          0.26,
          0.25,
          0.25,
          0.25,
          0.25,
          0.25,
          0.25,
          0.25,
          3.32,
          0.25,
          0.25,
          0.29,
          2.25
         ]
        },
        {
         "direction": "clockwise",
         "domain": {
          "x": [
           0.1,
           0.9
          ],
          "y": [
           0.05,
           0.9
          ]
         },
         "hole": 0.9,
         "labels": [
          "unsortedOfflinePrimaryVertices ",
          "trackingParticlesSignal ",
          "trackValidatorTrackingOnly ",
          "trackingParticlesBHadron ",
          "TrackerCollisionSelectedTrackMonCommongeneralTracks ",
          "trackingParticleRecoTrackAsssociation ",
          "trackValidatorSeedingTrackingOnly ",
          "highPtTripletStepTrackCandidates ",
          "firstStepPrimaryVerticesUnsorted ",
          "tpClusterProducer ",
          "trackValidatorAllTPEfficStandalone ",
          "TrackerCollisionSelectedTrackMonCommonhighPurityPtRange0to1 ",
          "initialStepTracks ",
          "highPtTripletStepHitTriplets ",
          "initialStepHitQuadruplets ",
          "trackingParticleNumberOfLayersProducer ",
          "generalTracks ",
          "TrackerCollisionSelectedTrackMonCommonhighPurityPt1 ",
          "trackValidatorBuilding ",
          "highPtTripletStepTracks ",
          "initialStepSeeds ",
          "source ",
          "trackValidatorTPPtLess09Standalone ",
          "ecalRecHit ",
          "ecalMultiFitUncalibRecHit ",
          "offlineBeamSpot ",
          "primaryVertexResolution ",
          "simHitTPAssocProducer ",
          "TrackSplitMonitor ",
          "seedTracksinitialStepSeeds ",
          "trackValidatorFromPVAllTPStandalone ",
          "hbhereco ",
          "siPixelClustersPreSplitting ",
          "siPixelClusters ",
          "offlinePrimaryVertices ",
          "highPtTripletStepHitDoublets ",
          "initialStepHitDoublets ",
          "offlinePrimaryVerticesWithBS ",
          "vertexAnalysisTrackingOnly ",
          "siPixelRecHits ",
          "TrackSeedMoninitialStep ",
          "firstStepPrimaryVertices ",
          "highPtTripletStepSeeds ",
          "trackValidatorBHadronTrackingOnly ",
          "TrackerCollisionSelectedTrackMonCommonhighPurityPV0p1 ",
          "seedTrackshighPtTripletStepSeeds ",
          "TrackSeedMonhighPtTripletStep ",
          "trackValidatorFromPVStandalone ",
          "siPixelClusterShapeCache ",
          "MeasurementTrackerEvent ",
          "initialStepSeedLayers ",
          "initialStepSelector ",
          "caloTowerForTrk ",
          "ak4CaloJetsForTrk ",
          "siPhase2Clusters ",
          "highPtTripletStepSelector ",
          "highPtTripletStepSeedLayers ",
          "ecalDigis ",
          "cutsRecoTracksHp ",
          "cutsRecoTracksBtvLike ",
          "generalTracksPt09 ",
          "cutsRecoTracksInitialStepByAlgoMask ",
          "trackWithVertexRefSelectorBeforeSorting ",
          "cutsRecoTracksInitialStepByAlgoMaskHp ",
          "cutsRecoTracksInitialStepByOriginalAlgo ",
          "cutsRecoTracksInitialStepByOriginalAlgoHp ",
          "cutsRecoTracksInitialStep ",
          "cutsRecoTracksInitialStepHp ",
          "generalTracksFromPV ",
          "trackRefsForJetsBeforeSorting ",
          "hcalDigis ",
          "trackingDQMgoodOfflinePrimaryVertices ",
          "highPurityPtRange0to1 ",
          "initialStepTrackRefsForJets ",
          "hfprereco ",
          "cutsRecoTracksPt09Hp ",
          "highPurityPV0p1 ",
          "cutsRecoTracksHighPtTripletStepByAlgoMask ",
          "cutsRecoTracksHighPtTripletStepByOriginalAlgo ",
          "cutsRecoTracksHighPtTripletStep ",
          "highPtTripletStepClusters ",
          "cutsRecoTracksPt09InitialStep ",
          "cutsRecoTracksPt09InitialStepHp ",
          "PV0p1 ",
          "hfreco "
         ],
         "marker": {
          "line": {
           "color": "#000000",
           "width": 0.2
          }
         },
         "sort": true,
         "textposition": "none",
         "type": "pie",
         "values": [
          13.45,
          13.87,
          40.09,
          285.75,
          38.8,
          14.22,
          16.36,
          22.03,
          25.47,
          7.61,
          17.44,
          15.79,
          37.41,
          0.34,
          2.44,
          11.82,
          0.88,
          24.52,
          5.73,
          5.3,
          28.36,
          21.32,
          9.96,
          41.21,
          59.13,
          20.25,
          6.11,
          2.96,
          10.25,
          3.25,
          12.23,
          183.94,
          13.23,
          2.97,
          0.28,
          1.29,
          2.35,
          0.29,
          2.91,
          11.57,
          2.54,
          0.28,
          0.85,
          1.92,
          32.44,
          0.36,
          0.83,
          24.38,
          0.81,
          10.29,
          10.25,
          0.32,
          8.27,
          6.99,
          0.41,
          0.25,
          0.25,
          3.44,
          0.25,
          0.25,
          0.25,
          0.25,
          0.26,
          0.25,
          0.25,
          0.25,
          0.25,
          0.25,
          0.25,
          0.25,
          3.32,
          0.25,
          0.25,
          0.29,
          2.25,
          0.25,
          0.25,
          0.25,
          0.25,
          0.25,
          0.26,
          0.25,
          0.25,
          0.25,
          0.78
         ]
        },
        {
         "direction": "clockwise",
         "domain": {
          "x": [
           0.1,
           0.9
          ],
          "y": [
           0.05,
           0.9
          ]
         },
         "hole": 0.9,
         "labels": [
          "unsortedOfflinePrimaryVertices ",
          "trackingParticlesSignal ",
          "trackValidatorTrackingOnly ",
          "trackingParticlesBHadron ",
          "TrackerCollisionSelectedTrackMonCommongeneralTracks ",
          "trackingParticleRecoTrackAsssociation ",
          "trackValidatorSeedingTrackingOnly ",
          "highPtTripletStepTrackCandidates ",
          "firstStepPrimaryVerticesUnsorted ",
          "tpClusterProducer ",
          "trackValidatorAllTPEfficStandalone ",
          "TrackerCollisionSelectedTrackMonCommonhighPurityPtRange0to1 ",
          "initialStepTracks ",
          "highPtTripletStepHitTriplets ",
          "initialStepHitQuadruplets ",
          "trackingParticleNumberOfLayersProducer ",
          "generalTracks ",
          "TrackerCollisionSelectedTrackMonCommonhighPurityPt1 ",
          "trackValidatorBuilding ",
          "highPtTripletStepTracks ",
          "initialStepSeeds ",
          "source ",
          "trackValidatorTPPtLess09Standalone ",
          "ecalRecHit ",
          "ecalMultiFitUncalibRecHit ",
          "offlineBeamSpot ",
          "primaryVertexResolution ",
          "simHitTPAssocProducer ",
          "TrackSplitMonitor ",
          "seedTracksinitialStepSeeds ",
          "trackValidatorFromPVAllTPStandalone ",
          "hbhereco ",
          "siPixelClustersPreSplitting ",
          "siPixelClusters ",
          "offlinePrimaryVertices ",
          "highPtTripletStepHitDoublets ",
          "initialStepHitDoublets ",
          "offlinePrimaryVerticesWithBS ",
          "vertexAnalysisTrackingOnly ",
          "siPixelRecHits ",
          "TrackSeedMoninitialStep ",
          "firstStepPrimaryVertices ",
          "highPtTripletStepSeeds ",
          "trackValidatorBHadronTrackingOnly ",
          "TrackerCollisionSelectedTrackMonCommonhighPurityPV0p1 ",
          "seedTrackshighPtTripletStepSeeds ",
          "TrackSeedMonhighPtTripletStep ",
          "trackValidatorFromPVStandalone ",
          "siPixelClusterShapeCache ",
          "MeasurementTrackerEvent ",
          "initialStepSeedLayers ",
          "initialStepSelector ",
          "caloTowerForTrk ",
          "ak4CaloJetsForTrk ",
          "siPhase2Clusters ",
          "highPtTripletStepSelector ",
          "highPtTripletStepSeedLayers ",
          "ecalDigis ",
          "cutsRecoTracksHp ",
          "cutsRecoTracksBtvLike ",
          "generalTracksPt09 ",
          "cutsRecoTracksInitialStepByAlgoMask ",
          "trackWithVertexRefSelectorBeforeSorting ",
          "cutsRecoTracksInitialStepByAlgoMaskHp ",
          "cutsRecoTracksInitialStepByOriginalAlgo ",
          "cutsRecoTracksInitialStepByOriginalAlgoHp ",
          "cutsRecoTracksInitialStep ",
          "cutsRecoTracksInitialStepHp ",
          "generalTracksFromPV ",
          "trackRefsForJetsBeforeSorting ",
          "hcalDigis ",
          "trackingDQMgoodOfflinePrimaryVertices ",
          "highPurityPtRange0to1 ",
          "initialStepTrackRefsForJets ",
          "hfprereco ",
          "cutsRecoTracksPt09Hp ",
          "highPurityPV0p1 ",
          "cutsRecoTracksHighPtTripletStepByAlgoMask ",
          "cutsRecoTracksHighPtTripletStepByOriginalAlgo ",
          "cutsRecoTracksHighPtTripletStep ",
          "highPtTripletStepClusters ",
          "cutsRecoTracksPt09InitialStep ",
          "cutsRecoTracksPt09InitialStepHp ",
          "PV0p1 ",
          "hfreco ",
          "cutsRecoTracksHighPtTripletStepHp ",
          "cutsRecoTracksHighPtTripletStepByAlgoMaskHp ",
          "cutsRecoTracksHighPtTripletStepByOriginalAlgoHp ",
          "highPurityPt1 ",
          "pvMonitor ",
          "cutsRecoTracksPt09HighPtTripletStep ",
          "selectedOfflinePrimaryVertices ",
          "cutsRecoTracksPt09HighPtTripletStepHp ",
          "selectedOfflinePrimaryVerticesWithBS ",
          "horeco "
         ],
         "marker": {
          "line": {
           "color": "#000000",
           "width": 0.2
          }
         },
         "sort": true,
         "textposition": "none",
         "type": "pie",
         "values": [
          13.45,
          13.87,
          40.09,
          285.75,
          38.8,
          14.22,
          16.36,
          22.03,
          25.47,
          7.61,
          17.44,
          15.79,
          37.41,
          0.34,
          2.44,
          11.82,
          0.88,
          24.52,
          5.73,
          5.3,
          28.36,
          21.32,
          9.96,
          41.21,
          59.13,
          20.25,
          6.11,
          2.96,
          10.25,
          3.25,
          12.23,
          183.94,
          13.23,
          2.97,
          0.28,
          1.29,
          2.35,
          0.29,
          2.91,
          11.57,
          2.54,
          0.28,
          0.85,
          1.92,
          32.44,
          0.36,
          0.83,
          24.38,
          0.81,
          10.29,
          10.25,
          0.32,
          8.27,
          6.99,
          0.41,
          0.25,
          0.25,
          3.44,
          0.25,
          0.25,
          0.25,
          0.25,
          0.26,
          0.25,
          0.25,
          0.25,
          0.25,
          0.25,
          0.25,
          0.25,
          3.32,
          0.25,
          0.25,
          0.29,
          2.25,
          0.25,
          0.25,
          0.25,
          0.25,
          0.25,
          0.26,
          0.25,
          0.25,
          0.25,
          0.78,
          0.25,
          0.25,
          0.25,
          0.25,
          0.26,
          0.25,
          0.25,
          0.25,
          0.25,
          0.27
         ]
        },
        {
         "direction": "clockwise",
         "domain": {
          "x": [
           0.1,
           0.9
          ],
          "y": [
           0.05,
           0.9
          ]
         },
         "hole": 0.9,
         "labels": [
          "unsortedOfflinePrimaryVertices ",
          "trackingParticlesSignal ",
          "trackValidatorTrackingOnly ",
          "trackingParticlesBHadron ",
          "TrackerCollisionSelectedTrackMonCommongeneralTracks ",
          "trackingParticleRecoTrackAsssociation ",
          "trackValidatorSeedingTrackingOnly ",
          "highPtTripletStepTrackCandidates ",
          "firstStepPrimaryVerticesUnsorted ",
          "tpClusterProducer ",
          "trackValidatorAllTPEfficStandalone ",
          "TrackerCollisionSelectedTrackMonCommonhighPurityPtRange0to1 ",
          "initialStepTracks ",
          "highPtTripletStepHitTriplets ",
          "initialStepHitQuadruplets ",
          "trackingParticleNumberOfLayersProducer ",
          "generalTracks ",
          "TrackerCollisionSelectedTrackMonCommonhighPurityPt1 ",
          "trackValidatorBuilding ",
          "highPtTripletStepTracks ",
          "initialStepSeeds ",
          "source ",
          "trackValidatorTPPtLess09Standalone ",
          "ecalRecHit ",
          "ecalMultiFitUncalibRecHit ",
          "offlineBeamSpot ",
          "primaryVertexResolution ",
          "simHitTPAssocProducer ",
          "TrackSplitMonitor ",
          "seedTracksinitialStepSeeds ",
          "trackValidatorFromPVAllTPStandalone ",
          "hbhereco ",
          "siPixelClustersPreSplitting ",
          "siPixelClusters ",
          "offlinePrimaryVertices ",
          "highPtTripletStepHitDoublets ",
          "initialStepHitDoublets ",
          "offlinePrimaryVerticesWithBS ",
          "vertexAnalysisTrackingOnly ",
          "siPixelRecHits ",
          "TrackSeedMoninitialStep ",
          "firstStepPrimaryVertices ",
          "highPtTripletStepSeeds ",
          "trackValidatorBHadronTrackingOnly ",
          "TrackerCollisionSelectedTrackMonCommonhighPurityPV0p1 ",
          "seedTrackshighPtTripletStepSeeds ",
          "TrackSeedMonhighPtTripletStep ",
          "trackValidatorFromPVStandalone ",
          "siPixelClusterShapeCache ",
          "MeasurementTrackerEvent ",
          "initialStepSeedLayers ",
          "initialStepSelector ",
          "caloTowerForTrk ",
          "ak4CaloJetsForTrk ",
          "siPhase2Clusters ",
          "highPtTripletStepSelector ",
          "highPtTripletStepSeedLayers ",
          "ecalDigis ",
          "cutsRecoTracksHp ",
          "cutsRecoTracksBtvLike ",
          "generalTracksPt09 ",
          "cutsRecoTracksInitialStepByAlgoMask ",
          "trackWithVertexRefSelectorBeforeSorting ",
          "cutsRecoTracksInitialStepByAlgoMaskHp ",
          "cutsRecoTracksInitialStepByOriginalAlgo ",
          "cutsRecoTracksInitialStepByOriginalAlgoHp ",
          "cutsRecoTracksInitialStep ",
          "cutsRecoTracksInitialStepHp ",
          "generalTracksFromPV ",
          "trackRefsForJetsBeforeSorting ",
          "hcalDigis ",
          "trackingDQMgoodOfflinePrimaryVertices ",
          "highPurityPtRange0to1 ",
          "initialStepTrackRefsForJets ",
          "hfprereco ",
          "cutsRecoTracksPt09Hp ",
          "highPurityPV0p1 ",
          "cutsRecoTracksHighPtTripletStepByAlgoMask ",
          "cutsRecoTracksHighPtTripletStepByOriginalAlgo ",
          "cutsRecoTracksHighPtTripletStep ",
          "highPtTripletStepClusters ",
          "cutsRecoTracksPt09InitialStep ",
          "cutsRecoTracksPt09InitialStepHp ",
          "PV0p1 ",
          "hfreco ",
          "cutsRecoTracksHighPtTripletStepHp ",
          "cutsRecoTracksHighPtTripletStepByAlgoMaskHp ",
          "cutsRecoTracksHighPtTripletStepByOriginalAlgoHp ",
          "highPurityPt1 ",
          "pvMonitor ",
          "cutsRecoTracksPt09HighPtTripletStep ",
          "selectedOfflinePrimaryVertices ",
          "cutsRecoTracksPt09HighPtTripletStepHp ",
          "selectedOfflinePrimaryVerticesWithBS ",
          "horeco ",
          "initialStepTrackingRegions ",
          "TrackMon_ckf ",
          "ecalDetIdToBeRecovered ",
          "quickTrackAssociatorByHits ",
          "trackerClusterCheck ",
          "DQMoutput ",
          "DQMoutput_step ",
          "MC_Dqmoffline_v2 ",
          "MC_Tracking_v2 ",
          "MC_prevalidation_v2 "
         ],
         "marker": {
          "line": {
           "color": "#000000",
           "width": 0.2
          }
         },
         "sort": true,
         "textposition": "none",
         "type": "pie",
         "values": [
          13.45,
          13.87,
          40.09,
          285.75,
          38.8,
          14.22,
          16.36,
          22.03,
          25.47,
          7.61,
          17.44,
          15.79,
          37.41,
          0.34,
          2.44,
          11.82,
          0.88,
          24.52,
          5.73,
          5.3,
          28.36,
          21.32,
          9.96,
          41.21,
          59.13,
          20.25,
          6.11,
          2.96,
          10.25,
          3.25,
          12.23,
          183.94,
          13.23,
          2.97,
          0.28,
          1.29,
          2.35,
          0.29,
          2.91,
          11.57,
          2.54,
          0.28,
          0.85,
          1.92,
          32.44,
          0.36,
          0.83,
          24.38,
          0.81,
          10.29,
          10.25,
          0.32,
          8.27,
          6.99,
          0.41,
          0.25,
          0.25,
          3.44,
          0.25,
          0.25,
          0.25,
          0.25,
          0.26,
          0.25,
          0.25,
          0.25,
          0.25,
          0.25,
          0.25,
          0.25,
          3.32,
          0.25,
          0.25,
          0.29,
          2.25,
          0.25,
          0.25,
          0.25,
          0.25,
          0.25,
          0.26,
          0.25,
          0.25,
          0.25,
          0.78,
          0.25,
          0.25,
          0.25,
          0.25,
          0.26,
          0.25,
          0.25,
          0.25,
          0.25,
          0.27,
          0.31,
          0.27,
          0.26,
          0.26,
          0.26,
          0.25,
          0.25,
          0.25,
          0.25,
          0.25
         ]
        },
        {
         "direction": "clockwise",
         "domain": {
          "x": [
           0.1,
           0.9
          ],
          "y": [
           0.05,
           0.9
          ]
         },
         "hole": 0.9,
         "labels": [
          "unsortedOfflinePrimaryVertices ",
          "trackingParticlesSignal ",
          "trackValidatorTrackingOnly ",
          "trackingParticlesBHadron ",
          "TrackerCollisionSelectedTrackMonCommongeneralTracks ",
          "trackingParticleRecoTrackAsssociation ",
          "trackValidatorSeedingTrackingOnly ",
          "highPtTripletStepTrackCandidates ",
          "firstStepPrimaryVerticesUnsorted ",
          "tpClusterProducer ",
          "trackValidatorAllTPEfficStandalone ",
          "TrackerCollisionSelectedTrackMonCommonhighPurityPtRange0to1 ",
          "initialStepTracks ",
          "highPtTripletStepHitTriplets ",
          "initialStepHitQuadruplets ",
          "trackingParticleNumberOfLayersProducer ",
          "generalTracks ",
          "TrackerCollisionSelectedTrackMonCommonhighPurityPt1 ",
          "trackValidatorBuilding ",
          "highPtTripletStepTracks ",
          "initialStepSeeds ",
          "source ",
          "trackValidatorTPPtLess09Standalone ",
          "ecalRecHit ",
          "ecalMultiFitUncalibRecHit ",
          "offlineBeamSpot ",
          "primaryVertexResolution ",
          "simHitTPAssocProducer ",
          "TrackSplitMonitor ",
          "seedTracksinitialStepSeeds ",
          "trackValidatorFromPVAllTPStandalone ",
          "hbhereco ",
          "siPixelClustersPreSplitting ",
          "siPixelClusters ",
          "offlinePrimaryVertices ",
          "highPtTripletStepHitDoublets ",
          "initialStepHitDoublets ",
          "offlinePrimaryVerticesWithBS ",
          "vertexAnalysisTrackingOnly ",
          "siPixelRecHits ",
          "TrackSeedMoninitialStep ",
          "firstStepPrimaryVertices ",
          "highPtTripletStepSeeds ",
          "trackValidatorBHadronTrackingOnly ",
          "TrackerCollisionSelectedTrackMonCommonhighPurityPV0p1 ",
          "seedTrackshighPtTripletStepSeeds ",
          "TrackSeedMonhighPtTripletStep ",
          "trackValidatorFromPVStandalone ",
          "siPixelClusterShapeCache ",
          "MeasurementTrackerEvent ",
          "initialStepSeedLayers ",
          "initialStepSelector ",
          "caloTowerForTrk ",
          "ak4CaloJetsForTrk ",
          "siPhase2Clusters ",
          "highPtTripletStepSelector ",
          "highPtTripletStepSeedLayers ",
          "ecalDigis ",
          "cutsRecoTracksHp ",
          "cutsRecoTracksBtvLike ",
          "generalTracksPt09 ",
          "cutsRecoTracksInitialStepByAlgoMask ",
          "trackWithVertexRefSelectorBeforeSorting ",
          "cutsRecoTracksInitialStepByAlgoMaskHp ",
          "cutsRecoTracksInitialStepByOriginalAlgo ",
          "cutsRecoTracksInitialStepByOriginalAlgoHp ",
          "cutsRecoTracksInitialStep ",
          "cutsRecoTracksInitialStepHp ",
          "generalTracksFromPV ",
          "trackRefsForJetsBeforeSorting ",
          "hcalDigis ",
          "trackingDQMgoodOfflinePrimaryVertices ",
          "highPurityPtRange0to1 ",
          "initialStepTrackRefsForJets ",
          "hfprereco ",
          "cutsRecoTracksPt09Hp ",
          "highPurityPV0p1 ",
          "cutsRecoTracksHighPtTripletStepByAlgoMask ",
          "cutsRecoTracksHighPtTripletStepByOriginalAlgo ",
          "cutsRecoTracksHighPtTripletStep ",
          "highPtTripletStepClusters ",
          "cutsRecoTracksPt09InitialStep ",
          "cutsRecoTracksPt09InitialStepHp ",
          "PV0p1 ",
          "hfreco ",
          "cutsRecoTracksHighPtTripletStepHp ",
          "cutsRecoTracksHighPtTripletStepByAlgoMaskHp ",
          "cutsRecoTracksHighPtTripletStepByOriginalAlgoHp ",
          "highPurityPt1 ",
          "pvMonitor ",
          "cutsRecoTracksPt09HighPtTripletStep ",
          "selectedOfflinePrimaryVertices ",
          "cutsRecoTracksPt09HighPtTripletStepHp ",
          "selectedOfflinePrimaryVerticesWithBS ",
          "horeco ",
          "initialStepTrackingRegions ",
          "TrackMon_ckf ",
          "ecalDetIdToBeRecovered ",
          "quickTrackAssociatorByHits ",
          "trackerClusterCheck ",
          "DQMoutput ",
          "DQMoutput_step ",
          "MC_Dqmoffline_v2 ",
          "MC_Tracking_v2 ",
          "MC_prevalidation_v2 ",
          "MC_validation_v2 ",
          "TriggerResults ",
          "VertexAssociatorByPositionAndTracks ",
          "bunchSpacingProducer ",
          "cutsRecoTracksFromPVHighPtTripletStep ",
          "cutsRecoTracksFromPVHighPtTripletStepHp ",
          "cutsRecoTracksFromPVHp ",
          "cutsRecoTracksFromPVInitialStep ",
          "cutsRecoTracksFromPVInitialStepHp ",
          "cutsRecoTracksFromPVPt09HighPtTripletStep "
         ],
         "marker": {
          "line": {
           "color": "#000000",
           "width": 0.2
          }
         },
         "sort": true,
         "textposition": "none",
         "type": "pie",
         "values": [
          13.45,
          13.87,
          40.09,
          285.75,
          38.8,
          14.22,
          16.36,
          22.03,
          25.47,
          7.61,
          17.44,
          15.79,
          37.41,
          0.34,
          2.44,
          11.82,
          0.88,
          24.52,
          5.73,
          5.3,
          28.36,
          21.32,
          9.96,
          41.21,
          59.13,
          20.25,
          6.11,
          2.96,
          10.25,
          3.25,
          12.23,
          183.94,
          13.23,
          2.97,
          0.28,
          1.29,
          2.35,
          0.29,
          2.91,
          11.57,
          2.54,
          0.28,
          0.85,
          1.92,
          32.44,
          0.36,
          0.83,
          24.38,
          0.81,
          10.29,
          10.25,
          0.32,
          8.27,
          6.99,
          0.41,
          0.25,
          0.25,
          3.44,
          0.25,
          0.25,
          0.25,
          0.25,
          0.26,
          0.25,
          0.25,
          0.25,
          0.25,
          0.25,
          0.25,
          0.25,
          3.32,
          0.25,
          0.25,
          0.29,
          2.25,
          0.25,
          0.25,
          0.25,
          0.25,
          0.25,
          0.26,
          0.25,
          0.25,
          0.25,
          0.78,
          0.25,
          0.25,
          0.25,
          0.25,
          0.26,
          0.25,
          0.25,
          0.25,
          0.25,
          0.27,
          0.31,
          0.27,
          0.26,
          0.26,
          0.26,
          0.25,
          0.25,
          0.25,
          0.25,
          0.25,
          0.25,
          0.25,
          0.25,
          0.25,
          0.25,
          0.25,
          0.25,
          0.25,
          0.25,
          0.25
         ]
        },
        {
         "direction": "clockwise",
         "domain": {
          "x": [
           0.1,
           0.9
          ],
          "y": [
           0.05,
           0.9
          ]
         },
         "hole": 0.9,
         "labels": [
          "unsortedOfflinePrimaryVertices ",
          "trackingParticlesSignal ",
          "trackValidatorTrackingOnly ",
          "trackingParticlesBHadron ",
          "TrackerCollisionSelectedTrackMonCommongeneralTracks ",
          "trackingParticleRecoTrackAsssociation ",
          "trackValidatorSeedingTrackingOnly ",
          "highPtTripletStepTrackCandidates ",
          "firstStepPrimaryVerticesUnsorted ",
          "tpClusterProducer ",
          "trackValidatorAllTPEfficStandalone ",
          "TrackerCollisionSelectedTrackMonCommonhighPurityPtRange0to1 ",
          "initialStepTracks ",
          "highPtTripletStepHitTriplets ",
          "initialStepHitQuadruplets ",
          "trackingParticleNumberOfLayersProducer ",
          "generalTracks ",
          "TrackerCollisionSelectedTrackMonCommonhighPurityPt1 ",
          "trackValidatorBuilding ",
          "highPtTripletStepTracks ",
          "initialStepSeeds ",
          "source ",
          "trackValidatorTPPtLess09Standalone ",
          "ecalRecHit ",
          "ecalMultiFitUncalibRecHit ",
          "offlineBeamSpot ",
          "primaryVertexResolution ",
          "simHitTPAssocProducer ",
          "TrackSplitMonitor ",
          "seedTracksinitialStepSeeds ",
          "trackValidatorFromPVAllTPStandalone ",
          "hbhereco ",
          "siPixelClustersPreSplitting ",
          "siPixelClusters ",
          "offlinePrimaryVertices ",
          "highPtTripletStepHitDoublets ",
          "initialStepHitDoublets ",
          "offlinePrimaryVerticesWithBS ",
          "vertexAnalysisTrackingOnly ",
          "siPixelRecHits ",
          "TrackSeedMoninitialStep ",
          "firstStepPrimaryVertices ",
          "highPtTripletStepSeeds ",
          "trackValidatorBHadronTrackingOnly ",
          "TrackerCollisionSelectedTrackMonCommonhighPurityPV0p1 ",
          "seedTrackshighPtTripletStepSeeds ",
          "TrackSeedMonhighPtTripletStep ",
          "trackValidatorFromPVStandalone ",
          "siPixelClusterShapeCache ",
          "MeasurementTrackerEvent ",
          "initialStepSeedLayers ",
          "initialStepSelector ",
          "caloTowerForTrk ",
          "ak4CaloJetsForTrk ",
          "siPhase2Clusters ",
          "highPtTripletStepSelector ",
          "highPtTripletStepSeedLayers ",
          "ecalDigis ",
          "cutsRecoTracksHp ",
          "cutsRecoTracksBtvLike ",
          "generalTracksPt09 ",
          "cutsRecoTracksInitialStepByAlgoMask ",
          "trackWithVertexRefSelectorBeforeSorting ",
          "cutsRecoTracksInitialStepByAlgoMaskHp ",
          "cutsRecoTracksInitialStepByOriginalAlgo ",
          "cutsRecoTracksInitialStepByOriginalAlgoHp ",
          "cutsRecoTracksInitialStep ",
          "cutsRecoTracksInitialStepHp ",
          "generalTracksFromPV ",
          "trackRefsForJetsBeforeSorting ",
          "hcalDigis ",
          "trackingDQMgoodOfflinePrimaryVertices ",
          "highPurityPtRange0to1 ",
          "initialStepTrackRefsForJets ",
          "hfprereco ",
          "cutsRecoTracksPt09Hp ",
          "highPurityPV0p1 ",
          "cutsRecoTracksHighPtTripletStepByAlgoMask ",
          "cutsRecoTracksHighPtTripletStepByOriginalAlgo ",
          "cutsRecoTracksHighPtTripletStep ",
          "highPtTripletStepClusters ",
          "cutsRecoTracksPt09InitialStep ",
          "cutsRecoTracksPt09InitialStepHp ",
          "PV0p1 ",
          "hfreco ",
          "cutsRecoTracksHighPtTripletStepHp ",
          "cutsRecoTracksHighPtTripletStepByAlgoMaskHp ",
          "cutsRecoTracksHighPtTripletStepByOriginalAlgoHp ",
          "highPurityPt1 ",
          "pvMonitor ",
          "cutsRecoTracksPt09HighPtTripletStep ",
          "selectedOfflinePrimaryVertices ",
          "cutsRecoTracksPt09HighPtTripletStepHp ",
          "selectedOfflinePrimaryVerticesWithBS ",
          "horeco ",
          "initialStepTrackingRegions ",
          "TrackMon_ckf ",
          "ecalDetIdToBeRecovered ",
          "quickTrackAssociatorByHits ",
          "trackerClusterCheck ",
          "DQMoutput ",
          "DQMoutput_step ",
          "MC_Dqmoffline_v2 ",
          "MC_Tracking_v2 ",
          "MC_prevalidation_v2 ",
          "MC_validation_v2 ",
          "TriggerResults ",
          "VertexAssociatorByPositionAndTracks ",
          "bunchSpacingProducer ",
          "cutsRecoTracksFromPVHighPtTripletStep ",
          "cutsRecoTracksFromPVHighPtTripletStepHp ",
          "cutsRecoTracksFromPVHp ",
          "cutsRecoTracksFromPVInitialStep ",
          "cutsRecoTracksFromPVInitialStepHp ",
          "cutsRecoTracksFromPVPt09HighPtTripletStep ",
          "cutsRecoTracksFromPVPt09HighPtTripletStepHp ",
          "cutsRecoTracksFromPVPt09Hp ",
          "cutsRecoTracksFromPVPt09InitialStep ",
          "cutsRecoTracksFromPVPt09InitialStepHp ",
          "dqmInfoTracking ",
          "generalTracksFromPVPt09 ",
          "highPtTripletStepSeedClusterMask ",
          "highPtTripletStepTrackingRegions ",
          "inclusiveSecondaryVertices ",
          "inclusiveVertexFinder "
         ],
         "marker": {
          "line": {
           "color": "#000000",
           "width": 0.2
          }
         },
         "sort": true,
         "textposition": "none",
         "type": "pie",
         "values": [
          13.45,
          13.87,
          40.09,
          285.75,
          38.8,
          14.22,
          16.36,
          22.03,
          25.47,
          7.61,
          17.44,
          15.79,
          37.41,
          0.34,
          2.44,
          11.82,
          0.88,
          24.52,
          5.73,
          5.3,
          28.36,
          21.32,
          9.96,
          41.21,
          59.13,
          20.25,
          6.11,
          2.96,
          10.25,
          3.25,
          12.23,
          183.94,
          13.23,
          2.97,
          0.28,
          1.29,
          2.35,
          0.29,
          2.91,
          11.57,
          2.54,
          0.28,
          0.85,
          1.92,
          32.44,
          0.36,
          0.83,
          24.38,
          0.81,
          10.29,
          10.25,
          0.32,
          8.27,
          6.99,
          0.41,
          0.25,
          0.25,
          3.44,
          0.25,
          0.25,
          0.25,
          0.25,
          0.26,
          0.25,
          0.25,
          0.25,
          0.25,
          0.25,
          0.25,
          0.25,
          3.32,
          0.25,
          0.25,
          0.29,
          2.25,
          0.25,
          0.25,
          0.25,
          0.25,
          0.25,
          0.26,
          0.25,
          0.25,
          0.25,
          0.78,
          0.25,
          0.25,
          0.25,
          0.25,
          0.26,
          0.25,
          0.25,
          0.25,
          0.25,
          0.27,
          0.31,
          0.27,
          0.26,
          0.26,
          0.26,
          0.25,
          0.25,
          0.25,
          0.25,
          0.25,
          0.25,
          0.25,
          0.25,
          0.25,
          0.25,
          0.25,
          0.25,
          0.25,
          0.25,
          0.25,
          0.25,
          0.25,
          0.25,
          0.25,
          0.25,
          0.25,
          0.25,
          0.25,
          0.25,
          0.25
         ]
        },
        {
         "direction": "clockwise",
         "domain": {
          "x": [
           0.1,
           0.9
          ],
          "y": [
           0.05,
           0.9
          ]
         },
         "hole": 0.9,
         "labels": [
          "unsortedOfflinePrimaryVertices ",
          "trackingParticlesSignal ",
          "trackValidatorTrackingOnly ",
          "trackingParticlesBHadron ",
          "TrackerCollisionSelectedTrackMonCommongeneralTracks ",
          "trackingParticleRecoTrackAsssociation ",
          "trackValidatorSeedingTrackingOnly ",
          "highPtTripletStepTrackCandidates ",
          "firstStepPrimaryVerticesUnsorted ",
          "tpClusterProducer ",
          "trackValidatorAllTPEfficStandalone ",
          "TrackerCollisionSelectedTrackMonCommonhighPurityPtRange0to1 ",
          "initialStepTracks ",
          "highPtTripletStepHitTriplets ",
          "initialStepHitQuadruplets ",
          "trackingParticleNumberOfLayersProducer ",
          "generalTracks ",
          "TrackerCollisionSelectedTrackMonCommonhighPurityPt1 ",
          "trackValidatorBuilding ",
          "highPtTripletStepTracks ",
          "initialStepSeeds ",
          "source ",
          "trackValidatorTPPtLess09Standalone ",
          "ecalRecHit ",
          "ecalMultiFitUncalibRecHit ",
          "offlineBeamSpot ",
          "primaryVertexResolution ",
          "simHitTPAssocProducer ",
          "TrackSplitMonitor ",
          "seedTracksinitialStepSeeds ",
          "trackValidatorFromPVAllTPStandalone ",
          "hbhereco ",
          "siPixelClustersPreSplitting ",
          "siPixelClusters ",
          "offlinePrimaryVertices ",
          "highPtTripletStepHitDoublets ",
          "initialStepHitDoublets ",
          "offlinePrimaryVerticesWithBS ",
          "vertexAnalysisTrackingOnly ",
          "siPixelRecHits ",
          "TrackSeedMoninitialStep ",
          "firstStepPrimaryVertices ",
          "highPtTripletStepSeeds ",
          "trackValidatorBHadronTrackingOnly ",
          "TrackerCollisionSelectedTrackMonCommonhighPurityPV0p1 ",
          "seedTrackshighPtTripletStepSeeds ",
          "TrackSeedMonhighPtTripletStep ",
          "trackValidatorFromPVStandalone ",
          "siPixelClusterShapeCache ",
          "MeasurementTrackerEvent ",
          "initialStepSeedLayers ",
          "initialStepSelector ",
          "caloTowerForTrk ",
          "ak4CaloJetsForTrk ",
          "siPhase2Clusters ",
          "highPtTripletStepSelector ",
          "highPtTripletStepSeedLayers ",
          "ecalDigis ",
          "cutsRecoTracksHp ",
          "cutsRecoTracksBtvLike ",
          "generalTracksPt09 ",
          "cutsRecoTracksInitialStepByAlgoMask ",
          "trackWithVertexRefSelectorBeforeSorting ",
          "cutsRecoTracksInitialStepByAlgoMaskHp ",
          "cutsRecoTracksInitialStepByOriginalAlgo ",
          "cutsRecoTracksInitialStepByOriginalAlgoHp ",
          "cutsRecoTracksInitialStep ",
          "cutsRecoTracksInitialStepHp ",
          "generalTracksFromPV ",
          "trackRefsForJetsBeforeSorting ",
          "hcalDigis ",
          "trackingDQMgoodOfflinePrimaryVertices ",
          "highPurityPtRange0to1 ",
          "initialStepTrackRefsForJets ",
          "hfprereco ",
          "cutsRecoTracksPt09Hp ",
          "highPurityPV0p1 ",
          "cutsRecoTracksHighPtTripletStepByAlgoMask ",
          "cutsRecoTracksHighPtTripletStepByOriginalAlgo ",
          "cutsRecoTracksHighPtTripletStep ",
          "highPtTripletStepClusters ",
          "cutsRecoTracksPt09InitialStep ",
          "cutsRecoTracksPt09InitialStepHp ",
          "PV0p1 ",
          "hfreco ",
          "cutsRecoTracksHighPtTripletStepHp ",
          "cutsRecoTracksHighPtTripletStepByAlgoMaskHp ",
          "cutsRecoTracksHighPtTripletStepByOriginalAlgoHp ",
          "highPurityPt1 ",
          "pvMonitor ",
          "cutsRecoTracksPt09HighPtTripletStep ",
          "selectedOfflinePrimaryVertices ",
          "cutsRecoTracksPt09HighPtTripletStepHp ",
          "selectedOfflinePrimaryVerticesWithBS ",
          "horeco ",
          "initialStepTrackingRegions ",
          "TrackMon_ckf ",
          "ecalDetIdToBeRecovered ",
          "quickTrackAssociatorByHits ",
          "trackerClusterCheck ",
          "DQMoutput ",
          "DQMoutput_step ",
          "MC_Dqmoffline_v2 ",
          "MC_Tracking_v2 ",
          "MC_prevalidation_v2 ",
          "MC_validation_v2 ",
          "TriggerResults ",
          "VertexAssociatorByPositionAndTracks ",
          "bunchSpacingProducer ",
          "cutsRecoTracksFromPVHighPtTripletStep ",
          "cutsRecoTracksFromPVHighPtTripletStepHp ",
          "cutsRecoTracksFromPVHp ",
          "cutsRecoTracksFromPVInitialStep ",
          "cutsRecoTracksFromPVInitialStepHp ",
          "cutsRecoTracksFromPVPt09HighPtTripletStep ",
          "cutsRecoTracksFromPVPt09HighPtTripletStepHp ",
          "cutsRecoTracksFromPVPt09Hp ",
          "cutsRecoTracksFromPVPt09InitialStep ",
          "cutsRecoTracksFromPVPt09InitialStepHp ",
          "dqmInfoTracking ",
          "generalTracksFromPVPt09 ",
          "highPtTripletStepSeedClusterMask ",
          "highPtTripletStepTrackingRegions ",
          "inclusiveSecondaryVertices ",
          "inclusiveVertexFinder ",
          "initialStepSeedClusterMask ",
          "muonCSCDigis ",
          "muonDTDigis ",
          "muonGEMDigis ",
          "muonRPCDigis ",
          "muonRPCNewDigis ",
          "quickTrackAssociatorByHitsPreSplitting ",
          "raw2digi_step ",
          "scalersRawToDigi ",
          "siPixelRecHitsPreSplitting "
         ],
         "marker": {
          "line": {
           "color": "#000000",
           "width": 0.2
          }
         },
         "sort": true,
         "textposition": "none",
         "type": "pie",
         "values": [
          13.45,
          13.87,
          40.09,
          285.75,
          38.8,
          14.22,
          16.36,
          22.03,
          25.47,
          7.61,
          17.44,
          15.79,
          37.41,
          0.34,
          2.44,
          11.82,
          0.88,
          24.52,
          5.73,
          5.3,
          28.36,
          21.32,
          9.96,
          41.21,
          59.13,
          20.25,
          6.11,
          2.96,
          10.25,
          3.25,
          12.23,
          183.94,
          13.23,
          2.97,
          0.28,
          1.29,
          2.35,
          0.29,
          2.91,
          11.57,
          2.54,
          0.28,
          0.85,
          1.92,
          32.44,
          0.36,
          0.83,
          24.38,
          0.81,
          10.29,
          10.25,
          0.32,
          8.27,
          6.99,
          0.41,
          0.25,
          0.25,
          3.44,
          0.25,
          0.25,
          0.25,
          0.25,
          0.26,
          0.25,
          0.25,
          0.25,
          0.25,
          0.25,
          0.25,
          0.25,
          3.32,
          0.25,
          0.25,
          0.29,
          2.25,
          0.25,
          0.25,
          0.25,
          0.25,
          0.25,
          0.26,
          0.25,
          0.25,
          0.25,
          0.78,
          0.25,
          0.25,
          0.25,
          0.25,
          0.26,
          0.25,
          0.25,
          0.25,
          0.25,
          0.27,
          0.31,
          0.27,
          0.26,
          0.26,
          0.26,
          0.25,
          0.25,
          0.25,
          0.25,
          0.25,
          0.25,
          0.25,
          0.25,
          0.25,
          0.25,
          0.25,
          0.25,
          0.25,
          0.25,
          0.25,
          0.25,
          0.25,
          0.25,
          0.25,
          0.25,
          0.25,
          0.25,
          0.25,
          0.25,
          0.25,
          0.25,
          0.25,
          0.25,
          0.25,
          0.25,
          0.25,
          0.25,
          0.25,
          0.26,
          0.25
         ]
        },
        {
         "direction": "clockwise",
         "domain": {
          "x": [
           0.1,
           0.9
          ],
          "y": [
           0.05,
           0.9
          ]
         },
         "hole": 0.9,
         "labels": [
          "unsortedOfflinePrimaryVertices ",
          "trackingParticlesSignal ",
          "trackValidatorTrackingOnly ",
          "trackingParticlesBHadron ",
          "TrackerCollisionSelectedTrackMonCommongeneralTracks ",
          "trackingParticleRecoTrackAsssociation ",
          "trackValidatorSeedingTrackingOnly ",
          "highPtTripletStepTrackCandidates ",
          "firstStepPrimaryVerticesUnsorted ",
          "tpClusterProducer ",
          "trackValidatorAllTPEfficStandalone ",
          "TrackerCollisionSelectedTrackMonCommonhighPurityPtRange0to1 ",
          "initialStepTracks ",
          "highPtTripletStepHitTriplets ",
          "initialStepHitQuadruplets ",
          "trackingParticleNumberOfLayersProducer ",
          "generalTracks ",
          "TrackerCollisionSelectedTrackMonCommonhighPurityPt1 ",
          "trackValidatorBuilding ",
          "highPtTripletStepTracks ",
          "initialStepSeeds ",
          "source ",
          "trackValidatorTPPtLess09Standalone ",
          "ecalRecHit ",
          "ecalMultiFitUncalibRecHit ",
          "offlineBeamSpot ",
          "primaryVertexResolution ",
          "simHitTPAssocProducer ",
          "TrackSplitMonitor ",
          "seedTracksinitialStepSeeds ",
          "trackValidatorFromPVAllTPStandalone ",
          "hbhereco ",
          "siPixelClustersPreSplitting ",
          "siPixelClusters ",
          "offlinePrimaryVertices ",
          "highPtTripletStepHitDoublets ",
          "initialStepHitDoublets ",
          "offlinePrimaryVerticesWithBS ",
          "vertexAnalysisTrackingOnly ",
          "siPixelRecHits ",
          "TrackSeedMoninitialStep ",
          "firstStepPrimaryVertices ",
          "highPtTripletStepSeeds ",
          "trackValidatorBHadronTrackingOnly ",
          "TrackerCollisionSelectedTrackMonCommonhighPurityPV0p1 ",
          "seedTrackshighPtTripletStepSeeds ",
          "TrackSeedMonhighPtTripletStep ",
          "trackValidatorFromPVStandalone ",
          "siPixelClusterShapeCache ",
          "MeasurementTrackerEvent ",
          "initialStepSeedLayers ",
          "initialStepSelector ",
          "caloTowerForTrk ",
          "ak4CaloJetsForTrk ",
          "siPhase2Clusters ",
          "highPtTripletStepSelector ",
          "highPtTripletStepSeedLayers ",
          "ecalDigis ",
          "cutsRecoTracksHp ",
          "cutsRecoTracksBtvLike ",
          "generalTracksPt09 ",
          "cutsRecoTracksInitialStepByAlgoMask ",
          "trackWithVertexRefSelectorBeforeSorting ",
          "cutsRecoTracksInitialStepByAlgoMaskHp ",
          "cutsRecoTracksInitialStepByOriginalAlgo ",
          "cutsRecoTracksInitialStepByOriginalAlgoHp ",
          "cutsRecoTracksInitialStep ",
          "cutsRecoTracksInitialStepHp ",
          "generalTracksFromPV ",
          "trackRefsForJetsBeforeSorting ",
          "hcalDigis ",
          "trackingDQMgoodOfflinePrimaryVertices ",
          "highPurityPtRange0to1 ",
          "initialStepTrackRefsForJets ",
          "hfprereco ",
          "cutsRecoTracksPt09Hp ",
          "highPurityPV0p1 ",
          "cutsRecoTracksHighPtTripletStepByAlgoMask ",
          "cutsRecoTracksHighPtTripletStepByOriginalAlgo ",
          "cutsRecoTracksHighPtTripletStep ",
          "highPtTripletStepClusters ",
          "cutsRecoTracksPt09InitialStep ",
          "cutsRecoTracksPt09InitialStepHp ",
          "PV0p1 ",
          "hfreco ",
          "cutsRecoTracksHighPtTripletStepHp ",
          "cutsRecoTracksHighPtTripletStepByAlgoMaskHp ",
          "cutsRecoTracksHighPtTripletStepByOriginalAlgoHp ",
          "highPurityPt1 ",
          "pvMonitor ",
          "cutsRecoTracksPt09HighPtTripletStep ",
          "selectedOfflinePrimaryVertices ",
          "cutsRecoTracksPt09HighPtTripletStepHp ",
          "selectedOfflinePrimaryVerticesWithBS ",
          "horeco ",
          "initialStepTrackingRegions ",
          "trackerClusterCheck ",
          "quickTrackAssociatorByHits ",
          "TrackMon_ckf ",
          "ecalDetIdToBeRecovered ",
          "trackVertexArbitrator ",
          "highPtTripletStepSeedClusterMask ",
          "trackValidatorBuildingPreSplitting ",
          "bunchSpacingProducer ",
          "VertexAssociatorByPositionAndTracks ",
          "trackValidatorSeedingPreSplittingTrackingOnly ",
          "TriggerResults ",
          "dqmInfoTracking ",
          "trackingParticlesElectron ",
          "DQMoutput ",
          "trackingParticlesConversion ",
          "DQMoutput_step ",
          "cutsRecoTracksFromPVHighPtTripletStep ",
          "generalTracksFromPVPt09 ",
          "MC_validation_v2 ",
          "MC_prevalidation_v2 ",
          "MC_Dqmoffline_v2 ",
          "MC_Tracking_v2 ",
          "v0Validator ",
          "cutsRecoTracksFromPVHp ",
          "cutsRecoTracksFromPVHighPtTripletStepHp ",
          "raw2digi_step ",
          "muonDTDigis ",
          "muonGEMDigis ",
          "muonRPCDigis ",
          "muonRPCNewDigis ",
          "initialStepSeedClusterMask ",
          "inclusiveVertexFinder ",
          "inclusiveSecondaryVertices ",
          "highPtTripletStepTrackingRegions ",
          "quickTrackAssociatorByHitsPreSplitting ",
          "scalersRawToDigi ",
          "tpClusterProducerPreSplitting ",
          "cutsRecoTracksFromPVPt09InitialStepHp ",
          "cutsRecoTracksFromPVPt09InitialStep ",
          "cutsRecoTracksFromPVPt09Hp ",
          "cutsRecoTracksFromPVPt09HighPtTripletStepHp ",
          "cutsRecoTracksFromPVPt09HighPtTripletStep ",
          "cutsRecoTracksFromPVInitialStepHp ",
          "siPixelRecHitsPreSplitting ",
          "cutsRecoTracksFromPVInitialStep ",
          "muonCSCDigis ",
          "vertexMerger "
         ],
         "marker": {
          "line": {
           "color": "#000000",
           "width": 0.2
          }
         },
         "sort": true,
         "textposition": "none",
         "type": "pie",
         "values": [
          13.45,
          13.87,
          40.09,
          285.75,
          38.8,
          14.22,
          16.36,
          22.03,
          25.47,
          7.61,
          17.44,
          15.79,
          37.41,
          0.34,
          2.44,
          11.82,
          0.88,
          24.52,
          5.73,
          5.3,
          28.36,
          21.32,
          9.96,
          41.21,
          59.13,
          20.25,
          6.11,
          2.96,
          10.25,
          3.25,
          12.23,
          183.94,
          13.23,
          2.97,
          0.28,
          1.29,
          2.35,
          0.29,
          2.91,
          11.57,
          2.54,
          0.28,
          0.85,
          1.92,
          32.44,
          0.36,
          0.83,
          24.38,
          0.81,
          10.29,
          10.25,
          0.32,
          8.27,
          6.99,
          0.41,
          0.25,
          0.25,
          3.44,
          0.25,
          0.25,
          0.25,
          0.25,
          0.26,
          0.25,
          0.25,
          0.25,
          0.25,
          0.25,
          0.25,
          0.25,
          3.32,
          0.25,
          0.25,
          0.29,
          2.25,
          0.25,
          0.25,
          0.25,
          0.25,
          0.25,
          0.26,
          0.25,
          0.25,
          0.25,
          0.78,
          0.25,
          0.25,
          0.25,
          0.25,
          0.26,
          0.25,
          0.25,
          0.25,
          0.25,
          0.27,
          0.31,
          0.26,
          0.26,
          0.27,
          0.26,
          0.25,
          0.25,
          0.25,
          0.25,
          0.25,
          0.25,
          0.25,
          0.25,
          0.25,
          0.25,
          0.25,
          0.25,
          0.25,
          0.25,
          0.25,
          0.25,
          0.25,
          0.25,
          0.25,
          0.25,
          0.25,
          0.25,
          0.25,
          0.25,
          0.25,
          0.25,
          0.25,
          0.25,
          0.25,
          0.25,
          0.25,
          0.26,
          0.25,
          0.25,
          0.25,
          0.25,
          0.25,
          0.25,
          0.25,
          0.25,
          0.25,
          0.25,
          0.25
         ]
        }
       ],
       "layout": {
        "sliders": [
         {
          "active": 10,
          "currentvalue": {
           "prefix": "Showing the ",
           "suffix": " longest modules in ms: "
          },
          "pad": {
           "t": 50
          },
          "steps": [
           {
            "args": [
             "visible",
             [
              true,
              false,
              false,
              false,
              false,
              false,
              false,
              false,
              false,
              false,
              false,
              false,
              false,
              false,
              false,
              false,
              true,
              false,
              false,
              false,
              false,
              false,
              false,
              false,
              false,
              false,
              false,
              false,
              false,
              false,
              false,
              false,
              true,
              false,
              false,
              false,
              false,
              false,
              false,
              false,
              false,
              false,
              false,
              false,
              false,
              false,
              false,
              false
             ]
            ],
            "label": "0",
            "method": "restyle"
           },
           {
            "args": [
             "visible",
             [
              false,
              true,
              false,
              false,
              false,
              false,
              false,
              false,
              false,
              false,
              false,
              false,
              false,
              false,
              false,
              false,
              false,
              true,
              false,
              false,
              false,
              false,
              false,
              false,
              false,
              false,
              false,
              false,
              false,
              false,
              false,
              false,
              false,
              true,
              false,
              false,
              false,
              false,
              false,
              false,
              false,
              false,
              false,
              false,
              false,
              false,
              false,
              false
             ]
            ],
            "label": "10",
            "method": "restyle"
           },
           {
            "args": [
             "visible",
             [
              false,
              false,
              true,
              false,
              false,
              false,
              false,
              false,
              false,
              false,
              false,
              false,
              false,
              false,
              false,
              false,
              false,
              false,
              true,
              false,
              false,
              false,
              false,
              false,
              false,
              false,
              false,
              false,
              false,
              false,
              false,
              false,
              false,
              false,
              true,
              false,
              false,
              false,
              false,
              false,
              false,
              false,
              false,
              false,
              false,
              false,
              false,
              false
             ]
            ],
            "label": "20",
            "method": "restyle"
           },
           {
            "args": [
             "visible",
             [
              false,
              false,
              false,
              true,
              false,
              false,
              false,
              false,
              false,
              false,
              false,
              false,
              false,
              false,
              false,
              false,
              false,
              false,
              false,
              true,
              false,
              false,
              false,
              false,
              false,
              false,
              false,
              false,
              false,
              false,
              false,
              false,
              false,
              false,
              false,
              true,
              false,
              false,
              false,
              false,
              false,
              false,
              false,
              false,
              false,
              false,
              false,
              false
             ]
            ],
            "label": "30",
            "method": "restyle"
           },
           {
            "args": [
             "visible",
             [
              false,
              false,
              false,
              false,
              true,
              false,
              false,
              false,
              false,
              false,
              false,
              false,
              false,
              false,
              false,
              false,
              false,
              false,
              false,
              false,
              true,
              false,
              false,
              false,
              false,
              false,
              false,
              false,
              false,
              false,
              false,
              false,
              false,
              false,
              false,
              false,
              true,
              false,
              false,
              false,
              false,
              false,
              false,
              false,
              false,
              false,
              false,
              false
             ]
            ],
            "label": "40",
            "method": "restyle"
           },
           {
            "args": [
             "visible",
             [
              false,
              false,
              false,
              false,
              false,
              true,
              false,
              false,
              false,
              false,
              false,
              false,
              false,
              false,
              false,
              false,
              false,
              false,
              false,
              false,
              false,
              true,
              false,
              false,
              false,
              false,
              false,
              false,
              false,
              false,
              false,
              false,
              false,
              false,
              false,
              false,
              false,
              true,
              false,
              false,
              false,
              false,
              false,
              false,
              false,
              false,
              false,
              false
             ]
            ],
            "label": "50",
            "method": "restyle"
           },
           {
            "args": [
             "visible",
             [
              false,
              false,
              false,
              false,
              false,
              false,
              true,
              false,
              false,
              false,
              false,
              false,
              false,
              false,
              false,
              false,
              false,
              false,
              false,
              false,
              false,
              false,
              true,
              false,
              false,
              false,
              false,
              false,
              false,
              false,
              false,
              false,
              false,
              false,
              false,
              false,
              false,
              false,
              true,
              false,
              false,
              false,
              false,
              false,
              false,
              false,
              false,
              false
             ]
            ],
            "label": "60",
            "method": "restyle"
           },
           {
            "args": [
             "visible",
             [
              false,
              false,
              false,
              false,
              false,
              false,
              false,
              true,
              false,
              false,
              false,
              false,
              false,
              false,
              false,
              false,
              false,
              false,
              false,
              false,
              false,
              false,
              false,
              true,
              false,
              false,
              false,
              false,
              false,
              false,
              false,
              false,
              false,
              false,
              false,
              false,
              false,
              false,
              false,
              true,
              false,
              false,
              false,
              false,
              false,
              false,
              false,
              false
             ]
            ],
            "label": "70",
            "method": "restyle"
           },
           {
            "args": [
             "visible",
             [
              false,
              false,
              false,
              false,
              false,
              false,
              false,
              false,
              true,
              false,
              false,
              false,
              false,
              false,
              false,
              false,
              false,
              false,
              false,
              false,
              false,
              false,
              false,
              false,
              true,
              false,
              false,
              false,
              false,
              false,
              false,
              false,
              false,
              false,
              false,
              false,
              false,
              false,
              false,
              false,
              true,
              false,
              false,
              false,
              false,
              false,
              false,
              false
             ]
            ],
            "label": "80",
            "method": "restyle"
           },
           {
            "args": [
             "visible",
             [
              false,
              false,
              false,
              false,
              false,
              false,
              false,
              false,
              false,
              true,
              false,
              false,
              false,
              false,
              false,
              false,
              false,
              false,
              false,
              false,
              false,
              false,
              false,
              false,
              false,
              true,
              false,
              false,
              false,
              false,
              false,
              false,
              false,
              false,
              false,
              false,
              false,
              false,
              false,
              false,
              false,
              true,
              false,
              false,
              false,
              false,
              false,
              false
             ]
            ],
            "label": "90",
            "method": "restyle"
           },
           {
            "args": [
             "visible",
             [
              false,
              false,
              false,
              false,
              false,
              false,
              false,
              false,
              false,
              false,
              true,
              false,
              false,
              false,
              false,
              false,
              false,
              false,
              false,
              false,
              false,
              false,
              false,
              false,
              false,
              false,
              true,
              false,
              false,
              false,
              false,
              false,
              false,
              false,
              false,
              false,
              false,
              false,
              false,
              false,
              false,
              false,
              true,
              false,
              false,
              false,
              false,
              false
             ]
            ],
            "label": "100",
            "method": "restyle"
           },
           {
            "args": [
             "visible",
             [
              false,
              false,
              false,
              false,
              false,
              false,
              false,
              false,
              false,
              false,
              false,
              true,
              false,
              false,
              false,
              false,
              false,
              false,
              false,
              false,
              false,
              false,
              false,
              false,
              false,
              false,
              false,
              true,
              false,
              false,
              false,
              false,
              false,
              false,
              false,
              false,
              false,
              false,
              false,
              false,
              false,
              false,
              false,
              true,
              false,
              false,
              false,
              false
             ]
            ],
            "label": "110",
            "method": "restyle"
           },
           {
            "args": [
             "visible",
             [
              false,
              false,
              false,
              false,
              false,
              false,
              false,
              false,
              false,
              false,
              false,
              false,
              true,
              false,
              false,
              false,
              false,
              false,
              false,
              false,
              false,
              false,
              false,
              false,
              false,
              false,
              false,
              false,
              true,
              false,
              false,
              false,
              false,
              false,
              false,
              false,
              false,
              false,
              false,
              false,
              false,
              false,
              false,
              false,
              true,
              false,
              false,
              false
             ]
            ],
            "label": "120",
            "method": "restyle"
           },
           {
            "args": [
             "visible",
             [
              false,
              false,
              false,
              false,
              false,
              false,
              false,
              false,
              false,
              false,
              false,
              false,
              false,
              true,
              false,
              false,
              false,
              false,
              false,
              false,
              false,
              false,
              false,
              false,
              false,
              false,
              false,
              false,
              false,
              true,
              false,
              false,
              false,
              false,
              false,
              false,
              false,
              false,
              false,
              false,
              false,
              false,
              false,
              false,
              false,
              true,
              false,
              false
             ]
            ],
            "label": "130",
            "method": "restyle"
           },
           {
            "args": [
             "visible",
             [
              false,
              false,
              false,
              false,
              false,
              false,
              false,
              false,
              false,
              false,
              false,
              false,
              false,
              false,
              true,
              false,
              false,
              false,
              false,
              false,
              false,
              false,
              false,
              false,
              false,
              false,
              false,
              false,
              false,
              false,
              true,
              false,
              false,
              false,
              false,
              false,
              false,
              false,
              false,
              false,
              false,
              false,
              false,
              false,
              false,
              false,
              true,
              false
             ]
            ],
            "label": "140",
            "method": "restyle"
           },
           {
            "args": [
             "visible",
             [
              false,
              false,
              false,
              false,
              false,
              false,
              false,
              false,
              false,
              false,
              false,
              false,
              false,
              false,
              false,
              true,
              false,
              false,
              false,
              false,
              false,
              false,
              false,
              false,
              false,
              false,
              false,
              false,
              false,
              false,
              false,
              true,
              false,
              false,
              false,
              false,
              false,
              false,
              false,
              false,
              false,
              false,
              false,
              false,
              false,
              false,
              false,
              true
             ]
            ],
            "label": "150",
            "method": "restyle"
           }
          ]
         }
        ],
        "template": {
         "data": {
          "bar": [
           {
            "error_x": {
             "color": "#2a3f5f"
            },
            "error_y": {
             "color": "#2a3f5f"
            },
            "marker": {
             "line": {
              "color": "#E5ECF6",
              "width": 0.5
             }
            },
            "type": "bar"
           }
          ],
          "barpolar": [
           {
            "marker": {
             "line": {
              "color": "#E5ECF6",
              "width": 0.5
             }
            },
            "type": "barpolar"
           }
          ],
          "carpet": [
           {
            "aaxis": {
             "endlinecolor": "#2a3f5f",
             "gridcolor": "white",
             "linecolor": "white",
             "minorgridcolor": "white",
             "startlinecolor": "#2a3f5f"
            },
            "baxis": {
             "endlinecolor": "#2a3f5f",
             "gridcolor": "white",
             "linecolor": "white",
             "minorgridcolor": "white",
             "startlinecolor": "#2a3f5f"
            },
            "type": "carpet"
           }
          ],
          "choropleth": [
           {
            "colorbar": {
             "outlinewidth": 0,
             "ticks": ""
            },
            "type": "choropleth"
           }
          ],
          "contour": [
           {
            "colorbar": {
             "outlinewidth": 0,
             "ticks": ""
            },
            "colorscale": [
             [
              0,
              "#0d0887"
             ],
             [
              0.1111111111111111,
              "#46039f"
             ],
             [
              0.2222222222222222,
              "#7201a8"
             ],
             [
              0.3333333333333333,
              "#9c179e"
             ],
             [
              0.4444444444444444,
              "#bd3786"
             ],
             [
              0.5555555555555556,
              "#d8576b"
             ],
             [
              0.6666666666666666,
              "#ed7953"
             ],
             [
              0.7777777777777778,
              "#fb9f3a"
             ],
             [
              0.8888888888888888,
              "#fdca26"
             ],
             [
              1,
              "#f0f921"
             ]
            ],
            "type": "contour"
           }
          ],
          "contourcarpet": [
           {
            "colorbar": {
             "outlinewidth": 0,
             "ticks": ""
            },
            "type": "contourcarpet"
           }
          ],
          "heatmap": [
           {
            "colorbar": {
             "outlinewidth": 0,
             "ticks": ""
            },
            "colorscale": [
             [
              0,
              "#0d0887"
             ],
             [
              0.1111111111111111,
              "#46039f"
             ],
             [
              0.2222222222222222,
              "#7201a8"
             ],
             [
              0.3333333333333333,
              "#9c179e"
             ],
             [
              0.4444444444444444,
              "#bd3786"
             ],
             [
              0.5555555555555556,
              "#d8576b"
             ],
             [
              0.6666666666666666,
              "#ed7953"
             ],
             [
              0.7777777777777778,
              "#fb9f3a"
             ],
             [
              0.8888888888888888,
              "#fdca26"
             ],
             [
              1,
              "#f0f921"
             ]
            ],
            "type": "heatmap"
           }
          ],
          "heatmapgl": [
           {
            "colorbar": {
             "outlinewidth": 0,
             "ticks": ""
            },
            "colorscale": [
             [
              0,
              "#0d0887"
             ],
             [
              0.1111111111111111,
              "#46039f"
             ],
             [
              0.2222222222222222,
              "#7201a8"
             ],
             [
              0.3333333333333333,
              "#9c179e"
             ],
             [
              0.4444444444444444,
              "#bd3786"
             ],
             [
              0.5555555555555556,
              "#d8576b"
             ],
             [
              0.6666666666666666,
              "#ed7953"
             ],
             [
              0.7777777777777778,
              "#fb9f3a"
             ],
             [
              0.8888888888888888,
              "#fdca26"
             ],
             [
              1,
              "#f0f921"
             ]
            ],
            "type": "heatmapgl"
           }
          ],
          "histogram": [
           {
            "marker": {
             "colorbar": {
              "outlinewidth": 0,
              "ticks": ""
             }
            },
            "type": "histogram"
           }
          ],
          "histogram2d": [
           {
            "colorbar": {
             "outlinewidth": 0,
             "ticks": ""
            },
            "colorscale": [
             [
              0,
              "#0d0887"
             ],
             [
              0.1111111111111111,
              "#46039f"
             ],
             [
              0.2222222222222222,
              "#7201a8"
             ],
             [
              0.3333333333333333,
              "#9c179e"
             ],
             [
              0.4444444444444444,
              "#bd3786"
             ],
             [
              0.5555555555555556,
              "#d8576b"
             ],
             [
              0.6666666666666666,
              "#ed7953"
             ],
             [
              0.7777777777777778,
              "#fb9f3a"
             ],
             [
              0.8888888888888888,
              "#fdca26"
             ],
             [
              1,
              "#f0f921"
             ]
            ],
            "type": "histogram2d"
           }
          ],
          "histogram2dcontour": [
           {
            "colorbar": {
             "outlinewidth": 0,
             "ticks": ""
            },
            "colorscale": [
             [
              0,
              "#0d0887"
             ],
             [
              0.1111111111111111,
              "#46039f"
             ],
             [
              0.2222222222222222,
              "#7201a8"
             ],
             [
              0.3333333333333333,
              "#9c179e"
             ],
             [
              0.4444444444444444,
              "#bd3786"
             ],
             [
              0.5555555555555556,
              "#d8576b"
             ],
             [
              0.6666666666666666,
              "#ed7953"
             ],
             [
              0.7777777777777778,
              "#fb9f3a"
             ],
             [
              0.8888888888888888,
              "#fdca26"
             ],
             [
              1,
              "#f0f921"
             ]
            ],
            "type": "histogram2dcontour"
           }
          ],
          "mesh3d": [
           {
            "colorbar": {
             "outlinewidth": 0,
             "ticks": ""
            },
            "type": "mesh3d"
           }
          ],
          "parcoords": [
           {
            "line": {
             "colorbar": {
              "outlinewidth": 0,
              "ticks": ""
             }
            },
            "type": "parcoords"
           }
          ],
          "pie": [
           {
            "automargin": true,
            "type": "pie"
           }
          ],
          "scatter": [
           {
            "marker": {
             "colorbar": {
              "outlinewidth": 0,
              "ticks": ""
             }
            },
            "type": "scatter"
           }
          ],
          "scatter3d": [
           {
            "line": {
             "colorbar": {
              "outlinewidth": 0,
              "ticks": ""
             }
            },
            "marker": {
             "colorbar": {
              "outlinewidth": 0,
              "ticks": ""
             }
            },
            "type": "scatter3d"
           }
          ],
          "scattercarpet": [
           {
            "marker": {
             "colorbar": {
              "outlinewidth": 0,
              "ticks": ""
             }
            },
            "type": "scattercarpet"
           }
          ],
          "scattergeo": [
           {
            "marker": {
             "colorbar": {
              "outlinewidth": 0,
              "ticks": ""
             }
            },
            "type": "scattergeo"
           }
          ],
          "scattergl": [
           {
            "marker": {
             "colorbar": {
              "outlinewidth": 0,
              "ticks": ""
             }
            },
            "type": "scattergl"
           }
          ],
          "scattermapbox": [
           {
            "marker": {
             "colorbar": {
              "outlinewidth": 0,
              "ticks": ""
             }
            },
            "type": "scattermapbox"
           }
          ],
          "scatterpolar": [
           {
            "marker": {
             "colorbar": {
              "outlinewidth": 0,
              "ticks": ""
             }
            },
            "type": "scatterpolar"
           }
          ],
          "scatterpolargl": [
           {
            "marker": {
             "colorbar": {
              "outlinewidth": 0,
              "ticks": ""
             }
            },
            "type": "scatterpolargl"
           }
          ],
          "scatterternary": [
           {
            "marker": {
             "colorbar": {
              "outlinewidth": 0,
              "ticks": ""
             }
            },
            "type": "scatterternary"
           }
          ],
          "surface": [
           {
            "colorbar": {
             "outlinewidth": 0,
             "ticks": ""
            },
            "colorscale": [
             [
              0,
              "#0d0887"
             ],
             [
              0.1111111111111111,
              "#46039f"
             ],
             [
              0.2222222222222222,
              "#7201a8"
             ],
             [
              0.3333333333333333,
              "#9c179e"
             ],
             [
              0.4444444444444444,
              "#bd3786"
             ],
             [
              0.5555555555555556,
              "#d8576b"
             ],
             [
              0.6666666666666666,
              "#ed7953"
             ],
             [
              0.7777777777777778,
              "#fb9f3a"
             ],
             [
              0.8888888888888888,
              "#fdca26"
             ],
             [
              1,
              "#f0f921"
             ]
            ],
            "type": "surface"
           }
          ],
          "table": [
           {
            "cells": {
             "fill": {
              "color": "#EBF0F8"
             },
             "line": {
              "color": "white"
             }
            },
            "header": {
             "fill": {
              "color": "#C8D4E3"
             },
             "line": {
              "color": "white"
             }
            },
            "type": "table"
           }
          ]
         },
         "layout": {
          "annotationdefaults": {
           "arrowcolor": "#2a3f5f",
           "arrowhead": 0,
           "arrowwidth": 1
          },
          "coloraxis": {
           "colorbar": {
            "outlinewidth": 0,
            "ticks": ""
           }
          },
          "colorscale": {
           "diverging": [
            [
             0,
             "#8e0152"
            ],
            [
             0.1,
             "#c51b7d"
            ],
            [
             0.2,
             "#de77ae"
            ],
            [
             0.3,
             "#f1b6da"
            ],
            [
             0.4,
             "#fde0ef"
            ],
            [
             0.5,
             "#f7f7f7"
            ],
            [
             0.6,
             "#e6f5d0"
            ],
            [
             0.7,
             "#b8e186"
            ],
            [
             0.8,
             "#7fbc41"
            ],
            [
             0.9,
             "#4d9221"
            ],
            [
             1,
             "#276419"
            ]
           ],
           "sequential": [
            [
             0,
             "#0d0887"
            ],
            [
             0.1111111111111111,
             "#46039f"
            ],
            [
             0.2222222222222222,
             "#7201a8"
            ],
            [
             0.3333333333333333,
             "#9c179e"
            ],
            [
             0.4444444444444444,
             "#bd3786"
            ],
            [
             0.5555555555555556,
             "#d8576b"
            ],
            [
             0.6666666666666666,
             "#ed7953"
            ],
            [
             0.7777777777777778,
             "#fb9f3a"
            ],
            [
             0.8888888888888888,
             "#fdca26"
            ],
            [
             1,
             "#f0f921"
            ]
           ],
           "sequentialminus": [
            [
             0,
             "#0d0887"
            ],
            [
             0.1111111111111111,
             "#46039f"
            ],
            [
             0.2222222222222222,
             "#7201a8"
            ],
            [
             0.3333333333333333,
             "#9c179e"
            ],
            [
             0.4444444444444444,
             "#bd3786"
            ],
            [
             0.5555555555555556,
             "#d8576b"
            ],
            [
             0.6666666666666666,
             "#ed7953"
            ],
            [
             0.7777777777777778,
             "#fb9f3a"
            ],
            [
             0.8888888888888888,
             "#fdca26"
            ],
            [
             1,
             "#f0f921"
            ]
           ]
          },
          "colorway": [
           "#636efa",
           "#EF553B",
           "#00cc96",
           "#ab63fa",
           "#FFA15A",
           "#19d3f3",
           "#FF6692",
           "#B6E880",
           "#FF97FF",
           "#FECB52"
          ],
          "font": {
           "color": "#2a3f5f"
          },
          "geo": {
           "bgcolor": "white",
           "lakecolor": "white",
           "landcolor": "#E5ECF6",
           "showlakes": true,
           "showland": true,
           "subunitcolor": "white"
          },
          "hoverlabel": {
           "align": "left"
          },
          "hovermode": "closest",
          "mapbox": {
           "style": "light"
          },
          "paper_bgcolor": "white",
          "plot_bgcolor": "#E5ECF6",
          "polar": {
           "angularaxis": {
            "gridcolor": "white",
            "linecolor": "white",
            "ticks": ""
           },
           "bgcolor": "#E5ECF6",
           "radialaxis": {
            "gridcolor": "white",
            "linecolor": "white",
            "ticks": ""
           }
          },
          "scene": {
           "xaxis": {
            "backgroundcolor": "#E5ECF6",
            "gridcolor": "white",
            "gridwidth": 2,
            "linecolor": "white",
            "showbackground": true,
            "ticks": "",
            "zerolinecolor": "white"
           },
           "yaxis": {
            "backgroundcolor": "#E5ECF6",
            "gridcolor": "white",
            "gridwidth": 2,
            "linecolor": "white",
            "showbackground": true,
            "ticks": "",
            "zerolinecolor": "white"
           },
           "zaxis": {
            "backgroundcolor": "#E5ECF6",
            "gridcolor": "white",
            "gridwidth": 2,
            "linecolor": "white",
            "showbackground": true,
            "ticks": "",
            "zerolinecolor": "white"
           }
          },
          "shapedefaults": {
           "line": {
            "color": "#2a3f5f"
           }
          },
          "ternary": {
           "aaxis": {
            "gridcolor": "white",
            "linecolor": "white",
            "ticks": ""
           },
           "baxis": {
            "gridcolor": "white",
            "linecolor": "white",
            "ticks": ""
           },
           "bgcolor": "#E5ECF6",
           "caxis": {
            "gridcolor": "white",
            "linecolor": "white",
            "ticks": ""
           }
          },
          "title": {
           "x": 0.05
          },
          "xaxis": {
           "automargin": true,
           "gridcolor": "white",
           "linecolor": "white",
           "ticks": "",
           "title": {
            "standoff": 15
           },
           "zerolinecolor": "white",
           "zerolinewidth": 2
          },
          "yaxis": {
           "automargin": true,
           "gridcolor": "white",
           "linecolor": "white",
           "ticks": "",
           "title": {
            "standoff": 15
           },
           "zerolinecolor": "white",
           "zerolinewidth": 2
          }
         }
        },
        "title": {
         "text": "n longest modules at PU 0,140,200"
        }
       }
      },
      "text/html": [
       "<div>\n",
       "        \n",
       "        \n",
       "            <div id=\"7779299e-ef24-4f09-ba85-99f8ca56e4d9\" class=\"plotly-graph-div\" style=\"height:525px; width:100%;\"></div>\n",
       "            <script type=\"text/javascript\">\n",
       "                require([\"plotly\"], function(Plotly) {\n",
       "                    window.PLOTLYENV=window.PLOTLYENV || {};\n",
       "                    \n",
       "                if (document.getElementById(\"7779299e-ef24-4f09-ba85-99f8ca56e4d9\")) {\n",
       "                    Plotly.newPlot(\n",
       "                        '7779299e-ef24-4f09-ba85-99f8ca56e4d9',\n",
       "                        [{\"direction\": \"clockwise\", \"domain\": {\"x\": [0.1, 0.9], \"y\": [0.05, 0.9]}, \"hole\": 0.5, \"labels\": [], \"marker\": {\"line\": {\"color\": \"#000000\", \"width\": 0.2}}, \"sort\": true, \"textposition\": \"none\", \"type\": \"pie\", \"values\": []}, {\"direction\": \"clockwise\", \"domain\": {\"x\": [0.1, 0.9], \"y\": [0.05, 0.9]}, \"hole\": 0.5, \"labels\": [\"hbhereco \", \"initialStepTrackCandidates \", \"ecalMultiFitUncalibRecHit \", \"ecalRecHit \", \"trackValidatorTrackingOnly \"], \"marker\": {\"line\": {\"color\": \"#000000\", \"width\": 0.2}}, \"sort\": true, \"textposition\": \"none\", \"type\": \"pie\", \"values\": [183.94, 64.78, 59.13, 41.21, 40.09]}, {\"direction\": \"clockwise\", \"domain\": {\"x\": [0.1, 0.9], \"y\": [0.05, 0.9]}, \"hole\": 0.5, \"labels\": [\"hbhereco \", \"initialStepTrackCandidates \", \"ecalMultiFitUncalibRecHit \", \"ecalRecHit \", \"trackValidatorTrackingOnly \", \"TrackerCollisionSelectedTrackMonCommongeneralTracks \", \"initialStepTracks \", \"TrackerCollisionSelectedTrackMonCommonhighPurityPV0p1 \", \"initialStepSeeds \", \"firstStepPrimaryVerticesUnsorted \", \"TrackerCollisionSelectedTrackMonCommonhighPurityPt1 \", \"trackValidatorFromPVStandalone \", \"highPtTripletStepTrackCandidates \", \"source \", \"offlineBeamSpot \"], \"marker\": {\"line\": {\"color\": \"#000000\", \"width\": 0.2}}, \"sort\": true, \"textposition\": \"none\", \"type\": \"pie\", \"values\": [183.94, 64.78, 59.13, 41.21, 40.09, 38.8, 37.41, 32.44, 28.36, 25.47, 24.52, 24.38, 22.03, 21.32, 20.25]}, {\"direction\": \"clockwise\", \"domain\": {\"x\": [0.1, 0.9], \"y\": [0.05, 0.9]}, \"hole\": 0.5, \"labels\": [\"hbhereco \", \"initialStepTrackCandidates \", \"ecalMultiFitUncalibRecHit \", \"ecalRecHit \", \"trackValidatorTrackingOnly \", \"TrackerCollisionSelectedTrackMonCommongeneralTracks \", \"initialStepTracks \", \"TrackerCollisionSelectedTrackMonCommonhighPurityPV0p1 \", \"initialStepSeeds \", \"firstStepPrimaryVerticesUnsorted \", \"TrackerCollisionSelectedTrackMonCommonhighPurityPt1 \", \"trackValidatorFromPVStandalone \", \"highPtTripletStepTrackCandidates \", \"source \", \"offlineBeamSpot \", \"trackValidatorAllTPEfficStandalone \", \"trackValidatorSeedingTrackingOnly \", \"TrackerCollisionSelectedTrackMonCommonhighPurityPtRange0to1 \", \"trackingParticleRecoTrackAsssociation \", \"trackingParticlesSignal \", \"unsortedOfflinePrimaryVertices \", \"siPixelClustersPreSplitting \", \"trackValidatorFromPVAllTPStandalone \", \"trackingParticleNumberOfLayersProducer \", \"siPixelRecHits \"], \"marker\": {\"line\": {\"color\": \"#000000\", \"width\": 0.2}}, \"sort\": true, \"textposition\": \"none\", \"type\": \"pie\", \"values\": [183.94, 64.78, 59.13, 41.21, 40.09, 38.8, 37.41, 32.44, 28.36, 25.47, 24.52, 24.38, 22.03, 21.32, 20.25, 17.44, 16.36, 15.79, 14.22, 13.87, 13.45, 13.23, 12.23, 11.82, 11.57]}, {\"direction\": \"clockwise\", \"domain\": {\"x\": [0.1, 0.9], \"y\": [0.05, 0.9]}, \"hole\": 0.5, \"labels\": [\"hbhereco \", \"initialStepTrackCandidates \", \"ecalMultiFitUncalibRecHit \", \"ecalRecHit \", \"trackValidatorTrackingOnly \", \"TrackerCollisionSelectedTrackMonCommongeneralTracks \", \"initialStepTracks \", \"TrackerCollisionSelectedTrackMonCommonhighPurityPV0p1 \", \"initialStepSeeds \", \"firstStepPrimaryVerticesUnsorted \", \"TrackerCollisionSelectedTrackMonCommonhighPurityPt1 \", \"trackValidatorFromPVStandalone \", \"highPtTripletStepTrackCandidates \", \"source \", \"offlineBeamSpot \", \"trackValidatorAllTPEfficStandalone \", \"trackValidatorSeedingTrackingOnly \", \"TrackerCollisionSelectedTrackMonCommonhighPurityPtRange0to1 \", \"trackingParticleRecoTrackAsssociation \", \"trackingParticlesSignal \", \"unsortedOfflinePrimaryVertices \", \"siPixelClustersPreSplitting \", \"trackValidatorFromPVAllTPStandalone \", \"trackingParticleNumberOfLayersProducer \", \"siPixelRecHits \", \"MeasurementTrackerEvent \", \"TrackSplitMonitor \", \"initialStepSeedLayers \", \"trackValidatorTPPtLess09Standalone \", \"caloTowerForTrk \", \"tpClusterProducer \", \"ak4CaloJetsForTrk \", \"primaryVertexResolution \", \"trackValidatorBuilding \", \"highPtTripletStepTracks \"], \"marker\": {\"line\": {\"color\": \"#000000\", \"width\": 0.2}}, \"sort\": true, \"textposition\": \"none\", \"type\": \"pie\", \"values\": [183.94, 64.78, 59.13, 41.21, 40.09, 38.8, 37.41, 32.44, 28.36, 25.47, 24.52, 24.38, 22.03, 21.32, 20.25, 17.44, 16.36, 15.79, 14.22, 13.87, 13.45, 13.23, 12.23, 11.82, 11.57, 10.29, 10.25, 10.25, 9.96, 8.27, 7.61, 6.99, 6.11, 5.73, 5.3]}, {\"direction\": \"clockwise\", \"domain\": {\"x\": [0.1, 0.9], \"y\": [0.05, 0.9]}, \"hole\": 0.5, \"labels\": [\"hbhereco \", \"initialStepTrackCandidates \", \"ecalMultiFitUncalibRecHit \", \"ecalRecHit \", \"trackValidatorTrackingOnly \", \"TrackerCollisionSelectedTrackMonCommongeneralTracks \", \"initialStepTracks \", \"TrackerCollisionSelectedTrackMonCommonhighPurityPV0p1 \", \"initialStepSeeds \", \"firstStepPrimaryVerticesUnsorted \", \"TrackerCollisionSelectedTrackMonCommonhighPurityPt1 \", \"trackValidatorFromPVStandalone \", \"highPtTripletStepTrackCandidates \", \"source \", \"offlineBeamSpot \", \"trackValidatorAllTPEfficStandalone \", \"trackValidatorSeedingTrackingOnly \", \"TrackerCollisionSelectedTrackMonCommonhighPurityPtRange0to1 \", \"trackingParticleRecoTrackAsssociation \", \"trackingParticlesSignal \", \"unsortedOfflinePrimaryVertices \", \"siPixelClustersPreSplitting \", \"trackValidatorFromPVAllTPStandalone \", \"trackingParticleNumberOfLayersProducer \", \"siPixelRecHits \", \"MeasurementTrackerEvent \", \"TrackSplitMonitor \", \"initialStepSeedLayers \", \"trackValidatorTPPtLess09Standalone \", \"caloTowerForTrk \", \"tpClusterProducer \", \"ak4CaloJetsForTrk \", \"primaryVertexResolution \", \"trackValidatorBuilding \", \"highPtTripletStepTracks \", \"ecalDigis \", \"hcalDigis \", \"seedTracksinitialStepSeeds \", \"siPixelClusters \", \"simHitTPAssocProducer \", \"vertexAnalysisTrackingOnly \", \"TrackSeedMoninitialStep \", \"initialStepHitQuadruplets \", \"initialStepHitDoublets \", \"hfprereco \"], \"marker\": {\"line\": {\"color\": \"#000000\", \"width\": 0.2}}, \"sort\": true, \"textposition\": \"none\", \"type\": \"pie\", \"values\": [183.94, 64.78, 59.13, 41.21, 40.09, 38.8, 37.41, 32.44, 28.36, 25.47, 24.52, 24.38, 22.03, 21.32, 20.25, 17.44, 16.36, 15.79, 14.22, 13.87, 13.45, 13.23, 12.23, 11.82, 11.57, 10.29, 10.25, 10.25, 9.96, 8.27, 7.61, 6.99, 6.11, 5.73, 5.3, 3.44, 3.32, 3.25, 2.97, 2.96, 2.91, 2.54, 2.44, 2.35, 2.25]}, {\"direction\": \"clockwise\", \"domain\": {\"x\": [0.1, 0.9], \"y\": [0.05, 0.9]}, \"hole\": 0.5, \"labels\": [\"hbhereco \", \"initialStepTrackCandidates \", \"ecalMultiFitUncalibRecHit \", \"ecalRecHit \", \"trackValidatorTrackingOnly \", \"TrackerCollisionSelectedTrackMonCommongeneralTracks \", \"initialStepTracks \", \"TrackerCollisionSelectedTrackMonCommonhighPurityPV0p1 \", \"initialStepSeeds \", \"firstStepPrimaryVerticesUnsorted \", \"TrackerCollisionSelectedTrackMonCommonhighPurityPt1 \", \"trackValidatorFromPVStandalone \", \"highPtTripletStepTrackCandidates \", \"source \", \"offlineBeamSpot \", \"trackValidatorAllTPEfficStandalone \", \"trackValidatorSeedingTrackingOnly \", \"TrackerCollisionSelectedTrackMonCommonhighPurityPtRange0to1 \", \"trackingParticleRecoTrackAsssociation \", \"trackingParticlesSignal \", \"unsortedOfflinePrimaryVertices \", \"siPixelClustersPreSplitting \", \"trackValidatorFromPVAllTPStandalone \", \"trackingParticleNumberOfLayersProducer \", \"siPixelRecHits \", \"MeasurementTrackerEvent \", \"TrackSplitMonitor \", \"initialStepSeedLayers \", \"trackValidatorTPPtLess09Standalone \", \"caloTowerForTrk \", \"tpClusterProducer \", \"ak4CaloJetsForTrk \", \"primaryVertexResolution \", \"trackValidatorBuilding \", \"highPtTripletStepTracks \", \"ecalDigis \", \"hcalDigis \", \"seedTracksinitialStepSeeds \", \"siPixelClusters \", \"simHitTPAssocProducer \", \"vertexAnalysisTrackingOnly \", \"TrackSeedMoninitialStep \", \"initialStepHitQuadruplets \", \"initialStepHitDoublets \", \"hfprereco \", \"trackValidatorBHadronTrackingOnly \", \"highPtTripletStepHitDoublets \", \"generalTracks \", \"highPtTripletStepSeeds \", \"TrackSeedMonhighPtTripletStep \", \"siPixelClusterShapeCache \", \"hfreco \", \"siPhase2Clusters \", \"seedTrackshighPtTripletStepSeeds \", \"highPtTripletStepHitTriplets \"], \"marker\": {\"line\": {\"color\": \"#000000\", \"width\": 0.2}}, \"sort\": true, \"textposition\": \"none\", \"type\": \"pie\", \"values\": [183.94, 64.78, 59.13, 41.21, 40.09, 38.8, 37.41, 32.44, 28.36, 25.47, 24.52, 24.38, 22.03, 21.32, 20.25, 17.44, 16.36, 15.79, 14.22, 13.87, 13.45, 13.23, 12.23, 11.82, 11.57, 10.29, 10.25, 10.25, 9.96, 8.27, 7.61, 6.99, 6.11, 5.73, 5.3, 3.44, 3.32, 3.25, 2.97, 2.96, 2.91, 2.54, 2.44, 2.35, 2.25, 1.92, 1.29, 0.88, 0.85, 0.83, 0.81, 0.78, 0.41, 0.36, 0.34]}, {\"direction\": \"clockwise\", \"domain\": {\"x\": [0.1, 0.9], \"y\": [0.05, 0.9]}, \"hole\": 0.5, \"labels\": [\"hbhereco \", \"initialStepTrackCandidates \", \"ecalMultiFitUncalibRecHit \", \"ecalRecHit \", \"trackValidatorTrackingOnly \", \"TrackerCollisionSelectedTrackMonCommongeneralTracks \", \"initialStepTracks \", \"TrackerCollisionSelectedTrackMonCommonhighPurityPV0p1 \", \"initialStepSeeds \", \"firstStepPrimaryVerticesUnsorted \", \"TrackerCollisionSelectedTrackMonCommonhighPurityPt1 \", \"trackValidatorFromPVStandalone \", \"highPtTripletStepTrackCandidates \", \"source \", \"offlineBeamSpot \", \"trackValidatorAllTPEfficStandalone \", \"trackValidatorSeedingTrackingOnly \", \"TrackerCollisionSelectedTrackMonCommonhighPurityPtRange0to1 \", \"trackingParticleRecoTrackAsssociation \", \"trackingParticlesSignal \", \"unsortedOfflinePrimaryVertices \", \"siPixelClustersPreSplitting \", \"trackValidatorFromPVAllTPStandalone \", \"trackingParticleNumberOfLayersProducer \", \"siPixelRecHits \", \"MeasurementTrackerEvent \", \"TrackSplitMonitor \", \"initialStepSeedLayers \", \"trackValidatorTPPtLess09Standalone \", \"caloTowerForTrk \", \"tpClusterProducer \", \"ak4CaloJetsForTrk \", \"primaryVertexResolution \", \"trackValidatorBuilding \", \"highPtTripletStepTracks \", \"ecalDigis \", \"hcalDigis \", \"seedTracksinitialStepSeeds \", \"siPixelClusters \", \"simHitTPAssocProducer \", \"vertexAnalysisTrackingOnly \", \"TrackSeedMoninitialStep \", \"initialStepHitQuadruplets \", \"initialStepHitDoublets \", \"hfprereco \", \"trackValidatorBHadronTrackingOnly \", \"highPtTripletStepHitDoublets \", \"generalTracks \", \"highPtTripletStepSeeds \", \"TrackSeedMonhighPtTripletStep \", \"siPixelClusterShapeCache \", \"hfreco \", \"siPhase2Clusters \", \"seedTrackshighPtTripletStepSeeds \", \"highPtTripletStepHitTriplets \", \"initialStepSelector \", \"initialStepTrackingRegions \", \"initialStepTrackRefsForJets \", \"offlinePrimaryVerticesWithBS \", \"firstStepPrimaryVertices \", \"offlinePrimaryVertices \", \"TrackMon_ckf \", \"horeco \", \"ecalDetIdToBeRecovered \", \"highPtTripletStepClusters \"], \"marker\": {\"line\": {\"color\": \"#000000\", \"width\": 0.2}}, \"sort\": true, \"textposition\": \"none\", \"type\": \"pie\", \"values\": [183.94, 64.78, 59.13, 41.21, 40.09, 38.8, 37.41, 32.44, 28.36, 25.47, 24.52, 24.38, 22.03, 21.32, 20.25, 17.44, 16.36, 15.79, 14.22, 13.87, 13.45, 13.23, 12.23, 11.82, 11.57, 10.29, 10.25, 10.25, 9.96, 8.27, 7.61, 6.99, 6.11, 5.73, 5.3, 3.44, 3.32, 3.25, 2.97, 2.96, 2.91, 2.54, 2.44, 2.35, 2.25, 1.92, 1.29, 0.88, 0.85, 0.83, 0.81, 0.78, 0.41, 0.36, 0.34, 0.32, 0.31, 0.29, 0.29, 0.28, 0.28, 0.27, 0.27, 0.26, 0.26]}, {\"direction\": \"clockwise\", \"domain\": {\"x\": [0.1, 0.9], \"y\": [0.05, 0.9]}, \"hole\": 0.5, \"labels\": [\"hbhereco \", \"initialStepTrackCandidates \", \"ecalMultiFitUncalibRecHit \", \"ecalRecHit \", \"trackValidatorTrackingOnly \", \"TrackerCollisionSelectedTrackMonCommongeneralTracks \", \"initialStepTracks \", \"TrackerCollisionSelectedTrackMonCommonhighPurityPV0p1 \", \"initialStepSeeds \", \"firstStepPrimaryVerticesUnsorted \", \"TrackerCollisionSelectedTrackMonCommonhighPurityPt1 \", \"trackValidatorFromPVStandalone \", \"highPtTripletStepTrackCandidates \", \"source \", \"offlineBeamSpot \", \"trackValidatorAllTPEfficStandalone \", \"trackValidatorSeedingTrackingOnly \", \"TrackerCollisionSelectedTrackMonCommonhighPurityPtRange0to1 \", \"trackingParticleRecoTrackAsssociation \", \"trackingParticlesSignal \", \"unsortedOfflinePrimaryVertices \", \"siPixelClustersPreSplitting \", \"trackValidatorFromPVAllTPStandalone \", \"trackingParticleNumberOfLayersProducer \", \"siPixelRecHits \", \"MeasurementTrackerEvent \", \"TrackSplitMonitor \", \"initialStepSeedLayers \", \"trackValidatorTPPtLess09Standalone \", \"caloTowerForTrk \", \"tpClusterProducer \", \"ak4CaloJetsForTrk \", \"primaryVertexResolution \", \"trackValidatorBuilding \", \"highPtTripletStepTracks \", \"ecalDigis \", \"hcalDigis \", \"seedTracksinitialStepSeeds \", \"siPixelClusters \", \"simHitTPAssocProducer \", \"vertexAnalysisTrackingOnly \", \"TrackSeedMoninitialStep \", \"initialStepHitQuadruplets \", \"initialStepHitDoublets \", \"hfprereco \", \"trackValidatorBHadronTrackingOnly \", \"highPtTripletStepHitDoublets \", \"generalTracks \", \"highPtTripletStepSeeds \", \"TrackSeedMonhighPtTripletStep \", \"siPixelClusterShapeCache \", \"hfreco \", \"siPhase2Clusters \", \"seedTrackshighPtTripletStepSeeds \", \"highPtTripletStepHitTriplets \", \"initialStepSelector \", \"initialStepTrackingRegions \", \"initialStepTrackRefsForJets \", \"offlinePrimaryVerticesWithBS \", \"firstStepPrimaryVertices \", \"offlinePrimaryVertices \", \"TrackMon_ckf \", \"horeco \", \"ecalDetIdToBeRecovered \", \"highPtTripletStepClusters \", \"pvMonitor \", \"quickTrackAssociatorByHits \", \"scalersRawToDigi \", \"trackWithVertexRefSelectorBeforeSorting \", \"trackerClusterCheck \", \"DQMoutput \", \"DQMoutput_step \", \"MC_Dqmoffline_v2 \", \"MC_Tracking_v2 \", \"MC_prevalidation_v2 \"], \"marker\": {\"line\": {\"color\": \"#000000\", \"width\": 0.2}}, \"sort\": true, \"textposition\": \"none\", \"type\": \"pie\", \"values\": [183.94, 64.78, 59.13, 41.21, 40.09, 38.8, 37.41, 32.44, 28.36, 25.47, 24.52, 24.38, 22.03, 21.32, 20.25, 17.44, 16.36, 15.79, 14.22, 13.87, 13.45, 13.23, 12.23, 11.82, 11.57, 10.29, 10.25, 10.25, 9.96, 8.27, 7.61, 6.99, 6.11, 5.73, 5.3, 3.44, 3.32, 3.25, 2.97, 2.96, 2.91, 2.54, 2.44, 2.35, 2.25, 1.92, 1.29, 0.88, 0.85, 0.83, 0.81, 0.78, 0.41, 0.36, 0.34, 0.32, 0.31, 0.29, 0.29, 0.28, 0.28, 0.27, 0.27, 0.26, 0.26, 0.26, 0.26, 0.26, 0.26, 0.26, 0.25, 0.25, 0.25, 0.25, 0.25]}, {\"direction\": \"clockwise\", \"domain\": {\"x\": [0.1, 0.9], \"y\": [0.05, 0.9]}, \"hole\": 0.5, \"labels\": [\"hbhereco \", \"initialStepTrackCandidates \", \"ecalMultiFitUncalibRecHit \", \"ecalRecHit \", \"trackValidatorTrackingOnly \", \"TrackerCollisionSelectedTrackMonCommongeneralTracks \", \"initialStepTracks \", \"TrackerCollisionSelectedTrackMonCommonhighPurityPV0p1 \", \"initialStepSeeds \", \"firstStepPrimaryVerticesUnsorted \", \"TrackerCollisionSelectedTrackMonCommonhighPurityPt1 \", \"trackValidatorFromPVStandalone \", \"highPtTripletStepTrackCandidates \", \"source \", \"offlineBeamSpot \", \"trackValidatorAllTPEfficStandalone \", \"trackValidatorSeedingTrackingOnly \", \"TrackerCollisionSelectedTrackMonCommonhighPurityPtRange0to1 \", \"trackingParticleRecoTrackAsssociation \", \"trackingParticlesSignal \", \"unsortedOfflinePrimaryVertices \", \"siPixelClustersPreSplitting \", \"trackValidatorFromPVAllTPStandalone \", \"trackingParticleNumberOfLayersProducer \", \"siPixelRecHits \", \"MeasurementTrackerEvent \", \"TrackSplitMonitor \", \"initialStepSeedLayers \", \"trackValidatorTPPtLess09Standalone \", \"caloTowerForTrk \", \"tpClusterProducer \", \"ak4CaloJetsForTrk \", \"primaryVertexResolution \", \"trackValidatorBuilding \", \"highPtTripletStepTracks \", \"ecalDigis \", \"hcalDigis \", \"seedTracksinitialStepSeeds \", \"siPixelClusters \", \"simHitTPAssocProducer \", \"vertexAnalysisTrackingOnly \", \"TrackSeedMoninitialStep \", \"initialStepHitQuadruplets \", \"initialStepHitDoublets \", \"hfprereco \", \"trackValidatorBHadronTrackingOnly \", \"highPtTripletStepHitDoublets \", \"generalTracks \", \"highPtTripletStepSeeds \", \"TrackSeedMonhighPtTripletStep \", \"siPixelClusterShapeCache \", \"hfreco \", \"siPhase2Clusters \", \"seedTrackshighPtTripletStepSeeds \", \"highPtTripletStepHitTriplets \", \"initialStepSelector \", \"initialStepTrackingRegions \", \"initialStepTrackRefsForJets \", \"offlinePrimaryVerticesWithBS \", \"firstStepPrimaryVertices \", \"offlinePrimaryVertices \", \"TrackMon_ckf \", \"horeco \", \"ecalDetIdToBeRecovered \", \"highPtTripletStepClusters \", \"pvMonitor \", \"quickTrackAssociatorByHits \", \"scalersRawToDigi \", \"trackWithVertexRefSelectorBeforeSorting \", \"trackerClusterCheck \", \"DQMoutput \", \"DQMoutput_step \", \"MC_Dqmoffline_v2 \", \"MC_Tracking_v2 \", \"MC_prevalidation_v2 \", \"MC_validation_v2 \", \"PV0p1 \", \"TriggerResults \", \"VertexAssociatorByPositionAndTracks \", \"bunchSpacingProducer \", \"cutsRecoTracksBtvLike \", \"cutsRecoTracksFromPVHighPtTripletStep \", \"cutsRecoTracksFromPVHighPtTripletStepHp \", \"cutsRecoTracksFromPVHp \", \"cutsRecoTracksFromPVInitialStep \"], \"marker\": {\"line\": {\"color\": \"#000000\", \"width\": 0.2}}, \"sort\": true, \"textposition\": \"none\", \"type\": \"pie\", \"values\": [183.94, 64.78, 59.13, 41.21, 40.09, 38.8, 37.41, 32.44, 28.36, 25.47, 24.52, 24.38, 22.03, 21.32, 20.25, 17.44, 16.36, 15.79, 14.22, 13.87, 13.45, 13.23, 12.23, 11.82, 11.57, 10.29, 10.25, 10.25, 9.96, 8.27, 7.61, 6.99, 6.11, 5.73, 5.3, 3.44, 3.32, 3.25, 2.97, 2.96, 2.91, 2.54, 2.44, 2.35, 2.25, 1.92, 1.29, 0.88, 0.85, 0.83, 0.81, 0.78, 0.41, 0.36, 0.34, 0.32, 0.31, 0.29, 0.29, 0.28, 0.28, 0.27, 0.27, 0.26, 0.26, 0.26, 0.26, 0.26, 0.26, 0.26, 0.25, 0.25, 0.25, 0.25, 0.25, 0.25, 0.25, 0.25, 0.25, 0.25, 0.25, 0.25, 0.25, 0.25, 0.25]}, {\"direction\": \"clockwise\", \"domain\": {\"x\": [0.1, 0.9], \"y\": [0.05, 0.9]}, \"hole\": 0.5, \"labels\": [\"hbhereco \", \"initialStepTrackCandidates \", \"ecalMultiFitUncalibRecHit \", \"ecalRecHit \", \"trackValidatorTrackingOnly \", \"TrackerCollisionSelectedTrackMonCommongeneralTracks \", \"initialStepTracks \", \"TrackerCollisionSelectedTrackMonCommonhighPurityPV0p1 \", \"initialStepSeeds \", \"firstStepPrimaryVerticesUnsorted \", \"TrackerCollisionSelectedTrackMonCommonhighPurityPt1 \", \"trackValidatorFromPVStandalone \", \"highPtTripletStepTrackCandidates \", \"source \", \"offlineBeamSpot \", \"trackValidatorAllTPEfficStandalone \", \"trackValidatorSeedingTrackingOnly \", \"TrackerCollisionSelectedTrackMonCommonhighPurityPtRange0to1 \", \"trackingParticleRecoTrackAsssociation \", \"trackingParticlesSignal \", \"unsortedOfflinePrimaryVertices \", \"siPixelClustersPreSplitting \", \"trackValidatorFromPVAllTPStandalone \", \"trackingParticleNumberOfLayersProducer \", \"siPixelRecHits \", \"MeasurementTrackerEvent \", \"TrackSplitMonitor \", \"initialStepSeedLayers \", \"trackValidatorTPPtLess09Standalone \", \"caloTowerForTrk \", \"tpClusterProducer \", \"ak4CaloJetsForTrk \", \"primaryVertexResolution \", \"trackValidatorBuilding \", \"highPtTripletStepTracks \", \"ecalDigis \", \"hcalDigis \", \"seedTracksinitialStepSeeds \", \"siPixelClusters \", \"simHitTPAssocProducer \", \"vertexAnalysisTrackingOnly \", \"TrackSeedMoninitialStep \", \"initialStepHitQuadruplets \", \"initialStepHitDoublets \", \"hfprereco \", \"trackValidatorBHadronTrackingOnly \", \"highPtTripletStepHitDoublets \", \"generalTracks \", \"highPtTripletStepSeeds \", \"TrackSeedMonhighPtTripletStep \", \"siPixelClusterShapeCache \", \"hfreco \", \"siPhase2Clusters \", \"seedTrackshighPtTripletStepSeeds \", \"highPtTripletStepHitTriplets \", \"initialStepSelector \", \"initialStepTrackingRegions \", \"initialStepTrackRefsForJets \", \"offlinePrimaryVerticesWithBS \", \"firstStepPrimaryVertices \", \"offlinePrimaryVertices \", \"TrackMon_ckf \", \"horeco \", \"ecalDetIdToBeRecovered \", \"highPtTripletStepClusters \", \"pvMonitor \", \"quickTrackAssociatorByHits \", \"scalersRawToDigi \", \"trackWithVertexRefSelectorBeforeSorting \", \"trackerClusterCheck \", \"DQMoutput \", \"DQMoutput_step \", \"MC_Dqmoffline_v2 \", \"MC_Tracking_v2 \", \"MC_prevalidation_v2 \", \"MC_validation_v2 \", \"PV0p1 \", \"TriggerResults \", \"VertexAssociatorByPositionAndTracks \", \"bunchSpacingProducer \", \"cutsRecoTracksBtvLike \", \"cutsRecoTracksFromPVHighPtTripletStep \", \"cutsRecoTracksFromPVHighPtTripletStepHp \", \"cutsRecoTracksFromPVHp \", \"cutsRecoTracksFromPVInitialStep \", \"cutsRecoTracksFromPVInitialStepHp \", \"cutsRecoTracksFromPVPt09HighPtTripletStep \", \"cutsRecoTracksFromPVPt09HighPtTripletStepHp \", \"cutsRecoTracksFromPVPt09Hp \", \"cutsRecoTracksFromPVPt09InitialStep \", \"cutsRecoTracksFromPVPt09InitialStepHp \", \"cutsRecoTracksHighPtTripletStep \", \"cutsRecoTracksHighPtTripletStepByAlgoMask \", \"cutsRecoTracksHighPtTripletStepByAlgoMaskHp \", \"cutsRecoTracksHighPtTripletStepByOriginalAlgo \"], \"marker\": {\"line\": {\"color\": \"#000000\", \"width\": 0.2}}, \"sort\": true, \"textposition\": \"none\", \"type\": \"pie\", \"values\": [183.94, 64.78, 59.13, 41.21, 40.09, 38.8, 37.41, 32.44, 28.36, 25.47, 24.52, 24.38, 22.03, 21.32, 20.25, 17.44, 16.36, 15.79, 14.22, 13.87, 13.45, 13.23, 12.23, 11.82, 11.57, 10.29, 10.25, 10.25, 9.96, 8.27, 7.61, 6.99, 6.11, 5.73, 5.3, 3.44, 3.32, 3.25, 2.97, 2.96, 2.91, 2.54, 2.44, 2.35, 2.25, 1.92, 1.29, 0.88, 0.85, 0.83, 0.81, 0.78, 0.41, 0.36, 0.34, 0.32, 0.31, 0.29, 0.29, 0.28, 0.28, 0.27, 0.27, 0.26, 0.26, 0.26, 0.26, 0.26, 0.26, 0.26, 0.25, 0.25, 0.25, 0.25, 0.25, 0.25, 0.25, 0.25, 0.25, 0.25, 0.25, 0.25, 0.25, 0.25, 0.25, 0.25, 0.25, 0.25, 0.25, 0.25, 0.25, 0.25, 0.25, 0.25, 0.25]}, {\"direction\": \"clockwise\", \"domain\": {\"x\": [0.1, 0.9], \"y\": [0.05, 0.9]}, \"hole\": 0.5, \"labels\": [\"hbhereco \", \"initialStepTrackCandidates \", \"ecalMultiFitUncalibRecHit \", \"ecalRecHit \", \"trackValidatorTrackingOnly \", \"TrackerCollisionSelectedTrackMonCommongeneralTracks \", \"initialStepTracks \", \"TrackerCollisionSelectedTrackMonCommonhighPurityPV0p1 \", \"initialStepSeeds \", \"firstStepPrimaryVerticesUnsorted \", \"TrackerCollisionSelectedTrackMonCommonhighPurityPt1 \", \"trackValidatorFromPVStandalone \", \"highPtTripletStepTrackCandidates \", \"source \", \"offlineBeamSpot \", \"trackValidatorAllTPEfficStandalone \", \"trackValidatorSeedingTrackingOnly \", \"TrackerCollisionSelectedTrackMonCommonhighPurityPtRange0to1 \", \"trackingParticleRecoTrackAsssociation \", \"trackingParticlesSignal \", \"unsortedOfflinePrimaryVertices \", \"siPixelClustersPreSplitting \", \"trackValidatorFromPVAllTPStandalone \", \"trackingParticleNumberOfLayersProducer \", \"siPixelRecHits \", \"MeasurementTrackerEvent \", \"TrackSplitMonitor \", \"initialStepSeedLayers \", \"trackValidatorTPPtLess09Standalone \", \"caloTowerForTrk \", \"tpClusterProducer \", \"ak4CaloJetsForTrk \", \"primaryVertexResolution \", \"trackValidatorBuilding \", \"highPtTripletStepTracks \", \"ecalDigis \", \"hcalDigis \", \"seedTracksinitialStepSeeds \", \"siPixelClusters \", \"simHitTPAssocProducer \", \"vertexAnalysisTrackingOnly \", \"TrackSeedMoninitialStep \", \"initialStepHitQuadruplets \", \"initialStepHitDoublets \", \"hfprereco \", \"trackValidatorBHadronTrackingOnly \", \"highPtTripletStepHitDoublets \", \"generalTracks \", \"highPtTripletStepSeeds \", \"TrackSeedMonhighPtTripletStep \", \"siPixelClusterShapeCache \", \"hfreco \", \"siPhase2Clusters \", \"seedTrackshighPtTripletStepSeeds \", \"highPtTripletStepHitTriplets \", \"initialStepSelector \", \"initialStepTrackingRegions \", \"initialStepTrackRefsForJets \", \"offlinePrimaryVerticesWithBS \", \"firstStepPrimaryVertices \", \"offlinePrimaryVertices \", \"TrackMon_ckf \", \"horeco \", \"ecalDetIdToBeRecovered \", \"highPtTripletStepClusters \", \"pvMonitor \", \"quickTrackAssociatorByHits \", \"scalersRawToDigi \", \"trackWithVertexRefSelectorBeforeSorting \", \"trackerClusterCheck \", \"DQMoutput \", \"DQMoutput_step \", \"MC_Dqmoffline_v2 \", \"MC_Tracking_v2 \", \"MC_prevalidation_v2 \", \"MC_validation_v2 \", \"PV0p1 \", \"TriggerResults \", \"VertexAssociatorByPositionAndTracks \", \"bunchSpacingProducer \", \"cutsRecoTracksBtvLike \", \"cutsRecoTracksFromPVHighPtTripletStep \", \"cutsRecoTracksFromPVHighPtTripletStepHp \", \"cutsRecoTracksFromPVHp \", \"cutsRecoTracksFromPVInitialStep \", \"cutsRecoTracksFromPVInitialStepHp \", \"cutsRecoTracksFromPVPt09HighPtTripletStep \", \"cutsRecoTracksFromPVPt09HighPtTripletStepHp \", \"cutsRecoTracksFromPVPt09Hp \", \"cutsRecoTracksFromPVPt09InitialStep \", \"cutsRecoTracksFromPVPt09InitialStepHp \", \"cutsRecoTracksHighPtTripletStep \", \"cutsRecoTracksHighPtTripletStepByAlgoMask \", \"cutsRecoTracksHighPtTripletStepByAlgoMaskHp \", \"cutsRecoTracksHighPtTripletStepByOriginalAlgo \", \"cutsRecoTracksHighPtTripletStepByOriginalAlgoHp \", \"cutsRecoTracksHighPtTripletStepHp \", \"cutsRecoTracksHp \", \"cutsRecoTracksInitialStep \", \"cutsRecoTracksInitialStepByAlgoMask \", \"cutsRecoTracksInitialStepByAlgoMaskHp \", \"cutsRecoTracksInitialStepByOriginalAlgo \", \"cutsRecoTracksInitialStepByOriginalAlgoHp \", \"cutsRecoTracksInitialStepHp \", \"cutsRecoTracksPt09HighPtTripletStep \"], \"marker\": {\"line\": {\"color\": \"#000000\", \"width\": 0.2}}, \"sort\": true, \"textposition\": \"none\", \"type\": \"pie\", \"values\": [183.94, 64.78, 59.13, 41.21, 40.09, 38.8, 37.41, 32.44, 28.36, 25.47, 24.52, 24.38, 22.03, 21.32, 20.25, 17.44, 16.36, 15.79, 14.22, 13.87, 13.45, 13.23, 12.23, 11.82, 11.57, 10.29, 10.25, 10.25, 9.96, 8.27, 7.61, 6.99, 6.11, 5.73, 5.3, 3.44, 3.32, 3.25, 2.97, 2.96, 2.91, 2.54, 2.44, 2.35, 2.25, 1.92, 1.29, 0.88, 0.85, 0.83, 0.81, 0.78, 0.41, 0.36, 0.34, 0.32, 0.31, 0.29, 0.29, 0.28, 0.28, 0.27, 0.27, 0.26, 0.26, 0.26, 0.26, 0.26, 0.26, 0.26, 0.25, 0.25, 0.25, 0.25, 0.25, 0.25, 0.25, 0.25, 0.25, 0.25, 0.25, 0.25, 0.25, 0.25, 0.25, 0.25, 0.25, 0.25, 0.25, 0.25, 0.25, 0.25, 0.25, 0.25, 0.25, 0.25, 0.25, 0.25, 0.25, 0.25, 0.25, 0.25, 0.25, 0.25, 0.25]}, {\"direction\": \"clockwise\", \"domain\": {\"x\": [0.1, 0.9], \"y\": [0.05, 0.9]}, \"hole\": 0.5, \"labels\": [\"hbhereco \", \"initialStepTrackCandidates \", \"ecalMultiFitUncalibRecHit \", \"ecalRecHit \", \"trackValidatorTrackingOnly \", \"TrackerCollisionSelectedTrackMonCommongeneralTracks \", \"initialStepTracks \", \"TrackerCollisionSelectedTrackMonCommonhighPurityPV0p1 \", \"initialStepSeeds \", \"firstStepPrimaryVerticesUnsorted \", \"TrackerCollisionSelectedTrackMonCommonhighPurityPt1 \", \"trackValidatorFromPVStandalone \", \"highPtTripletStepTrackCandidates \", \"source \", \"offlineBeamSpot \", \"trackValidatorAllTPEfficStandalone \", \"trackValidatorSeedingTrackingOnly \", \"TrackerCollisionSelectedTrackMonCommonhighPurityPtRange0to1 \", \"trackingParticleRecoTrackAsssociation \", \"trackingParticlesSignal \", \"unsortedOfflinePrimaryVertices \", \"siPixelClustersPreSplitting \", \"trackValidatorFromPVAllTPStandalone \", \"trackingParticleNumberOfLayersProducer \", \"siPixelRecHits \", \"MeasurementTrackerEvent \", \"TrackSplitMonitor \", \"initialStepSeedLayers \", \"trackValidatorTPPtLess09Standalone \", \"caloTowerForTrk \", \"tpClusterProducer \", \"ak4CaloJetsForTrk \", \"primaryVertexResolution \", \"trackValidatorBuilding \", \"highPtTripletStepTracks \", \"ecalDigis \", \"hcalDigis \", \"seedTracksinitialStepSeeds \", \"siPixelClusters \", \"simHitTPAssocProducer \", \"vertexAnalysisTrackingOnly \", \"TrackSeedMoninitialStep \", \"initialStepHitQuadruplets \", \"initialStepHitDoublets \", \"hfprereco \", \"trackValidatorBHadronTrackingOnly \", \"highPtTripletStepHitDoublets \", \"generalTracks \", \"highPtTripletStepSeeds \", \"TrackSeedMonhighPtTripletStep \", \"siPixelClusterShapeCache \", \"hfreco \", \"siPhase2Clusters \", \"seedTrackshighPtTripletStepSeeds \", \"highPtTripletStepHitTriplets \", \"initialStepSelector \", \"initialStepTrackingRegions \", \"initialStepTrackRefsForJets \", \"offlinePrimaryVerticesWithBS \", \"firstStepPrimaryVertices \", \"offlinePrimaryVertices \", \"TrackMon_ckf \", \"horeco \", \"ecalDetIdToBeRecovered \", \"highPtTripletStepClusters \", \"pvMonitor \", \"quickTrackAssociatorByHits \", \"scalersRawToDigi \", \"trackWithVertexRefSelectorBeforeSorting \", \"trackerClusterCheck \", \"DQMoutput \", \"DQMoutput_step \", \"MC_Dqmoffline_v2 \", \"MC_Tracking_v2 \", \"MC_prevalidation_v2 \", \"MC_validation_v2 \", \"PV0p1 \", \"TriggerResults \", \"VertexAssociatorByPositionAndTracks \", \"bunchSpacingProducer \", \"cutsRecoTracksBtvLike \", \"cutsRecoTracksFromPVHighPtTripletStep \", \"cutsRecoTracksFromPVHighPtTripletStepHp \", \"cutsRecoTracksFromPVHp \", \"cutsRecoTracksFromPVInitialStep \", \"cutsRecoTracksFromPVInitialStepHp \", \"cutsRecoTracksFromPVPt09HighPtTripletStep \", \"cutsRecoTracksFromPVPt09HighPtTripletStepHp \", \"cutsRecoTracksFromPVPt09Hp \", \"cutsRecoTracksFromPVPt09InitialStep \", \"cutsRecoTracksFromPVPt09InitialStepHp \", \"cutsRecoTracksHighPtTripletStep \", \"cutsRecoTracksHighPtTripletStepByAlgoMask \", \"cutsRecoTracksHighPtTripletStepByAlgoMaskHp \", \"cutsRecoTracksHighPtTripletStepByOriginalAlgo \", \"cutsRecoTracksHighPtTripletStepByOriginalAlgoHp \", \"cutsRecoTracksHighPtTripletStepHp \", \"cutsRecoTracksHp \", \"cutsRecoTracksInitialStep \", \"cutsRecoTracksInitialStepByAlgoMask \", \"cutsRecoTracksInitialStepByAlgoMaskHp \", \"cutsRecoTracksInitialStepByOriginalAlgo \", \"cutsRecoTracksInitialStepByOriginalAlgoHp \", \"cutsRecoTracksInitialStepHp \", \"cutsRecoTracksPt09HighPtTripletStep \", \"cutsRecoTracksPt09HighPtTripletStepHp \", \"cutsRecoTracksPt09Hp \", \"cutsRecoTracksPt09InitialStep \", \"cutsRecoTracksPt09InitialStepHp \", \"dqmInfoTracking \", \"generalTracksFromPV \", \"generalTracksFromPVPt09 \", \"generalTracksPt09 \", \"highPtTripletStepSeedClusterMask \", \"highPtTripletStepSeedLayers \"], \"marker\": {\"line\": {\"color\": \"#000000\", \"width\": 0.2}}, \"sort\": true, \"textposition\": \"none\", \"type\": \"pie\", \"values\": [183.94, 64.78, 59.13, 41.21, 40.09, 38.8, 37.41, 32.44, 28.36, 25.47, 24.52, 24.38, 22.03, 21.32, 20.25, 17.44, 16.36, 15.79, 14.22, 13.87, 13.45, 13.23, 12.23, 11.82, 11.57, 10.29, 10.25, 10.25, 9.96, 8.27, 7.61, 6.99, 6.11, 5.73, 5.3, 3.44, 3.32, 3.25, 2.97, 2.96, 2.91, 2.54, 2.44, 2.35, 2.25, 1.92, 1.29, 0.88, 0.85, 0.83, 0.81, 0.78, 0.41, 0.36, 0.34, 0.32, 0.31, 0.29, 0.29, 0.28, 0.28, 0.27, 0.27, 0.26, 0.26, 0.26, 0.26, 0.26, 0.26, 0.26, 0.25, 0.25, 0.25, 0.25, 0.25, 0.25, 0.25, 0.25, 0.25, 0.25, 0.25, 0.25, 0.25, 0.25, 0.25, 0.25, 0.25, 0.25, 0.25, 0.25, 0.25, 0.25, 0.25, 0.25, 0.25, 0.25, 0.25, 0.25, 0.25, 0.25, 0.25, 0.25, 0.25, 0.25, 0.25, 0.25, 0.25, 0.25, 0.25, 0.25, 0.25, 0.25, 0.25, 0.25, 0.25]}, {\"direction\": \"clockwise\", \"domain\": {\"x\": [0.1, 0.9], \"y\": [0.05, 0.9]}, \"hole\": 0.5, \"labels\": [\"hbhereco \", \"initialStepTrackCandidates \", \"ecalMultiFitUncalibRecHit \", \"ecalRecHit \", \"trackValidatorTrackingOnly \", \"TrackerCollisionSelectedTrackMonCommongeneralTracks \", \"initialStepTracks \", \"TrackerCollisionSelectedTrackMonCommonhighPurityPV0p1 \", \"initialStepSeeds \", \"firstStepPrimaryVerticesUnsorted \", \"TrackerCollisionSelectedTrackMonCommonhighPurityPt1 \", \"trackValidatorFromPVStandalone \", \"highPtTripletStepTrackCandidates \", \"source \", \"offlineBeamSpot \", \"trackValidatorAllTPEfficStandalone \", \"trackValidatorSeedingTrackingOnly \", \"TrackerCollisionSelectedTrackMonCommonhighPurityPtRange0to1 \", \"trackingParticleRecoTrackAsssociation \", \"trackingParticlesSignal \", \"unsortedOfflinePrimaryVertices \", \"siPixelClustersPreSplitting \", \"trackValidatorFromPVAllTPStandalone \", \"trackingParticleNumberOfLayersProducer \", \"siPixelRecHits \", \"MeasurementTrackerEvent \", \"TrackSplitMonitor \", \"initialStepSeedLayers \", \"trackValidatorTPPtLess09Standalone \", \"caloTowerForTrk \", \"tpClusterProducer \", \"ak4CaloJetsForTrk \", \"primaryVertexResolution \", \"trackValidatorBuilding \", \"highPtTripletStepTracks \", \"ecalDigis \", \"hcalDigis \", \"seedTracksinitialStepSeeds \", \"siPixelClusters \", \"simHitTPAssocProducer \", \"vertexAnalysisTrackingOnly \", \"TrackSeedMoninitialStep \", \"initialStepHitQuadruplets \", \"initialStepHitDoublets \", \"hfprereco \", \"trackValidatorBHadronTrackingOnly \", \"highPtTripletStepHitDoublets \", \"generalTracks \", \"highPtTripletStepSeeds \", \"TrackSeedMonhighPtTripletStep \", \"siPixelClusterShapeCache \", \"hfreco \", \"siPhase2Clusters \", \"seedTrackshighPtTripletStepSeeds \", \"highPtTripletStepHitTriplets \", \"initialStepSelector \", \"initialStepTrackingRegions \", \"initialStepTrackRefsForJets \", \"offlinePrimaryVerticesWithBS \", \"firstStepPrimaryVertices \", \"offlinePrimaryVertices \", \"TrackMon_ckf \", \"horeco \", \"ecalDetIdToBeRecovered \", \"highPtTripletStepClusters \", \"pvMonitor \", \"quickTrackAssociatorByHits \", \"scalersRawToDigi \", \"trackWithVertexRefSelectorBeforeSorting \", \"trackerClusterCheck \", \"DQMoutput \", \"DQMoutput_step \", \"MC_Dqmoffline_v2 \", \"MC_Tracking_v2 \", \"MC_prevalidation_v2 \", \"MC_validation_v2 \", \"PV0p1 \", \"TriggerResults \", \"VertexAssociatorByPositionAndTracks \", \"bunchSpacingProducer \", \"cutsRecoTracksBtvLike \", \"cutsRecoTracksFromPVHighPtTripletStep \", \"cutsRecoTracksFromPVHighPtTripletStepHp \", \"cutsRecoTracksFromPVHp \", \"cutsRecoTracksFromPVInitialStep \", \"cutsRecoTracksFromPVInitialStepHp \", \"cutsRecoTracksFromPVPt09HighPtTripletStep \", \"cutsRecoTracksFromPVPt09HighPtTripletStepHp \", \"cutsRecoTracksFromPVPt09Hp \", \"cutsRecoTracksFromPVPt09InitialStep \", \"cutsRecoTracksFromPVPt09InitialStepHp \", \"cutsRecoTracksHighPtTripletStep \", \"cutsRecoTracksHighPtTripletStepByAlgoMask \", \"cutsRecoTracksHighPtTripletStepByAlgoMaskHp \", \"cutsRecoTracksHighPtTripletStepByOriginalAlgo \", \"cutsRecoTracksHighPtTripletStepByOriginalAlgoHp \", \"cutsRecoTracksHighPtTripletStepHp \", \"cutsRecoTracksHp \", \"cutsRecoTracksInitialStep \", \"cutsRecoTracksInitialStepByAlgoMask \", \"cutsRecoTracksInitialStepByAlgoMaskHp \", \"cutsRecoTracksInitialStepByOriginalAlgo \", \"cutsRecoTracksInitialStepByOriginalAlgoHp \", \"cutsRecoTracksInitialStepHp \", \"cutsRecoTracksPt09HighPtTripletStep \", \"cutsRecoTracksPt09HighPtTripletStepHp \", \"cutsRecoTracksPt09Hp \", \"cutsRecoTracksPt09InitialStep \", \"cutsRecoTracksPt09InitialStepHp \", \"dqmInfoTracking \", \"generalTracksFromPV \", \"generalTracksFromPVPt09 \", \"generalTracksPt09 \", \"highPtTripletStepSeedClusterMask \", \"highPtTripletStepSeedLayers \", \"highPtTripletStepSelector \", \"highPtTripletStepTrackingRegions \", \"highPurityPV0p1 \", \"highPurityPt1 \", \"highPurityPtRange0to1 \", \"inclusiveSecondaryVertices \", \"inclusiveVertexFinder \", \"initialStepSeedClusterMask \", \"muonCSCDigis \", \"muonDTDigis \"], \"marker\": {\"line\": {\"color\": \"#000000\", \"width\": 0.2}}, \"sort\": true, \"textposition\": \"none\", \"type\": \"pie\", \"values\": [183.94, 64.78, 59.13, 41.21, 40.09, 38.8, 37.41, 32.44, 28.36, 25.47, 24.52, 24.38, 22.03, 21.32, 20.25, 17.44, 16.36, 15.79, 14.22, 13.87, 13.45, 13.23, 12.23, 11.82, 11.57, 10.29, 10.25, 10.25, 9.96, 8.27, 7.61, 6.99, 6.11, 5.73, 5.3, 3.44, 3.32, 3.25, 2.97, 2.96, 2.91, 2.54, 2.44, 2.35, 2.25, 1.92, 1.29, 0.88, 0.85, 0.83, 0.81, 0.78, 0.41, 0.36, 0.34, 0.32, 0.31, 0.29, 0.29, 0.28, 0.28, 0.27, 0.27, 0.26, 0.26, 0.26, 0.26, 0.26, 0.26, 0.26, 0.25, 0.25, 0.25, 0.25, 0.25, 0.25, 0.25, 0.25, 0.25, 0.25, 0.25, 0.25, 0.25, 0.25, 0.25, 0.25, 0.25, 0.25, 0.25, 0.25, 0.25, 0.25, 0.25, 0.25, 0.25, 0.25, 0.25, 0.25, 0.25, 0.25, 0.25, 0.25, 0.25, 0.25, 0.25, 0.25, 0.25, 0.25, 0.25, 0.25, 0.25, 0.25, 0.25, 0.25, 0.25, 0.25, 0.25, 0.25, 0.25, 0.25, 0.25, 0.25, 0.25, 0.25, 0.25]}, {\"direction\": \"clockwise\", \"domain\": {\"x\": [0.1, 0.9], \"y\": [0.05, 0.9]}, \"hole\": 0.5, \"labels\": [\"hbhereco \", \"initialStepTrackCandidates \", \"ecalMultiFitUncalibRecHit \", \"ecalRecHit \", \"trackValidatorTrackingOnly \", \"TrackerCollisionSelectedTrackMonCommongeneralTracks \", \"initialStepTracks \", \"TrackerCollisionSelectedTrackMonCommonhighPurityPV0p1 \", \"initialStepSeeds \", \"firstStepPrimaryVerticesUnsorted \", \"TrackerCollisionSelectedTrackMonCommonhighPurityPt1 \", \"trackValidatorFromPVStandalone \", \"highPtTripletStepTrackCandidates \", \"source \", \"offlineBeamSpot \", \"trackValidatorAllTPEfficStandalone \", \"trackValidatorSeedingTrackingOnly \", \"TrackerCollisionSelectedTrackMonCommonhighPurityPtRange0to1 \", \"trackingParticleRecoTrackAsssociation \", \"trackingParticlesSignal \", \"unsortedOfflinePrimaryVertices \", \"siPixelClustersPreSplitting \", \"trackValidatorFromPVAllTPStandalone \", \"trackingParticleNumberOfLayersProducer \", \"siPixelRecHits \", \"MeasurementTrackerEvent \", \"TrackSplitMonitor \", \"initialStepSeedLayers \", \"trackValidatorTPPtLess09Standalone \", \"caloTowerForTrk \", \"tpClusterProducer \", \"ak4CaloJetsForTrk \", \"primaryVertexResolution \", \"trackValidatorBuilding \", \"highPtTripletStepTracks \", \"ecalDigis \", \"hcalDigis \", \"seedTracksinitialStepSeeds \", \"siPixelClusters \", \"simHitTPAssocProducer \", \"vertexAnalysisTrackingOnly \", \"TrackSeedMoninitialStep \", \"initialStepHitQuadruplets \", \"initialStepHitDoublets \", \"hfprereco \", \"trackValidatorBHadronTrackingOnly \", \"highPtTripletStepHitDoublets \", \"generalTracks \", \"highPtTripletStepSeeds \", \"TrackSeedMonhighPtTripletStep \", \"siPixelClusterShapeCache \", \"hfreco \", \"siPhase2Clusters \", \"seedTrackshighPtTripletStepSeeds \", \"highPtTripletStepHitTriplets \", \"initialStepSelector \", \"initialStepTrackingRegions \", \"initialStepTrackRefsForJets \", \"offlinePrimaryVerticesWithBS \", \"firstStepPrimaryVertices \", \"offlinePrimaryVertices \", \"TrackMon_ckf \", \"horeco \", \"ecalDetIdToBeRecovered \", \"highPtTripletStepClusters \", \"pvMonitor \", \"quickTrackAssociatorByHits \", \"scalersRawToDigi \", \"trackWithVertexRefSelectorBeforeSorting \", \"trackerClusterCheck \", \"DQMoutput \", \"DQMoutput_step \", \"MC_Dqmoffline_v2 \", \"MC_Tracking_v2 \", \"MC_prevalidation_v2 \", \"MC_validation_v2 \", \"PV0p1 \", \"TriggerResults \", \"VertexAssociatorByPositionAndTracks \", \"bunchSpacingProducer \", \"cutsRecoTracksBtvLike \", \"cutsRecoTracksFromPVHighPtTripletStep \", \"cutsRecoTracksFromPVHighPtTripletStepHp \", \"cutsRecoTracksFromPVHp \", \"cutsRecoTracksFromPVInitialStep \", \"cutsRecoTracksFromPVInitialStepHp \", \"cutsRecoTracksFromPVPt09HighPtTripletStep \", \"cutsRecoTracksFromPVPt09HighPtTripletStepHp \", \"cutsRecoTracksFromPVPt09Hp \", \"cutsRecoTracksFromPVPt09InitialStep \", \"cutsRecoTracksFromPVPt09InitialStepHp \", \"cutsRecoTracksHighPtTripletStep \", \"cutsRecoTracksHighPtTripletStepByAlgoMask \", \"cutsRecoTracksHighPtTripletStepByAlgoMaskHp \", \"cutsRecoTracksHighPtTripletStepByOriginalAlgo \", \"cutsRecoTracksHighPtTripletStepByOriginalAlgoHp \", \"cutsRecoTracksHighPtTripletStepHp \", \"cutsRecoTracksHp \", \"cutsRecoTracksInitialStep \", \"cutsRecoTracksInitialStepByAlgoMask \", \"cutsRecoTracksInitialStepByAlgoMaskHp \", \"cutsRecoTracksInitialStepByOriginalAlgo \", \"cutsRecoTracksInitialStepByOriginalAlgoHp \", \"cutsRecoTracksInitialStepHp \", \"cutsRecoTracksPt09HighPtTripletStep \", \"cutsRecoTracksPt09HighPtTripletStepHp \", \"cutsRecoTracksPt09Hp \", \"cutsRecoTracksPt09InitialStep \", \"cutsRecoTracksPt09InitialStepHp \", \"dqmInfoTracking \", \"generalTracksFromPV \", \"generalTracksFromPVPt09 \", \"generalTracksPt09 \", \"highPtTripletStepSeedClusterMask \", \"highPtTripletStepSeedLayers \", \"highPtTripletStepSelector \", \"highPtTripletStepTrackingRegions \", \"highPurityPV0p1 \", \"highPurityPt1 \", \"highPurityPtRange0to1 \", \"inclusiveSecondaryVertices \", \"inclusiveVertexFinder \", \"initialStepSeedClusterMask \", \"muonCSCDigis \", \"muonDTDigis \", \"muonGEMDigis \", \"muonRPCDigis \", \"muonRPCNewDigis \", \"quickTrackAssociatorByHitsPreSplitting \", \"raw2digi_step \", \"selectedOfflinePrimaryVertices \", \"selectedOfflinePrimaryVerticesWithBS \", \"siPixelRecHitsPreSplitting \", \"tpClusterProducerPreSplitting \", \"trackRefsForJetsBeforeSorting \"], \"marker\": {\"line\": {\"color\": \"#000000\", \"width\": 0.2}}, \"sort\": true, \"textposition\": \"none\", \"type\": \"pie\", \"values\": [183.94, 64.78, 59.13, 41.21, 40.09, 38.8, 37.41, 32.44, 28.36, 25.47, 24.52, 24.38, 22.03, 21.32, 20.25, 17.44, 16.36, 15.79, 14.22, 13.87, 13.45, 13.23, 12.23, 11.82, 11.57, 10.29, 10.25, 10.25, 9.96, 8.27, 7.61, 6.99, 6.11, 5.73, 5.3, 3.44, 3.32, 3.25, 2.97, 2.96, 2.91, 2.54, 2.44, 2.35, 2.25, 1.92, 1.29, 0.88, 0.85, 0.83, 0.81, 0.78, 0.41, 0.36, 0.34, 0.32, 0.31, 0.29, 0.29, 0.28, 0.28, 0.27, 0.27, 0.26, 0.26, 0.26, 0.26, 0.26, 0.26, 0.26, 0.25, 0.25, 0.25, 0.25, 0.25, 0.25, 0.25, 0.25, 0.25, 0.25, 0.25, 0.25, 0.25, 0.25, 0.25, 0.25, 0.25, 0.25, 0.25, 0.25, 0.25, 0.25, 0.25, 0.25, 0.25, 0.25, 0.25, 0.25, 0.25, 0.25, 0.25, 0.25, 0.25, 0.25, 0.25, 0.25, 0.25, 0.25, 0.25, 0.25, 0.25, 0.25, 0.25, 0.25, 0.25, 0.25, 0.25, 0.25, 0.25, 0.25, 0.25, 0.25, 0.25, 0.25, 0.25, 0.25, 0.25, 0.25, 0.25, 0.25, 0.25, 0.25, 0.25, 0.25, 0.25]}, {\"direction\": \"clockwise\", \"domain\": {\"x\": [0.1, 0.9], \"y\": [0.05, 0.9]}, \"hole\": 0.5, \"labels\": [\"hbhereco \", \"initialStepTrackCandidates \", \"ecalMultiFitUncalibRecHit \", \"ecalRecHit \", \"trackValidatorTrackingOnly \", \"TrackerCollisionSelectedTrackMonCommongeneralTracks \", \"initialStepTracks \", \"TrackerCollisionSelectedTrackMonCommonhighPurityPV0p1 \", \"initialStepSeeds \", \"firstStepPrimaryVerticesUnsorted \", \"TrackerCollisionSelectedTrackMonCommonhighPurityPt1 \", \"trackValidatorFromPVStandalone \", \"highPtTripletStepTrackCandidates \", \"source \", \"offlineBeamSpot \", \"trackValidatorAllTPEfficStandalone \", \"trackValidatorSeedingTrackingOnly \", \"TrackerCollisionSelectedTrackMonCommonhighPurityPtRange0to1 \", \"trackingParticleRecoTrackAsssociation \", \"trackingParticlesSignal \", \"unsortedOfflinePrimaryVertices \", \"siPixelClustersPreSplitting \", \"trackValidatorFromPVAllTPStandalone \", \"trackingParticleNumberOfLayersProducer \", \"siPixelRecHits \", \"MeasurementTrackerEvent \", \"initialStepSeedLayers \", \"TrackSplitMonitor \", \"trackValidatorTPPtLess09Standalone \", \"caloTowerForTrk \", \"tpClusterProducer \", \"ak4CaloJetsForTrk \", \"primaryVertexResolution \", \"trackValidatorBuilding \", \"highPtTripletStepTracks \", \"ecalDigis \", \"hcalDigis \", \"seedTracksinitialStepSeeds \", \"siPixelClusters \", \"simHitTPAssocProducer \", \"vertexAnalysisTrackingOnly \", \"TrackSeedMoninitialStep \", \"initialStepHitQuadruplets \", \"initialStepHitDoublets \", \"hfprereco \", \"trackValidatorBHadronTrackingOnly \", \"highPtTripletStepHitDoublets \", \"generalTracks \", \"highPtTripletStepSeeds \", \"TrackSeedMonhighPtTripletStep \", \"siPixelClusterShapeCache \", \"hfreco \", \"siPhase2Clusters \", \"seedTrackshighPtTripletStepSeeds \", \"highPtTripletStepHitTriplets \", \"initialStepSelector \", \"initialStepTrackingRegions \", \"initialStepTrackRefsForJets \", \"offlinePrimaryVerticesWithBS \", \"firstStepPrimaryVertices \", \"offlinePrimaryVertices \", \"TrackMon_ckf \", \"horeco \", \"trackerClusterCheck \", \"trackWithVertexRefSelectorBeforeSorting \", \"ecalDetIdToBeRecovered \", \"scalersRawToDigi \", \"pvMonitor \", \"highPtTripletStepClusters \", \"quickTrackAssociatorByHits \", \"tpClusterProducerPreSplitting \", \"muonDTDigis \", \"v0Validator \", \"raw2digi_step \", \"trackingParticlesElectron \", \"trackingParticlesConversion \", \"trackingDQMgoodOfflinePrimaryVertices \", \"selectedOfflinePrimaryVertices \", \"muonCSCDigis \", \"muonGEMDigis \", \"muonRPCDigis \", \"muonRPCNewDigis \", \"trackVertexArbitrator \", \"trackValidatorSeedingPreSplittingTrackingOnly \", \"selectedOfflinePrimaryVerticesWithBS \", \"quickTrackAssociatorByHitsPreSplitting \", \"trackRefsForJetsBeforeSorting \", \"siPixelRecHitsPreSplitting \", \"trackValidatorBuildingPreSplitting \", \"highPtTripletStepSeedLayers \", \"initialStepSeedClusterMask \", \"cutsRecoTracksHighPtTripletStepByOriginalAlgo \", \"cutsRecoTracksHighPtTripletStepByAlgoMask \", \"cutsRecoTracksHighPtTripletStep \", \"cutsRecoTracksFromPVPt09InitialStepHp \", \"cutsRecoTracksFromPVPt09InitialStep \", \"cutsRecoTracksFromPVPt09Hp \", \"cutsRecoTracksFromPVPt09HighPtTripletStepHp \", \"cutsRecoTracksFromPVPt09HighPtTripletStep \", \"cutsRecoTracksFromPVInitialStepHp \", \"cutsRecoTracksFromPVInitialStep \", \"cutsRecoTracksFromPVHp \", \"cutsRecoTracksFromPVHighPtTripletStepHp \", \"cutsRecoTracksFromPVHighPtTripletStep \", \"cutsRecoTracksBtvLike \", \"bunchSpacingProducer \", \"VertexAssociatorByPositionAndTracks \", \"TriggerResults \", \"PV0p1 \", \"MC_validation_v2 \", \"MC_prevalidation_v2 \", \"MC_Tracking_v2 \", \"MC_Dqmoffline_v2 \", \"DQMoutput_step \", \"DQMoutput \", \"cutsRecoTracksHighPtTripletStepByAlgoMaskHp \", \"cutsRecoTracksHighPtTripletStepByOriginalAlgoHp \", \"inclusiveVertexFinder \", \"cutsRecoTracksHighPtTripletStepHp \", \"inclusiveSecondaryVertices \", \"highPurityPtRange0to1 \", \"highPurityPt1 \", \"highPurityPV0p1 \", \"highPtTripletStepTrackingRegions \", \"highPtTripletStepSelector \", \"highPtTripletStepSeedClusterMask \", \"generalTracksPt09 \", \"generalTracksFromPVPt09 \", \"generalTracksFromPV \", \"dqmInfoTracking \", \"cutsRecoTracksPt09InitialStepHp \", \"cutsRecoTracksPt09InitialStep \", \"cutsRecoTracksPt09Hp \", \"cutsRecoTracksPt09HighPtTripletStepHp \", \"cutsRecoTracksPt09HighPtTripletStep \", \"cutsRecoTracksInitialStepHp \", \"cutsRecoTracksInitialStepByOriginalAlgoHp \", \"cutsRecoTracksInitialStepByOriginalAlgo \", \"cutsRecoTracksInitialStepByAlgoMaskHp \", \"cutsRecoTracksInitialStepByAlgoMask \", \"cutsRecoTracksInitialStep \", \"cutsRecoTracksHp \", \"vertexMerger \"], \"marker\": {\"line\": {\"color\": \"#000000\", \"width\": 0.2}}, \"sort\": true, \"textposition\": \"none\", \"type\": \"pie\", \"values\": [183.94, 64.78, 59.13, 41.21, 40.09, 38.8, 37.41, 32.44, 28.36, 25.47, 24.52, 24.38, 22.03, 21.32, 20.25, 17.44, 16.36, 15.79, 14.22, 13.87, 13.45, 13.23, 12.23, 11.82, 11.57, 10.29, 10.25, 10.25, 9.96, 8.27, 7.61, 6.99, 6.11, 5.73, 5.3, 3.44, 3.32, 3.25, 2.97, 2.96, 2.91, 2.54, 2.44, 2.35, 2.25, 1.92, 1.29, 0.88, 0.85, 0.83, 0.81, 0.78, 0.41, 0.36, 0.34, 0.32, 0.31, 0.29, 0.29, 0.28, 0.28, 0.27, 0.27, 0.26, 0.26, 0.26, 0.26, 0.26, 0.26, 0.26, 0.25, 0.25, 0.25, 0.25, 0.25, 0.25, 0.25, 0.25, 0.25, 0.25, 0.25, 0.25, 0.25, 0.25, 0.25, 0.25, 0.25, 0.25, 0.25, 0.25, 0.25, 0.25, 0.25, 0.25, 0.25, 0.25, 0.25, 0.25, 0.25, 0.25, 0.25, 0.25, 0.25, 0.25, 0.25, 0.25, 0.25, 0.25, 0.25, 0.25, 0.25, 0.25, 0.25, 0.25, 0.25, 0.25, 0.25, 0.25, 0.25, 0.25, 0.25, 0.25, 0.25, 0.25, 0.25, 0.25, 0.25, 0.25, 0.25, 0.25, 0.25, 0.25, 0.25, 0.25, 0.25, 0.25, 0.25, 0.25, 0.25, 0.25, 0.25, 0.25, 0.25]}, {\"direction\": \"clockwise\", \"domain\": {\"x\": [0.1, 0.9], \"y\": [0.05, 0.9]}, \"hole\": 0.75, \"labels\": [], \"marker\": {\"line\": {\"color\": \"#000000\", \"width\": 0.2}}, \"sort\": true, \"textposition\": \"none\", \"type\": \"pie\", \"values\": []}, {\"direction\": \"clockwise\", \"domain\": {\"x\": [0.1, 0.9], \"y\": [0.05, 0.9]}, \"hole\": 0.75, \"labels\": [\"unsortedOfflinePrimaryVertices \", \"trackValidatorTrackingOnly \", \"TrackerCollisionSelectedTrackMonCommongeneralTracks \", \"trackValidatorSeedingTrackingOnly \", \"highPtTripletStepTrackCandidates \"], \"marker\": {\"line\": {\"color\": \"#000000\", \"width\": 0.2}}, \"sort\": true, \"textposition\": \"none\", \"type\": \"pie\", \"values\": [13.45, 40.09, 38.8, 16.36, 22.03]}, {\"direction\": \"clockwise\", \"domain\": {\"x\": [0.1, 0.9], \"y\": [0.05, 0.9]}, \"hole\": 0.75, \"labels\": [\"unsortedOfflinePrimaryVertices \", \"trackValidatorTrackingOnly \", \"TrackerCollisionSelectedTrackMonCommongeneralTracks \", \"trackValidatorSeedingTrackingOnly \", \"highPtTripletStepTrackCandidates \", \"firstStepPrimaryVerticesUnsorted \", \"tpClusterProducer \", \"trackValidatorAllTPEfficStandalone \", \"TrackerCollisionSelectedTrackMonCommonhighPurityPtRange0to1 \", \"initialStepTracks \", \"trackingParticlesBHadron \", \"initialStepHitQuadruplets \", \"highPtTripletStepHitTriplets \", \"TrackerCollisionSelectedTrackMonCommonhighPurityPt1 \", \"trackValidatorBuilding \"], \"marker\": {\"line\": {\"color\": \"#000000\", \"width\": 0.2}}, \"sort\": true, \"textposition\": \"none\", \"type\": \"pie\", \"values\": [13.45, 40.09, 38.8, 16.36, 22.03, 25.47, 7.61, 17.44, 15.79, 37.41, 285.75, 2.44, 0.34, 24.52, 5.73]}, {\"direction\": \"clockwise\", \"domain\": {\"x\": [0.1, 0.9], \"y\": [0.05, 0.9]}, \"hole\": 0.75, \"labels\": [\"unsortedOfflinePrimaryVertices \", \"trackValidatorTrackingOnly \", \"TrackerCollisionSelectedTrackMonCommongeneralTracks \", \"trackValidatorSeedingTrackingOnly \", \"highPtTripletStepTrackCandidates \", \"firstStepPrimaryVerticesUnsorted \", \"tpClusterProducer \", \"trackValidatorAllTPEfficStandalone \", \"TrackerCollisionSelectedTrackMonCommonhighPurityPtRange0to1 \", \"initialStepTracks \", \"trackingParticlesBHadron \", \"initialStepHitQuadruplets \", \"highPtTripletStepHitTriplets \", \"TrackerCollisionSelectedTrackMonCommonhighPurityPt1 \", \"trackValidatorBuilding \", \"initialStepSeeds \", \"generalTracks \", \"trackingParticlesSignal \", \"highPtTripletStepTracks \", \"trackValidatorTPPtLess09Standalone \", \"hbhereco \", \"ecalMultiFitUncalibRecHit \", \"primaryVertexResolution \", \"seedTracksinitialStepSeeds \", \"trackValidatorFromPVAllTPStandalone \"], \"marker\": {\"line\": {\"color\": \"#000000\", \"width\": 0.2}}, \"sort\": true, \"textposition\": \"none\", \"type\": \"pie\", \"values\": [13.45, 40.09, 38.8, 16.36, 22.03, 25.47, 7.61, 17.44, 15.79, 37.41, 285.75, 2.44, 0.34, 24.52, 5.73, 28.36, 0.88, 13.87, 5.3, 9.96, 183.94, 59.13, 6.11, 3.25, 12.23]}, {\"direction\": \"clockwise\", \"domain\": {\"x\": [0.1, 0.9], \"y\": [0.05, 0.9]}, \"hole\": 0.75, \"labels\": [\"unsortedOfflinePrimaryVertices \", \"trackValidatorTrackingOnly \", \"TrackerCollisionSelectedTrackMonCommongeneralTracks \", \"trackValidatorSeedingTrackingOnly \", \"highPtTripletStepTrackCandidates \", \"firstStepPrimaryVerticesUnsorted \", \"tpClusterProducer \", \"trackValidatorAllTPEfficStandalone \", \"TrackerCollisionSelectedTrackMonCommonhighPurityPtRange0to1 \", \"initialStepTracks \", \"trackingParticlesBHadron \", \"initialStepHitQuadruplets \", \"highPtTripletStepHitTriplets \", \"TrackerCollisionSelectedTrackMonCommonhighPurityPt1 \", \"trackValidatorBuilding \", \"initialStepSeeds \", \"generalTracks \", \"trackingParticlesSignal \", \"highPtTripletStepTracks \", \"trackValidatorTPPtLess09Standalone \", \"hbhereco \", \"ecalMultiFitUncalibRecHit \", \"primaryVertexResolution \", \"seedTracksinitialStepSeeds \", \"trackValidatorFromPVAllTPStandalone \", \"simHitTPAssocProducer \", \"siPixelClustersPreSplitting \", \"siPixelClusters \", \"trackingParticleRecoTrackAsssociation \", \"trackingParticleNumberOfLayersProducer \", \"vertexAnalysisTrackingOnly \", \"initialStepHitDoublets \", \"highPtTripletStepHitDoublets \", \"TrackSeedMoninitialStep \", \"offlinePrimaryVertices \"], \"marker\": {\"line\": {\"color\": \"#000000\", \"width\": 0.2}}, \"sort\": true, \"textposition\": \"none\", \"type\": \"pie\", \"values\": [13.45, 40.09, 38.8, 16.36, 22.03, 25.47, 7.61, 17.44, 15.79, 37.41, 285.75, 2.44, 0.34, 24.52, 5.73, 28.36, 0.88, 13.87, 5.3, 9.96, 183.94, 59.13, 6.11, 3.25, 12.23, 2.96, 13.23, 2.97, 14.22, 11.82, 2.91, 2.35, 1.29, 2.54, 0.28]}, {\"direction\": \"clockwise\", \"domain\": {\"x\": [0.1, 0.9], \"y\": [0.05, 0.9]}, \"hole\": 0.75, \"labels\": [\"unsortedOfflinePrimaryVertices \", \"trackValidatorTrackingOnly \", \"TrackerCollisionSelectedTrackMonCommongeneralTracks \", \"trackValidatorSeedingTrackingOnly \", \"highPtTripletStepTrackCandidates \", \"firstStepPrimaryVerticesUnsorted \", \"tpClusterProducer \", \"trackValidatorAllTPEfficStandalone \", \"TrackerCollisionSelectedTrackMonCommonhighPurityPtRange0to1 \", \"initialStepTracks \", \"trackingParticlesBHadron \", \"initialStepHitQuadruplets \", \"highPtTripletStepHitTriplets \", \"TrackerCollisionSelectedTrackMonCommonhighPurityPt1 \", \"trackValidatorBuilding \", \"initialStepSeeds \", \"generalTracks \", \"trackingParticlesSignal \", \"highPtTripletStepTracks \", \"trackValidatorTPPtLess09Standalone \", \"hbhereco \", \"ecalMultiFitUncalibRecHit \", \"primaryVertexResolution \", \"seedTracksinitialStepSeeds \", \"trackValidatorFromPVAllTPStandalone \", \"simHitTPAssocProducer \", \"siPixelClustersPreSplitting \", \"siPixelClusters \", \"trackingParticleRecoTrackAsssociation \", \"trackingParticleNumberOfLayersProducer \", \"vertexAnalysisTrackingOnly \", \"initialStepHitDoublets \", \"highPtTripletStepHitDoublets \", \"TrackSeedMoninitialStep \", \"offlinePrimaryVertices \", \"siPixelRecHits \", \"offlinePrimaryVerticesWithBS \", \"TrackerCollisionSelectedTrackMonCommonhighPurityPV0p1 \", \"trackValidatorBHadronTrackingOnly \", \"highPtTripletStepSeeds \", \"firstStepPrimaryVertices \", \"trackValidatorFromPVStandalone \", \"offlineBeamSpot \", \"siPixelClusterShapeCache \", \"TrackSeedMonhighPtTripletStep \"], \"marker\": {\"line\": {\"color\": \"#000000\", \"width\": 0.2}}, \"sort\": true, \"textposition\": \"none\", \"type\": \"pie\", \"values\": [13.45, 40.09, 38.8, 16.36, 22.03, 25.47, 7.61, 17.44, 15.79, 37.41, 285.75, 2.44, 0.34, 24.52, 5.73, 28.36, 0.88, 13.87, 5.3, 9.96, 183.94, 59.13, 6.11, 3.25, 12.23, 2.96, 13.23, 2.97, 14.22, 11.82, 2.91, 2.35, 1.29, 2.54, 0.28, 11.57, 0.29, 32.44, 1.92, 0.85, 0.28, 24.38, 20.25, 0.81, 0.83]}, {\"direction\": \"clockwise\", \"domain\": {\"x\": [0.1, 0.9], \"y\": [0.05, 0.9]}, \"hole\": 0.75, \"labels\": [\"unsortedOfflinePrimaryVertices \", \"trackValidatorTrackingOnly \", \"TrackerCollisionSelectedTrackMonCommongeneralTracks \", \"trackValidatorSeedingTrackingOnly \", \"highPtTripletStepTrackCandidates \", \"firstStepPrimaryVerticesUnsorted \", \"tpClusterProducer \", \"trackValidatorAllTPEfficStandalone \", \"TrackerCollisionSelectedTrackMonCommonhighPurityPtRange0to1 \", \"initialStepTracks \", \"trackingParticlesBHadron \", \"initialStepHitQuadruplets \", \"highPtTripletStepHitTriplets \", \"TrackerCollisionSelectedTrackMonCommonhighPurityPt1 \", \"trackValidatorBuilding \", \"initialStepSeeds \", \"generalTracks \", \"trackingParticlesSignal \", \"highPtTripletStepTracks \", \"trackValidatorTPPtLess09Standalone \", \"hbhereco \", \"ecalMultiFitUncalibRecHit \", \"primaryVertexResolution \", \"seedTracksinitialStepSeeds \", \"trackValidatorFromPVAllTPStandalone \", \"simHitTPAssocProducer \", \"siPixelClustersPreSplitting \", \"siPixelClusters \", \"trackingParticleRecoTrackAsssociation \", \"trackingParticleNumberOfLayersProducer \", \"vertexAnalysisTrackingOnly \", \"initialStepHitDoublets \", \"highPtTripletStepHitDoublets \", \"TrackSeedMoninitialStep \", \"offlinePrimaryVertices \", \"siPixelRecHits \", \"offlinePrimaryVerticesWithBS \", \"TrackerCollisionSelectedTrackMonCommonhighPurityPV0p1 \", \"trackValidatorBHadronTrackingOnly \", \"highPtTripletStepSeeds \", \"firstStepPrimaryVertices \", \"trackValidatorFromPVStandalone \", \"offlineBeamSpot \", \"siPixelClusterShapeCache \", \"TrackSeedMonhighPtTripletStep \", \"ecalRecHit \", \"seedTrackshighPtTripletStepSeeds \", \"source \", \"caloTowerForTrk \", \"MeasurementTrackerEvent \", \"TrackSplitMonitor \", \"ak4CaloJetsForTrk \", \"initialStepSelector \", \"siPhase2Clusters \", \"ecalDigis \"], \"marker\": {\"line\": {\"color\": \"#000000\", \"width\": 0.2}}, \"sort\": true, \"textposition\": \"none\", \"type\": \"pie\", \"values\": [13.45, 40.09, 38.8, 16.36, 22.03, 25.47, 7.61, 17.44, 15.79, 37.41, 285.75, 2.44, 0.34, 24.52, 5.73, 28.36, 0.88, 13.87, 5.3, 9.96, 183.94, 59.13, 6.11, 3.25, 12.23, 2.96, 13.23, 2.97, 14.22, 11.82, 2.91, 2.35, 1.29, 2.54, 0.28, 11.57, 0.29, 32.44, 1.92, 0.85, 0.28, 24.38, 20.25, 0.81, 0.83, 41.21, 0.36, 21.32, 8.27, 10.29, 10.25, 6.99, 0.32, 0.41, 3.44]}, {\"direction\": \"clockwise\", \"domain\": {\"x\": [0.1, 0.9], \"y\": [0.05, 0.9]}, \"hole\": 0.75, \"labels\": [\"unsortedOfflinePrimaryVertices \", \"trackValidatorTrackingOnly \", \"TrackerCollisionSelectedTrackMonCommongeneralTracks \", \"trackValidatorSeedingTrackingOnly \", \"highPtTripletStepTrackCandidates \", \"firstStepPrimaryVerticesUnsorted \", \"tpClusterProducer \", \"trackValidatorAllTPEfficStandalone \", \"TrackerCollisionSelectedTrackMonCommonhighPurityPtRange0to1 \", \"initialStepTracks \", \"trackingParticlesBHadron \", \"initialStepHitQuadruplets \", \"highPtTripletStepHitTriplets \", \"TrackerCollisionSelectedTrackMonCommonhighPurityPt1 \", \"trackValidatorBuilding \", \"initialStepSeeds \", \"generalTracks \", \"trackingParticlesSignal \", \"highPtTripletStepTracks \", \"trackValidatorTPPtLess09Standalone \", \"hbhereco \", \"ecalMultiFitUncalibRecHit \", \"primaryVertexResolution \", \"seedTracksinitialStepSeeds \", \"trackValidatorFromPVAllTPStandalone \", \"simHitTPAssocProducer \", \"siPixelClustersPreSplitting \", \"siPixelClusters \", \"trackingParticleRecoTrackAsssociation \", \"trackingParticleNumberOfLayersProducer \", \"vertexAnalysisTrackingOnly \", \"initialStepHitDoublets \", \"highPtTripletStepHitDoublets \", \"TrackSeedMoninitialStep \", \"offlinePrimaryVertices \", \"siPixelRecHits \", \"offlinePrimaryVerticesWithBS \", \"TrackerCollisionSelectedTrackMonCommonhighPurityPV0p1 \", \"trackValidatorBHadronTrackingOnly \", \"highPtTripletStepSeeds \", \"firstStepPrimaryVertices \", \"trackValidatorFromPVStandalone \", \"offlineBeamSpot \", \"siPixelClusterShapeCache \", \"TrackSeedMonhighPtTripletStep \", \"ecalRecHit \", \"seedTrackshighPtTripletStepSeeds \", \"source \", \"caloTowerForTrk \", \"MeasurementTrackerEvent \", \"TrackSplitMonitor \", \"ak4CaloJetsForTrk \", \"initialStepSelector \", \"siPhase2Clusters \", \"ecalDigis \", \"highPtTripletStepSeedLayers \", \"trackingDQMgoodOfflinePrimaryVertices \", \"cutsRecoTracksHp \", \"highPtTripletStepSelector \", \"hcalDigis \", \"cutsRecoTracksInitialStepByOriginalAlgoHp \", \"cutsRecoTracksInitialStep \", \"cutsRecoTracksInitialStepByAlgoMask \", \"cutsRecoTracksBtvLike \", \"cutsRecoTracksInitialStepHp \"], \"marker\": {\"line\": {\"color\": \"#000000\", \"width\": 0.2}}, \"sort\": true, \"textposition\": \"none\", \"type\": \"pie\", \"values\": [13.45, 40.09, 38.8, 16.36, 22.03, 25.47, 7.61, 17.44, 15.79, 37.41, 285.75, 2.44, 0.34, 24.52, 5.73, 28.36, 0.88, 13.87, 5.3, 9.96, 183.94, 59.13, 6.11, 3.25, 12.23, 2.96, 13.23, 2.97, 14.22, 11.82, 2.91, 2.35, 1.29, 2.54, 0.28, 11.57, 0.29, 32.44, 1.92, 0.85, 0.28, 24.38, 20.25, 0.81, 0.83, 41.21, 0.36, 21.32, 8.27, 10.29, 10.25, 6.99, 0.32, 0.41, 3.44, 0.25, 0.25, 0.25, 0.25, 3.32, 0.25, 0.25, 0.25, 0.25, 0.25]}, {\"direction\": \"clockwise\", \"domain\": {\"x\": [0.1, 0.9], \"y\": [0.05, 0.9]}, \"hole\": 0.75, \"labels\": [\"unsortedOfflinePrimaryVertices \", \"trackValidatorTrackingOnly \", \"TrackerCollisionSelectedTrackMonCommongeneralTracks \", \"trackValidatorSeedingTrackingOnly \", \"highPtTripletStepTrackCandidates \", \"firstStepPrimaryVerticesUnsorted \", \"tpClusterProducer \", \"trackValidatorAllTPEfficStandalone \", \"TrackerCollisionSelectedTrackMonCommonhighPurityPtRange0to1 \", \"initialStepTracks \", \"trackingParticlesBHadron \", \"initialStepHitQuadruplets \", \"highPtTripletStepHitTriplets \", \"TrackerCollisionSelectedTrackMonCommonhighPurityPt1 \", \"trackValidatorBuilding \", \"initialStepSeeds \", \"generalTracks \", \"trackingParticlesSignal \", \"highPtTripletStepTracks \", \"trackValidatorTPPtLess09Standalone \", \"hbhereco \", \"ecalMultiFitUncalibRecHit \", \"primaryVertexResolution \", \"seedTracksinitialStepSeeds \", \"trackValidatorFromPVAllTPStandalone \", \"simHitTPAssocProducer \", \"siPixelClustersPreSplitting \", \"siPixelClusters \", \"trackingParticleRecoTrackAsssociation \", \"trackingParticleNumberOfLayersProducer \", \"vertexAnalysisTrackingOnly \", \"initialStepHitDoublets \", \"highPtTripletStepHitDoublets \", \"TrackSeedMoninitialStep \", \"offlinePrimaryVertices \", \"siPixelRecHits \", \"offlinePrimaryVerticesWithBS \", \"TrackerCollisionSelectedTrackMonCommonhighPurityPV0p1 \", \"trackValidatorBHadronTrackingOnly \", \"highPtTripletStepSeeds \", \"firstStepPrimaryVertices \", \"trackValidatorFromPVStandalone \", \"offlineBeamSpot \", \"siPixelClusterShapeCache \", \"TrackSeedMonhighPtTripletStep \", \"ecalRecHit \", \"seedTrackshighPtTripletStepSeeds \", \"source \", \"caloTowerForTrk \", \"MeasurementTrackerEvent \", \"TrackSplitMonitor \", \"ak4CaloJetsForTrk \", \"initialStepSelector \", \"siPhase2Clusters \", \"ecalDigis \", \"highPtTripletStepSeedLayers \", \"trackingDQMgoodOfflinePrimaryVertices \", \"cutsRecoTracksHp \", \"highPtTripletStepSelector \", \"hcalDigis \", \"cutsRecoTracksInitialStepByOriginalAlgoHp \", \"cutsRecoTracksInitialStep \", \"cutsRecoTracksInitialStepByAlgoMask \", \"cutsRecoTracksBtvLike \", \"cutsRecoTracksInitialStepHp \", \"generalTracksPt09 \", \"cutsRecoTracksInitialStepByOriginalAlgo \", \"trackWithVertexRefSelectorBeforeSorting \", \"cutsRecoTracksInitialStepByAlgoMaskHp \", \"generalTracksFromPV \", \"trackRefsForJetsBeforeSorting \", \"hfprereco \", \"highPurityPtRange0to1 \", \"initialStepTrackRefsForJets \", \"cutsRecoTracksPt09Hp \"], \"marker\": {\"line\": {\"color\": \"#000000\", \"width\": 0.2}}, \"sort\": true, \"textposition\": \"none\", \"type\": \"pie\", \"values\": [13.45, 40.09, 38.8, 16.36, 22.03, 25.47, 7.61, 17.44, 15.79, 37.41, 285.75, 2.44, 0.34, 24.52, 5.73, 28.36, 0.88, 13.87, 5.3, 9.96, 183.94, 59.13, 6.11, 3.25, 12.23, 2.96, 13.23, 2.97, 14.22, 11.82, 2.91, 2.35, 1.29, 2.54, 0.28, 11.57, 0.29, 32.44, 1.92, 0.85, 0.28, 24.38, 20.25, 0.81, 0.83, 41.21, 0.36, 21.32, 8.27, 10.29, 10.25, 6.99, 0.32, 0.41, 3.44, 0.25, 0.25, 0.25, 0.25, 3.32, 0.25, 0.25, 0.25, 0.25, 0.25, 0.25, 0.25, 0.26, 0.25, 0.25, 0.25, 2.25, 0.25, 0.29, 0.25]}, {\"direction\": \"clockwise\", \"domain\": {\"x\": [0.1, 0.9], \"y\": [0.05, 0.9]}, \"hole\": 0.75, \"labels\": [\"unsortedOfflinePrimaryVertices \", \"trackValidatorTrackingOnly \", \"TrackerCollisionSelectedTrackMonCommongeneralTracks \", \"trackValidatorSeedingTrackingOnly \", \"highPtTripletStepTrackCandidates \", \"firstStepPrimaryVerticesUnsorted \", \"tpClusterProducer \", \"trackValidatorAllTPEfficStandalone \", \"TrackerCollisionSelectedTrackMonCommonhighPurityPtRange0to1 \", \"initialStepTracks \", \"trackingParticlesBHadron \", \"initialStepHitQuadruplets \", \"highPtTripletStepHitTriplets \", \"TrackerCollisionSelectedTrackMonCommonhighPurityPt1 \", \"trackValidatorBuilding \", \"initialStepSeeds \", \"generalTracks \", \"trackingParticlesSignal \", \"highPtTripletStepTracks \", \"trackValidatorTPPtLess09Standalone \", \"hbhereco \", \"ecalMultiFitUncalibRecHit \", \"primaryVertexResolution \", \"seedTracksinitialStepSeeds \", \"trackValidatorFromPVAllTPStandalone \", \"simHitTPAssocProducer \", \"siPixelClustersPreSplitting \", \"siPixelClusters \", \"trackingParticleRecoTrackAsssociation \", \"trackingParticleNumberOfLayersProducer \", \"vertexAnalysisTrackingOnly \", \"initialStepHitDoublets \", \"highPtTripletStepHitDoublets \", \"TrackSeedMoninitialStep \", \"offlinePrimaryVertices \", \"siPixelRecHits \", \"offlinePrimaryVerticesWithBS \", \"TrackerCollisionSelectedTrackMonCommonhighPurityPV0p1 \", \"trackValidatorBHadronTrackingOnly \", \"highPtTripletStepSeeds \", \"firstStepPrimaryVertices \", \"trackValidatorFromPVStandalone \", \"offlineBeamSpot \", \"siPixelClusterShapeCache \", \"TrackSeedMonhighPtTripletStep \", \"ecalRecHit \", \"seedTrackshighPtTripletStepSeeds \", \"source \", \"caloTowerForTrk \", \"MeasurementTrackerEvent \", \"TrackSplitMonitor \", \"ak4CaloJetsForTrk \", \"initialStepSelector \", \"siPhase2Clusters \", \"ecalDigis \", \"highPtTripletStepSeedLayers \", \"trackingDQMgoodOfflinePrimaryVertices \", \"cutsRecoTracksHp \", \"highPtTripletStepSelector \", \"hcalDigis \", \"cutsRecoTracksInitialStepByOriginalAlgoHp \", \"cutsRecoTracksInitialStep \", \"cutsRecoTracksInitialStepByAlgoMask \", \"cutsRecoTracksBtvLike \", \"cutsRecoTracksInitialStepHp \", \"generalTracksPt09 \", \"cutsRecoTracksInitialStepByOriginalAlgo \", \"trackWithVertexRefSelectorBeforeSorting \", \"cutsRecoTracksInitialStepByAlgoMaskHp \", \"generalTracksFromPV \", \"trackRefsForJetsBeforeSorting \", \"hfprereco \", \"highPurityPtRange0to1 \", \"initialStepTrackRefsForJets \", \"cutsRecoTracksPt09Hp \", \"highPurityPV0p1 \", \"cutsRecoTracksHighPtTripletStep \", \"initialStepSeedLayers \", \"cutsRecoTracksHighPtTripletStepByOriginalAlgo \", \"cutsRecoTracksHighPtTripletStepByOriginalAlgoHp \", \"cutsRecoTracksHighPtTripletStepByAlgoMask \", \"cutsRecoTracksPt09InitialStep \", \"hfreco \", \"highPtTripletStepClusters \", \"cutsRecoTracksPt09InitialStepHp \"], \"marker\": {\"line\": {\"color\": \"#000000\", \"width\": 0.2}}, \"sort\": true, \"textposition\": \"none\", \"type\": \"pie\", \"values\": [13.45, 40.09, 38.8, 16.36, 22.03, 25.47, 7.61, 17.44, 15.79, 37.41, 285.75, 2.44, 0.34, 24.52, 5.73, 28.36, 0.88, 13.87, 5.3, 9.96, 183.94, 59.13, 6.11, 3.25, 12.23, 2.96, 13.23, 2.97, 14.22, 11.82, 2.91, 2.35, 1.29, 2.54, 0.28, 11.57, 0.29, 32.44, 1.92, 0.85, 0.28, 24.38, 20.25, 0.81, 0.83, 41.21, 0.36, 21.32, 8.27, 10.29, 10.25, 6.99, 0.32, 0.41, 3.44, 0.25, 0.25, 0.25, 0.25, 3.32, 0.25, 0.25, 0.25, 0.25, 0.25, 0.25, 0.25, 0.26, 0.25, 0.25, 0.25, 2.25, 0.25, 0.29, 0.25, 0.25, 0.25, 10.25, 0.25, 0.25, 0.25, 0.25, 0.78, 0.26, 0.25]}, {\"direction\": \"clockwise\", \"domain\": {\"x\": [0.1, 0.9], \"y\": [0.05, 0.9]}, \"hole\": 0.75, \"labels\": [\"unsortedOfflinePrimaryVertices \", \"trackValidatorTrackingOnly \", \"TrackerCollisionSelectedTrackMonCommongeneralTracks \", \"trackValidatorSeedingTrackingOnly \", \"highPtTripletStepTrackCandidates \", \"firstStepPrimaryVerticesUnsorted \", \"tpClusterProducer \", \"trackValidatorAllTPEfficStandalone \", \"TrackerCollisionSelectedTrackMonCommonhighPurityPtRange0to1 \", \"initialStepTracks \", \"trackingParticlesBHadron \", \"initialStepHitQuadruplets \", \"highPtTripletStepHitTriplets \", \"TrackerCollisionSelectedTrackMonCommonhighPurityPt1 \", \"trackValidatorBuilding \", \"initialStepSeeds \", \"generalTracks \", \"trackingParticlesSignal \", \"highPtTripletStepTracks \", \"trackValidatorTPPtLess09Standalone \", \"hbhereco \", \"ecalMultiFitUncalibRecHit \", \"primaryVertexResolution \", \"seedTracksinitialStepSeeds \", \"trackValidatorFromPVAllTPStandalone \", \"simHitTPAssocProducer \", \"siPixelClustersPreSplitting \", \"siPixelClusters \", \"trackingParticleRecoTrackAsssociation \", \"trackingParticleNumberOfLayersProducer \", \"vertexAnalysisTrackingOnly \", \"initialStepHitDoublets \", \"highPtTripletStepHitDoublets \", \"TrackSeedMoninitialStep \", \"offlinePrimaryVertices \", \"siPixelRecHits \", \"offlinePrimaryVerticesWithBS \", \"TrackerCollisionSelectedTrackMonCommonhighPurityPV0p1 \", \"trackValidatorBHadronTrackingOnly \", \"highPtTripletStepSeeds \", \"firstStepPrimaryVertices \", \"trackValidatorFromPVStandalone \", \"offlineBeamSpot \", \"siPixelClusterShapeCache \", \"TrackSeedMonhighPtTripletStep \", \"ecalRecHit \", \"seedTrackshighPtTripletStepSeeds \", \"source \", \"caloTowerForTrk \", \"MeasurementTrackerEvent \", \"TrackSplitMonitor \", \"ak4CaloJetsForTrk \", \"initialStepSelector \", \"siPhase2Clusters \", \"ecalDigis \", \"highPtTripletStepSeedLayers \", \"trackingDQMgoodOfflinePrimaryVertices \", \"cutsRecoTracksHp \", \"highPtTripletStepSelector \", \"hcalDigis \", \"cutsRecoTracksInitialStepByOriginalAlgoHp \", \"cutsRecoTracksInitialStep \", \"cutsRecoTracksInitialStepByAlgoMask \", \"cutsRecoTracksBtvLike \", \"cutsRecoTracksInitialStepHp \", \"generalTracksPt09 \", \"cutsRecoTracksInitialStepByOriginalAlgo \", \"trackWithVertexRefSelectorBeforeSorting \", \"cutsRecoTracksInitialStepByAlgoMaskHp \", \"generalTracksFromPV \", \"trackRefsForJetsBeforeSorting \", \"hfprereco \", \"highPurityPtRange0to1 \", \"initialStepTrackRefsForJets \", \"cutsRecoTracksPt09Hp \", \"highPurityPV0p1 \", \"cutsRecoTracksHighPtTripletStep \", \"initialStepSeedLayers \", \"cutsRecoTracksHighPtTripletStepByOriginalAlgo \", \"cutsRecoTracksHighPtTripletStepByOriginalAlgoHp \", \"cutsRecoTracksHighPtTripletStepByAlgoMask \", \"cutsRecoTracksPt09InitialStep \", \"hfreco \", \"highPtTripletStepClusters \", \"cutsRecoTracksPt09InitialStepHp \", \"PV0p1 \", \"cutsRecoTracksHighPtTripletStepByAlgoMaskHp \", \"cutsRecoTracksHighPtTripletStepHp \", \"pvMonitor \", \"selectedOfflinePrimaryVertices \", \"highPurityPt1 \", \"cutsRecoTracksPt09HighPtTripletStep \", \"cutsRecoTracksPt09HighPtTripletStepHp \", \"selectedOfflinePrimaryVerticesWithBS \", \"MC_Dqmoffline_v2 \"], \"marker\": {\"line\": {\"color\": \"#000000\", \"width\": 0.2}}, \"sort\": true, \"textposition\": \"none\", \"type\": \"pie\", \"values\": [13.45, 40.09, 38.8, 16.36, 22.03, 25.47, 7.61, 17.44, 15.79, 37.41, 285.75, 2.44, 0.34, 24.52, 5.73, 28.36, 0.88, 13.87, 5.3, 9.96, 183.94, 59.13, 6.11, 3.25, 12.23, 2.96, 13.23, 2.97, 14.22, 11.82, 2.91, 2.35, 1.29, 2.54, 0.28, 11.57, 0.29, 32.44, 1.92, 0.85, 0.28, 24.38, 20.25, 0.81, 0.83, 41.21, 0.36, 21.32, 8.27, 10.29, 10.25, 6.99, 0.32, 0.41, 3.44, 0.25, 0.25, 0.25, 0.25, 3.32, 0.25, 0.25, 0.25, 0.25, 0.25, 0.25, 0.25, 0.26, 0.25, 0.25, 0.25, 2.25, 0.25, 0.29, 0.25, 0.25, 0.25, 10.25, 0.25, 0.25, 0.25, 0.25, 0.78, 0.26, 0.25, 0.25, 0.25, 0.25, 0.26, 0.25, 0.25, 0.25, 0.25, 0.25, 0.25]}, {\"direction\": \"clockwise\", \"domain\": {\"x\": [0.1, 0.9], \"y\": [0.05, 0.9]}, \"hole\": 0.75, \"labels\": [\"unsortedOfflinePrimaryVertices \", \"trackValidatorTrackingOnly \", \"TrackerCollisionSelectedTrackMonCommongeneralTracks \", \"trackValidatorSeedingTrackingOnly \", \"highPtTripletStepTrackCandidates \", \"firstStepPrimaryVerticesUnsorted \", \"tpClusterProducer \", \"trackValidatorAllTPEfficStandalone \", \"TrackerCollisionSelectedTrackMonCommonhighPurityPtRange0to1 \", \"initialStepTracks \", \"trackingParticlesBHadron \", \"initialStepHitQuadruplets \", \"highPtTripletStepHitTriplets \", \"TrackerCollisionSelectedTrackMonCommonhighPurityPt1 \", \"trackValidatorBuilding \", \"initialStepSeeds \", \"generalTracks \", \"trackingParticlesSignal \", \"highPtTripletStepTracks \", \"trackValidatorTPPtLess09Standalone \", \"hbhereco \", \"ecalMultiFitUncalibRecHit \", \"primaryVertexResolution \", \"seedTracksinitialStepSeeds \", \"trackValidatorFromPVAllTPStandalone \", \"simHitTPAssocProducer \", \"siPixelClustersPreSplitting \", \"siPixelClusters \", \"trackingParticleRecoTrackAsssociation \", \"trackingParticleNumberOfLayersProducer \", \"vertexAnalysisTrackingOnly \", \"initialStepHitDoublets \", \"highPtTripletStepHitDoublets \", \"TrackSeedMoninitialStep \", \"offlinePrimaryVertices \", \"siPixelRecHits \", \"offlinePrimaryVerticesWithBS \", \"TrackerCollisionSelectedTrackMonCommonhighPurityPV0p1 \", \"trackValidatorBHadronTrackingOnly \", \"highPtTripletStepSeeds \", \"firstStepPrimaryVertices \", \"trackValidatorFromPVStandalone \", \"offlineBeamSpot \", \"siPixelClusterShapeCache \", \"TrackSeedMonhighPtTripletStep \", \"ecalRecHit \", \"seedTrackshighPtTripletStepSeeds \", \"source \", \"caloTowerForTrk \", \"MeasurementTrackerEvent \", \"TrackSplitMonitor \", \"ak4CaloJetsForTrk \", \"initialStepSelector \", \"siPhase2Clusters \", \"ecalDigis \", \"highPtTripletStepSeedLayers \", \"trackingDQMgoodOfflinePrimaryVertices \", \"cutsRecoTracksHp \", \"highPtTripletStepSelector \", \"hcalDigis \", \"cutsRecoTracksInitialStepByOriginalAlgoHp \", \"cutsRecoTracksInitialStep \", \"cutsRecoTracksInitialStepByAlgoMask \", \"cutsRecoTracksBtvLike \", \"cutsRecoTracksInitialStepHp \", \"generalTracksPt09 \", \"cutsRecoTracksInitialStepByOriginalAlgo \", \"trackWithVertexRefSelectorBeforeSorting \", \"cutsRecoTracksInitialStepByAlgoMaskHp \", \"generalTracksFromPV \", \"trackRefsForJetsBeforeSorting \", \"hfprereco \", \"highPurityPtRange0to1 \", \"initialStepTrackRefsForJets \", \"cutsRecoTracksPt09Hp \", \"highPurityPV0p1 \", \"cutsRecoTracksHighPtTripletStep \", \"initialStepSeedLayers \", \"cutsRecoTracksHighPtTripletStepByOriginalAlgo \", \"cutsRecoTracksHighPtTripletStepByOriginalAlgoHp \", \"cutsRecoTracksHighPtTripletStepByAlgoMask \", \"cutsRecoTracksPt09InitialStep \", \"hfreco \", \"highPtTripletStepClusters \", \"cutsRecoTracksPt09InitialStepHp \", \"PV0p1 \", \"cutsRecoTracksHighPtTripletStepByAlgoMaskHp \", \"cutsRecoTracksHighPtTripletStepHp \", \"pvMonitor \", \"selectedOfflinePrimaryVertices \", \"highPurityPt1 \", \"cutsRecoTracksPt09HighPtTripletStep \", \"cutsRecoTracksPt09HighPtTripletStepHp \", \"selectedOfflinePrimaryVerticesWithBS \", \"MC_Dqmoffline_v2 \", \"initialStepTrackingRegions \", \"horeco \", \"TrackMon_ckf \", \"VertexAssociatorByPositionAndTracks \", \"ecalDetIdToBeRecovered \", \"generalTracksFromPVPt09 \", \"quickTrackAssociatorByHits \", \"trackerClusterCheck \", \"DQMoutput \", \"DQMoutput_step \"], \"marker\": {\"line\": {\"color\": \"#000000\", \"width\": 0.2}}, \"sort\": true, \"textposition\": \"none\", \"type\": \"pie\", \"values\": [13.45, 40.09, 38.8, 16.36, 22.03, 25.47, 7.61, 17.44, 15.79, 37.41, 285.75, 2.44, 0.34, 24.52, 5.73, 28.36, 0.88, 13.87, 5.3, 9.96, 183.94, 59.13, 6.11, 3.25, 12.23, 2.96, 13.23, 2.97, 14.22, 11.82, 2.91, 2.35, 1.29, 2.54, 0.28, 11.57, 0.29, 32.44, 1.92, 0.85, 0.28, 24.38, 20.25, 0.81, 0.83, 41.21, 0.36, 21.32, 8.27, 10.29, 10.25, 6.99, 0.32, 0.41, 3.44, 0.25, 0.25, 0.25, 0.25, 3.32, 0.25, 0.25, 0.25, 0.25, 0.25, 0.25, 0.25, 0.26, 0.25, 0.25, 0.25, 2.25, 0.25, 0.29, 0.25, 0.25, 0.25, 10.25, 0.25, 0.25, 0.25, 0.25, 0.78, 0.26, 0.25, 0.25, 0.25, 0.25, 0.26, 0.25, 0.25, 0.25, 0.25, 0.25, 0.25, 0.31, 0.27, 0.27, 0.25, 0.26, 0.25, 0.26, 0.26, 0.25, 0.25]}, {\"direction\": \"clockwise\", \"domain\": {\"x\": [0.1, 0.9], \"y\": [0.05, 0.9]}, \"hole\": 0.75, \"labels\": [\"unsortedOfflinePrimaryVertices \", \"trackValidatorTrackingOnly \", \"TrackerCollisionSelectedTrackMonCommongeneralTracks \", \"trackValidatorSeedingTrackingOnly \", \"highPtTripletStepTrackCandidates \", \"firstStepPrimaryVerticesUnsorted \", \"tpClusterProducer \", \"trackValidatorAllTPEfficStandalone \", \"TrackerCollisionSelectedTrackMonCommonhighPurityPtRange0to1 \", \"initialStepTracks \", \"trackingParticlesBHadron \", \"initialStepHitQuadruplets \", \"highPtTripletStepHitTriplets \", \"TrackerCollisionSelectedTrackMonCommonhighPurityPt1 \", \"trackValidatorBuilding \", \"initialStepSeeds \", \"generalTracks \", \"trackingParticlesSignal \", \"highPtTripletStepTracks \", \"trackValidatorTPPtLess09Standalone \", \"hbhereco \", \"ecalMultiFitUncalibRecHit \", \"primaryVertexResolution \", \"seedTracksinitialStepSeeds \", \"trackValidatorFromPVAllTPStandalone \", \"simHitTPAssocProducer \", \"siPixelClustersPreSplitting \", \"siPixelClusters \", \"trackingParticleRecoTrackAsssociation \", \"trackingParticleNumberOfLayersProducer \", \"vertexAnalysisTrackingOnly \", \"initialStepHitDoublets \", \"highPtTripletStepHitDoublets \", \"TrackSeedMoninitialStep \", \"offlinePrimaryVertices \", \"siPixelRecHits \", \"offlinePrimaryVerticesWithBS \", \"TrackerCollisionSelectedTrackMonCommonhighPurityPV0p1 \", \"trackValidatorBHadronTrackingOnly \", \"highPtTripletStepSeeds \", \"firstStepPrimaryVertices \", \"trackValidatorFromPVStandalone \", \"offlineBeamSpot \", \"siPixelClusterShapeCache \", \"TrackSeedMonhighPtTripletStep \", \"ecalRecHit \", \"seedTrackshighPtTripletStepSeeds \", \"source \", \"caloTowerForTrk \", \"MeasurementTrackerEvent \", \"TrackSplitMonitor \", \"ak4CaloJetsForTrk \", \"initialStepSelector \", \"siPhase2Clusters \", \"ecalDigis \", \"highPtTripletStepSeedLayers \", \"trackingDQMgoodOfflinePrimaryVertices \", \"cutsRecoTracksHp \", \"highPtTripletStepSelector \", \"hcalDigis \", \"cutsRecoTracksInitialStepByOriginalAlgoHp \", \"cutsRecoTracksInitialStep \", \"cutsRecoTracksInitialStepByAlgoMask \", \"cutsRecoTracksBtvLike \", \"cutsRecoTracksInitialStepHp \", \"generalTracksPt09 \", \"cutsRecoTracksInitialStepByOriginalAlgo \", \"trackWithVertexRefSelectorBeforeSorting \", \"cutsRecoTracksInitialStepByAlgoMaskHp \", \"generalTracksFromPV \", \"trackRefsForJetsBeforeSorting \", \"hfprereco \", \"highPurityPtRange0to1 \", \"initialStepTrackRefsForJets \", \"cutsRecoTracksPt09Hp \", \"highPurityPV0p1 \", \"cutsRecoTracksHighPtTripletStep \", \"initialStepSeedLayers \", \"cutsRecoTracksHighPtTripletStepByOriginalAlgo \", \"cutsRecoTracksHighPtTripletStepByOriginalAlgoHp \", \"cutsRecoTracksHighPtTripletStepByAlgoMask \", \"cutsRecoTracksPt09InitialStep \", \"hfreco \", \"highPtTripletStepClusters \", \"cutsRecoTracksPt09InitialStepHp \", \"PV0p1 \", \"cutsRecoTracksHighPtTripletStepByAlgoMaskHp \", \"cutsRecoTracksHighPtTripletStepHp \", \"pvMonitor \", \"selectedOfflinePrimaryVertices \", \"highPurityPt1 \", \"cutsRecoTracksPt09HighPtTripletStep \", \"cutsRecoTracksPt09HighPtTripletStepHp \", \"selectedOfflinePrimaryVerticesWithBS \", \"MC_Dqmoffline_v2 \", \"initialStepTrackingRegions \", \"horeco \", \"TrackMon_ckf \", \"VertexAssociatorByPositionAndTracks \", \"ecalDetIdToBeRecovered \", \"generalTracksFromPVPt09 \", \"quickTrackAssociatorByHits \", \"trackerClusterCheck \", \"DQMoutput \", \"DQMoutput_step \", \"MC_Tracking_v2 \", \"MC_prevalidation_v2 \", \"MC_validation_v2 \", \"TriggerResults \", \"bunchSpacingProducer \", \"cutsRecoTracksFromPVHighPtTripletStep \", \"cutsRecoTracksFromPVHighPtTripletStepHp \", \"cutsRecoTracksFromPVHp \", \"cutsRecoTracksFromPVInitialStep \", \"cutsRecoTracksFromPVInitialStepHp \"], \"marker\": {\"line\": {\"color\": \"#000000\", \"width\": 0.2}}, \"sort\": true, \"textposition\": \"none\", \"type\": \"pie\", \"values\": [13.45, 40.09, 38.8, 16.36, 22.03, 25.47, 7.61, 17.44, 15.79, 37.41, 285.75, 2.44, 0.34, 24.52, 5.73, 28.36, 0.88, 13.87, 5.3, 9.96, 183.94, 59.13, 6.11, 3.25, 12.23, 2.96, 13.23, 2.97, 14.22, 11.82, 2.91, 2.35, 1.29, 2.54, 0.28, 11.57, 0.29, 32.44, 1.92, 0.85, 0.28, 24.38, 20.25, 0.81, 0.83, 41.21, 0.36, 21.32, 8.27, 10.29, 10.25, 6.99, 0.32, 0.41, 3.44, 0.25, 0.25, 0.25, 0.25, 3.32, 0.25, 0.25, 0.25, 0.25, 0.25, 0.25, 0.25, 0.26, 0.25, 0.25, 0.25, 2.25, 0.25, 0.29, 0.25, 0.25, 0.25, 10.25, 0.25, 0.25, 0.25, 0.25, 0.78, 0.26, 0.25, 0.25, 0.25, 0.25, 0.26, 0.25, 0.25, 0.25, 0.25, 0.25, 0.25, 0.31, 0.27, 0.27, 0.25, 0.26, 0.25, 0.26, 0.26, 0.25, 0.25, 0.25, 0.25, 0.25, 0.25, 0.25, 0.25, 0.25, 0.25, 0.25, 0.25]}, {\"direction\": \"clockwise\", \"domain\": {\"x\": [0.1, 0.9], \"y\": [0.05, 0.9]}, \"hole\": 0.75, \"labels\": [\"unsortedOfflinePrimaryVertices \", \"trackValidatorTrackingOnly \", \"TrackerCollisionSelectedTrackMonCommongeneralTracks \", \"trackValidatorSeedingTrackingOnly \", \"highPtTripletStepTrackCandidates \", \"firstStepPrimaryVerticesUnsorted \", \"tpClusterProducer \", \"trackValidatorAllTPEfficStandalone \", \"TrackerCollisionSelectedTrackMonCommonhighPurityPtRange0to1 \", \"initialStepTracks \", \"trackingParticlesBHadron \", \"initialStepHitQuadruplets \", \"highPtTripletStepHitTriplets \", \"TrackerCollisionSelectedTrackMonCommonhighPurityPt1 \", \"trackValidatorBuilding \", \"initialStepSeeds \", \"generalTracks \", \"trackingParticlesSignal \", \"highPtTripletStepTracks \", \"trackValidatorTPPtLess09Standalone \", \"hbhereco \", \"ecalMultiFitUncalibRecHit \", \"primaryVertexResolution \", \"seedTracksinitialStepSeeds \", \"trackValidatorFromPVAllTPStandalone \", \"simHitTPAssocProducer \", \"siPixelClustersPreSplitting \", \"siPixelClusters \", \"trackingParticleRecoTrackAsssociation \", \"trackingParticleNumberOfLayersProducer \", \"vertexAnalysisTrackingOnly \", \"initialStepHitDoublets \", \"highPtTripletStepHitDoublets \", \"TrackSeedMoninitialStep \", \"offlinePrimaryVertices \", \"siPixelRecHits \", \"offlinePrimaryVerticesWithBS \", \"TrackerCollisionSelectedTrackMonCommonhighPurityPV0p1 \", \"trackValidatorBHadronTrackingOnly \", \"highPtTripletStepSeeds \", \"firstStepPrimaryVertices \", \"trackValidatorFromPVStandalone \", \"offlineBeamSpot \", \"siPixelClusterShapeCache \", \"TrackSeedMonhighPtTripletStep \", \"ecalRecHit \", \"seedTrackshighPtTripletStepSeeds \", \"source \", \"caloTowerForTrk \", \"MeasurementTrackerEvent \", \"TrackSplitMonitor \", \"ak4CaloJetsForTrk \", \"initialStepSelector \", \"siPhase2Clusters \", \"ecalDigis \", \"highPtTripletStepSeedLayers \", \"trackingDQMgoodOfflinePrimaryVertices \", \"cutsRecoTracksHp \", \"highPtTripletStepSelector \", \"hcalDigis \", \"cutsRecoTracksInitialStepByOriginalAlgoHp \", \"cutsRecoTracksInitialStep \", \"cutsRecoTracksInitialStepByAlgoMask \", \"cutsRecoTracksBtvLike \", \"cutsRecoTracksInitialStepHp \", \"generalTracksPt09 \", \"cutsRecoTracksInitialStepByOriginalAlgo \", \"trackWithVertexRefSelectorBeforeSorting \", \"cutsRecoTracksInitialStepByAlgoMaskHp \", \"generalTracksFromPV \", \"trackRefsForJetsBeforeSorting \", \"hfprereco \", \"highPurityPtRange0to1 \", \"initialStepTrackRefsForJets \", \"cutsRecoTracksPt09Hp \", \"highPurityPV0p1 \", \"cutsRecoTracksHighPtTripletStep \", \"initialStepSeedLayers \", \"cutsRecoTracksHighPtTripletStepByOriginalAlgo \", \"cutsRecoTracksHighPtTripletStepByOriginalAlgoHp \", \"cutsRecoTracksHighPtTripletStepByAlgoMask \", \"cutsRecoTracksPt09InitialStep \", \"hfreco \", \"highPtTripletStepClusters \", \"cutsRecoTracksPt09InitialStepHp \", \"PV0p1 \", \"cutsRecoTracksHighPtTripletStepByAlgoMaskHp \", \"cutsRecoTracksHighPtTripletStepHp \", \"pvMonitor \", \"selectedOfflinePrimaryVertices \", \"highPurityPt1 \", \"cutsRecoTracksPt09HighPtTripletStep \", \"cutsRecoTracksPt09HighPtTripletStepHp \", \"selectedOfflinePrimaryVerticesWithBS \", \"MC_Dqmoffline_v2 \", \"initialStepTrackingRegions \", \"horeco \", \"TrackMon_ckf \", \"VertexAssociatorByPositionAndTracks \", \"ecalDetIdToBeRecovered \", \"generalTracksFromPVPt09 \", \"quickTrackAssociatorByHits \", \"trackerClusterCheck \", \"DQMoutput \", \"DQMoutput_step \", \"MC_Tracking_v2 \", \"MC_prevalidation_v2 \", \"MC_validation_v2 \", \"TriggerResults \", \"bunchSpacingProducer \", \"cutsRecoTracksFromPVHighPtTripletStep \", \"cutsRecoTracksFromPVHighPtTripletStepHp \", \"cutsRecoTracksFromPVHp \", \"cutsRecoTracksFromPVInitialStep \", \"cutsRecoTracksFromPVInitialStepHp \", \"cutsRecoTracksFromPVPt09HighPtTripletStep \", \"cutsRecoTracksFromPVPt09HighPtTripletStepHp \", \"cutsRecoTracksFromPVPt09Hp \", \"cutsRecoTracksFromPVPt09InitialStep \", \"cutsRecoTracksFromPVPt09InitialStepHp \", \"dqmInfoTracking \", \"highPtTripletStepSeedClusterMask \", \"highPtTripletStepTrackingRegions \", \"inclusiveSecondaryVertices \", \"inclusiveVertexFinder \"], \"marker\": {\"line\": {\"color\": \"#000000\", \"width\": 0.2}}, \"sort\": true, \"textposition\": \"none\", \"type\": \"pie\", \"values\": [13.45, 40.09, 38.8, 16.36, 22.03, 25.47, 7.61, 17.44, 15.79, 37.41, 285.75, 2.44, 0.34, 24.52, 5.73, 28.36, 0.88, 13.87, 5.3, 9.96, 183.94, 59.13, 6.11, 3.25, 12.23, 2.96, 13.23, 2.97, 14.22, 11.82, 2.91, 2.35, 1.29, 2.54, 0.28, 11.57, 0.29, 32.44, 1.92, 0.85, 0.28, 24.38, 20.25, 0.81, 0.83, 41.21, 0.36, 21.32, 8.27, 10.29, 10.25, 6.99, 0.32, 0.41, 3.44, 0.25, 0.25, 0.25, 0.25, 3.32, 0.25, 0.25, 0.25, 0.25, 0.25, 0.25, 0.25, 0.26, 0.25, 0.25, 0.25, 2.25, 0.25, 0.29, 0.25, 0.25, 0.25, 10.25, 0.25, 0.25, 0.25, 0.25, 0.78, 0.26, 0.25, 0.25, 0.25, 0.25, 0.26, 0.25, 0.25, 0.25, 0.25, 0.25, 0.25, 0.31, 0.27, 0.27, 0.25, 0.26, 0.25, 0.26, 0.26, 0.25, 0.25, 0.25, 0.25, 0.25, 0.25, 0.25, 0.25, 0.25, 0.25, 0.25, 0.25, 0.25, 0.25, 0.25, 0.25, 0.25, 0.25, 0.25, 0.25, 0.25, 0.25]}, {\"direction\": \"clockwise\", \"domain\": {\"x\": [0.1, 0.9], \"y\": [0.05, 0.9]}, \"hole\": 0.75, \"labels\": [\"unsortedOfflinePrimaryVertices \", \"trackValidatorTrackingOnly \", \"TrackerCollisionSelectedTrackMonCommongeneralTracks \", \"trackValidatorSeedingTrackingOnly \", \"highPtTripletStepTrackCandidates \", \"firstStepPrimaryVerticesUnsorted \", \"tpClusterProducer \", \"trackValidatorAllTPEfficStandalone \", \"TrackerCollisionSelectedTrackMonCommonhighPurityPtRange0to1 \", \"initialStepTracks \", \"trackingParticlesBHadron \", \"initialStepHitQuadruplets \", \"highPtTripletStepHitTriplets \", \"TrackerCollisionSelectedTrackMonCommonhighPurityPt1 \", \"trackValidatorBuilding \", \"initialStepSeeds \", \"generalTracks \", \"trackingParticlesSignal \", \"highPtTripletStepTracks \", \"trackValidatorTPPtLess09Standalone \", \"hbhereco \", \"ecalMultiFitUncalibRecHit \", \"primaryVertexResolution \", \"seedTracksinitialStepSeeds \", \"trackValidatorFromPVAllTPStandalone \", \"simHitTPAssocProducer \", \"siPixelClustersPreSplitting \", \"siPixelClusters \", \"trackingParticleRecoTrackAsssociation \", \"trackingParticleNumberOfLayersProducer \", \"vertexAnalysisTrackingOnly \", \"initialStepHitDoublets \", \"highPtTripletStepHitDoublets \", \"TrackSeedMoninitialStep \", \"offlinePrimaryVertices \", \"siPixelRecHits \", \"offlinePrimaryVerticesWithBS \", \"TrackerCollisionSelectedTrackMonCommonhighPurityPV0p1 \", \"trackValidatorBHadronTrackingOnly \", \"highPtTripletStepSeeds \", \"firstStepPrimaryVertices \", \"trackValidatorFromPVStandalone \", \"offlineBeamSpot \", \"siPixelClusterShapeCache \", \"TrackSeedMonhighPtTripletStep \", \"ecalRecHit \", \"seedTrackshighPtTripletStepSeeds \", \"source \", \"caloTowerForTrk \", \"MeasurementTrackerEvent \", \"TrackSplitMonitor \", \"ak4CaloJetsForTrk \", \"initialStepSelector \", \"siPhase2Clusters \", \"ecalDigis \", \"highPtTripletStepSeedLayers \", \"trackingDQMgoodOfflinePrimaryVertices \", \"cutsRecoTracksHp \", \"highPtTripletStepSelector \", \"hcalDigis \", \"cutsRecoTracksInitialStepByOriginalAlgoHp \", \"cutsRecoTracksInitialStep \", \"cutsRecoTracksInitialStepByAlgoMask \", \"cutsRecoTracksBtvLike \", \"cutsRecoTracksInitialStepHp \", \"generalTracksPt09 \", \"cutsRecoTracksInitialStepByOriginalAlgo \", \"trackWithVertexRefSelectorBeforeSorting \", \"cutsRecoTracksInitialStepByAlgoMaskHp \", \"generalTracksFromPV \", \"trackRefsForJetsBeforeSorting \", \"hfprereco \", \"highPurityPtRange0to1 \", \"initialStepTrackRefsForJets \", \"cutsRecoTracksPt09Hp \", \"highPurityPV0p1 \", \"cutsRecoTracksHighPtTripletStep \", \"initialStepSeedLayers \", \"cutsRecoTracksHighPtTripletStepByOriginalAlgo \", \"cutsRecoTracksHighPtTripletStepByOriginalAlgoHp \", \"cutsRecoTracksHighPtTripletStepByAlgoMask \", \"cutsRecoTracksPt09InitialStep \", \"hfreco \", \"highPtTripletStepClusters \", \"cutsRecoTracksPt09InitialStepHp \", \"PV0p1 \", \"cutsRecoTracksHighPtTripletStepByAlgoMaskHp \", \"cutsRecoTracksHighPtTripletStepHp \", \"pvMonitor \", \"selectedOfflinePrimaryVertices \", \"highPurityPt1 \", \"cutsRecoTracksPt09HighPtTripletStep \", \"cutsRecoTracksPt09HighPtTripletStepHp \", \"selectedOfflinePrimaryVerticesWithBS \", \"MC_Dqmoffline_v2 \", \"initialStepTrackingRegions \", \"horeco \", \"TrackMon_ckf \", \"VertexAssociatorByPositionAndTracks \", \"ecalDetIdToBeRecovered \", \"generalTracksFromPVPt09 \", \"quickTrackAssociatorByHits \", \"trackerClusterCheck \", \"DQMoutput \", \"DQMoutput_step \", \"MC_Tracking_v2 \", \"MC_prevalidation_v2 \", \"MC_validation_v2 \", \"TriggerResults \", \"bunchSpacingProducer \", \"cutsRecoTracksFromPVHighPtTripletStep \", \"cutsRecoTracksFromPVHighPtTripletStepHp \", \"cutsRecoTracksFromPVHp \", \"cutsRecoTracksFromPVInitialStep \", \"cutsRecoTracksFromPVInitialStepHp \", \"cutsRecoTracksFromPVPt09HighPtTripletStep \", \"cutsRecoTracksFromPVPt09HighPtTripletStepHp \", \"cutsRecoTracksFromPVPt09Hp \", \"cutsRecoTracksFromPVPt09InitialStep \", \"cutsRecoTracksFromPVPt09InitialStepHp \", \"dqmInfoTracking \", \"highPtTripletStepSeedClusterMask \", \"highPtTripletStepTrackingRegions \", \"inclusiveSecondaryVertices \", \"inclusiveVertexFinder \", \"initialStepSeedClusterMask \", \"muonCSCDigis \", \"muonDTDigis \", \"muonGEMDigis \", \"muonRPCDigis \", \"muonRPCNewDigis \", \"quickTrackAssociatorByHitsPreSplitting \", \"raw2digi_step \", \"scalersRawToDigi \", \"siPixelRecHitsPreSplitting \"], \"marker\": {\"line\": {\"color\": \"#000000\", \"width\": 0.2}}, \"sort\": true, \"textposition\": \"none\", \"type\": \"pie\", \"values\": [13.45, 40.09, 38.8, 16.36, 22.03, 25.47, 7.61, 17.44, 15.79, 37.41, 285.75, 2.44, 0.34, 24.52, 5.73, 28.36, 0.88, 13.87, 5.3, 9.96, 183.94, 59.13, 6.11, 3.25, 12.23, 2.96, 13.23, 2.97, 14.22, 11.82, 2.91, 2.35, 1.29, 2.54, 0.28, 11.57, 0.29, 32.44, 1.92, 0.85, 0.28, 24.38, 20.25, 0.81, 0.83, 41.21, 0.36, 21.32, 8.27, 10.29, 10.25, 6.99, 0.32, 0.41, 3.44, 0.25, 0.25, 0.25, 0.25, 3.32, 0.25, 0.25, 0.25, 0.25, 0.25, 0.25, 0.25, 0.26, 0.25, 0.25, 0.25, 2.25, 0.25, 0.29, 0.25, 0.25, 0.25, 10.25, 0.25, 0.25, 0.25, 0.25, 0.78, 0.26, 0.25, 0.25, 0.25, 0.25, 0.26, 0.25, 0.25, 0.25, 0.25, 0.25, 0.25, 0.31, 0.27, 0.27, 0.25, 0.26, 0.25, 0.26, 0.26, 0.25, 0.25, 0.25, 0.25, 0.25, 0.25, 0.25, 0.25, 0.25, 0.25, 0.25, 0.25, 0.25, 0.25, 0.25, 0.25, 0.25, 0.25, 0.25, 0.25, 0.25, 0.25, 0.25, 0.25, 0.25, 0.25, 0.25, 0.25, 0.25, 0.25, 0.26, 0.25]}, {\"direction\": \"clockwise\", \"domain\": {\"x\": [0.1, 0.9], \"y\": [0.05, 0.9]}, \"hole\": 0.75, \"labels\": [\"unsortedOfflinePrimaryVertices \", \"trackValidatorTrackingOnly \", \"TrackerCollisionSelectedTrackMonCommongeneralTracks \", \"trackValidatorSeedingTrackingOnly \", \"highPtTripletStepTrackCandidates \", \"firstStepPrimaryVerticesUnsorted \", \"tpClusterProducer \", \"trackValidatorAllTPEfficStandalone \", \"TrackerCollisionSelectedTrackMonCommonhighPurityPtRange0to1 \", \"initialStepTracks \", \"trackingParticlesBHadron \", \"initialStepHitQuadruplets \", \"highPtTripletStepHitTriplets \", \"TrackerCollisionSelectedTrackMonCommonhighPurityPt1 \", \"trackValidatorBuilding \", \"initialStepSeeds \", \"generalTracks \", \"trackingParticlesSignal \", \"highPtTripletStepTracks \", \"trackValidatorTPPtLess09Standalone \", \"hbhereco \", \"ecalMultiFitUncalibRecHit \", \"primaryVertexResolution \", \"seedTracksinitialStepSeeds \", \"trackValidatorFromPVAllTPStandalone \", \"simHitTPAssocProducer \", \"siPixelClustersPreSplitting \", \"siPixelClusters \", \"trackingParticleRecoTrackAsssociation \", \"trackingParticleNumberOfLayersProducer \", \"vertexAnalysisTrackingOnly \", \"initialStepHitDoublets \", \"highPtTripletStepHitDoublets \", \"TrackSeedMoninitialStep \", \"offlinePrimaryVertices \", \"siPixelRecHits \", \"offlinePrimaryVerticesWithBS \", \"TrackerCollisionSelectedTrackMonCommonhighPurityPV0p1 \", \"trackValidatorBHadronTrackingOnly \", \"highPtTripletStepSeeds \", \"firstStepPrimaryVertices \", \"trackValidatorFromPVStandalone \", \"offlineBeamSpot \", \"siPixelClusterShapeCache \", \"TrackSeedMonhighPtTripletStep \", \"ecalRecHit \", \"seedTrackshighPtTripletStepSeeds \", \"source \", \"caloTowerForTrk \", \"TrackSplitMonitor \", \"MeasurementTrackerEvent \", \"ak4CaloJetsForTrk \", \"initialStepSelector \", \"siPhase2Clusters \", \"ecalDigis \", \"highPtTripletStepSeedLayers \", \"trackingDQMgoodOfflinePrimaryVertices \", \"cutsRecoTracksHp \", \"highPtTripletStepSelector \", \"hcalDigis \", \"cutsRecoTracksInitialStepByOriginalAlgoHp \", \"cutsRecoTracksInitialStep \", \"cutsRecoTracksInitialStepByAlgoMask \", \"cutsRecoTracksBtvLike \", \"cutsRecoTracksInitialStepHp \", \"generalTracksPt09 \", \"cutsRecoTracksInitialStepByOriginalAlgo \", \"trackWithVertexRefSelectorBeforeSorting \", \"cutsRecoTracksInitialStepByAlgoMaskHp \", \"generalTracksFromPV \", \"trackRefsForJetsBeforeSorting \", \"hfprereco \", \"highPurityPtRange0to1 \", \"initialStepTrackRefsForJets \", \"cutsRecoTracksPt09Hp \", \"highPurityPV0p1 \", \"initialStepSeedLayers \", \"cutsRecoTracksHighPtTripletStep \", \"cutsRecoTracksHighPtTripletStepByOriginalAlgo \", \"cutsRecoTracksHighPtTripletStepByOriginalAlgoHp \", \"cutsRecoTracksPt09InitialStep \", \"cutsRecoTracksHighPtTripletStepByAlgoMask \", \"highPtTripletStepClusters \", \"hfreco \", \"cutsRecoTracksPt09InitialStepHp \", \"PV0p1 \", \"cutsRecoTracksHighPtTripletStepByAlgoMaskHp \", \"cutsRecoTracksHighPtTripletStepHp \", \"selectedOfflinePrimaryVertices \", \"pvMonitor \", \"highPurityPt1 \", \"cutsRecoTracksPt09HighPtTripletStep \", \"cutsRecoTracksPt09HighPtTripletStepHp \", \"selectedOfflinePrimaryVerticesWithBS \", \"MC_Dqmoffline_v2 \", \"initialStepTrackingRegions \", \"horeco \", \"VertexAssociatorByPositionAndTracks \", \"TrackMon_ckf \", \"quickTrackAssociatorByHits \", \"trackerClusterCheck \", \"ecalDetIdToBeRecovered \", \"generalTracksFromPVPt09 \", \"quickTrackAssociatorByHitsPreSplitting \", \"highPtTripletStepSeedClusterMask \", \"trackValidatorSeedingPreSplittingTrackingOnly \", \"TriggerResults \", \"initialStepSeedClusterMask \", \"inclusiveVertexFinder \", \"trackVertexArbitrator \", \"inclusiveSecondaryVertices \", \"highPtTripletStepTrackingRegions \", \"MC_validation_v2 \", \"bunchSpacingProducer \", \"MC_prevalidation_v2 \", \"MC_Tracking_v2 \", \"trackingParticlesConversion \", \"trackingParticlesElectron \", \"DQMoutput_step \", \"v0Validator \", \"DQMoutput \", \"muonCSCDigis \", \"trackValidatorBuildingPreSplitting \", \"raw2digi_step \", \"muonDTDigis \", \"scalersRawToDigi \", \"dqmInfoTracking \", \"cutsRecoTracksFromPVPt09InitialStepHp \", \"muonRPCNewDigis \", \"muonRPCDigis \", \"cutsRecoTracksFromPVPt09InitialStep \", \"cutsRecoTracksFromPVPt09Hp \", \"cutsRecoTracksFromPVPt09HighPtTripletStepHp \", \"cutsRecoTracksFromPVPt09HighPtTripletStep \", \"cutsRecoTracksFromPVInitialStepHp \", \"siPixelRecHitsPreSplitting \", \"cutsRecoTracksFromPVInitialStep \", \"cutsRecoTracksFromPVHp \", \"tpClusterProducerPreSplitting \", \"muonGEMDigis \", \"cutsRecoTracksFromPVHighPtTripletStepHp \", \"cutsRecoTracksFromPVHighPtTripletStep \", \"vertexMerger \"], \"marker\": {\"line\": {\"color\": \"#000000\", \"width\": 0.2}}, \"sort\": true, \"textposition\": \"none\", \"type\": \"pie\", \"values\": [13.45, 40.09, 38.8, 16.36, 22.03, 25.47, 7.61, 17.44, 15.79, 37.41, 285.75, 2.44, 0.34, 24.52, 5.73, 28.36, 0.88, 13.87, 5.3, 9.96, 183.94, 59.13, 6.11, 3.25, 12.23, 2.96, 13.23, 2.97, 14.22, 11.82, 2.91, 2.35, 1.29, 2.54, 0.28, 11.57, 0.29, 32.44, 1.92, 0.85, 0.28, 24.38, 20.25, 0.81, 0.83, 41.21, 0.36, 21.32, 8.27, 10.25, 10.29, 6.99, 0.32, 0.41, 3.44, 0.25, 0.25, 0.25, 0.25, 3.32, 0.25, 0.25, 0.25, 0.25, 0.25, 0.25, 0.25, 0.26, 0.25, 0.25, 0.25, 2.25, 0.25, 0.29, 0.25, 0.25, 10.25, 0.25, 0.25, 0.25, 0.25, 0.25, 0.26, 0.78, 0.25, 0.25, 0.25, 0.25, 0.25, 0.26, 0.25, 0.25, 0.25, 0.25, 0.25, 0.31, 0.27, 0.25, 0.27, 0.26, 0.26, 0.26, 0.25, 0.25, 0.25, 0.25, 0.25, 0.25, 0.25, 0.25, 0.25, 0.25, 0.25, 0.25, 0.25, 0.25, 0.25, 0.25, 0.25, 0.25, 0.25, 0.25, 0.25, 0.25, 0.25, 0.26, 0.25, 0.25, 0.25, 0.25, 0.25, 0.25, 0.25, 0.25, 0.25, 0.25, 0.25, 0.25, 0.25, 0.25, 0.25, 0.25, 0.25]}, {\"direction\": \"clockwise\", \"domain\": {\"x\": [0.1, 0.9], \"y\": [0.05, 0.9]}, \"hole\": 0.9, \"labels\": [], \"marker\": {\"line\": {\"color\": \"#000000\", \"width\": 0.2}}, \"sort\": true, \"textposition\": \"none\", \"type\": \"pie\", \"values\": []}, {\"direction\": \"clockwise\", \"domain\": {\"x\": [0.1, 0.9], \"y\": [0.05, 0.9]}, \"hole\": 0.9, \"labels\": [\"unsortedOfflinePrimaryVertices \", \"trackingParticlesSignal \", \"trackValidatorTrackingOnly \", \"trackingParticlesBHadron \", \"TrackerCollisionSelectedTrackMonCommongeneralTracks \"], \"marker\": {\"line\": {\"color\": \"#000000\", \"width\": 0.2}}, \"sort\": true, \"textposition\": \"none\", \"type\": \"pie\", \"values\": [13.45, 13.87, 40.09, 285.75, 38.8]}, {\"direction\": \"clockwise\", \"domain\": {\"x\": [0.1, 0.9], \"y\": [0.05, 0.9]}, \"hole\": 0.9, \"labels\": [\"unsortedOfflinePrimaryVertices \", \"trackingParticlesSignal \", \"trackValidatorTrackingOnly \", \"trackingParticlesBHadron \", \"TrackerCollisionSelectedTrackMonCommongeneralTracks \", \"trackingParticleRecoTrackAsssociation \", \"trackValidatorSeedingTrackingOnly \", \"highPtTripletStepTrackCandidates \", \"firstStepPrimaryVerticesUnsorted \", \"tpClusterProducer \", \"trackValidatorAllTPEfficStandalone \", \"TrackerCollisionSelectedTrackMonCommonhighPurityPtRange0to1 \", \"initialStepTracks \", \"highPtTripletStepHitTriplets \", \"initialStepHitQuadruplets \"], \"marker\": {\"line\": {\"color\": \"#000000\", \"width\": 0.2}}, \"sort\": true, \"textposition\": \"none\", \"type\": \"pie\", \"values\": [13.45, 13.87, 40.09, 285.75, 38.8, 14.22, 16.36, 22.03, 25.47, 7.61, 17.44, 15.79, 37.41, 0.34, 2.44]}, {\"direction\": \"clockwise\", \"domain\": {\"x\": [0.1, 0.9], \"y\": [0.05, 0.9]}, \"hole\": 0.9, \"labels\": [\"unsortedOfflinePrimaryVertices \", \"trackingParticlesSignal \", \"trackValidatorTrackingOnly \", \"trackingParticlesBHadron \", \"TrackerCollisionSelectedTrackMonCommongeneralTracks \", \"trackingParticleRecoTrackAsssociation \", \"trackValidatorSeedingTrackingOnly \", \"highPtTripletStepTrackCandidates \", \"firstStepPrimaryVerticesUnsorted \", \"tpClusterProducer \", \"trackValidatorAllTPEfficStandalone \", \"TrackerCollisionSelectedTrackMonCommonhighPurityPtRange0to1 \", \"initialStepTracks \", \"highPtTripletStepHitTriplets \", \"initialStepHitQuadruplets \", \"trackingParticleNumberOfLayersProducer \", \"generalTracks \", \"TrackerCollisionSelectedTrackMonCommonhighPurityPt1 \", \"trackValidatorBuilding \", \"highPtTripletStepTracks \", \"initialStepSeeds \", \"source \", \"trackValidatorTPPtLess09Standalone \", \"ecalRecHit \", \"ecalMultiFitUncalibRecHit \"], \"marker\": {\"line\": {\"color\": \"#000000\", \"width\": 0.2}}, \"sort\": true, \"textposition\": \"none\", \"type\": \"pie\", \"values\": [13.45, 13.87, 40.09, 285.75, 38.8, 14.22, 16.36, 22.03, 25.47, 7.61, 17.44, 15.79, 37.41, 0.34, 2.44, 11.82, 0.88, 24.52, 5.73, 5.3, 28.36, 21.32, 9.96, 41.21, 59.13]}, {\"direction\": \"clockwise\", \"domain\": {\"x\": [0.1, 0.9], \"y\": [0.05, 0.9]}, \"hole\": 0.9, \"labels\": [\"unsortedOfflinePrimaryVertices \", \"trackingParticlesSignal \", \"trackValidatorTrackingOnly \", \"trackingParticlesBHadron \", \"TrackerCollisionSelectedTrackMonCommongeneralTracks \", \"trackingParticleRecoTrackAsssociation \", \"trackValidatorSeedingTrackingOnly \", \"highPtTripletStepTrackCandidates \", \"firstStepPrimaryVerticesUnsorted \", \"tpClusterProducer \", \"trackValidatorAllTPEfficStandalone \", \"TrackerCollisionSelectedTrackMonCommonhighPurityPtRange0to1 \", \"initialStepTracks \", \"highPtTripletStepHitTriplets \", \"initialStepHitQuadruplets \", \"trackingParticleNumberOfLayersProducer \", \"generalTracks \", \"TrackerCollisionSelectedTrackMonCommonhighPurityPt1 \", \"trackValidatorBuilding \", \"highPtTripletStepTracks \", \"initialStepSeeds \", \"source \", \"trackValidatorTPPtLess09Standalone \", \"ecalRecHit \", \"ecalMultiFitUncalibRecHit \", \"offlineBeamSpot \", \"primaryVertexResolution \", \"simHitTPAssocProducer \", \"TrackSplitMonitor \", \"seedTracksinitialStepSeeds \", \"trackValidatorFromPVAllTPStandalone \", \"hbhereco \", \"siPixelClustersPreSplitting \", \"siPixelClusters \", \"offlinePrimaryVertices \"], \"marker\": {\"line\": {\"color\": \"#000000\", \"width\": 0.2}}, \"sort\": true, \"textposition\": \"none\", \"type\": \"pie\", \"values\": [13.45, 13.87, 40.09, 285.75, 38.8, 14.22, 16.36, 22.03, 25.47, 7.61, 17.44, 15.79, 37.41, 0.34, 2.44, 11.82, 0.88, 24.52, 5.73, 5.3, 28.36, 21.32, 9.96, 41.21, 59.13, 20.25, 6.11, 2.96, 10.25, 3.25, 12.23, 183.94, 13.23, 2.97, 0.28]}, {\"direction\": \"clockwise\", \"domain\": {\"x\": [0.1, 0.9], \"y\": [0.05, 0.9]}, \"hole\": 0.9, \"labels\": [\"unsortedOfflinePrimaryVertices \", \"trackingParticlesSignal \", \"trackValidatorTrackingOnly \", \"trackingParticlesBHadron \", \"TrackerCollisionSelectedTrackMonCommongeneralTracks \", \"trackingParticleRecoTrackAsssociation \", \"trackValidatorSeedingTrackingOnly \", \"highPtTripletStepTrackCandidates \", \"firstStepPrimaryVerticesUnsorted \", \"tpClusterProducer \", \"trackValidatorAllTPEfficStandalone \", \"TrackerCollisionSelectedTrackMonCommonhighPurityPtRange0to1 \", \"initialStepTracks \", \"highPtTripletStepHitTriplets \", \"initialStepHitQuadruplets \", \"trackingParticleNumberOfLayersProducer \", \"generalTracks \", \"TrackerCollisionSelectedTrackMonCommonhighPurityPt1 \", \"trackValidatorBuilding \", \"highPtTripletStepTracks \", \"initialStepSeeds \", \"source \", \"trackValidatorTPPtLess09Standalone \", \"ecalRecHit \", \"ecalMultiFitUncalibRecHit \", \"offlineBeamSpot \", \"primaryVertexResolution \", \"simHitTPAssocProducer \", \"TrackSplitMonitor \", \"seedTracksinitialStepSeeds \", \"trackValidatorFromPVAllTPStandalone \", \"hbhereco \", \"siPixelClustersPreSplitting \", \"siPixelClusters \", \"offlinePrimaryVertices \", \"highPtTripletStepHitDoublets \", \"initialStepHitDoublets \", \"offlinePrimaryVerticesWithBS \", \"vertexAnalysisTrackingOnly \", \"siPixelRecHits \", \"TrackSeedMoninitialStep \", \"firstStepPrimaryVertices \", \"highPtTripletStepSeeds \", \"trackValidatorBHadronTrackingOnly \", \"TrackerCollisionSelectedTrackMonCommonhighPurityPV0p1 \"], \"marker\": {\"line\": {\"color\": \"#000000\", \"width\": 0.2}}, \"sort\": true, \"textposition\": \"none\", \"type\": \"pie\", \"values\": [13.45, 13.87, 40.09, 285.75, 38.8, 14.22, 16.36, 22.03, 25.47, 7.61, 17.44, 15.79, 37.41, 0.34, 2.44, 11.82, 0.88, 24.52, 5.73, 5.3, 28.36, 21.32, 9.96, 41.21, 59.13, 20.25, 6.11, 2.96, 10.25, 3.25, 12.23, 183.94, 13.23, 2.97, 0.28, 1.29, 2.35, 0.29, 2.91, 11.57, 2.54, 0.28, 0.85, 1.92, 32.44]}, {\"direction\": \"clockwise\", \"domain\": {\"x\": [0.1, 0.9], \"y\": [0.05, 0.9]}, \"hole\": 0.9, \"labels\": [\"unsortedOfflinePrimaryVertices \", \"trackingParticlesSignal \", \"trackValidatorTrackingOnly \", \"trackingParticlesBHadron \", \"TrackerCollisionSelectedTrackMonCommongeneralTracks \", \"trackingParticleRecoTrackAsssociation \", \"trackValidatorSeedingTrackingOnly \", \"highPtTripletStepTrackCandidates \", \"firstStepPrimaryVerticesUnsorted \", \"tpClusterProducer \", \"trackValidatorAllTPEfficStandalone \", \"TrackerCollisionSelectedTrackMonCommonhighPurityPtRange0to1 \", \"initialStepTracks \", \"highPtTripletStepHitTriplets \", \"initialStepHitQuadruplets \", \"trackingParticleNumberOfLayersProducer \", \"generalTracks \", \"TrackerCollisionSelectedTrackMonCommonhighPurityPt1 \", \"trackValidatorBuilding \", \"highPtTripletStepTracks \", \"initialStepSeeds \", \"source \", \"trackValidatorTPPtLess09Standalone \", \"ecalRecHit \", \"ecalMultiFitUncalibRecHit \", \"offlineBeamSpot \", \"primaryVertexResolution \", \"simHitTPAssocProducer \", \"TrackSplitMonitor \", \"seedTracksinitialStepSeeds \", \"trackValidatorFromPVAllTPStandalone \", \"hbhereco \", \"siPixelClustersPreSplitting \", \"siPixelClusters \", \"offlinePrimaryVertices \", \"highPtTripletStepHitDoublets \", \"initialStepHitDoublets \", \"offlinePrimaryVerticesWithBS \", \"vertexAnalysisTrackingOnly \", \"siPixelRecHits \", \"TrackSeedMoninitialStep \", \"firstStepPrimaryVertices \", \"highPtTripletStepSeeds \", \"trackValidatorBHadronTrackingOnly \", \"TrackerCollisionSelectedTrackMonCommonhighPurityPV0p1 \", \"seedTrackshighPtTripletStepSeeds \", \"TrackSeedMonhighPtTripletStep \", \"trackValidatorFromPVStandalone \", \"siPixelClusterShapeCache \", \"MeasurementTrackerEvent \", \"initialStepSeedLayers \", \"initialStepSelector \", \"caloTowerForTrk \", \"ak4CaloJetsForTrk \", \"siPhase2Clusters \"], \"marker\": {\"line\": {\"color\": \"#000000\", \"width\": 0.2}}, \"sort\": true, \"textposition\": \"none\", \"type\": \"pie\", \"values\": [13.45, 13.87, 40.09, 285.75, 38.8, 14.22, 16.36, 22.03, 25.47, 7.61, 17.44, 15.79, 37.41, 0.34, 2.44, 11.82, 0.88, 24.52, 5.73, 5.3, 28.36, 21.32, 9.96, 41.21, 59.13, 20.25, 6.11, 2.96, 10.25, 3.25, 12.23, 183.94, 13.23, 2.97, 0.28, 1.29, 2.35, 0.29, 2.91, 11.57, 2.54, 0.28, 0.85, 1.92, 32.44, 0.36, 0.83, 24.38, 0.81, 10.29, 10.25, 0.32, 8.27, 6.99, 0.41]}, {\"direction\": \"clockwise\", \"domain\": {\"x\": [0.1, 0.9], \"y\": [0.05, 0.9]}, \"hole\": 0.9, \"labels\": [\"unsortedOfflinePrimaryVertices \", \"trackingParticlesSignal \", \"trackValidatorTrackingOnly \", \"trackingParticlesBHadron \", \"TrackerCollisionSelectedTrackMonCommongeneralTracks \", \"trackingParticleRecoTrackAsssociation \", \"trackValidatorSeedingTrackingOnly \", \"highPtTripletStepTrackCandidates \", \"firstStepPrimaryVerticesUnsorted \", \"tpClusterProducer \", \"trackValidatorAllTPEfficStandalone \", \"TrackerCollisionSelectedTrackMonCommonhighPurityPtRange0to1 \", \"initialStepTracks \", \"highPtTripletStepHitTriplets \", \"initialStepHitQuadruplets \", \"trackingParticleNumberOfLayersProducer \", \"generalTracks \", \"TrackerCollisionSelectedTrackMonCommonhighPurityPt1 \", \"trackValidatorBuilding \", \"highPtTripletStepTracks \", \"initialStepSeeds \", \"source \", \"trackValidatorTPPtLess09Standalone \", \"ecalRecHit \", \"ecalMultiFitUncalibRecHit \", \"offlineBeamSpot \", \"primaryVertexResolution \", \"simHitTPAssocProducer \", \"TrackSplitMonitor \", \"seedTracksinitialStepSeeds \", \"trackValidatorFromPVAllTPStandalone \", \"hbhereco \", \"siPixelClustersPreSplitting \", \"siPixelClusters \", \"offlinePrimaryVertices \", \"highPtTripletStepHitDoublets \", \"initialStepHitDoublets \", \"offlinePrimaryVerticesWithBS \", \"vertexAnalysisTrackingOnly \", \"siPixelRecHits \", \"TrackSeedMoninitialStep \", \"firstStepPrimaryVertices \", \"highPtTripletStepSeeds \", \"trackValidatorBHadronTrackingOnly \", \"TrackerCollisionSelectedTrackMonCommonhighPurityPV0p1 \", \"seedTrackshighPtTripletStepSeeds \", \"TrackSeedMonhighPtTripletStep \", \"trackValidatorFromPVStandalone \", \"siPixelClusterShapeCache \", \"MeasurementTrackerEvent \", \"initialStepSeedLayers \", \"initialStepSelector \", \"caloTowerForTrk \", \"ak4CaloJetsForTrk \", \"siPhase2Clusters \", \"highPtTripletStepSelector \", \"highPtTripletStepSeedLayers \", \"ecalDigis \", \"cutsRecoTracksHp \", \"cutsRecoTracksBtvLike \", \"generalTracksPt09 \", \"cutsRecoTracksInitialStepByAlgoMask \", \"trackWithVertexRefSelectorBeforeSorting \", \"cutsRecoTracksInitialStepByAlgoMaskHp \", \"cutsRecoTracksInitialStepByOriginalAlgo \"], \"marker\": {\"line\": {\"color\": \"#000000\", \"width\": 0.2}}, \"sort\": true, \"textposition\": \"none\", \"type\": \"pie\", \"values\": [13.45, 13.87, 40.09, 285.75, 38.8, 14.22, 16.36, 22.03, 25.47, 7.61, 17.44, 15.79, 37.41, 0.34, 2.44, 11.82, 0.88, 24.52, 5.73, 5.3, 28.36, 21.32, 9.96, 41.21, 59.13, 20.25, 6.11, 2.96, 10.25, 3.25, 12.23, 183.94, 13.23, 2.97, 0.28, 1.29, 2.35, 0.29, 2.91, 11.57, 2.54, 0.28, 0.85, 1.92, 32.44, 0.36, 0.83, 24.38, 0.81, 10.29, 10.25, 0.32, 8.27, 6.99, 0.41, 0.25, 0.25, 3.44, 0.25, 0.25, 0.25, 0.25, 0.26, 0.25, 0.25]}, {\"direction\": \"clockwise\", \"domain\": {\"x\": [0.1, 0.9], \"y\": [0.05, 0.9]}, \"hole\": 0.9, \"labels\": [\"unsortedOfflinePrimaryVertices \", \"trackingParticlesSignal \", \"trackValidatorTrackingOnly \", \"trackingParticlesBHadron \", \"TrackerCollisionSelectedTrackMonCommongeneralTracks \", \"trackingParticleRecoTrackAsssociation \", \"trackValidatorSeedingTrackingOnly \", \"highPtTripletStepTrackCandidates \", \"firstStepPrimaryVerticesUnsorted \", \"tpClusterProducer \", \"trackValidatorAllTPEfficStandalone \", \"TrackerCollisionSelectedTrackMonCommonhighPurityPtRange0to1 \", \"initialStepTracks \", \"highPtTripletStepHitTriplets \", \"initialStepHitQuadruplets \", \"trackingParticleNumberOfLayersProducer \", \"generalTracks \", \"TrackerCollisionSelectedTrackMonCommonhighPurityPt1 \", \"trackValidatorBuilding \", \"highPtTripletStepTracks \", \"initialStepSeeds \", \"source \", \"trackValidatorTPPtLess09Standalone \", \"ecalRecHit \", \"ecalMultiFitUncalibRecHit \", \"offlineBeamSpot \", \"primaryVertexResolution \", \"simHitTPAssocProducer \", \"TrackSplitMonitor \", \"seedTracksinitialStepSeeds \", \"trackValidatorFromPVAllTPStandalone \", \"hbhereco \", \"siPixelClustersPreSplitting \", \"siPixelClusters \", \"offlinePrimaryVertices \", \"highPtTripletStepHitDoublets \", \"initialStepHitDoublets \", \"offlinePrimaryVerticesWithBS \", \"vertexAnalysisTrackingOnly \", \"siPixelRecHits \", \"TrackSeedMoninitialStep \", \"firstStepPrimaryVertices \", \"highPtTripletStepSeeds \", \"trackValidatorBHadronTrackingOnly \", \"TrackerCollisionSelectedTrackMonCommonhighPurityPV0p1 \", \"seedTrackshighPtTripletStepSeeds \", \"TrackSeedMonhighPtTripletStep \", \"trackValidatorFromPVStandalone \", \"siPixelClusterShapeCache \", \"MeasurementTrackerEvent \", \"initialStepSeedLayers \", \"initialStepSelector \", \"caloTowerForTrk \", \"ak4CaloJetsForTrk \", \"siPhase2Clusters \", \"highPtTripletStepSelector \", \"highPtTripletStepSeedLayers \", \"ecalDigis \", \"cutsRecoTracksHp \", \"cutsRecoTracksBtvLike \", \"generalTracksPt09 \", \"cutsRecoTracksInitialStepByAlgoMask \", \"trackWithVertexRefSelectorBeforeSorting \", \"cutsRecoTracksInitialStepByAlgoMaskHp \", \"cutsRecoTracksInitialStepByOriginalAlgo \", \"cutsRecoTracksInitialStepByOriginalAlgoHp \", \"cutsRecoTracksInitialStep \", \"cutsRecoTracksInitialStepHp \", \"generalTracksFromPV \", \"trackRefsForJetsBeforeSorting \", \"hcalDigis \", \"trackingDQMgoodOfflinePrimaryVertices \", \"highPurityPtRange0to1 \", \"initialStepTrackRefsForJets \", \"hfprereco \"], \"marker\": {\"line\": {\"color\": \"#000000\", \"width\": 0.2}}, \"sort\": true, \"textposition\": \"none\", \"type\": \"pie\", \"values\": [13.45, 13.87, 40.09, 285.75, 38.8, 14.22, 16.36, 22.03, 25.47, 7.61, 17.44, 15.79, 37.41, 0.34, 2.44, 11.82, 0.88, 24.52, 5.73, 5.3, 28.36, 21.32, 9.96, 41.21, 59.13, 20.25, 6.11, 2.96, 10.25, 3.25, 12.23, 183.94, 13.23, 2.97, 0.28, 1.29, 2.35, 0.29, 2.91, 11.57, 2.54, 0.28, 0.85, 1.92, 32.44, 0.36, 0.83, 24.38, 0.81, 10.29, 10.25, 0.32, 8.27, 6.99, 0.41, 0.25, 0.25, 3.44, 0.25, 0.25, 0.25, 0.25, 0.26, 0.25, 0.25, 0.25, 0.25, 0.25, 0.25, 0.25, 3.32, 0.25, 0.25, 0.29, 2.25]}, {\"direction\": \"clockwise\", \"domain\": {\"x\": [0.1, 0.9], \"y\": [0.05, 0.9]}, \"hole\": 0.9, \"labels\": [\"unsortedOfflinePrimaryVertices \", \"trackingParticlesSignal \", \"trackValidatorTrackingOnly \", \"trackingParticlesBHadron \", \"TrackerCollisionSelectedTrackMonCommongeneralTracks \", \"trackingParticleRecoTrackAsssociation \", \"trackValidatorSeedingTrackingOnly \", \"highPtTripletStepTrackCandidates \", \"firstStepPrimaryVerticesUnsorted \", \"tpClusterProducer \", \"trackValidatorAllTPEfficStandalone \", \"TrackerCollisionSelectedTrackMonCommonhighPurityPtRange0to1 \", \"initialStepTracks \", \"highPtTripletStepHitTriplets \", \"initialStepHitQuadruplets \", \"trackingParticleNumberOfLayersProducer \", \"generalTracks \", \"TrackerCollisionSelectedTrackMonCommonhighPurityPt1 \", \"trackValidatorBuilding \", \"highPtTripletStepTracks \", \"initialStepSeeds \", \"source \", \"trackValidatorTPPtLess09Standalone \", \"ecalRecHit \", \"ecalMultiFitUncalibRecHit \", \"offlineBeamSpot \", \"primaryVertexResolution \", \"simHitTPAssocProducer \", \"TrackSplitMonitor \", \"seedTracksinitialStepSeeds \", \"trackValidatorFromPVAllTPStandalone \", \"hbhereco \", \"siPixelClustersPreSplitting \", \"siPixelClusters \", \"offlinePrimaryVertices \", \"highPtTripletStepHitDoublets \", \"initialStepHitDoublets \", \"offlinePrimaryVerticesWithBS \", \"vertexAnalysisTrackingOnly \", \"siPixelRecHits \", \"TrackSeedMoninitialStep \", \"firstStepPrimaryVertices \", \"highPtTripletStepSeeds \", \"trackValidatorBHadronTrackingOnly \", \"TrackerCollisionSelectedTrackMonCommonhighPurityPV0p1 \", \"seedTrackshighPtTripletStepSeeds \", \"TrackSeedMonhighPtTripletStep \", \"trackValidatorFromPVStandalone \", \"siPixelClusterShapeCache \", \"MeasurementTrackerEvent \", \"initialStepSeedLayers \", \"initialStepSelector \", \"caloTowerForTrk \", \"ak4CaloJetsForTrk \", \"siPhase2Clusters \", \"highPtTripletStepSelector \", \"highPtTripletStepSeedLayers \", \"ecalDigis \", \"cutsRecoTracksHp \", \"cutsRecoTracksBtvLike \", \"generalTracksPt09 \", \"cutsRecoTracksInitialStepByAlgoMask \", \"trackWithVertexRefSelectorBeforeSorting \", \"cutsRecoTracksInitialStepByAlgoMaskHp \", \"cutsRecoTracksInitialStepByOriginalAlgo \", \"cutsRecoTracksInitialStepByOriginalAlgoHp \", \"cutsRecoTracksInitialStep \", \"cutsRecoTracksInitialStepHp \", \"generalTracksFromPV \", \"trackRefsForJetsBeforeSorting \", \"hcalDigis \", \"trackingDQMgoodOfflinePrimaryVertices \", \"highPurityPtRange0to1 \", \"initialStepTrackRefsForJets \", \"hfprereco \", \"cutsRecoTracksPt09Hp \", \"highPurityPV0p1 \", \"cutsRecoTracksHighPtTripletStepByAlgoMask \", \"cutsRecoTracksHighPtTripletStepByOriginalAlgo \", \"cutsRecoTracksHighPtTripletStep \", \"highPtTripletStepClusters \", \"cutsRecoTracksPt09InitialStep \", \"cutsRecoTracksPt09InitialStepHp \", \"PV0p1 \", \"hfreco \"], \"marker\": {\"line\": {\"color\": \"#000000\", \"width\": 0.2}}, \"sort\": true, \"textposition\": \"none\", \"type\": \"pie\", \"values\": [13.45, 13.87, 40.09, 285.75, 38.8, 14.22, 16.36, 22.03, 25.47, 7.61, 17.44, 15.79, 37.41, 0.34, 2.44, 11.82, 0.88, 24.52, 5.73, 5.3, 28.36, 21.32, 9.96, 41.21, 59.13, 20.25, 6.11, 2.96, 10.25, 3.25, 12.23, 183.94, 13.23, 2.97, 0.28, 1.29, 2.35, 0.29, 2.91, 11.57, 2.54, 0.28, 0.85, 1.92, 32.44, 0.36, 0.83, 24.38, 0.81, 10.29, 10.25, 0.32, 8.27, 6.99, 0.41, 0.25, 0.25, 3.44, 0.25, 0.25, 0.25, 0.25, 0.26, 0.25, 0.25, 0.25, 0.25, 0.25, 0.25, 0.25, 3.32, 0.25, 0.25, 0.29, 2.25, 0.25, 0.25, 0.25, 0.25, 0.25, 0.26, 0.25, 0.25, 0.25, 0.78]}, {\"direction\": \"clockwise\", \"domain\": {\"x\": [0.1, 0.9], \"y\": [0.05, 0.9]}, \"hole\": 0.9, \"labels\": [\"unsortedOfflinePrimaryVertices \", \"trackingParticlesSignal \", \"trackValidatorTrackingOnly \", \"trackingParticlesBHadron \", \"TrackerCollisionSelectedTrackMonCommongeneralTracks \", \"trackingParticleRecoTrackAsssociation \", \"trackValidatorSeedingTrackingOnly \", \"highPtTripletStepTrackCandidates \", \"firstStepPrimaryVerticesUnsorted \", \"tpClusterProducer \", \"trackValidatorAllTPEfficStandalone \", \"TrackerCollisionSelectedTrackMonCommonhighPurityPtRange0to1 \", \"initialStepTracks \", \"highPtTripletStepHitTriplets \", \"initialStepHitQuadruplets \", \"trackingParticleNumberOfLayersProducer \", \"generalTracks \", \"TrackerCollisionSelectedTrackMonCommonhighPurityPt1 \", \"trackValidatorBuilding \", \"highPtTripletStepTracks \", \"initialStepSeeds \", \"source \", \"trackValidatorTPPtLess09Standalone \", \"ecalRecHit \", \"ecalMultiFitUncalibRecHit \", \"offlineBeamSpot \", \"primaryVertexResolution \", \"simHitTPAssocProducer \", \"TrackSplitMonitor \", \"seedTracksinitialStepSeeds \", \"trackValidatorFromPVAllTPStandalone \", \"hbhereco \", \"siPixelClustersPreSplitting \", \"siPixelClusters \", \"offlinePrimaryVertices \", \"highPtTripletStepHitDoublets \", \"initialStepHitDoublets \", \"offlinePrimaryVerticesWithBS \", \"vertexAnalysisTrackingOnly \", \"siPixelRecHits \", \"TrackSeedMoninitialStep \", \"firstStepPrimaryVertices \", \"highPtTripletStepSeeds \", \"trackValidatorBHadronTrackingOnly \", \"TrackerCollisionSelectedTrackMonCommonhighPurityPV0p1 \", \"seedTrackshighPtTripletStepSeeds \", \"TrackSeedMonhighPtTripletStep \", \"trackValidatorFromPVStandalone \", \"siPixelClusterShapeCache \", \"MeasurementTrackerEvent \", \"initialStepSeedLayers \", \"initialStepSelector \", \"caloTowerForTrk \", \"ak4CaloJetsForTrk \", \"siPhase2Clusters \", \"highPtTripletStepSelector \", \"highPtTripletStepSeedLayers \", \"ecalDigis \", \"cutsRecoTracksHp \", \"cutsRecoTracksBtvLike \", \"generalTracksPt09 \", \"cutsRecoTracksInitialStepByAlgoMask \", \"trackWithVertexRefSelectorBeforeSorting \", \"cutsRecoTracksInitialStepByAlgoMaskHp \", \"cutsRecoTracksInitialStepByOriginalAlgo \", \"cutsRecoTracksInitialStepByOriginalAlgoHp \", \"cutsRecoTracksInitialStep \", \"cutsRecoTracksInitialStepHp \", \"generalTracksFromPV \", \"trackRefsForJetsBeforeSorting \", \"hcalDigis \", \"trackingDQMgoodOfflinePrimaryVertices \", \"highPurityPtRange0to1 \", \"initialStepTrackRefsForJets \", \"hfprereco \", \"cutsRecoTracksPt09Hp \", \"highPurityPV0p1 \", \"cutsRecoTracksHighPtTripletStepByAlgoMask \", \"cutsRecoTracksHighPtTripletStepByOriginalAlgo \", \"cutsRecoTracksHighPtTripletStep \", \"highPtTripletStepClusters \", \"cutsRecoTracksPt09InitialStep \", \"cutsRecoTracksPt09InitialStepHp \", \"PV0p1 \", \"hfreco \", \"cutsRecoTracksHighPtTripletStepHp \", \"cutsRecoTracksHighPtTripletStepByAlgoMaskHp \", \"cutsRecoTracksHighPtTripletStepByOriginalAlgoHp \", \"highPurityPt1 \", \"pvMonitor \", \"cutsRecoTracksPt09HighPtTripletStep \", \"selectedOfflinePrimaryVertices \", \"cutsRecoTracksPt09HighPtTripletStepHp \", \"selectedOfflinePrimaryVerticesWithBS \", \"horeco \"], \"marker\": {\"line\": {\"color\": \"#000000\", \"width\": 0.2}}, \"sort\": true, \"textposition\": \"none\", \"type\": \"pie\", \"values\": [13.45, 13.87, 40.09, 285.75, 38.8, 14.22, 16.36, 22.03, 25.47, 7.61, 17.44, 15.79, 37.41, 0.34, 2.44, 11.82, 0.88, 24.52, 5.73, 5.3, 28.36, 21.32, 9.96, 41.21, 59.13, 20.25, 6.11, 2.96, 10.25, 3.25, 12.23, 183.94, 13.23, 2.97, 0.28, 1.29, 2.35, 0.29, 2.91, 11.57, 2.54, 0.28, 0.85, 1.92, 32.44, 0.36, 0.83, 24.38, 0.81, 10.29, 10.25, 0.32, 8.27, 6.99, 0.41, 0.25, 0.25, 3.44, 0.25, 0.25, 0.25, 0.25, 0.26, 0.25, 0.25, 0.25, 0.25, 0.25, 0.25, 0.25, 3.32, 0.25, 0.25, 0.29, 2.25, 0.25, 0.25, 0.25, 0.25, 0.25, 0.26, 0.25, 0.25, 0.25, 0.78, 0.25, 0.25, 0.25, 0.25, 0.26, 0.25, 0.25, 0.25, 0.25, 0.27]}, {\"direction\": \"clockwise\", \"domain\": {\"x\": [0.1, 0.9], \"y\": [0.05, 0.9]}, \"hole\": 0.9, \"labels\": [\"unsortedOfflinePrimaryVertices \", \"trackingParticlesSignal \", \"trackValidatorTrackingOnly \", \"trackingParticlesBHadron \", \"TrackerCollisionSelectedTrackMonCommongeneralTracks \", \"trackingParticleRecoTrackAsssociation \", \"trackValidatorSeedingTrackingOnly \", \"highPtTripletStepTrackCandidates \", \"firstStepPrimaryVerticesUnsorted \", \"tpClusterProducer \", \"trackValidatorAllTPEfficStandalone \", \"TrackerCollisionSelectedTrackMonCommonhighPurityPtRange0to1 \", \"initialStepTracks \", \"highPtTripletStepHitTriplets \", \"initialStepHitQuadruplets \", \"trackingParticleNumberOfLayersProducer \", \"generalTracks \", \"TrackerCollisionSelectedTrackMonCommonhighPurityPt1 \", \"trackValidatorBuilding \", \"highPtTripletStepTracks \", \"initialStepSeeds \", \"source \", \"trackValidatorTPPtLess09Standalone \", \"ecalRecHit \", \"ecalMultiFitUncalibRecHit \", \"offlineBeamSpot \", \"primaryVertexResolution \", \"simHitTPAssocProducer \", \"TrackSplitMonitor \", \"seedTracksinitialStepSeeds \", \"trackValidatorFromPVAllTPStandalone \", \"hbhereco \", \"siPixelClustersPreSplitting \", \"siPixelClusters \", \"offlinePrimaryVertices \", \"highPtTripletStepHitDoublets \", \"initialStepHitDoublets \", \"offlinePrimaryVerticesWithBS \", \"vertexAnalysisTrackingOnly \", \"siPixelRecHits \", \"TrackSeedMoninitialStep \", \"firstStepPrimaryVertices \", \"highPtTripletStepSeeds \", \"trackValidatorBHadronTrackingOnly \", \"TrackerCollisionSelectedTrackMonCommonhighPurityPV0p1 \", \"seedTrackshighPtTripletStepSeeds \", \"TrackSeedMonhighPtTripletStep \", \"trackValidatorFromPVStandalone \", \"siPixelClusterShapeCache \", \"MeasurementTrackerEvent \", \"initialStepSeedLayers \", \"initialStepSelector \", \"caloTowerForTrk \", \"ak4CaloJetsForTrk \", \"siPhase2Clusters \", \"highPtTripletStepSelector \", \"highPtTripletStepSeedLayers \", \"ecalDigis \", \"cutsRecoTracksHp \", \"cutsRecoTracksBtvLike \", \"generalTracksPt09 \", \"cutsRecoTracksInitialStepByAlgoMask \", \"trackWithVertexRefSelectorBeforeSorting \", \"cutsRecoTracksInitialStepByAlgoMaskHp \", \"cutsRecoTracksInitialStepByOriginalAlgo \", \"cutsRecoTracksInitialStepByOriginalAlgoHp \", \"cutsRecoTracksInitialStep \", \"cutsRecoTracksInitialStepHp \", \"generalTracksFromPV \", \"trackRefsForJetsBeforeSorting \", \"hcalDigis \", \"trackingDQMgoodOfflinePrimaryVertices \", \"highPurityPtRange0to1 \", \"initialStepTrackRefsForJets \", \"hfprereco \", \"cutsRecoTracksPt09Hp \", \"highPurityPV0p1 \", \"cutsRecoTracksHighPtTripletStepByAlgoMask \", \"cutsRecoTracksHighPtTripletStepByOriginalAlgo \", \"cutsRecoTracksHighPtTripletStep \", \"highPtTripletStepClusters \", \"cutsRecoTracksPt09InitialStep \", \"cutsRecoTracksPt09InitialStepHp \", \"PV0p1 \", \"hfreco \", \"cutsRecoTracksHighPtTripletStepHp \", \"cutsRecoTracksHighPtTripletStepByAlgoMaskHp \", \"cutsRecoTracksHighPtTripletStepByOriginalAlgoHp \", \"highPurityPt1 \", \"pvMonitor \", \"cutsRecoTracksPt09HighPtTripletStep \", \"selectedOfflinePrimaryVertices \", \"cutsRecoTracksPt09HighPtTripletStepHp \", \"selectedOfflinePrimaryVerticesWithBS \", \"horeco \", \"initialStepTrackingRegions \", \"TrackMon_ckf \", \"ecalDetIdToBeRecovered \", \"quickTrackAssociatorByHits \", \"trackerClusterCheck \", \"DQMoutput \", \"DQMoutput_step \", \"MC_Dqmoffline_v2 \", \"MC_Tracking_v2 \", \"MC_prevalidation_v2 \"], \"marker\": {\"line\": {\"color\": \"#000000\", \"width\": 0.2}}, \"sort\": true, \"textposition\": \"none\", \"type\": \"pie\", \"values\": [13.45, 13.87, 40.09, 285.75, 38.8, 14.22, 16.36, 22.03, 25.47, 7.61, 17.44, 15.79, 37.41, 0.34, 2.44, 11.82, 0.88, 24.52, 5.73, 5.3, 28.36, 21.32, 9.96, 41.21, 59.13, 20.25, 6.11, 2.96, 10.25, 3.25, 12.23, 183.94, 13.23, 2.97, 0.28, 1.29, 2.35, 0.29, 2.91, 11.57, 2.54, 0.28, 0.85, 1.92, 32.44, 0.36, 0.83, 24.38, 0.81, 10.29, 10.25, 0.32, 8.27, 6.99, 0.41, 0.25, 0.25, 3.44, 0.25, 0.25, 0.25, 0.25, 0.26, 0.25, 0.25, 0.25, 0.25, 0.25, 0.25, 0.25, 3.32, 0.25, 0.25, 0.29, 2.25, 0.25, 0.25, 0.25, 0.25, 0.25, 0.26, 0.25, 0.25, 0.25, 0.78, 0.25, 0.25, 0.25, 0.25, 0.26, 0.25, 0.25, 0.25, 0.25, 0.27, 0.31, 0.27, 0.26, 0.26, 0.26, 0.25, 0.25, 0.25, 0.25, 0.25]}, {\"direction\": \"clockwise\", \"domain\": {\"x\": [0.1, 0.9], \"y\": [0.05, 0.9]}, \"hole\": 0.9, \"labels\": [\"unsortedOfflinePrimaryVertices \", \"trackingParticlesSignal \", \"trackValidatorTrackingOnly \", \"trackingParticlesBHadron \", \"TrackerCollisionSelectedTrackMonCommongeneralTracks \", \"trackingParticleRecoTrackAsssociation \", \"trackValidatorSeedingTrackingOnly \", \"highPtTripletStepTrackCandidates \", \"firstStepPrimaryVerticesUnsorted \", \"tpClusterProducer \", \"trackValidatorAllTPEfficStandalone \", \"TrackerCollisionSelectedTrackMonCommonhighPurityPtRange0to1 \", \"initialStepTracks \", \"highPtTripletStepHitTriplets \", \"initialStepHitQuadruplets \", \"trackingParticleNumberOfLayersProducer \", \"generalTracks \", \"TrackerCollisionSelectedTrackMonCommonhighPurityPt1 \", \"trackValidatorBuilding \", \"highPtTripletStepTracks \", \"initialStepSeeds \", \"source \", \"trackValidatorTPPtLess09Standalone \", \"ecalRecHit \", \"ecalMultiFitUncalibRecHit \", \"offlineBeamSpot \", \"primaryVertexResolution \", \"simHitTPAssocProducer \", \"TrackSplitMonitor \", \"seedTracksinitialStepSeeds \", \"trackValidatorFromPVAllTPStandalone \", \"hbhereco \", \"siPixelClustersPreSplitting \", \"siPixelClusters \", \"offlinePrimaryVertices \", \"highPtTripletStepHitDoublets \", \"initialStepHitDoublets \", \"offlinePrimaryVerticesWithBS \", \"vertexAnalysisTrackingOnly \", \"siPixelRecHits \", \"TrackSeedMoninitialStep \", \"firstStepPrimaryVertices \", \"highPtTripletStepSeeds \", \"trackValidatorBHadronTrackingOnly \", \"TrackerCollisionSelectedTrackMonCommonhighPurityPV0p1 \", \"seedTrackshighPtTripletStepSeeds \", \"TrackSeedMonhighPtTripletStep \", \"trackValidatorFromPVStandalone \", \"siPixelClusterShapeCache \", \"MeasurementTrackerEvent \", \"initialStepSeedLayers \", \"initialStepSelector \", \"caloTowerForTrk \", \"ak4CaloJetsForTrk \", \"siPhase2Clusters \", \"highPtTripletStepSelector \", \"highPtTripletStepSeedLayers \", \"ecalDigis \", \"cutsRecoTracksHp \", \"cutsRecoTracksBtvLike \", \"generalTracksPt09 \", \"cutsRecoTracksInitialStepByAlgoMask \", \"trackWithVertexRefSelectorBeforeSorting \", \"cutsRecoTracksInitialStepByAlgoMaskHp \", \"cutsRecoTracksInitialStepByOriginalAlgo \", \"cutsRecoTracksInitialStepByOriginalAlgoHp \", \"cutsRecoTracksInitialStep \", \"cutsRecoTracksInitialStepHp \", \"generalTracksFromPV \", \"trackRefsForJetsBeforeSorting \", \"hcalDigis \", \"trackingDQMgoodOfflinePrimaryVertices \", \"highPurityPtRange0to1 \", \"initialStepTrackRefsForJets \", \"hfprereco \", \"cutsRecoTracksPt09Hp \", \"highPurityPV0p1 \", \"cutsRecoTracksHighPtTripletStepByAlgoMask \", \"cutsRecoTracksHighPtTripletStepByOriginalAlgo \", \"cutsRecoTracksHighPtTripletStep \", \"highPtTripletStepClusters \", \"cutsRecoTracksPt09InitialStep \", \"cutsRecoTracksPt09InitialStepHp \", \"PV0p1 \", \"hfreco \", \"cutsRecoTracksHighPtTripletStepHp \", \"cutsRecoTracksHighPtTripletStepByAlgoMaskHp \", \"cutsRecoTracksHighPtTripletStepByOriginalAlgoHp \", \"highPurityPt1 \", \"pvMonitor \", \"cutsRecoTracksPt09HighPtTripletStep \", \"selectedOfflinePrimaryVertices \", \"cutsRecoTracksPt09HighPtTripletStepHp \", \"selectedOfflinePrimaryVerticesWithBS \", \"horeco \", \"initialStepTrackingRegions \", \"TrackMon_ckf \", \"ecalDetIdToBeRecovered \", \"quickTrackAssociatorByHits \", \"trackerClusterCheck \", \"DQMoutput \", \"DQMoutput_step \", \"MC_Dqmoffline_v2 \", \"MC_Tracking_v2 \", \"MC_prevalidation_v2 \", \"MC_validation_v2 \", \"TriggerResults \", \"VertexAssociatorByPositionAndTracks \", \"bunchSpacingProducer \", \"cutsRecoTracksFromPVHighPtTripletStep \", \"cutsRecoTracksFromPVHighPtTripletStepHp \", \"cutsRecoTracksFromPVHp \", \"cutsRecoTracksFromPVInitialStep \", \"cutsRecoTracksFromPVInitialStepHp \", \"cutsRecoTracksFromPVPt09HighPtTripletStep \"], \"marker\": {\"line\": {\"color\": \"#000000\", \"width\": 0.2}}, \"sort\": true, \"textposition\": \"none\", \"type\": \"pie\", \"values\": [13.45, 13.87, 40.09, 285.75, 38.8, 14.22, 16.36, 22.03, 25.47, 7.61, 17.44, 15.79, 37.41, 0.34, 2.44, 11.82, 0.88, 24.52, 5.73, 5.3, 28.36, 21.32, 9.96, 41.21, 59.13, 20.25, 6.11, 2.96, 10.25, 3.25, 12.23, 183.94, 13.23, 2.97, 0.28, 1.29, 2.35, 0.29, 2.91, 11.57, 2.54, 0.28, 0.85, 1.92, 32.44, 0.36, 0.83, 24.38, 0.81, 10.29, 10.25, 0.32, 8.27, 6.99, 0.41, 0.25, 0.25, 3.44, 0.25, 0.25, 0.25, 0.25, 0.26, 0.25, 0.25, 0.25, 0.25, 0.25, 0.25, 0.25, 3.32, 0.25, 0.25, 0.29, 2.25, 0.25, 0.25, 0.25, 0.25, 0.25, 0.26, 0.25, 0.25, 0.25, 0.78, 0.25, 0.25, 0.25, 0.25, 0.26, 0.25, 0.25, 0.25, 0.25, 0.27, 0.31, 0.27, 0.26, 0.26, 0.26, 0.25, 0.25, 0.25, 0.25, 0.25, 0.25, 0.25, 0.25, 0.25, 0.25, 0.25, 0.25, 0.25, 0.25, 0.25]}, {\"direction\": \"clockwise\", \"domain\": {\"x\": [0.1, 0.9], \"y\": [0.05, 0.9]}, \"hole\": 0.9, \"labels\": [\"unsortedOfflinePrimaryVertices \", \"trackingParticlesSignal \", \"trackValidatorTrackingOnly \", \"trackingParticlesBHadron \", \"TrackerCollisionSelectedTrackMonCommongeneralTracks \", \"trackingParticleRecoTrackAsssociation \", \"trackValidatorSeedingTrackingOnly \", \"highPtTripletStepTrackCandidates \", \"firstStepPrimaryVerticesUnsorted \", \"tpClusterProducer \", \"trackValidatorAllTPEfficStandalone \", \"TrackerCollisionSelectedTrackMonCommonhighPurityPtRange0to1 \", \"initialStepTracks \", \"highPtTripletStepHitTriplets \", \"initialStepHitQuadruplets \", \"trackingParticleNumberOfLayersProducer \", \"generalTracks \", \"TrackerCollisionSelectedTrackMonCommonhighPurityPt1 \", \"trackValidatorBuilding \", \"highPtTripletStepTracks \", \"initialStepSeeds \", \"source \", \"trackValidatorTPPtLess09Standalone \", \"ecalRecHit \", \"ecalMultiFitUncalibRecHit \", \"offlineBeamSpot \", \"primaryVertexResolution \", \"simHitTPAssocProducer \", \"TrackSplitMonitor \", \"seedTracksinitialStepSeeds \", \"trackValidatorFromPVAllTPStandalone \", \"hbhereco \", \"siPixelClustersPreSplitting \", \"siPixelClusters \", \"offlinePrimaryVertices \", \"highPtTripletStepHitDoublets \", \"initialStepHitDoublets \", \"offlinePrimaryVerticesWithBS \", \"vertexAnalysisTrackingOnly \", \"siPixelRecHits \", \"TrackSeedMoninitialStep \", \"firstStepPrimaryVertices \", \"highPtTripletStepSeeds \", \"trackValidatorBHadronTrackingOnly \", \"TrackerCollisionSelectedTrackMonCommonhighPurityPV0p1 \", \"seedTrackshighPtTripletStepSeeds \", \"TrackSeedMonhighPtTripletStep \", \"trackValidatorFromPVStandalone \", \"siPixelClusterShapeCache \", \"MeasurementTrackerEvent \", \"initialStepSeedLayers \", \"initialStepSelector \", \"caloTowerForTrk \", \"ak4CaloJetsForTrk \", \"siPhase2Clusters \", \"highPtTripletStepSelector \", \"highPtTripletStepSeedLayers \", \"ecalDigis \", \"cutsRecoTracksHp \", \"cutsRecoTracksBtvLike \", \"generalTracksPt09 \", \"cutsRecoTracksInitialStepByAlgoMask \", \"trackWithVertexRefSelectorBeforeSorting \", \"cutsRecoTracksInitialStepByAlgoMaskHp \", \"cutsRecoTracksInitialStepByOriginalAlgo \", \"cutsRecoTracksInitialStepByOriginalAlgoHp \", \"cutsRecoTracksInitialStep \", \"cutsRecoTracksInitialStepHp \", \"generalTracksFromPV \", \"trackRefsForJetsBeforeSorting \", \"hcalDigis \", \"trackingDQMgoodOfflinePrimaryVertices \", \"highPurityPtRange0to1 \", \"initialStepTrackRefsForJets \", \"hfprereco \", \"cutsRecoTracksPt09Hp \", \"highPurityPV0p1 \", \"cutsRecoTracksHighPtTripletStepByAlgoMask \", \"cutsRecoTracksHighPtTripletStepByOriginalAlgo \", \"cutsRecoTracksHighPtTripletStep \", \"highPtTripletStepClusters \", \"cutsRecoTracksPt09InitialStep \", \"cutsRecoTracksPt09InitialStepHp \", \"PV0p1 \", \"hfreco \", \"cutsRecoTracksHighPtTripletStepHp \", \"cutsRecoTracksHighPtTripletStepByAlgoMaskHp \", \"cutsRecoTracksHighPtTripletStepByOriginalAlgoHp \", \"highPurityPt1 \", \"pvMonitor \", \"cutsRecoTracksPt09HighPtTripletStep \", \"selectedOfflinePrimaryVertices \", \"cutsRecoTracksPt09HighPtTripletStepHp \", \"selectedOfflinePrimaryVerticesWithBS \", \"horeco \", \"initialStepTrackingRegions \", \"TrackMon_ckf \", \"ecalDetIdToBeRecovered \", \"quickTrackAssociatorByHits \", \"trackerClusterCheck \", \"DQMoutput \", \"DQMoutput_step \", \"MC_Dqmoffline_v2 \", \"MC_Tracking_v2 \", \"MC_prevalidation_v2 \", \"MC_validation_v2 \", \"TriggerResults \", \"VertexAssociatorByPositionAndTracks \", \"bunchSpacingProducer \", \"cutsRecoTracksFromPVHighPtTripletStep \", \"cutsRecoTracksFromPVHighPtTripletStepHp \", \"cutsRecoTracksFromPVHp \", \"cutsRecoTracksFromPVInitialStep \", \"cutsRecoTracksFromPVInitialStepHp \", \"cutsRecoTracksFromPVPt09HighPtTripletStep \", \"cutsRecoTracksFromPVPt09HighPtTripletStepHp \", \"cutsRecoTracksFromPVPt09Hp \", \"cutsRecoTracksFromPVPt09InitialStep \", \"cutsRecoTracksFromPVPt09InitialStepHp \", \"dqmInfoTracking \", \"generalTracksFromPVPt09 \", \"highPtTripletStepSeedClusterMask \", \"highPtTripletStepTrackingRegions \", \"inclusiveSecondaryVertices \", \"inclusiveVertexFinder \"], \"marker\": {\"line\": {\"color\": \"#000000\", \"width\": 0.2}}, \"sort\": true, \"textposition\": \"none\", \"type\": \"pie\", \"values\": [13.45, 13.87, 40.09, 285.75, 38.8, 14.22, 16.36, 22.03, 25.47, 7.61, 17.44, 15.79, 37.41, 0.34, 2.44, 11.82, 0.88, 24.52, 5.73, 5.3, 28.36, 21.32, 9.96, 41.21, 59.13, 20.25, 6.11, 2.96, 10.25, 3.25, 12.23, 183.94, 13.23, 2.97, 0.28, 1.29, 2.35, 0.29, 2.91, 11.57, 2.54, 0.28, 0.85, 1.92, 32.44, 0.36, 0.83, 24.38, 0.81, 10.29, 10.25, 0.32, 8.27, 6.99, 0.41, 0.25, 0.25, 3.44, 0.25, 0.25, 0.25, 0.25, 0.26, 0.25, 0.25, 0.25, 0.25, 0.25, 0.25, 0.25, 3.32, 0.25, 0.25, 0.29, 2.25, 0.25, 0.25, 0.25, 0.25, 0.25, 0.26, 0.25, 0.25, 0.25, 0.78, 0.25, 0.25, 0.25, 0.25, 0.26, 0.25, 0.25, 0.25, 0.25, 0.27, 0.31, 0.27, 0.26, 0.26, 0.26, 0.25, 0.25, 0.25, 0.25, 0.25, 0.25, 0.25, 0.25, 0.25, 0.25, 0.25, 0.25, 0.25, 0.25, 0.25, 0.25, 0.25, 0.25, 0.25, 0.25, 0.25, 0.25, 0.25, 0.25, 0.25]}, {\"direction\": \"clockwise\", \"domain\": {\"x\": [0.1, 0.9], \"y\": [0.05, 0.9]}, \"hole\": 0.9, \"labels\": [\"unsortedOfflinePrimaryVertices \", \"trackingParticlesSignal \", \"trackValidatorTrackingOnly \", \"trackingParticlesBHadron \", \"TrackerCollisionSelectedTrackMonCommongeneralTracks \", \"trackingParticleRecoTrackAsssociation \", \"trackValidatorSeedingTrackingOnly \", \"highPtTripletStepTrackCandidates \", \"firstStepPrimaryVerticesUnsorted \", \"tpClusterProducer \", \"trackValidatorAllTPEfficStandalone \", \"TrackerCollisionSelectedTrackMonCommonhighPurityPtRange0to1 \", \"initialStepTracks \", \"highPtTripletStepHitTriplets \", \"initialStepHitQuadruplets \", \"trackingParticleNumberOfLayersProducer \", \"generalTracks \", \"TrackerCollisionSelectedTrackMonCommonhighPurityPt1 \", \"trackValidatorBuilding \", \"highPtTripletStepTracks \", \"initialStepSeeds \", \"source \", \"trackValidatorTPPtLess09Standalone \", \"ecalRecHit \", \"ecalMultiFitUncalibRecHit \", \"offlineBeamSpot \", \"primaryVertexResolution \", \"simHitTPAssocProducer \", \"TrackSplitMonitor \", \"seedTracksinitialStepSeeds \", \"trackValidatorFromPVAllTPStandalone \", \"hbhereco \", \"siPixelClustersPreSplitting \", \"siPixelClusters \", \"offlinePrimaryVertices \", \"highPtTripletStepHitDoublets \", \"initialStepHitDoublets \", \"offlinePrimaryVerticesWithBS \", \"vertexAnalysisTrackingOnly \", \"siPixelRecHits \", \"TrackSeedMoninitialStep \", \"firstStepPrimaryVertices \", \"highPtTripletStepSeeds \", \"trackValidatorBHadronTrackingOnly \", \"TrackerCollisionSelectedTrackMonCommonhighPurityPV0p1 \", \"seedTrackshighPtTripletStepSeeds \", \"TrackSeedMonhighPtTripletStep \", \"trackValidatorFromPVStandalone \", \"siPixelClusterShapeCache \", \"MeasurementTrackerEvent \", \"initialStepSeedLayers \", \"initialStepSelector \", \"caloTowerForTrk \", \"ak4CaloJetsForTrk \", \"siPhase2Clusters \", \"highPtTripletStepSelector \", \"highPtTripletStepSeedLayers \", \"ecalDigis \", \"cutsRecoTracksHp \", \"cutsRecoTracksBtvLike \", \"generalTracksPt09 \", \"cutsRecoTracksInitialStepByAlgoMask \", \"trackWithVertexRefSelectorBeforeSorting \", \"cutsRecoTracksInitialStepByAlgoMaskHp \", \"cutsRecoTracksInitialStepByOriginalAlgo \", \"cutsRecoTracksInitialStepByOriginalAlgoHp \", \"cutsRecoTracksInitialStep \", \"cutsRecoTracksInitialStepHp \", \"generalTracksFromPV \", \"trackRefsForJetsBeforeSorting \", \"hcalDigis \", \"trackingDQMgoodOfflinePrimaryVertices \", \"highPurityPtRange0to1 \", \"initialStepTrackRefsForJets \", \"hfprereco \", \"cutsRecoTracksPt09Hp \", \"highPurityPV0p1 \", \"cutsRecoTracksHighPtTripletStepByAlgoMask \", \"cutsRecoTracksHighPtTripletStepByOriginalAlgo \", \"cutsRecoTracksHighPtTripletStep \", \"highPtTripletStepClusters \", \"cutsRecoTracksPt09InitialStep \", \"cutsRecoTracksPt09InitialStepHp \", \"PV0p1 \", \"hfreco \", \"cutsRecoTracksHighPtTripletStepHp \", \"cutsRecoTracksHighPtTripletStepByAlgoMaskHp \", \"cutsRecoTracksHighPtTripletStepByOriginalAlgoHp \", \"highPurityPt1 \", \"pvMonitor \", \"cutsRecoTracksPt09HighPtTripletStep \", \"selectedOfflinePrimaryVertices \", \"cutsRecoTracksPt09HighPtTripletStepHp \", \"selectedOfflinePrimaryVerticesWithBS \", \"horeco \", \"initialStepTrackingRegions \", \"TrackMon_ckf \", \"ecalDetIdToBeRecovered \", \"quickTrackAssociatorByHits \", \"trackerClusterCheck \", \"DQMoutput \", \"DQMoutput_step \", \"MC_Dqmoffline_v2 \", \"MC_Tracking_v2 \", \"MC_prevalidation_v2 \", \"MC_validation_v2 \", \"TriggerResults \", \"VertexAssociatorByPositionAndTracks \", \"bunchSpacingProducer \", \"cutsRecoTracksFromPVHighPtTripletStep \", \"cutsRecoTracksFromPVHighPtTripletStepHp \", \"cutsRecoTracksFromPVHp \", \"cutsRecoTracksFromPVInitialStep \", \"cutsRecoTracksFromPVInitialStepHp \", \"cutsRecoTracksFromPVPt09HighPtTripletStep \", \"cutsRecoTracksFromPVPt09HighPtTripletStepHp \", \"cutsRecoTracksFromPVPt09Hp \", \"cutsRecoTracksFromPVPt09InitialStep \", \"cutsRecoTracksFromPVPt09InitialStepHp \", \"dqmInfoTracking \", \"generalTracksFromPVPt09 \", \"highPtTripletStepSeedClusterMask \", \"highPtTripletStepTrackingRegions \", \"inclusiveSecondaryVertices \", \"inclusiveVertexFinder \", \"initialStepSeedClusterMask \", \"muonCSCDigis \", \"muonDTDigis \", \"muonGEMDigis \", \"muonRPCDigis \", \"muonRPCNewDigis \", \"quickTrackAssociatorByHitsPreSplitting \", \"raw2digi_step \", \"scalersRawToDigi \", \"siPixelRecHitsPreSplitting \"], \"marker\": {\"line\": {\"color\": \"#000000\", \"width\": 0.2}}, \"sort\": true, \"textposition\": \"none\", \"type\": \"pie\", \"values\": [13.45, 13.87, 40.09, 285.75, 38.8, 14.22, 16.36, 22.03, 25.47, 7.61, 17.44, 15.79, 37.41, 0.34, 2.44, 11.82, 0.88, 24.52, 5.73, 5.3, 28.36, 21.32, 9.96, 41.21, 59.13, 20.25, 6.11, 2.96, 10.25, 3.25, 12.23, 183.94, 13.23, 2.97, 0.28, 1.29, 2.35, 0.29, 2.91, 11.57, 2.54, 0.28, 0.85, 1.92, 32.44, 0.36, 0.83, 24.38, 0.81, 10.29, 10.25, 0.32, 8.27, 6.99, 0.41, 0.25, 0.25, 3.44, 0.25, 0.25, 0.25, 0.25, 0.26, 0.25, 0.25, 0.25, 0.25, 0.25, 0.25, 0.25, 3.32, 0.25, 0.25, 0.29, 2.25, 0.25, 0.25, 0.25, 0.25, 0.25, 0.26, 0.25, 0.25, 0.25, 0.78, 0.25, 0.25, 0.25, 0.25, 0.26, 0.25, 0.25, 0.25, 0.25, 0.27, 0.31, 0.27, 0.26, 0.26, 0.26, 0.25, 0.25, 0.25, 0.25, 0.25, 0.25, 0.25, 0.25, 0.25, 0.25, 0.25, 0.25, 0.25, 0.25, 0.25, 0.25, 0.25, 0.25, 0.25, 0.25, 0.25, 0.25, 0.25, 0.25, 0.25, 0.25, 0.25, 0.25, 0.25, 0.25, 0.25, 0.25, 0.25, 0.26, 0.25]}, {\"direction\": \"clockwise\", \"domain\": {\"x\": [0.1, 0.9], \"y\": [0.05, 0.9]}, \"hole\": 0.9, \"labels\": [\"unsortedOfflinePrimaryVertices \", \"trackingParticlesSignal \", \"trackValidatorTrackingOnly \", \"trackingParticlesBHadron \", \"TrackerCollisionSelectedTrackMonCommongeneralTracks \", \"trackingParticleRecoTrackAsssociation \", \"trackValidatorSeedingTrackingOnly \", \"highPtTripletStepTrackCandidates \", \"firstStepPrimaryVerticesUnsorted \", \"tpClusterProducer \", \"trackValidatorAllTPEfficStandalone \", \"TrackerCollisionSelectedTrackMonCommonhighPurityPtRange0to1 \", \"initialStepTracks \", \"highPtTripletStepHitTriplets \", \"initialStepHitQuadruplets \", \"trackingParticleNumberOfLayersProducer \", \"generalTracks \", \"TrackerCollisionSelectedTrackMonCommonhighPurityPt1 \", \"trackValidatorBuilding \", \"highPtTripletStepTracks \", \"initialStepSeeds \", \"source \", \"trackValidatorTPPtLess09Standalone \", \"ecalRecHit \", \"ecalMultiFitUncalibRecHit \", \"offlineBeamSpot \", \"primaryVertexResolution \", \"simHitTPAssocProducer \", \"TrackSplitMonitor \", \"seedTracksinitialStepSeeds \", \"trackValidatorFromPVAllTPStandalone \", \"hbhereco \", \"siPixelClustersPreSplitting \", \"siPixelClusters \", \"offlinePrimaryVertices \", \"highPtTripletStepHitDoublets \", \"initialStepHitDoublets \", \"offlinePrimaryVerticesWithBS \", \"vertexAnalysisTrackingOnly \", \"siPixelRecHits \", \"TrackSeedMoninitialStep \", \"firstStepPrimaryVertices \", \"highPtTripletStepSeeds \", \"trackValidatorBHadronTrackingOnly \", \"TrackerCollisionSelectedTrackMonCommonhighPurityPV0p1 \", \"seedTrackshighPtTripletStepSeeds \", \"TrackSeedMonhighPtTripletStep \", \"trackValidatorFromPVStandalone \", \"siPixelClusterShapeCache \", \"MeasurementTrackerEvent \", \"initialStepSeedLayers \", \"initialStepSelector \", \"caloTowerForTrk \", \"ak4CaloJetsForTrk \", \"siPhase2Clusters \", \"highPtTripletStepSelector \", \"highPtTripletStepSeedLayers \", \"ecalDigis \", \"cutsRecoTracksHp \", \"cutsRecoTracksBtvLike \", \"generalTracksPt09 \", \"cutsRecoTracksInitialStepByAlgoMask \", \"trackWithVertexRefSelectorBeforeSorting \", \"cutsRecoTracksInitialStepByAlgoMaskHp \", \"cutsRecoTracksInitialStepByOriginalAlgo \", \"cutsRecoTracksInitialStepByOriginalAlgoHp \", \"cutsRecoTracksInitialStep \", \"cutsRecoTracksInitialStepHp \", \"generalTracksFromPV \", \"trackRefsForJetsBeforeSorting \", \"hcalDigis \", \"trackingDQMgoodOfflinePrimaryVertices \", \"highPurityPtRange0to1 \", \"initialStepTrackRefsForJets \", \"hfprereco \", \"cutsRecoTracksPt09Hp \", \"highPurityPV0p1 \", \"cutsRecoTracksHighPtTripletStepByAlgoMask \", \"cutsRecoTracksHighPtTripletStepByOriginalAlgo \", \"cutsRecoTracksHighPtTripletStep \", \"highPtTripletStepClusters \", \"cutsRecoTracksPt09InitialStep \", \"cutsRecoTracksPt09InitialStepHp \", \"PV0p1 \", \"hfreco \", \"cutsRecoTracksHighPtTripletStepHp \", \"cutsRecoTracksHighPtTripletStepByAlgoMaskHp \", \"cutsRecoTracksHighPtTripletStepByOriginalAlgoHp \", \"highPurityPt1 \", \"pvMonitor \", \"cutsRecoTracksPt09HighPtTripletStep \", \"selectedOfflinePrimaryVertices \", \"cutsRecoTracksPt09HighPtTripletStepHp \", \"selectedOfflinePrimaryVerticesWithBS \", \"horeco \", \"initialStepTrackingRegions \", \"trackerClusterCheck \", \"quickTrackAssociatorByHits \", \"TrackMon_ckf \", \"ecalDetIdToBeRecovered \", \"trackVertexArbitrator \", \"highPtTripletStepSeedClusterMask \", \"trackValidatorBuildingPreSplitting \", \"bunchSpacingProducer \", \"VertexAssociatorByPositionAndTracks \", \"trackValidatorSeedingPreSplittingTrackingOnly \", \"TriggerResults \", \"dqmInfoTracking \", \"trackingParticlesElectron \", \"DQMoutput \", \"trackingParticlesConversion \", \"DQMoutput_step \", \"cutsRecoTracksFromPVHighPtTripletStep \", \"generalTracksFromPVPt09 \", \"MC_validation_v2 \", \"MC_prevalidation_v2 \", \"MC_Dqmoffline_v2 \", \"MC_Tracking_v2 \", \"v0Validator \", \"cutsRecoTracksFromPVHp \", \"cutsRecoTracksFromPVHighPtTripletStepHp \", \"raw2digi_step \", \"muonDTDigis \", \"muonGEMDigis \", \"muonRPCDigis \", \"muonRPCNewDigis \", \"initialStepSeedClusterMask \", \"inclusiveVertexFinder \", \"inclusiveSecondaryVertices \", \"highPtTripletStepTrackingRegions \", \"quickTrackAssociatorByHitsPreSplitting \", \"scalersRawToDigi \", \"tpClusterProducerPreSplitting \", \"cutsRecoTracksFromPVPt09InitialStepHp \", \"cutsRecoTracksFromPVPt09InitialStep \", \"cutsRecoTracksFromPVPt09Hp \", \"cutsRecoTracksFromPVPt09HighPtTripletStepHp \", \"cutsRecoTracksFromPVPt09HighPtTripletStep \", \"cutsRecoTracksFromPVInitialStepHp \", \"siPixelRecHitsPreSplitting \", \"cutsRecoTracksFromPVInitialStep \", \"muonCSCDigis \", \"vertexMerger \"], \"marker\": {\"line\": {\"color\": \"#000000\", \"width\": 0.2}}, \"sort\": true, \"textposition\": \"none\", \"type\": \"pie\", \"values\": [13.45, 13.87, 40.09, 285.75, 38.8, 14.22, 16.36, 22.03, 25.47, 7.61, 17.44, 15.79, 37.41, 0.34, 2.44, 11.82, 0.88, 24.52, 5.73, 5.3, 28.36, 21.32, 9.96, 41.21, 59.13, 20.25, 6.11, 2.96, 10.25, 3.25, 12.23, 183.94, 13.23, 2.97, 0.28, 1.29, 2.35, 0.29, 2.91, 11.57, 2.54, 0.28, 0.85, 1.92, 32.44, 0.36, 0.83, 24.38, 0.81, 10.29, 10.25, 0.32, 8.27, 6.99, 0.41, 0.25, 0.25, 3.44, 0.25, 0.25, 0.25, 0.25, 0.26, 0.25, 0.25, 0.25, 0.25, 0.25, 0.25, 0.25, 3.32, 0.25, 0.25, 0.29, 2.25, 0.25, 0.25, 0.25, 0.25, 0.25, 0.26, 0.25, 0.25, 0.25, 0.78, 0.25, 0.25, 0.25, 0.25, 0.26, 0.25, 0.25, 0.25, 0.25, 0.27, 0.31, 0.26, 0.26, 0.27, 0.26, 0.25, 0.25, 0.25, 0.25, 0.25, 0.25, 0.25, 0.25, 0.25, 0.25, 0.25, 0.25, 0.25, 0.25, 0.25, 0.25, 0.25, 0.25, 0.25, 0.25, 0.25, 0.25, 0.25, 0.25, 0.25, 0.25, 0.25, 0.25, 0.25, 0.25, 0.25, 0.26, 0.25, 0.25, 0.25, 0.25, 0.25, 0.25, 0.25, 0.25, 0.25, 0.25, 0.25]}],\n",
       "                        {\"sliders\": [{\"active\": 10, \"currentvalue\": {\"prefix\": \"Showing the \", \"suffix\": \" longest modules in ms: \"}, \"pad\": {\"t\": 50}, \"steps\": [{\"args\": [\"visible\", [true, false, false, false, false, false, false, false, false, false, false, false, false, false, false, false, true, false, false, false, false, false, false, false, false, false, false, false, false, false, false, false, true, false, false, false, false, false, false, false, false, false, false, false, false, false, false, false]], \"label\": \"0\", \"method\": \"restyle\"}, {\"args\": [\"visible\", [false, true, false, false, false, false, false, false, false, false, false, false, false, false, false, false, false, true, false, false, false, false, false, false, false, false, false, false, false, false, false, false, false, true, false, false, false, false, false, false, false, false, false, false, false, false, false, false]], \"label\": \"10\", \"method\": \"restyle\"}, {\"args\": [\"visible\", [false, false, true, false, false, false, false, false, false, false, false, false, false, false, false, false, false, false, true, false, false, false, false, false, false, false, false, false, false, false, false, false, false, false, true, false, false, false, false, false, false, false, false, false, false, false, false, false]], \"label\": \"20\", \"method\": \"restyle\"}, {\"args\": [\"visible\", [false, false, false, true, false, false, false, false, false, false, false, false, false, false, false, false, false, false, false, true, false, false, false, false, false, false, false, false, false, false, false, false, false, false, false, true, false, false, false, false, false, false, false, false, false, false, false, false]], \"label\": \"30\", \"method\": \"restyle\"}, {\"args\": [\"visible\", [false, false, false, false, true, false, false, false, false, false, false, false, false, false, false, false, false, false, false, false, true, false, false, false, false, false, false, false, false, false, false, false, false, false, false, false, true, false, false, false, false, false, false, false, false, false, false, false]], \"label\": \"40\", \"method\": \"restyle\"}, {\"args\": [\"visible\", [false, false, false, false, false, true, false, false, false, false, false, false, false, false, false, false, false, false, false, false, false, true, false, false, false, false, false, false, false, false, false, false, false, false, false, false, false, true, false, false, false, false, false, false, false, false, false, false]], \"label\": \"50\", \"method\": \"restyle\"}, {\"args\": [\"visible\", [false, false, false, false, false, false, true, false, false, false, false, false, false, false, false, false, false, false, false, false, false, false, true, false, false, false, false, false, false, false, false, false, false, false, false, false, false, false, true, false, false, false, false, false, false, false, false, false]], \"label\": \"60\", \"method\": \"restyle\"}, {\"args\": [\"visible\", [false, false, false, false, false, false, false, true, false, false, false, false, false, false, false, false, false, false, false, false, false, false, false, true, false, false, false, false, false, false, false, false, false, false, false, false, false, false, false, true, false, false, false, false, false, false, false, false]], \"label\": \"70\", \"method\": \"restyle\"}, {\"args\": [\"visible\", [false, false, false, false, false, false, false, false, true, false, false, false, false, false, false, false, false, false, false, false, false, false, false, false, true, false, false, false, false, false, false, false, false, false, false, false, false, false, false, false, true, false, false, false, false, false, false, false]], \"label\": \"80\", \"method\": \"restyle\"}, {\"args\": [\"visible\", [false, false, false, false, false, false, false, false, false, true, false, false, false, false, false, false, false, false, false, false, false, false, false, false, false, true, false, false, false, false, false, false, false, false, false, false, false, false, false, false, false, true, false, false, false, false, false, false]], \"label\": \"90\", \"method\": \"restyle\"}, {\"args\": [\"visible\", [false, false, false, false, false, false, false, false, false, false, true, false, false, false, false, false, false, false, false, false, false, false, false, false, false, false, true, false, false, false, false, false, false, false, false, false, false, false, false, false, false, false, true, false, false, false, false, false]], \"label\": \"100\", \"method\": \"restyle\"}, {\"args\": [\"visible\", [false, false, false, false, false, false, false, false, false, false, false, true, false, false, false, false, false, false, false, false, false, false, false, false, false, false, false, true, false, false, false, false, false, false, false, false, false, false, false, false, false, false, false, true, false, false, false, false]], \"label\": \"110\", \"method\": \"restyle\"}, {\"args\": [\"visible\", [false, false, false, false, false, false, false, false, false, false, false, false, true, false, false, false, false, false, false, false, false, false, false, false, false, false, false, false, true, false, false, false, false, false, false, false, false, false, false, false, false, false, false, false, true, false, false, false]], \"label\": \"120\", \"method\": \"restyle\"}, {\"args\": [\"visible\", [false, false, false, false, false, false, false, false, false, false, false, false, false, true, false, false, false, false, false, false, false, false, false, false, false, false, false, false, false, true, false, false, false, false, false, false, false, false, false, false, false, false, false, false, false, true, false, false]], \"label\": \"130\", \"method\": \"restyle\"}, {\"args\": [\"visible\", [false, false, false, false, false, false, false, false, false, false, false, false, false, false, true, false, false, false, false, false, false, false, false, false, false, false, false, false, false, false, true, false, false, false, false, false, false, false, false, false, false, false, false, false, false, false, true, false]], \"label\": \"140\", \"method\": \"restyle\"}, {\"args\": [\"visible\", [false, false, false, false, false, false, false, false, false, false, false, false, false, false, false, true, false, false, false, false, false, false, false, false, false, false, false, false, false, false, false, true, false, false, false, false, false, false, false, false, false, false, false, false, false, false, false, true]], \"label\": \"150\", \"method\": \"restyle\"}]}], \"template\": {\"data\": {\"bar\": [{\"error_x\": {\"color\": \"#2a3f5f\"}, \"error_y\": {\"color\": \"#2a3f5f\"}, \"marker\": {\"line\": {\"color\": \"#E5ECF6\", \"width\": 0.5}}, \"type\": \"bar\"}], \"barpolar\": [{\"marker\": {\"line\": {\"color\": \"#E5ECF6\", \"width\": 0.5}}, \"type\": \"barpolar\"}], \"carpet\": [{\"aaxis\": {\"endlinecolor\": \"#2a3f5f\", \"gridcolor\": \"white\", \"linecolor\": \"white\", \"minorgridcolor\": \"white\", \"startlinecolor\": \"#2a3f5f\"}, \"baxis\": {\"endlinecolor\": \"#2a3f5f\", \"gridcolor\": \"white\", \"linecolor\": \"white\", \"minorgridcolor\": \"white\", \"startlinecolor\": \"#2a3f5f\"}, \"type\": \"carpet\"}], \"choropleth\": [{\"colorbar\": {\"outlinewidth\": 0, \"ticks\": \"\"}, \"type\": \"choropleth\"}], \"contour\": [{\"colorbar\": {\"outlinewidth\": 0, \"ticks\": \"\"}, \"colorscale\": [[0.0, \"#0d0887\"], [0.1111111111111111, \"#46039f\"], [0.2222222222222222, \"#7201a8\"], [0.3333333333333333, \"#9c179e\"], [0.4444444444444444, \"#bd3786\"], [0.5555555555555556, \"#d8576b\"], [0.6666666666666666, \"#ed7953\"], [0.7777777777777778, \"#fb9f3a\"], [0.8888888888888888, \"#fdca26\"], [1.0, \"#f0f921\"]], \"type\": \"contour\"}], \"contourcarpet\": [{\"colorbar\": {\"outlinewidth\": 0, \"ticks\": \"\"}, \"type\": \"contourcarpet\"}], \"heatmap\": [{\"colorbar\": {\"outlinewidth\": 0, \"ticks\": \"\"}, \"colorscale\": [[0.0, \"#0d0887\"], [0.1111111111111111, \"#46039f\"], [0.2222222222222222, \"#7201a8\"], [0.3333333333333333, \"#9c179e\"], [0.4444444444444444, \"#bd3786\"], [0.5555555555555556, \"#d8576b\"], [0.6666666666666666, \"#ed7953\"], [0.7777777777777778, \"#fb9f3a\"], [0.8888888888888888, \"#fdca26\"], [1.0, \"#f0f921\"]], \"type\": \"heatmap\"}], \"heatmapgl\": [{\"colorbar\": {\"outlinewidth\": 0, \"ticks\": \"\"}, \"colorscale\": [[0.0, \"#0d0887\"], [0.1111111111111111, \"#46039f\"], [0.2222222222222222, \"#7201a8\"], [0.3333333333333333, \"#9c179e\"], [0.4444444444444444, \"#bd3786\"], [0.5555555555555556, \"#d8576b\"], [0.6666666666666666, \"#ed7953\"], [0.7777777777777778, \"#fb9f3a\"], [0.8888888888888888, \"#fdca26\"], [1.0, \"#f0f921\"]], \"type\": \"heatmapgl\"}], \"histogram\": [{\"marker\": {\"colorbar\": {\"outlinewidth\": 0, \"ticks\": \"\"}}, \"type\": \"histogram\"}], \"histogram2d\": [{\"colorbar\": {\"outlinewidth\": 0, \"ticks\": \"\"}, \"colorscale\": [[0.0, \"#0d0887\"], [0.1111111111111111, \"#46039f\"], [0.2222222222222222, \"#7201a8\"], [0.3333333333333333, \"#9c179e\"], [0.4444444444444444, \"#bd3786\"], [0.5555555555555556, \"#d8576b\"], [0.6666666666666666, \"#ed7953\"], [0.7777777777777778, \"#fb9f3a\"], [0.8888888888888888, \"#fdca26\"], [1.0, \"#f0f921\"]], \"type\": \"histogram2d\"}], \"histogram2dcontour\": [{\"colorbar\": {\"outlinewidth\": 0, \"ticks\": \"\"}, \"colorscale\": [[0.0, \"#0d0887\"], [0.1111111111111111, \"#46039f\"], [0.2222222222222222, \"#7201a8\"], [0.3333333333333333, \"#9c179e\"], [0.4444444444444444, \"#bd3786\"], [0.5555555555555556, \"#d8576b\"], [0.6666666666666666, \"#ed7953\"], [0.7777777777777778, \"#fb9f3a\"], [0.8888888888888888, \"#fdca26\"], [1.0, \"#f0f921\"]], \"type\": \"histogram2dcontour\"}], \"mesh3d\": [{\"colorbar\": {\"outlinewidth\": 0, \"ticks\": \"\"}, \"type\": \"mesh3d\"}], \"parcoords\": [{\"line\": {\"colorbar\": {\"outlinewidth\": 0, \"ticks\": \"\"}}, \"type\": \"parcoords\"}], \"pie\": [{\"automargin\": true, \"type\": \"pie\"}], \"scatter\": [{\"marker\": {\"colorbar\": {\"outlinewidth\": 0, \"ticks\": \"\"}}, \"type\": \"scatter\"}], \"scatter3d\": [{\"line\": {\"colorbar\": {\"outlinewidth\": 0, \"ticks\": \"\"}}, \"marker\": {\"colorbar\": {\"outlinewidth\": 0, \"ticks\": \"\"}}, \"type\": \"scatter3d\"}], \"scattercarpet\": [{\"marker\": {\"colorbar\": {\"outlinewidth\": 0, \"ticks\": \"\"}}, \"type\": \"scattercarpet\"}], \"scattergeo\": [{\"marker\": {\"colorbar\": {\"outlinewidth\": 0, \"ticks\": \"\"}}, \"type\": \"scattergeo\"}], \"scattergl\": [{\"marker\": {\"colorbar\": {\"outlinewidth\": 0, \"ticks\": \"\"}}, \"type\": \"scattergl\"}], \"scattermapbox\": [{\"marker\": {\"colorbar\": {\"outlinewidth\": 0, \"ticks\": \"\"}}, \"type\": \"scattermapbox\"}], \"scatterpolar\": [{\"marker\": {\"colorbar\": {\"outlinewidth\": 0, \"ticks\": \"\"}}, \"type\": \"scatterpolar\"}], \"scatterpolargl\": [{\"marker\": {\"colorbar\": {\"outlinewidth\": 0, \"ticks\": \"\"}}, \"type\": \"scatterpolargl\"}], \"scatterternary\": [{\"marker\": {\"colorbar\": {\"outlinewidth\": 0, \"ticks\": \"\"}}, \"type\": \"scatterternary\"}], \"surface\": [{\"colorbar\": {\"outlinewidth\": 0, \"ticks\": \"\"}, \"colorscale\": [[0.0, \"#0d0887\"], [0.1111111111111111, \"#46039f\"], [0.2222222222222222, \"#7201a8\"], [0.3333333333333333, \"#9c179e\"], [0.4444444444444444, \"#bd3786\"], [0.5555555555555556, \"#d8576b\"], [0.6666666666666666, \"#ed7953\"], [0.7777777777777778, \"#fb9f3a\"], [0.8888888888888888, \"#fdca26\"], [1.0, \"#f0f921\"]], \"type\": \"surface\"}], \"table\": [{\"cells\": {\"fill\": {\"color\": \"#EBF0F8\"}, \"line\": {\"color\": \"white\"}}, \"header\": {\"fill\": {\"color\": \"#C8D4E3\"}, \"line\": {\"color\": \"white\"}}, \"type\": \"table\"}]}, \"layout\": {\"annotationdefaults\": {\"arrowcolor\": \"#2a3f5f\", \"arrowhead\": 0, \"arrowwidth\": 1}, \"coloraxis\": {\"colorbar\": {\"outlinewidth\": 0, \"ticks\": \"\"}}, \"colorscale\": {\"diverging\": [[0, \"#8e0152\"], [0.1, \"#c51b7d\"], [0.2, \"#de77ae\"], [0.3, \"#f1b6da\"], [0.4, \"#fde0ef\"], [0.5, \"#f7f7f7\"], [0.6, \"#e6f5d0\"], [0.7, \"#b8e186\"], [0.8, \"#7fbc41\"], [0.9, \"#4d9221\"], [1, \"#276419\"]], \"sequential\": [[0.0, \"#0d0887\"], [0.1111111111111111, \"#46039f\"], [0.2222222222222222, \"#7201a8\"], [0.3333333333333333, \"#9c179e\"], [0.4444444444444444, \"#bd3786\"], [0.5555555555555556, \"#d8576b\"], [0.6666666666666666, \"#ed7953\"], [0.7777777777777778, \"#fb9f3a\"], [0.8888888888888888, \"#fdca26\"], [1.0, \"#f0f921\"]], \"sequentialminus\": [[0.0, \"#0d0887\"], [0.1111111111111111, \"#46039f\"], [0.2222222222222222, \"#7201a8\"], [0.3333333333333333, \"#9c179e\"], [0.4444444444444444, \"#bd3786\"], [0.5555555555555556, \"#d8576b\"], [0.6666666666666666, \"#ed7953\"], [0.7777777777777778, \"#fb9f3a\"], [0.8888888888888888, \"#fdca26\"], [1.0, \"#f0f921\"]]}, \"colorway\": [\"#636efa\", \"#EF553B\", \"#00cc96\", \"#ab63fa\", \"#FFA15A\", \"#19d3f3\", \"#FF6692\", \"#B6E880\", \"#FF97FF\", \"#FECB52\"], \"font\": {\"color\": \"#2a3f5f\"}, \"geo\": {\"bgcolor\": \"white\", \"lakecolor\": \"white\", \"landcolor\": \"#E5ECF6\", \"showlakes\": true, \"showland\": true, \"subunitcolor\": \"white\"}, \"hoverlabel\": {\"align\": \"left\"}, \"hovermode\": \"closest\", \"mapbox\": {\"style\": \"light\"}, \"paper_bgcolor\": \"white\", \"plot_bgcolor\": \"#E5ECF6\", \"polar\": {\"angularaxis\": {\"gridcolor\": \"white\", \"linecolor\": \"white\", \"ticks\": \"\"}, \"bgcolor\": \"#E5ECF6\", \"radialaxis\": {\"gridcolor\": \"white\", \"linecolor\": \"white\", \"ticks\": \"\"}}, \"scene\": {\"xaxis\": {\"backgroundcolor\": \"#E5ECF6\", \"gridcolor\": \"white\", \"gridwidth\": 2, \"linecolor\": \"white\", \"showbackground\": true, \"ticks\": \"\", \"zerolinecolor\": \"white\"}, \"yaxis\": {\"backgroundcolor\": \"#E5ECF6\", \"gridcolor\": \"white\", \"gridwidth\": 2, \"linecolor\": \"white\", \"showbackground\": true, \"ticks\": \"\", \"zerolinecolor\": \"white\"}, \"zaxis\": {\"backgroundcolor\": \"#E5ECF6\", \"gridcolor\": \"white\", \"gridwidth\": 2, \"linecolor\": \"white\", \"showbackground\": true, \"ticks\": \"\", \"zerolinecolor\": \"white\"}}, \"shapedefaults\": {\"line\": {\"color\": \"#2a3f5f\"}}, \"ternary\": {\"aaxis\": {\"gridcolor\": \"white\", \"linecolor\": \"white\", \"ticks\": \"\"}, \"baxis\": {\"gridcolor\": \"white\", \"linecolor\": \"white\", \"ticks\": \"\"}, \"bgcolor\": \"#E5ECF6\", \"caxis\": {\"gridcolor\": \"white\", \"linecolor\": \"white\", \"ticks\": \"\"}}, \"title\": {\"x\": 0.05}, \"xaxis\": {\"automargin\": true, \"gridcolor\": \"white\", \"linecolor\": \"white\", \"ticks\": \"\", \"title\": {\"standoff\": 15}, \"zerolinecolor\": \"white\", \"zerolinewidth\": 2}, \"yaxis\": {\"automargin\": true, \"gridcolor\": \"white\", \"linecolor\": \"white\", \"ticks\": \"\", \"title\": {\"standoff\": 15}, \"zerolinecolor\": \"white\", \"zerolinewidth\": 2}}}, \"title\": {\"text\": \"n longest modules at PU 0,140,200\"}},\n",
       "                        {\"responsive\": true}\n",
       "                    ).then(function(){\n",
       "                            \n",
       "var gd = document.getElementById('7779299e-ef24-4f09-ba85-99f8ca56e4d9');\n",
       "var x = new MutationObserver(function (mutations, observer) {{\n",
       "        var display = window.getComputedStyle(gd).display;\n",
       "        if (!display || display === 'none') {{\n",
       "            console.log([gd, 'removed!']);\n",
       "            Plotly.purge(gd);\n",
       "            observer.disconnect();\n",
       "        }}\n",
       "}});\n",
       "\n",
       "// Listen for the removal of the full notebook cells\n",
       "var notebookContainer = gd.closest('#notebook-container');\n",
       "if (notebookContainer) {{\n",
       "    x.observe(notebookContainer, {childList: true});\n",
       "}}\n",
       "\n",
       "// Listen for the clearing of the current output cell\n",
       "var outputEl = gd.closest('.output');\n",
       "if (outputEl) {{\n",
       "    x.observe(outputEl, {childList: true});\n",
       "}}\n",
       "\n",
       "                        })\n",
       "                };\n",
       "                });\n",
       "            </script>\n",
       "        </div>"
      ]
     },
     "metadata": {},
     "output_type": "display_data"
    }
   ],
   "source": [
    "plot1()"
   ]
  },
  {
   "cell_type": "markdown",
   "metadata": {},
   "source": [
    "## Fig. 2 - Compare n modules at selected pileups "
   ]
  },
  {
   "cell_type": "code",
   "execution_count": 27,
   "metadata": {},
   "outputs": [
    {
     "data": {
      "application/vnd.plotly.v1+json": {
       "config": {
        "linkText": "Export to plot.ly",
        "plotlyServerURL": "https://plot.ly",
        "showLink": false
       },
       "data": [
        {
         "direction": "clockwise",
         "domain": {
          "x": [
           0.1,
           0.9
          ],
          "y": [
           0.05,
           0.9
          ]
         },
         "hole": 0.5,
         "labels": [
          "hbhereco ",
          "initialStepTrackCandidates ",
          "ecalMultiFitUncalibRecHit ",
          "ecalRecHit ",
          "trackValidatorTrackingOnly ",
          "TrackerCollisionSelectedTrackMonCommongeneralTracks ",
          "initialStepTracks ",
          "TrackerCollisionSelectedTrackMonCommonhighPurityPV0p1 ",
          "initialStepSeeds ",
          "firstStepPrimaryVerticesUnsorted ",
          "TrackerCollisionSelectedTrackMonCommonhighPurityPt1 ",
          "trackValidatorFromPVStandalone ",
          "highPtTripletStepTrackCandidates ",
          "source ",
          "offlineBeamSpot "
         ],
         "marker": {
          "line": {
           "color": "#000000",
           "width": 0.2
          }
         },
         "sort": true,
         "type": "pie",
         "values": [
          183.94,
          64.78,
          59.13,
          41.21,
          40.09,
          38.8,
          37.41,
          32.44,
          28.36,
          25.47,
          24.52,
          24.38,
          22.03,
          21.32,
          20.25
         ]
        },
        {
         "direction": "clockwise",
         "domain": {
          "x": [
           0.1,
           0.9
          ],
          "y": [
           0.05,
           0.9
          ]
         },
         "hole": 0.75,
         "labels": [
          "unsortedOfflinePrimaryVertices ",
          "trackValidatorTrackingOnly ",
          "TrackerCollisionSelectedTrackMonCommongeneralTracks ",
          "trackValidatorSeedingTrackingOnly ",
          "highPtTripletStepTrackCandidates ",
          "firstStepPrimaryVerticesUnsorted ",
          "tpClusterProducer ",
          "trackValidatorAllTPEfficStandalone ",
          "TrackerCollisionSelectedTrackMonCommonhighPurityPtRange0to1 ",
          "initialStepTracks ",
          "trackingParticlesBHadron ",
          "initialStepHitQuadruplets ",
          "highPtTripletStepHitTriplets ",
          "TrackerCollisionSelectedTrackMonCommonhighPurityPt1 ",
          "trackValidatorBuilding "
         ],
         "marker": {
          "line": {
           "color": "#000000",
           "width": 0.2
          }
         },
         "sort": true,
         "type": "pie",
         "values": [
          13.45,
          40.09,
          38.8,
          16.36,
          22.03,
          25.47,
          7.61,
          17.44,
          15.79,
          37.41,
          285.75,
          2.44,
          0.34,
          24.52,
          5.73
         ]
        },
        {
         "direction": "clockwise",
         "domain": {
          "x": [
           0.1,
           0.9
          ],
          "y": [
           0.05,
           0.9
          ]
         },
         "hole": 0.9,
         "labels": [
          "unsortedOfflinePrimaryVertices ",
          "trackingParticlesSignal ",
          "trackValidatorTrackingOnly ",
          "trackingParticlesBHadron ",
          "TrackerCollisionSelectedTrackMonCommongeneralTracks ",
          "trackingParticleRecoTrackAsssociation ",
          "trackValidatorSeedingTrackingOnly ",
          "highPtTripletStepTrackCandidates ",
          "firstStepPrimaryVerticesUnsorted ",
          "tpClusterProducer ",
          "trackValidatorAllTPEfficStandalone ",
          "TrackerCollisionSelectedTrackMonCommonhighPurityPtRange0to1 ",
          "initialStepTracks ",
          "highPtTripletStepHitTriplets ",
          "initialStepHitQuadruplets "
         ],
         "marker": {
          "line": {
           "color": "#000000",
           "width": 0.2
          }
         },
         "sort": true,
         "type": "pie",
         "values": [
          13.45,
          13.87,
          40.09,
          285.75,
          38.8,
          14.22,
          16.36,
          22.03,
          25.47,
          7.61,
          17.44,
          15.79,
          37.41,
          0.34,
          2.44
         ]
        }
       ],
       "layout": {
        "showlegend": false,
        "template": {
         "data": {
          "bar": [
           {
            "error_x": {
             "color": "#2a3f5f"
            },
            "error_y": {
             "color": "#2a3f5f"
            },
            "marker": {
             "line": {
              "color": "#E5ECF6",
              "width": 0.5
             }
            },
            "type": "bar"
           }
          ],
          "barpolar": [
           {
            "marker": {
             "line": {
              "color": "#E5ECF6",
              "width": 0.5
             }
            },
            "type": "barpolar"
           }
          ],
          "carpet": [
           {
            "aaxis": {
             "endlinecolor": "#2a3f5f",
             "gridcolor": "white",
             "linecolor": "white",
             "minorgridcolor": "white",
             "startlinecolor": "#2a3f5f"
            },
            "baxis": {
             "endlinecolor": "#2a3f5f",
             "gridcolor": "white",
             "linecolor": "white",
             "minorgridcolor": "white",
             "startlinecolor": "#2a3f5f"
            },
            "type": "carpet"
           }
          ],
          "choropleth": [
           {
            "colorbar": {
             "outlinewidth": 0,
             "ticks": ""
            },
            "type": "choropleth"
           }
          ],
          "contour": [
           {
            "colorbar": {
             "outlinewidth": 0,
             "ticks": ""
            },
            "colorscale": [
             [
              0,
              "#0d0887"
             ],
             [
              0.1111111111111111,
              "#46039f"
             ],
             [
              0.2222222222222222,
              "#7201a8"
             ],
             [
              0.3333333333333333,
              "#9c179e"
             ],
             [
              0.4444444444444444,
              "#bd3786"
             ],
             [
              0.5555555555555556,
              "#d8576b"
             ],
             [
              0.6666666666666666,
              "#ed7953"
             ],
             [
              0.7777777777777778,
              "#fb9f3a"
             ],
             [
              0.8888888888888888,
              "#fdca26"
             ],
             [
              1,
              "#f0f921"
             ]
            ],
            "type": "contour"
           }
          ],
          "contourcarpet": [
           {
            "colorbar": {
             "outlinewidth": 0,
             "ticks": ""
            },
            "type": "contourcarpet"
           }
          ],
          "heatmap": [
           {
            "colorbar": {
             "outlinewidth": 0,
             "ticks": ""
            },
            "colorscale": [
             [
              0,
              "#0d0887"
             ],
             [
              0.1111111111111111,
              "#46039f"
             ],
             [
              0.2222222222222222,
              "#7201a8"
             ],
             [
              0.3333333333333333,
              "#9c179e"
             ],
             [
              0.4444444444444444,
              "#bd3786"
             ],
             [
              0.5555555555555556,
              "#d8576b"
             ],
             [
              0.6666666666666666,
              "#ed7953"
             ],
             [
              0.7777777777777778,
              "#fb9f3a"
             ],
             [
              0.8888888888888888,
              "#fdca26"
             ],
             [
              1,
              "#f0f921"
             ]
            ],
            "type": "heatmap"
           }
          ],
          "heatmapgl": [
           {
            "colorbar": {
             "outlinewidth": 0,
             "ticks": ""
            },
            "colorscale": [
             [
              0,
              "#0d0887"
             ],
             [
              0.1111111111111111,
              "#46039f"
             ],
             [
              0.2222222222222222,
              "#7201a8"
             ],
             [
              0.3333333333333333,
              "#9c179e"
             ],
             [
              0.4444444444444444,
              "#bd3786"
             ],
             [
              0.5555555555555556,
              "#d8576b"
             ],
             [
              0.6666666666666666,
              "#ed7953"
             ],
             [
              0.7777777777777778,
              "#fb9f3a"
             ],
             [
              0.8888888888888888,
              "#fdca26"
             ],
             [
              1,
              "#f0f921"
             ]
            ],
            "type": "heatmapgl"
           }
          ],
          "histogram": [
           {
            "marker": {
             "colorbar": {
              "outlinewidth": 0,
              "ticks": ""
             }
            },
            "type": "histogram"
           }
          ],
          "histogram2d": [
           {
            "colorbar": {
             "outlinewidth": 0,
             "ticks": ""
            },
            "colorscale": [
             [
              0,
              "#0d0887"
             ],
             [
              0.1111111111111111,
              "#46039f"
             ],
             [
              0.2222222222222222,
              "#7201a8"
             ],
             [
              0.3333333333333333,
              "#9c179e"
             ],
             [
              0.4444444444444444,
              "#bd3786"
             ],
             [
              0.5555555555555556,
              "#d8576b"
             ],
             [
              0.6666666666666666,
              "#ed7953"
             ],
             [
              0.7777777777777778,
              "#fb9f3a"
             ],
             [
              0.8888888888888888,
              "#fdca26"
             ],
             [
              1,
              "#f0f921"
             ]
            ],
            "type": "histogram2d"
           }
          ],
          "histogram2dcontour": [
           {
            "colorbar": {
             "outlinewidth": 0,
             "ticks": ""
            },
            "colorscale": [
             [
              0,
              "#0d0887"
             ],
             [
              0.1111111111111111,
              "#46039f"
             ],
             [
              0.2222222222222222,
              "#7201a8"
             ],
             [
              0.3333333333333333,
              "#9c179e"
             ],
             [
              0.4444444444444444,
              "#bd3786"
             ],
             [
              0.5555555555555556,
              "#d8576b"
             ],
             [
              0.6666666666666666,
              "#ed7953"
             ],
             [
              0.7777777777777778,
              "#fb9f3a"
             ],
             [
              0.8888888888888888,
              "#fdca26"
             ],
             [
              1,
              "#f0f921"
             ]
            ],
            "type": "histogram2dcontour"
           }
          ],
          "mesh3d": [
           {
            "colorbar": {
             "outlinewidth": 0,
             "ticks": ""
            },
            "type": "mesh3d"
           }
          ],
          "parcoords": [
           {
            "line": {
             "colorbar": {
              "outlinewidth": 0,
              "ticks": ""
             }
            },
            "type": "parcoords"
           }
          ],
          "pie": [
           {
            "automargin": true,
            "type": "pie"
           }
          ],
          "scatter": [
           {
            "marker": {
             "colorbar": {
              "outlinewidth": 0,
              "ticks": ""
             }
            },
            "type": "scatter"
           }
          ],
          "scatter3d": [
           {
            "line": {
             "colorbar": {
              "outlinewidth": 0,
              "ticks": ""
             }
            },
            "marker": {
             "colorbar": {
              "outlinewidth": 0,
              "ticks": ""
             }
            },
            "type": "scatter3d"
           }
          ],
          "scattercarpet": [
           {
            "marker": {
             "colorbar": {
              "outlinewidth": 0,
              "ticks": ""
             }
            },
            "type": "scattercarpet"
           }
          ],
          "scattergeo": [
           {
            "marker": {
             "colorbar": {
              "outlinewidth": 0,
              "ticks": ""
             }
            },
            "type": "scattergeo"
           }
          ],
          "scattergl": [
           {
            "marker": {
             "colorbar": {
              "outlinewidth": 0,
              "ticks": ""
             }
            },
            "type": "scattergl"
           }
          ],
          "scattermapbox": [
           {
            "marker": {
             "colorbar": {
              "outlinewidth": 0,
              "ticks": ""
             }
            },
            "type": "scattermapbox"
           }
          ],
          "scatterpolar": [
           {
            "marker": {
             "colorbar": {
              "outlinewidth": 0,
              "ticks": ""
             }
            },
            "type": "scatterpolar"
           }
          ],
          "scatterpolargl": [
           {
            "marker": {
             "colorbar": {
              "outlinewidth": 0,
              "ticks": ""
             }
            },
            "type": "scatterpolargl"
           }
          ],
          "scatterternary": [
           {
            "marker": {
             "colorbar": {
              "outlinewidth": 0,
              "ticks": ""
             }
            },
            "type": "scatterternary"
           }
          ],
          "surface": [
           {
            "colorbar": {
             "outlinewidth": 0,
             "ticks": ""
            },
            "colorscale": [
             [
              0,
              "#0d0887"
             ],
             [
              0.1111111111111111,
              "#46039f"
             ],
             [
              0.2222222222222222,
              "#7201a8"
             ],
             [
              0.3333333333333333,
              "#9c179e"
             ],
             [
              0.4444444444444444,
              "#bd3786"
             ],
             [
              0.5555555555555556,
              "#d8576b"
             ],
             [
              0.6666666666666666,
              "#ed7953"
             ],
             [
              0.7777777777777778,
              "#fb9f3a"
             ],
             [
              0.8888888888888888,
              "#fdca26"
             ],
             [
              1,
              "#f0f921"
             ]
            ],
            "type": "surface"
           }
          ],
          "table": [
           {
            "cells": {
             "fill": {
              "color": "#EBF0F8"
             },
             "line": {
              "color": "white"
             }
            },
            "header": {
             "fill": {
              "color": "#C8D4E3"
             },
             "line": {
              "color": "white"
             }
            },
            "type": "table"
           }
          ]
         },
         "layout": {
          "annotationdefaults": {
           "arrowcolor": "#2a3f5f",
           "arrowhead": 0,
           "arrowwidth": 1
          },
          "coloraxis": {
           "colorbar": {
            "outlinewidth": 0,
            "ticks": ""
           }
          },
          "colorscale": {
           "diverging": [
            [
             0,
             "#8e0152"
            ],
            [
             0.1,
             "#c51b7d"
            ],
            [
             0.2,
             "#de77ae"
            ],
            [
             0.3,
             "#f1b6da"
            ],
            [
             0.4,
             "#fde0ef"
            ],
            [
             0.5,
             "#f7f7f7"
            ],
            [
             0.6,
             "#e6f5d0"
            ],
            [
             0.7,
             "#b8e186"
            ],
            [
             0.8,
             "#7fbc41"
            ],
            [
             0.9,
             "#4d9221"
            ],
            [
             1,
             "#276419"
            ]
           ],
           "sequential": [
            [
             0,
             "#0d0887"
            ],
            [
             0.1111111111111111,
             "#46039f"
            ],
            [
             0.2222222222222222,
             "#7201a8"
            ],
            [
             0.3333333333333333,
             "#9c179e"
            ],
            [
             0.4444444444444444,
             "#bd3786"
            ],
            [
             0.5555555555555556,
             "#d8576b"
            ],
            [
             0.6666666666666666,
             "#ed7953"
            ],
            [
             0.7777777777777778,
             "#fb9f3a"
            ],
            [
             0.8888888888888888,
             "#fdca26"
            ],
            [
             1,
             "#f0f921"
            ]
           ],
           "sequentialminus": [
            [
             0,
             "#0d0887"
            ],
            [
             0.1111111111111111,
             "#46039f"
            ],
            [
             0.2222222222222222,
             "#7201a8"
            ],
            [
             0.3333333333333333,
             "#9c179e"
            ],
            [
             0.4444444444444444,
             "#bd3786"
            ],
            [
             0.5555555555555556,
             "#d8576b"
            ],
            [
             0.6666666666666666,
             "#ed7953"
            ],
            [
             0.7777777777777778,
             "#fb9f3a"
            ],
            [
             0.8888888888888888,
             "#fdca26"
            ],
            [
             1,
             "#f0f921"
            ]
           ]
          },
          "colorway": [
           "#636efa",
           "#EF553B",
           "#00cc96",
           "#ab63fa",
           "#FFA15A",
           "#19d3f3",
           "#FF6692",
           "#B6E880",
           "#FF97FF",
           "#FECB52"
          ],
          "font": {
           "color": "#2a3f5f"
          },
          "geo": {
           "bgcolor": "white",
           "lakecolor": "white",
           "landcolor": "#E5ECF6",
           "showlakes": true,
           "showland": true,
           "subunitcolor": "white"
          },
          "hoverlabel": {
           "align": "left"
          },
          "hovermode": "closest",
          "mapbox": {
           "style": "light"
          },
          "paper_bgcolor": "white",
          "plot_bgcolor": "#E5ECF6",
          "polar": {
           "angularaxis": {
            "gridcolor": "white",
            "linecolor": "white",
            "ticks": ""
           },
           "bgcolor": "#E5ECF6",
           "radialaxis": {
            "gridcolor": "white",
            "linecolor": "white",
            "ticks": ""
           }
          },
          "scene": {
           "xaxis": {
            "backgroundcolor": "#E5ECF6",
            "gridcolor": "white",
            "gridwidth": 2,
            "linecolor": "white",
            "showbackground": true,
            "ticks": "",
            "zerolinecolor": "white"
           },
           "yaxis": {
            "backgroundcolor": "#E5ECF6",
            "gridcolor": "white",
            "gridwidth": 2,
            "linecolor": "white",
            "showbackground": true,
            "ticks": "",
            "zerolinecolor": "white"
           },
           "zaxis": {
            "backgroundcolor": "#E5ECF6",
            "gridcolor": "white",
            "gridwidth": 2,
            "linecolor": "white",
            "showbackground": true,
            "ticks": "",
            "zerolinecolor": "white"
           }
          },
          "shapedefaults": {
           "line": {
            "color": "#2a3f5f"
           }
          },
          "ternary": {
           "aaxis": {
            "gridcolor": "white",
            "linecolor": "white",
            "ticks": ""
           },
           "baxis": {
            "gridcolor": "white",
            "linecolor": "white",
            "ticks": ""
           },
           "bgcolor": "#E5ECF6",
           "caxis": {
            "gridcolor": "white",
            "linecolor": "white",
            "ticks": ""
           }
          },
          "title": {
           "x": 0.05
          },
          "xaxis": {
           "automargin": true,
           "gridcolor": "white",
           "linecolor": "white",
           "ticks": "",
           "title": {
            "standoff": 15
           },
           "zerolinecolor": "white",
           "zerolinewidth": 2
          },
          "yaxis": {
           "automargin": true,
           "gridcolor": "white",
           "linecolor": "white",
           "ticks": "",
           "title": {
            "standoff": 15
           },
           "zerolinecolor": "white",
           "zerolinewidth": 2
          }
         }
        },
        "title": {
         "text": "Compare n modules for selected pileups"
        },
        "updatemenus": [
         {
          "active": -1,
          "buttons": [
           {
            "args": [
             {
              "visible": [
               true,
               false,
               false
              ]
             }
            ],
            "label": "PU0",
            "method": "update"
           },
           {
            "args": [
             {
              "visible": [
               false,
               true,
               false
              ]
             }
            ],
            "label": "PU140",
            "method": "update"
           },
           {
            "args": [
             {
              "visible": [
               false,
               false,
               true
              ]
             }
            ],
            "label": "PU200",
            "method": "update"
           },
           {
            "args": [
             {
              "visible": [
               true,
               true,
               false
              ]
             }
            ],
            "label": "PU0 and PU140",
            "method": "update"
           },
           {
            "args": [
             {
              "visible": [
               true,
               false,
               true
              ]
             }
            ],
            "label": "PU0 and 200",
            "method": "update"
           },
           {
            "args": [
             {
              "visible": [
               false,
               true,
               true
              ]
             }
            ],
            "label": "PU140 and 200",
            "method": "update"
           },
           {
            "args": [
             {
              "visible": [
               true,
               true,
               true
              ]
             }
            ],
            "label": "All",
            "method": "update"
           }
          ],
          "type": "buttons"
         }
        ]
       }
      },
      "text/html": [
       "<div>\n",
       "        \n",
       "        \n",
       "            <div id=\"29240e82-6e07-4ba9-b92c-cb211b7317ff\" class=\"plotly-graph-div\" style=\"height:525px; width:100%;\"></div>\n",
       "            <script type=\"text/javascript\">\n",
       "                require([\"plotly\"], function(Plotly) {\n",
       "                    window.PLOTLYENV=window.PLOTLYENV || {};\n",
       "                    \n",
       "                if (document.getElementById(\"29240e82-6e07-4ba9-b92c-cb211b7317ff\")) {\n",
       "                    Plotly.newPlot(\n",
       "                        '29240e82-6e07-4ba9-b92c-cb211b7317ff',\n",
       "                        [{\"direction\": \"clockwise\", \"domain\": {\"x\": [0.1, 0.9], \"y\": [0.05, 0.9]}, \"hole\": 0.5, \"labels\": [\"hbhereco \", \"initialStepTrackCandidates \", \"ecalMultiFitUncalibRecHit \", \"ecalRecHit \", \"trackValidatorTrackingOnly \", \"TrackerCollisionSelectedTrackMonCommongeneralTracks \", \"initialStepTracks \", \"TrackerCollisionSelectedTrackMonCommonhighPurityPV0p1 \", \"initialStepSeeds \", \"firstStepPrimaryVerticesUnsorted \", \"TrackerCollisionSelectedTrackMonCommonhighPurityPt1 \", \"trackValidatorFromPVStandalone \", \"highPtTripletStepTrackCandidates \", \"source \", \"offlineBeamSpot \"], \"marker\": {\"line\": {\"color\": \"#000000\", \"width\": 0.2}}, \"sort\": true, \"type\": \"pie\", \"values\": [183.94, 64.78, 59.13, 41.21, 40.09, 38.8, 37.41, 32.44, 28.36, 25.47, 24.52, 24.38, 22.03, 21.32, 20.25]}, {\"direction\": \"clockwise\", \"domain\": {\"x\": [0.1, 0.9], \"y\": [0.05, 0.9]}, \"hole\": 0.75, \"labels\": [\"unsortedOfflinePrimaryVertices \", \"trackValidatorTrackingOnly \", \"TrackerCollisionSelectedTrackMonCommongeneralTracks \", \"trackValidatorSeedingTrackingOnly \", \"highPtTripletStepTrackCandidates \", \"firstStepPrimaryVerticesUnsorted \", \"tpClusterProducer \", \"trackValidatorAllTPEfficStandalone \", \"TrackerCollisionSelectedTrackMonCommonhighPurityPtRange0to1 \", \"initialStepTracks \", \"trackingParticlesBHadron \", \"initialStepHitQuadruplets \", \"highPtTripletStepHitTriplets \", \"TrackerCollisionSelectedTrackMonCommonhighPurityPt1 \", \"trackValidatorBuilding \"], \"marker\": {\"line\": {\"color\": \"#000000\", \"width\": 0.2}}, \"sort\": true, \"type\": \"pie\", \"values\": [13.45, 40.09, 38.8, 16.36, 22.03, 25.47, 7.61, 17.44, 15.79, 37.41, 285.75, 2.44, 0.34, 24.52, 5.73]}, {\"direction\": \"clockwise\", \"domain\": {\"x\": [0.1, 0.9], \"y\": [0.05, 0.9]}, \"hole\": 0.9, \"labels\": [\"unsortedOfflinePrimaryVertices \", \"trackingParticlesSignal \", \"trackValidatorTrackingOnly \", \"trackingParticlesBHadron \", \"TrackerCollisionSelectedTrackMonCommongeneralTracks \", \"trackingParticleRecoTrackAsssociation \", \"trackValidatorSeedingTrackingOnly \", \"highPtTripletStepTrackCandidates \", \"firstStepPrimaryVerticesUnsorted \", \"tpClusterProducer \", \"trackValidatorAllTPEfficStandalone \", \"TrackerCollisionSelectedTrackMonCommonhighPurityPtRange0to1 \", \"initialStepTracks \", \"highPtTripletStepHitTriplets \", \"initialStepHitQuadruplets \"], \"marker\": {\"line\": {\"color\": \"#000000\", \"width\": 0.2}}, \"sort\": true, \"type\": \"pie\", \"values\": [13.45, 13.87, 40.09, 285.75, 38.8, 14.22, 16.36, 22.03, 25.47, 7.61, 17.44, 15.79, 37.41, 0.34, 2.44]}],\n",
       "                        {\"showlegend\": false, \"template\": {\"data\": {\"bar\": [{\"error_x\": {\"color\": \"#2a3f5f\"}, \"error_y\": {\"color\": \"#2a3f5f\"}, \"marker\": {\"line\": {\"color\": \"#E5ECF6\", \"width\": 0.5}}, \"type\": \"bar\"}], \"barpolar\": [{\"marker\": {\"line\": {\"color\": \"#E5ECF6\", \"width\": 0.5}}, \"type\": \"barpolar\"}], \"carpet\": [{\"aaxis\": {\"endlinecolor\": \"#2a3f5f\", \"gridcolor\": \"white\", \"linecolor\": \"white\", \"minorgridcolor\": \"white\", \"startlinecolor\": \"#2a3f5f\"}, \"baxis\": {\"endlinecolor\": \"#2a3f5f\", \"gridcolor\": \"white\", \"linecolor\": \"white\", \"minorgridcolor\": \"white\", \"startlinecolor\": \"#2a3f5f\"}, \"type\": \"carpet\"}], \"choropleth\": [{\"colorbar\": {\"outlinewidth\": 0, \"ticks\": \"\"}, \"type\": \"choropleth\"}], \"contour\": [{\"colorbar\": {\"outlinewidth\": 0, \"ticks\": \"\"}, \"colorscale\": [[0.0, \"#0d0887\"], [0.1111111111111111, \"#46039f\"], [0.2222222222222222, \"#7201a8\"], [0.3333333333333333, \"#9c179e\"], [0.4444444444444444, \"#bd3786\"], [0.5555555555555556, \"#d8576b\"], [0.6666666666666666, \"#ed7953\"], [0.7777777777777778, \"#fb9f3a\"], [0.8888888888888888, \"#fdca26\"], [1.0, \"#f0f921\"]], \"type\": \"contour\"}], \"contourcarpet\": [{\"colorbar\": {\"outlinewidth\": 0, \"ticks\": \"\"}, \"type\": \"contourcarpet\"}], \"heatmap\": [{\"colorbar\": {\"outlinewidth\": 0, \"ticks\": \"\"}, \"colorscale\": [[0.0, \"#0d0887\"], [0.1111111111111111, \"#46039f\"], [0.2222222222222222, \"#7201a8\"], [0.3333333333333333, \"#9c179e\"], [0.4444444444444444, \"#bd3786\"], [0.5555555555555556, \"#d8576b\"], [0.6666666666666666, \"#ed7953\"], [0.7777777777777778, \"#fb9f3a\"], [0.8888888888888888, \"#fdca26\"], [1.0, \"#f0f921\"]], \"type\": \"heatmap\"}], \"heatmapgl\": [{\"colorbar\": {\"outlinewidth\": 0, \"ticks\": \"\"}, \"colorscale\": [[0.0, \"#0d0887\"], [0.1111111111111111, \"#46039f\"], [0.2222222222222222, \"#7201a8\"], [0.3333333333333333, \"#9c179e\"], [0.4444444444444444, \"#bd3786\"], [0.5555555555555556, \"#d8576b\"], [0.6666666666666666, \"#ed7953\"], [0.7777777777777778, \"#fb9f3a\"], [0.8888888888888888, \"#fdca26\"], [1.0, \"#f0f921\"]], \"type\": \"heatmapgl\"}], \"histogram\": [{\"marker\": {\"colorbar\": {\"outlinewidth\": 0, \"ticks\": \"\"}}, \"type\": \"histogram\"}], \"histogram2d\": [{\"colorbar\": {\"outlinewidth\": 0, \"ticks\": \"\"}, \"colorscale\": [[0.0, \"#0d0887\"], [0.1111111111111111, \"#46039f\"], [0.2222222222222222, \"#7201a8\"], [0.3333333333333333, \"#9c179e\"], [0.4444444444444444, \"#bd3786\"], [0.5555555555555556, \"#d8576b\"], [0.6666666666666666, \"#ed7953\"], [0.7777777777777778, \"#fb9f3a\"], [0.8888888888888888, \"#fdca26\"], [1.0, \"#f0f921\"]], \"type\": \"histogram2d\"}], \"histogram2dcontour\": [{\"colorbar\": {\"outlinewidth\": 0, \"ticks\": \"\"}, \"colorscale\": [[0.0, \"#0d0887\"], [0.1111111111111111, \"#46039f\"], [0.2222222222222222, \"#7201a8\"], [0.3333333333333333, \"#9c179e\"], [0.4444444444444444, \"#bd3786\"], [0.5555555555555556, \"#d8576b\"], [0.6666666666666666, \"#ed7953\"], [0.7777777777777778, \"#fb9f3a\"], [0.8888888888888888, \"#fdca26\"], [1.0, \"#f0f921\"]], \"type\": \"histogram2dcontour\"}], \"mesh3d\": [{\"colorbar\": {\"outlinewidth\": 0, \"ticks\": \"\"}, \"type\": \"mesh3d\"}], \"parcoords\": [{\"line\": {\"colorbar\": {\"outlinewidth\": 0, \"ticks\": \"\"}}, \"type\": \"parcoords\"}], \"pie\": [{\"automargin\": true, \"type\": \"pie\"}], \"scatter\": [{\"marker\": {\"colorbar\": {\"outlinewidth\": 0, \"ticks\": \"\"}}, \"type\": \"scatter\"}], \"scatter3d\": [{\"line\": {\"colorbar\": {\"outlinewidth\": 0, \"ticks\": \"\"}}, \"marker\": {\"colorbar\": {\"outlinewidth\": 0, \"ticks\": \"\"}}, \"type\": \"scatter3d\"}], \"scattercarpet\": [{\"marker\": {\"colorbar\": {\"outlinewidth\": 0, \"ticks\": \"\"}}, \"type\": \"scattercarpet\"}], \"scattergeo\": [{\"marker\": {\"colorbar\": {\"outlinewidth\": 0, \"ticks\": \"\"}}, \"type\": \"scattergeo\"}], \"scattergl\": [{\"marker\": {\"colorbar\": {\"outlinewidth\": 0, \"ticks\": \"\"}}, \"type\": \"scattergl\"}], \"scattermapbox\": [{\"marker\": {\"colorbar\": {\"outlinewidth\": 0, \"ticks\": \"\"}}, \"type\": \"scattermapbox\"}], \"scatterpolar\": [{\"marker\": {\"colorbar\": {\"outlinewidth\": 0, \"ticks\": \"\"}}, \"type\": \"scatterpolar\"}], \"scatterpolargl\": [{\"marker\": {\"colorbar\": {\"outlinewidth\": 0, \"ticks\": \"\"}}, \"type\": \"scatterpolargl\"}], \"scatterternary\": [{\"marker\": {\"colorbar\": {\"outlinewidth\": 0, \"ticks\": \"\"}}, \"type\": \"scatterternary\"}], \"surface\": [{\"colorbar\": {\"outlinewidth\": 0, \"ticks\": \"\"}, \"colorscale\": [[0.0, \"#0d0887\"], [0.1111111111111111, \"#46039f\"], [0.2222222222222222, \"#7201a8\"], [0.3333333333333333, \"#9c179e\"], [0.4444444444444444, \"#bd3786\"], [0.5555555555555556, \"#d8576b\"], [0.6666666666666666, \"#ed7953\"], [0.7777777777777778, \"#fb9f3a\"], [0.8888888888888888, \"#fdca26\"], [1.0, \"#f0f921\"]], \"type\": \"surface\"}], \"table\": [{\"cells\": {\"fill\": {\"color\": \"#EBF0F8\"}, \"line\": {\"color\": \"white\"}}, \"header\": {\"fill\": {\"color\": \"#C8D4E3\"}, \"line\": {\"color\": \"white\"}}, \"type\": \"table\"}]}, \"layout\": {\"annotationdefaults\": {\"arrowcolor\": \"#2a3f5f\", \"arrowhead\": 0, \"arrowwidth\": 1}, \"coloraxis\": {\"colorbar\": {\"outlinewidth\": 0, \"ticks\": \"\"}}, \"colorscale\": {\"diverging\": [[0, \"#8e0152\"], [0.1, \"#c51b7d\"], [0.2, \"#de77ae\"], [0.3, \"#f1b6da\"], [0.4, \"#fde0ef\"], [0.5, \"#f7f7f7\"], [0.6, \"#e6f5d0\"], [0.7, \"#b8e186\"], [0.8, \"#7fbc41\"], [0.9, \"#4d9221\"], [1, \"#276419\"]], \"sequential\": [[0.0, \"#0d0887\"], [0.1111111111111111, \"#46039f\"], [0.2222222222222222, \"#7201a8\"], [0.3333333333333333, \"#9c179e\"], [0.4444444444444444, \"#bd3786\"], [0.5555555555555556, \"#d8576b\"], [0.6666666666666666, \"#ed7953\"], [0.7777777777777778, \"#fb9f3a\"], [0.8888888888888888, \"#fdca26\"], [1.0, \"#f0f921\"]], \"sequentialminus\": [[0.0, \"#0d0887\"], [0.1111111111111111, \"#46039f\"], [0.2222222222222222, \"#7201a8\"], [0.3333333333333333, \"#9c179e\"], [0.4444444444444444, \"#bd3786\"], [0.5555555555555556, \"#d8576b\"], [0.6666666666666666, \"#ed7953\"], [0.7777777777777778, \"#fb9f3a\"], [0.8888888888888888, \"#fdca26\"], [1.0, \"#f0f921\"]]}, \"colorway\": [\"#636efa\", \"#EF553B\", \"#00cc96\", \"#ab63fa\", \"#FFA15A\", \"#19d3f3\", \"#FF6692\", \"#B6E880\", \"#FF97FF\", \"#FECB52\"], \"font\": {\"color\": \"#2a3f5f\"}, \"geo\": {\"bgcolor\": \"white\", \"lakecolor\": \"white\", \"landcolor\": \"#E5ECF6\", \"showlakes\": true, \"showland\": true, \"subunitcolor\": \"white\"}, \"hoverlabel\": {\"align\": \"left\"}, \"hovermode\": \"closest\", \"mapbox\": {\"style\": \"light\"}, \"paper_bgcolor\": \"white\", \"plot_bgcolor\": \"#E5ECF6\", \"polar\": {\"angularaxis\": {\"gridcolor\": \"white\", \"linecolor\": \"white\", \"ticks\": \"\"}, \"bgcolor\": \"#E5ECF6\", \"radialaxis\": {\"gridcolor\": \"white\", \"linecolor\": \"white\", \"ticks\": \"\"}}, \"scene\": {\"xaxis\": {\"backgroundcolor\": \"#E5ECF6\", \"gridcolor\": \"white\", \"gridwidth\": 2, \"linecolor\": \"white\", \"showbackground\": true, \"ticks\": \"\", \"zerolinecolor\": \"white\"}, \"yaxis\": {\"backgroundcolor\": \"#E5ECF6\", \"gridcolor\": \"white\", \"gridwidth\": 2, \"linecolor\": \"white\", \"showbackground\": true, \"ticks\": \"\", \"zerolinecolor\": \"white\"}, \"zaxis\": {\"backgroundcolor\": \"#E5ECF6\", \"gridcolor\": \"white\", \"gridwidth\": 2, \"linecolor\": \"white\", \"showbackground\": true, \"ticks\": \"\", \"zerolinecolor\": \"white\"}}, \"shapedefaults\": {\"line\": {\"color\": \"#2a3f5f\"}}, \"ternary\": {\"aaxis\": {\"gridcolor\": \"white\", \"linecolor\": \"white\", \"ticks\": \"\"}, \"baxis\": {\"gridcolor\": \"white\", \"linecolor\": \"white\", \"ticks\": \"\"}, \"bgcolor\": \"#E5ECF6\", \"caxis\": {\"gridcolor\": \"white\", \"linecolor\": \"white\", \"ticks\": \"\"}}, \"title\": {\"x\": 0.05}, \"xaxis\": {\"automargin\": true, \"gridcolor\": \"white\", \"linecolor\": \"white\", \"ticks\": \"\", \"title\": {\"standoff\": 15}, \"zerolinecolor\": \"white\", \"zerolinewidth\": 2}, \"yaxis\": {\"automargin\": true, \"gridcolor\": \"white\", \"linecolor\": \"white\", \"ticks\": \"\", \"title\": {\"standoff\": 15}, \"zerolinecolor\": \"white\", \"zerolinewidth\": 2}}}, \"title\": {\"text\": \"Compare n modules for selected pileups\"}, \"updatemenus\": [{\"active\": -1, \"buttons\": [{\"args\": [{\"visible\": [true, false, false]}], \"label\": \"PU0\", \"method\": \"update\"}, {\"args\": [{\"visible\": [false, true, false]}], \"label\": \"PU140\", \"method\": \"update\"}, {\"args\": [{\"visible\": [false, false, true]}], \"label\": \"PU200\", \"method\": \"update\"}, {\"args\": [{\"visible\": [true, true, false]}], \"label\": \"PU0 and PU140\", \"method\": \"update\"}, {\"args\": [{\"visible\": [true, false, true]}], \"label\": \"PU0 and 200\", \"method\": \"update\"}, {\"args\": [{\"visible\": [false, true, true]}], \"label\": \"PU140 and 200\", \"method\": \"update\"}, {\"args\": [{\"visible\": [true, true, true]}], \"label\": \"All\", \"method\": \"update\"}], \"type\": \"buttons\"}]},\n",
       "                        {\"responsive\": true}\n",
       "                    ).then(function(){\n",
       "                            \n",
       "var gd = document.getElementById('29240e82-6e07-4ba9-b92c-cb211b7317ff');\n",
       "var x = new MutationObserver(function (mutations, observer) {{\n",
       "        var display = window.getComputedStyle(gd).display;\n",
       "        if (!display || display === 'none') {{\n",
       "            console.log([gd, 'removed!']);\n",
       "            Plotly.purge(gd);\n",
       "            observer.disconnect();\n",
       "        }}\n",
       "}});\n",
       "\n",
       "// Listen for the removal of the full notebook cells\n",
       "var notebookContainer = gd.closest('#notebook-container');\n",
       "if (notebookContainer) {{\n",
       "    x.observe(notebookContainer, {childList: true});\n",
       "}}\n",
       "\n",
       "// Listen for the clearing of the current output cell\n",
       "var outputEl = gd.closest('.output');\n",
       "if (outputEl) {{\n",
       "    x.observe(outputEl, {childList: true});\n",
       "}}\n",
       "\n",
       "                        })\n",
       "                };\n",
       "                });\n",
       "            </script>\n",
       "        </div>"
      ]
     },
     "metadata": {},
     "output_type": "display_data"
    }
   ],
   "source": [
    "#the argument to this function is the number of modules you want to see in each PU. Selects the n longest\n",
    "plot2(10)\n"
   ]
  },
  {
   "cell_type": "markdown",
   "metadata": {},
   "source": [
    "## Fig. 3 - Sum of modules by module path "
   ]
  },
  {
   "cell_type": "markdown",
   "metadata": {},
   "source": [
    "Each module belongs to a specific path. The paths _initialStepSequence_, _highPtTripletStepSequence_ and most of the modules in _other_ are part of the tracking. "
   ]
  },
  {
   "cell_type": "code",
   "execution_count": 92,
   "metadata": {},
   "outputs": [
    {
     "data": {
      "application/vnd.plotly.v1+json": {
       "config": {
        "linkText": "Export to plot.ly",
        "plotlyServerURL": "https://plot.ly",
        "showLink": false
       },
       "data": [
        {
         "direction": "clockwise",
         "domain": {
          "x": [
           0.1,
           0.9
          ],
          "y": [
           0.05,
           0.9
          ]
         },
         "hole": 0.5,
         "labels": [
          "DQM_offline",
          "caloLocalReco",
          "highPtTripletStepSequence",
          "initialStepSequence",
          "itLocalReco",
          "other",
          "preval",
          "raw_2digi",
          "vertexReco"
         ],
         "marker": {
          "line": {
           "color": "#000000",
           "width": 0.2
          }
         },
         "sort": true,
         "textposition": "none",
         "type": "pie",
         "values": [
          133.31,
          228.45000000000002,
          31.320000000000004,
          146.22,
          29.240000000000002,
          127.88000000000001,
          481.37000000000006,
          8.27,
          22.52
         ]
        },
        {
         "direction": "clockwise",
         "domain": {
          "x": [
           0.1,
           0.9
          ],
          "y": [
           0.05,
           0.9
          ]
         },
         "hole": 0.75,
         "labels": [
          "DQM_offline",
          "caloLocalReco",
          "highPtTripletStepSequence",
          "initialStepSequence",
          "itLocalReco",
          "other",
          "preval",
          "raw_2digi",
          "vertexReco"
         ],
         "marker": {
          "line": {
           "color": "#000000",
           "width": 0.2
          }
         },
         "sort": true,
         "textposition": "none",
         "type": "pie",
         "values": [
          2302.9599999999996,
          206.95,
          1485.77,
          2179.08,
          293.92,
          1262.8300000000002,
          5325.160000000001,
          9.2,
          1148.69
         ]
        },
        {
         "direction": "clockwise",
         "domain": {
          "x": [
           0.1,
           0.9
          ],
          "y": [
           0.05,
           0.9
          ]
         },
         "hole": 0.9,
         "labels": [
          "DQM_offline",
          "caloLocalReco",
          "highPtTripletStepSequence",
          "initialStepSequence",
          "itLocalReco",
          "other",
          "preval",
          "raw_2digi",
          "vertexReco"
         ],
         "marker": {
          "line": {
           "color": "#000000",
           "width": 0.2
          }
         },
         "sort": true,
         "textposition": "none",
         "type": "pie",
         "values": [
          3702.7099999999996,
          445.59999999999997,
          3050.78,
          5394.7,
          443.53,
          2617.6800000000003,
          14882.47,
          9.95,
          3433.91
         ]
        }
       ],
       "layout": {
        "template": {
         "data": {
          "bar": [
           {
            "error_x": {
             "color": "#2a3f5f"
            },
            "error_y": {
             "color": "#2a3f5f"
            },
            "marker": {
             "line": {
              "color": "#E5ECF6",
              "width": 0.5
             }
            },
            "type": "bar"
           }
          ],
          "barpolar": [
           {
            "marker": {
             "line": {
              "color": "#E5ECF6",
              "width": 0.5
             }
            },
            "type": "barpolar"
           }
          ],
          "carpet": [
           {
            "aaxis": {
             "endlinecolor": "#2a3f5f",
             "gridcolor": "white",
             "linecolor": "white",
             "minorgridcolor": "white",
             "startlinecolor": "#2a3f5f"
            },
            "baxis": {
             "endlinecolor": "#2a3f5f",
             "gridcolor": "white",
             "linecolor": "white",
             "minorgridcolor": "white",
             "startlinecolor": "#2a3f5f"
            },
            "type": "carpet"
           }
          ],
          "choropleth": [
           {
            "colorbar": {
             "outlinewidth": 0,
             "ticks": ""
            },
            "type": "choropleth"
           }
          ],
          "contour": [
           {
            "colorbar": {
             "outlinewidth": 0,
             "ticks": ""
            },
            "colorscale": [
             [
              0,
              "#0d0887"
             ],
             [
              0.1111111111111111,
              "#46039f"
             ],
             [
              0.2222222222222222,
              "#7201a8"
             ],
             [
              0.3333333333333333,
              "#9c179e"
             ],
             [
              0.4444444444444444,
              "#bd3786"
             ],
             [
              0.5555555555555556,
              "#d8576b"
             ],
             [
              0.6666666666666666,
              "#ed7953"
             ],
             [
              0.7777777777777778,
              "#fb9f3a"
             ],
             [
              0.8888888888888888,
              "#fdca26"
             ],
             [
              1,
              "#f0f921"
             ]
            ],
            "type": "contour"
           }
          ],
          "contourcarpet": [
           {
            "colorbar": {
             "outlinewidth": 0,
             "ticks": ""
            },
            "type": "contourcarpet"
           }
          ],
          "heatmap": [
           {
            "colorbar": {
             "outlinewidth": 0,
             "ticks": ""
            },
            "colorscale": [
             [
              0,
              "#0d0887"
             ],
             [
              0.1111111111111111,
              "#46039f"
             ],
             [
              0.2222222222222222,
              "#7201a8"
             ],
             [
              0.3333333333333333,
              "#9c179e"
             ],
             [
              0.4444444444444444,
              "#bd3786"
             ],
             [
              0.5555555555555556,
              "#d8576b"
             ],
             [
              0.6666666666666666,
              "#ed7953"
             ],
             [
              0.7777777777777778,
              "#fb9f3a"
             ],
             [
              0.8888888888888888,
              "#fdca26"
             ],
             [
              1,
              "#f0f921"
             ]
            ],
            "type": "heatmap"
           }
          ],
          "heatmapgl": [
           {
            "colorbar": {
             "outlinewidth": 0,
             "ticks": ""
            },
            "colorscale": [
             [
              0,
              "#0d0887"
             ],
             [
              0.1111111111111111,
              "#46039f"
             ],
             [
              0.2222222222222222,
              "#7201a8"
             ],
             [
              0.3333333333333333,
              "#9c179e"
             ],
             [
              0.4444444444444444,
              "#bd3786"
             ],
             [
              0.5555555555555556,
              "#d8576b"
             ],
             [
              0.6666666666666666,
              "#ed7953"
             ],
             [
              0.7777777777777778,
              "#fb9f3a"
             ],
             [
              0.8888888888888888,
              "#fdca26"
             ],
             [
              1,
              "#f0f921"
             ]
            ],
            "type": "heatmapgl"
           }
          ],
          "histogram": [
           {
            "marker": {
             "colorbar": {
              "outlinewidth": 0,
              "ticks": ""
             }
            },
            "type": "histogram"
           }
          ],
          "histogram2d": [
           {
            "colorbar": {
             "outlinewidth": 0,
             "ticks": ""
            },
            "colorscale": [
             [
              0,
              "#0d0887"
             ],
             [
              0.1111111111111111,
              "#46039f"
             ],
             [
              0.2222222222222222,
              "#7201a8"
             ],
             [
              0.3333333333333333,
              "#9c179e"
             ],
             [
              0.4444444444444444,
              "#bd3786"
             ],
             [
              0.5555555555555556,
              "#d8576b"
             ],
             [
              0.6666666666666666,
              "#ed7953"
             ],
             [
              0.7777777777777778,
              "#fb9f3a"
             ],
             [
              0.8888888888888888,
              "#fdca26"
             ],
             [
              1,
              "#f0f921"
             ]
            ],
            "type": "histogram2d"
           }
          ],
          "histogram2dcontour": [
           {
            "colorbar": {
             "outlinewidth": 0,
             "ticks": ""
            },
            "colorscale": [
             [
              0,
              "#0d0887"
             ],
             [
              0.1111111111111111,
              "#46039f"
             ],
             [
              0.2222222222222222,
              "#7201a8"
             ],
             [
              0.3333333333333333,
              "#9c179e"
             ],
             [
              0.4444444444444444,
              "#bd3786"
             ],
             [
              0.5555555555555556,
              "#d8576b"
             ],
             [
              0.6666666666666666,
              "#ed7953"
             ],
             [
              0.7777777777777778,
              "#fb9f3a"
             ],
             [
              0.8888888888888888,
              "#fdca26"
             ],
             [
              1,
              "#f0f921"
             ]
            ],
            "type": "histogram2dcontour"
           }
          ],
          "mesh3d": [
           {
            "colorbar": {
             "outlinewidth": 0,
             "ticks": ""
            },
            "type": "mesh3d"
           }
          ],
          "parcoords": [
           {
            "line": {
             "colorbar": {
              "outlinewidth": 0,
              "ticks": ""
             }
            },
            "type": "parcoords"
           }
          ],
          "pie": [
           {
            "automargin": true,
            "type": "pie"
           }
          ],
          "scatter": [
           {
            "marker": {
             "colorbar": {
              "outlinewidth": 0,
              "ticks": ""
             }
            },
            "type": "scatter"
           }
          ],
          "scatter3d": [
           {
            "line": {
             "colorbar": {
              "outlinewidth": 0,
              "ticks": ""
             }
            },
            "marker": {
             "colorbar": {
              "outlinewidth": 0,
              "ticks": ""
             }
            },
            "type": "scatter3d"
           }
          ],
          "scattercarpet": [
           {
            "marker": {
             "colorbar": {
              "outlinewidth": 0,
              "ticks": ""
             }
            },
            "type": "scattercarpet"
           }
          ],
          "scattergeo": [
           {
            "marker": {
             "colorbar": {
              "outlinewidth": 0,
              "ticks": ""
             }
            },
            "type": "scattergeo"
           }
          ],
          "scattergl": [
           {
            "marker": {
             "colorbar": {
              "outlinewidth": 0,
              "ticks": ""
             }
            },
            "type": "scattergl"
           }
          ],
          "scattermapbox": [
           {
            "marker": {
             "colorbar": {
              "outlinewidth": 0,
              "ticks": ""
             }
            },
            "type": "scattermapbox"
           }
          ],
          "scatterpolar": [
           {
            "marker": {
             "colorbar": {
              "outlinewidth": 0,
              "ticks": ""
             }
            },
            "type": "scatterpolar"
           }
          ],
          "scatterpolargl": [
           {
            "marker": {
             "colorbar": {
              "outlinewidth": 0,
              "ticks": ""
             }
            },
            "type": "scatterpolargl"
           }
          ],
          "scatterternary": [
           {
            "marker": {
             "colorbar": {
              "outlinewidth": 0,
              "ticks": ""
             }
            },
            "type": "scatterternary"
           }
          ],
          "surface": [
           {
            "colorbar": {
             "outlinewidth": 0,
             "ticks": ""
            },
            "colorscale": [
             [
              0,
              "#0d0887"
             ],
             [
              0.1111111111111111,
              "#46039f"
             ],
             [
              0.2222222222222222,
              "#7201a8"
             ],
             [
              0.3333333333333333,
              "#9c179e"
             ],
             [
              0.4444444444444444,
              "#bd3786"
             ],
             [
              0.5555555555555556,
              "#d8576b"
             ],
             [
              0.6666666666666666,
              "#ed7953"
             ],
             [
              0.7777777777777778,
              "#fb9f3a"
             ],
             [
              0.8888888888888888,
              "#fdca26"
             ],
             [
              1,
              "#f0f921"
             ]
            ],
            "type": "surface"
           }
          ],
          "table": [
           {
            "cells": {
             "fill": {
              "color": "#EBF0F8"
             },
             "line": {
              "color": "white"
             }
            },
            "header": {
             "fill": {
              "color": "#C8D4E3"
             },
             "line": {
              "color": "white"
             }
            },
            "type": "table"
           }
          ]
         },
         "layout": {
          "annotationdefaults": {
           "arrowcolor": "#2a3f5f",
           "arrowhead": 0,
           "arrowwidth": 1
          },
          "coloraxis": {
           "colorbar": {
            "outlinewidth": 0,
            "ticks": ""
           }
          },
          "colorscale": {
           "diverging": [
            [
             0,
             "#8e0152"
            ],
            [
             0.1,
             "#c51b7d"
            ],
            [
             0.2,
             "#de77ae"
            ],
            [
             0.3,
             "#f1b6da"
            ],
            [
             0.4,
             "#fde0ef"
            ],
            [
             0.5,
             "#f7f7f7"
            ],
            [
             0.6,
             "#e6f5d0"
            ],
            [
             0.7,
             "#b8e186"
            ],
            [
             0.8,
             "#7fbc41"
            ],
            [
             0.9,
             "#4d9221"
            ],
            [
             1,
             "#276419"
            ]
           ],
           "sequential": [
            [
             0,
             "#0d0887"
            ],
            [
             0.1111111111111111,
             "#46039f"
            ],
            [
             0.2222222222222222,
             "#7201a8"
            ],
            [
             0.3333333333333333,
             "#9c179e"
            ],
            [
             0.4444444444444444,
             "#bd3786"
            ],
            [
             0.5555555555555556,
             "#d8576b"
            ],
            [
             0.6666666666666666,
             "#ed7953"
            ],
            [
             0.7777777777777778,
             "#fb9f3a"
            ],
            [
             0.8888888888888888,
             "#fdca26"
            ],
            [
             1,
             "#f0f921"
            ]
           ],
           "sequentialminus": [
            [
             0,
             "#0d0887"
            ],
            [
             0.1111111111111111,
             "#46039f"
            ],
            [
             0.2222222222222222,
             "#7201a8"
            ],
            [
             0.3333333333333333,
             "#9c179e"
            ],
            [
             0.4444444444444444,
             "#bd3786"
            ],
            [
             0.5555555555555556,
             "#d8576b"
            ],
            [
             0.6666666666666666,
             "#ed7953"
            ],
            [
             0.7777777777777778,
             "#fb9f3a"
            ],
            [
             0.8888888888888888,
             "#fdca26"
            ],
            [
             1,
             "#f0f921"
            ]
           ]
          },
          "colorway": [
           "#636efa",
           "#EF553B",
           "#00cc96",
           "#ab63fa",
           "#FFA15A",
           "#19d3f3",
           "#FF6692",
           "#B6E880",
           "#FF97FF",
           "#FECB52"
          ],
          "font": {
           "color": "#2a3f5f"
          },
          "geo": {
           "bgcolor": "white",
           "lakecolor": "white",
           "landcolor": "#E5ECF6",
           "showlakes": true,
           "showland": true,
           "subunitcolor": "white"
          },
          "hoverlabel": {
           "align": "left"
          },
          "hovermode": "closest",
          "mapbox": {
           "style": "light"
          },
          "paper_bgcolor": "white",
          "plot_bgcolor": "#E5ECF6",
          "polar": {
           "angularaxis": {
            "gridcolor": "white",
            "linecolor": "white",
            "ticks": ""
           },
           "bgcolor": "#E5ECF6",
           "radialaxis": {
            "gridcolor": "white",
            "linecolor": "white",
            "ticks": ""
           }
          },
          "scene": {
           "xaxis": {
            "backgroundcolor": "#E5ECF6",
            "gridcolor": "white",
            "gridwidth": 2,
            "linecolor": "white",
            "showbackground": true,
            "ticks": "",
            "zerolinecolor": "white"
           },
           "yaxis": {
            "backgroundcolor": "#E5ECF6",
            "gridcolor": "white",
            "gridwidth": 2,
            "linecolor": "white",
            "showbackground": true,
            "ticks": "",
            "zerolinecolor": "white"
           },
           "zaxis": {
            "backgroundcolor": "#E5ECF6",
            "gridcolor": "white",
            "gridwidth": 2,
            "linecolor": "white",
            "showbackground": true,
            "ticks": "",
            "zerolinecolor": "white"
           }
          },
          "shapedefaults": {
           "line": {
            "color": "#2a3f5f"
           }
          },
          "ternary": {
           "aaxis": {
            "gridcolor": "white",
            "linecolor": "white",
            "ticks": ""
           },
           "baxis": {
            "gridcolor": "white",
            "linecolor": "white",
            "ticks": ""
           },
           "bgcolor": "#E5ECF6",
           "caxis": {
            "gridcolor": "white",
            "linecolor": "white",
            "ticks": ""
           }
          },
          "title": {
           "x": 0.05
          },
          "xaxis": {
           "automargin": true,
           "gridcolor": "white",
           "linecolor": "white",
           "ticks": "",
           "title": {
            "standoff": 15
           },
           "zerolinecolor": "white",
           "zerolinewidth": 2
          },
          "yaxis": {
           "automargin": true,
           "gridcolor": "white",
           "linecolor": "white",
           "ticks": "",
           "title": {
            "standoff": 15
           },
           "zerolinecolor": "white",
           "zerolinewidth": 2
          }
         }
        },
        "title": {
         "text": "Total for module types at PU0, 140, 200"
        }
       }
      },
      "text/html": [
       "<div>\n",
       "        \n",
       "        \n",
       "            <div id=\"0f571791-74b4-4618-8b1f-0e01b6c26541\" class=\"plotly-graph-div\" style=\"height:525px; width:100%;\"></div>\n",
       "            <script type=\"text/javascript\">\n",
       "                require([\"plotly\"], function(Plotly) {\n",
       "                    window.PLOTLYENV=window.PLOTLYENV || {};\n",
       "                    \n",
       "                if (document.getElementById(\"0f571791-74b4-4618-8b1f-0e01b6c26541\")) {\n",
       "                    Plotly.newPlot(\n",
       "                        '0f571791-74b4-4618-8b1f-0e01b6c26541',\n",
       "                        [{\"direction\": \"clockwise\", \"domain\": {\"x\": [0.1, 0.9], \"y\": [0.05, 0.9]}, \"hole\": 0.5, \"labels\": [\"DQM_offline\", \"caloLocalReco\", \"highPtTripletStepSequence\", \"initialStepSequence\", \"itLocalReco\", \"other\", \"preval\", \"raw_2digi\", \"vertexReco\"], \"marker\": {\"line\": {\"color\": \"#000000\", \"width\": 0.2}}, \"sort\": true, \"textposition\": \"none\", \"type\": \"pie\", \"values\": [133.31, 228.45000000000002, 31.320000000000004, 146.22, 29.240000000000002, 127.88000000000001, 481.37000000000006, 8.27, 22.52]}, {\"direction\": \"clockwise\", \"domain\": {\"x\": [0.1, 0.9], \"y\": [0.05, 0.9]}, \"hole\": 0.75, \"labels\": [\"DQM_offline\", \"caloLocalReco\", \"highPtTripletStepSequence\", \"initialStepSequence\", \"itLocalReco\", \"other\", \"preval\", \"raw_2digi\", \"vertexReco\"], \"marker\": {\"line\": {\"color\": \"#000000\", \"width\": 0.2}}, \"sort\": true, \"textposition\": \"none\", \"type\": \"pie\", \"values\": [2302.9599999999996, 206.95, 1485.77, 2179.08, 293.92, 1262.8300000000002, 5325.160000000001, 9.2, 1148.69]}, {\"direction\": \"clockwise\", \"domain\": {\"x\": [0.1, 0.9], \"y\": [0.05, 0.9]}, \"hole\": 0.9, \"labels\": [\"DQM_offline\", \"caloLocalReco\", \"highPtTripletStepSequence\", \"initialStepSequence\", \"itLocalReco\", \"other\", \"preval\", \"raw_2digi\", \"vertexReco\"], \"marker\": {\"line\": {\"color\": \"#000000\", \"width\": 0.2}}, \"sort\": true, \"textposition\": \"none\", \"type\": \"pie\", \"values\": [3702.7099999999996, 445.59999999999997, 3050.78, 5394.7, 443.53, 2617.6800000000003, 14882.47, 9.95, 3433.91]}],\n",
       "                        {\"template\": {\"data\": {\"bar\": [{\"error_x\": {\"color\": \"#2a3f5f\"}, \"error_y\": {\"color\": \"#2a3f5f\"}, \"marker\": {\"line\": {\"color\": \"#E5ECF6\", \"width\": 0.5}}, \"type\": \"bar\"}], \"barpolar\": [{\"marker\": {\"line\": {\"color\": \"#E5ECF6\", \"width\": 0.5}}, \"type\": \"barpolar\"}], \"carpet\": [{\"aaxis\": {\"endlinecolor\": \"#2a3f5f\", \"gridcolor\": \"white\", \"linecolor\": \"white\", \"minorgridcolor\": \"white\", \"startlinecolor\": \"#2a3f5f\"}, \"baxis\": {\"endlinecolor\": \"#2a3f5f\", \"gridcolor\": \"white\", \"linecolor\": \"white\", \"minorgridcolor\": \"white\", \"startlinecolor\": \"#2a3f5f\"}, \"type\": \"carpet\"}], \"choropleth\": [{\"colorbar\": {\"outlinewidth\": 0, \"ticks\": \"\"}, \"type\": \"choropleth\"}], \"contour\": [{\"colorbar\": {\"outlinewidth\": 0, \"ticks\": \"\"}, \"colorscale\": [[0.0, \"#0d0887\"], [0.1111111111111111, \"#46039f\"], [0.2222222222222222, \"#7201a8\"], [0.3333333333333333, \"#9c179e\"], [0.4444444444444444, \"#bd3786\"], [0.5555555555555556, \"#d8576b\"], [0.6666666666666666, \"#ed7953\"], [0.7777777777777778, \"#fb9f3a\"], [0.8888888888888888, \"#fdca26\"], [1.0, \"#f0f921\"]], \"type\": \"contour\"}], \"contourcarpet\": [{\"colorbar\": {\"outlinewidth\": 0, \"ticks\": \"\"}, \"type\": \"contourcarpet\"}], \"heatmap\": [{\"colorbar\": {\"outlinewidth\": 0, \"ticks\": \"\"}, \"colorscale\": [[0.0, \"#0d0887\"], [0.1111111111111111, \"#46039f\"], [0.2222222222222222, \"#7201a8\"], [0.3333333333333333, \"#9c179e\"], [0.4444444444444444, \"#bd3786\"], [0.5555555555555556, \"#d8576b\"], [0.6666666666666666, \"#ed7953\"], [0.7777777777777778, \"#fb9f3a\"], [0.8888888888888888, \"#fdca26\"], [1.0, \"#f0f921\"]], \"type\": \"heatmap\"}], \"heatmapgl\": [{\"colorbar\": {\"outlinewidth\": 0, \"ticks\": \"\"}, \"colorscale\": [[0.0, \"#0d0887\"], [0.1111111111111111, \"#46039f\"], [0.2222222222222222, \"#7201a8\"], [0.3333333333333333, \"#9c179e\"], [0.4444444444444444, \"#bd3786\"], [0.5555555555555556, \"#d8576b\"], [0.6666666666666666, \"#ed7953\"], [0.7777777777777778, \"#fb9f3a\"], [0.8888888888888888, \"#fdca26\"], [1.0, \"#f0f921\"]], \"type\": \"heatmapgl\"}], \"histogram\": [{\"marker\": {\"colorbar\": {\"outlinewidth\": 0, \"ticks\": \"\"}}, \"type\": \"histogram\"}], \"histogram2d\": [{\"colorbar\": {\"outlinewidth\": 0, \"ticks\": \"\"}, \"colorscale\": [[0.0, \"#0d0887\"], [0.1111111111111111, \"#46039f\"], [0.2222222222222222, \"#7201a8\"], [0.3333333333333333, \"#9c179e\"], [0.4444444444444444, \"#bd3786\"], [0.5555555555555556, \"#d8576b\"], [0.6666666666666666, \"#ed7953\"], [0.7777777777777778, \"#fb9f3a\"], [0.8888888888888888, \"#fdca26\"], [1.0, \"#f0f921\"]], \"type\": \"histogram2d\"}], \"histogram2dcontour\": [{\"colorbar\": {\"outlinewidth\": 0, \"ticks\": \"\"}, \"colorscale\": [[0.0, \"#0d0887\"], [0.1111111111111111, \"#46039f\"], [0.2222222222222222, \"#7201a8\"], [0.3333333333333333, \"#9c179e\"], [0.4444444444444444, \"#bd3786\"], [0.5555555555555556, \"#d8576b\"], [0.6666666666666666, \"#ed7953\"], [0.7777777777777778, \"#fb9f3a\"], [0.8888888888888888, \"#fdca26\"], [1.0, \"#f0f921\"]], \"type\": \"histogram2dcontour\"}], \"mesh3d\": [{\"colorbar\": {\"outlinewidth\": 0, \"ticks\": \"\"}, \"type\": \"mesh3d\"}], \"parcoords\": [{\"line\": {\"colorbar\": {\"outlinewidth\": 0, \"ticks\": \"\"}}, \"type\": \"parcoords\"}], \"pie\": [{\"automargin\": true, \"type\": \"pie\"}], \"scatter\": [{\"marker\": {\"colorbar\": {\"outlinewidth\": 0, \"ticks\": \"\"}}, \"type\": \"scatter\"}], \"scatter3d\": [{\"line\": {\"colorbar\": {\"outlinewidth\": 0, \"ticks\": \"\"}}, \"marker\": {\"colorbar\": {\"outlinewidth\": 0, \"ticks\": \"\"}}, \"type\": \"scatter3d\"}], \"scattercarpet\": [{\"marker\": {\"colorbar\": {\"outlinewidth\": 0, \"ticks\": \"\"}}, \"type\": \"scattercarpet\"}], \"scattergeo\": [{\"marker\": {\"colorbar\": {\"outlinewidth\": 0, \"ticks\": \"\"}}, \"type\": \"scattergeo\"}], \"scattergl\": [{\"marker\": {\"colorbar\": {\"outlinewidth\": 0, \"ticks\": \"\"}}, \"type\": \"scattergl\"}], \"scattermapbox\": [{\"marker\": {\"colorbar\": {\"outlinewidth\": 0, \"ticks\": \"\"}}, \"type\": \"scattermapbox\"}], \"scatterpolar\": [{\"marker\": {\"colorbar\": {\"outlinewidth\": 0, \"ticks\": \"\"}}, \"type\": \"scatterpolar\"}], \"scatterpolargl\": [{\"marker\": {\"colorbar\": {\"outlinewidth\": 0, \"ticks\": \"\"}}, \"type\": \"scatterpolargl\"}], \"scatterternary\": [{\"marker\": {\"colorbar\": {\"outlinewidth\": 0, \"ticks\": \"\"}}, \"type\": \"scatterternary\"}], \"surface\": [{\"colorbar\": {\"outlinewidth\": 0, \"ticks\": \"\"}, \"colorscale\": [[0.0, \"#0d0887\"], [0.1111111111111111, \"#46039f\"], [0.2222222222222222, \"#7201a8\"], [0.3333333333333333, \"#9c179e\"], [0.4444444444444444, \"#bd3786\"], [0.5555555555555556, \"#d8576b\"], [0.6666666666666666, \"#ed7953\"], [0.7777777777777778, \"#fb9f3a\"], [0.8888888888888888, \"#fdca26\"], [1.0, \"#f0f921\"]], \"type\": \"surface\"}], \"table\": [{\"cells\": {\"fill\": {\"color\": \"#EBF0F8\"}, \"line\": {\"color\": \"white\"}}, \"header\": {\"fill\": {\"color\": \"#C8D4E3\"}, \"line\": {\"color\": \"white\"}}, \"type\": \"table\"}]}, \"layout\": {\"annotationdefaults\": {\"arrowcolor\": \"#2a3f5f\", \"arrowhead\": 0, \"arrowwidth\": 1}, \"coloraxis\": {\"colorbar\": {\"outlinewidth\": 0, \"ticks\": \"\"}}, \"colorscale\": {\"diverging\": [[0, \"#8e0152\"], [0.1, \"#c51b7d\"], [0.2, \"#de77ae\"], [0.3, \"#f1b6da\"], [0.4, \"#fde0ef\"], [0.5, \"#f7f7f7\"], [0.6, \"#e6f5d0\"], [0.7, \"#b8e186\"], [0.8, \"#7fbc41\"], [0.9, \"#4d9221\"], [1, \"#276419\"]], \"sequential\": [[0.0, \"#0d0887\"], [0.1111111111111111, \"#46039f\"], [0.2222222222222222, \"#7201a8\"], [0.3333333333333333, \"#9c179e\"], [0.4444444444444444, \"#bd3786\"], [0.5555555555555556, \"#d8576b\"], [0.6666666666666666, \"#ed7953\"], [0.7777777777777778, \"#fb9f3a\"], [0.8888888888888888, \"#fdca26\"], [1.0, \"#f0f921\"]], \"sequentialminus\": [[0.0, \"#0d0887\"], [0.1111111111111111, \"#46039f\"], [0.2222222222222222, \"#7201a8\"], [0.3333333333333333, \"#9c179e\"], [0.4444444444444444, \"#bd3786\"], [0.5555555555555556, \"#d8576b\"], [0.6666666666666666, \"#ed7953\"], [0.7777777777777778, \"#fb9f3a\"], [0.8888888888888888, \"#fdca26\"], [1.0, \"#f0f921\"]]}, \"colorway\": [\"#636efa\", \"#EF553B\", \"#00cc96\", \"#ab63fa\", \"#FFA15A\", \"#19d3f3\", \"#FF6692\", \"#B6E880\", \"#FF97FF\", \"#FECB52\"], \"font\": {\"color\": \"#2a3f5f\"}, \"geo\": {\"bgcolor\": \"white\", \"lakecolor\": \"white\", \"landcolor\": \"#E5ECF6\", \"showlakes\": true, \"showland\": true, \"subunitcolor\": \"white\"}, \"hoverlabel\": {\"align\": \"left\"}, \"hovermode\": \"closest\", \"mapbox\": {\"style\": \"light\"}, \"paper_bgcolor\": \"white\", \"plot_bgcolor\": \"#E5ECF6\", \"polar\": {\"angularaxis\": {\"gridcolor\": \"white\", \"linecolor\": \"white\", \"ticks\": \"\"}, \"bgcolor\": \"#E5ECF6\", \"radialaxis\": {\"gridcolor\": \"white\", \"linecolor\": \"white\", \"ticks\": \"\"}}, \"scene\": {\"xaxis\": {\"backgroundcolor\": \"#E5ECF6\", \"gridcolor\": \"white\", \"gridwidth\": 2, \"linecolor\": \"white\", \"showbackground\": true, \"ticks\": \"\", \"zerolinecolor\": \"white\"}, \"yaxis\": {\"backgroundcolor\": \"#E5ECF6\", \"gridcolor\": \"white\", \"gridwidth\": 2, \"linecolor\": \"white\", \"showbackground\": true, \"ticks\": \"\", \"zerolinecolor\": \"white\"}, \"zaxis\": {\"backgroundcolor\": \"#E5ECF6\", \"gridcolor\": \"white\", \"gridwidth\": 2, \"linecolor\": \"white\", \"showbackground\": true, \"ticks\": \"\", \"zerolinecolor\": \"white\"}}, \"shapedefaults\": {\"line\": {\"color\": \"#2a3f5f\"}}, \"ternary\": {\"aaxis\": {\"gridcolor\": \"white\", \"linecolor\": \"white\", \"ticks\": \"\"}, \"baxis\": {\"gridcolor\": \"white\", \"linecolor\": \"white\", \"ticks\": \"\"}, \"bgcolor\": \"#E5ECF6\", \"caxis\": {\"gridcolor\": \"white\", \"linecolor\": \"white\", \"ticks\": \"\"}}, \"title\": {\"x\": 0.05}, \"xaxis\": {\"automargin\": true, \"gridcolor\": \"white\", \"linecolor\": \"white\", \"ticks\": \"\", \"title\": {\"standoff\": 15}, \"zerolinecolor\": \"white\", \"zerolinewidth\": 2}, \"yaxis\": {\"automargin\": true, \"gridcolor\": \"white\", \"linecolor\": \"white\", \"ticks\": \"\", \"title\": {\"standoff\": 15}, \"zerolinecolor\": \"white\", \"zerolinewidth\": 2}}}, \"title\": {\"text\": \"Total for module types at PU0, 140, 200\"}},\n",
       "                        {\"responsive\": true}\n",
       "                    ).then(function(){\n",
       "                            \n",
       "var gd = document.getElementById('0f571791-74b4-4618-8b1f-0e01b6c26541');\n",
       "var x = new MutationObserver(function (mutations, observer) {{\n",
       "        var display = window.getComputedStyle(gd).display;\n",
       "        if (!display || display === 'none') {{\n",
       "            console.log([gd, 'removed!']);\n",
       "            Plotly.purge(gd);\n",
       "            observer.disconnect();\n",
       "        }}\n",
       "}});\n",
       "\n",
       "// Listen for the removal of the full notebook cells\n",
       "var notebookContainer = gd.closest('#notebook-container');\n",
       "if (notebookContainer) {{\n",
       "    x.observe(notebookContainer, {childList: true});\n",
       "}}\n",
       "\n",
       "// Listen for the clearing of the current output cell\n",
       "var outputEl = gd.closest('.output');\n",
       "if (outputEl) {{\n",
       "    x.observe(outputEl, {childList: true});\n",
       "}}\n",
       "\n",
       "                        })\n",
       "                };\n",
       "                });\n",
       "            </script>\n",
       "        </div>"
      ]
     },
     "metadata": {},
     "output_type": "display_data"
    }
   ],
   "source": [
    "plot3()"
   ]
  },
  {
   "cell_type": "markdown",
   "metadata": {},
   "source": [
    "# Fig. 4 - Select modules by path for selected pileup "
   ]
  },
  {
   "cell_type": "code",
   "execution_count": 96,
   "metadata": {},
   "outputs": [
    {
     "data": {
      "application/vnd.plotly.v1+json": {
       "config": {
        "linkText": "Export to plot.ly",
        "plotlyServerURL": "https://plot.ly",
        "showLink": false
       },
       "data": [
        {
         "direction": "clockwise",
         "domain": {
          "x": [
           0.1,
           0.9
          ],
          "y": [
           0.05,
           0.9
          ]
         },
         "hole": 0.5,
         "labels": [
          "PV0p1 ",
          "TrackMon_ckf ",
          "TrackSeedMonhighPtTripletStep ",
          "TrackSeedMoninitialStep ",
          "TrackSplitMonitor ",
          "TrackerCollisionSelectedTrackMonCommongeneralTracks ",
          "TrackerCollisionSelectedTrackMonCommonhighPurityPV0p1 ",
          "TrackerCollisionSelectedTrackMonCommonhighPurityPt1 ",
          "TrackerCollisionSelectedTrackMonCommonhighPurityPtRange0to1 ",
          "dqmInfoTracking ",
          "highPurityPV0p1 ",
          "highPurityPt1 ",
          "highPurityPtRange0to1 ",
          "primaryVertexResolution ",
          "pvMonitor ",
          "trackingDQMgoodOfflinePrimaryVertices "
         ],
         "marker": {
          "line": {
           "color": "#000000",
           "width": 0.2
          }
         },
         "sort": true,
         "type": "pie",
         "values": [
          1.73,
          0.26,
          41.57,
          97.5,
          187.85,
          1655.6,
          54.34,
          479.45,
          971.62,
          0.25,
          2.07,
          1.36,
          2.81,
          202.16,
          1.22,
          2.92
         ]
        },
        {
         "direction": "clockwise",
         "domain": {
          "x": [
           0.1,
           0.9
          ],
          "y": [
           0.05,
           0.9
          ]
         },
         "hole": 0.5,
         "labels": [
          "VertexAssociatorByPositionAndTracks ",
          "cutsRecoTracksBtvLike ",
          "cutsRecoTracksFromPVHighPtTripletStep ",
          "cutsRecoTracksFromPVHighPtTripletStepHp ",
          "cutsRecoTracksFromPVHp ",
          "cutsRecoTracksFromPVInitialStep ",
          "cutsRecoTracksFromPVInitialStepHp ",
          "cutsRecoTracksFromPVPt09HighPtTripletStep ",
          "cutsRecoTracksFromPVPt09HighPtTripletStepHp ",
          "cutsRecoTracksFromPVPt09Hp ",
          "cutsRecoTracksFromPVPt09InitialStep ",
          "cutsRecoTracksFromPVPt09InitialStepHp ",
          "cutsRecoTracksHighPtTripletStep ",
          "cutsRecoTracksHighPtTripletStepByAlgoMask ",
          "cutsRecoTracksHighPtTripletStepByAlgoMaskHp ",
          "cutsRecoTracksHighPtTripletStepByOriginalAlgo ",
          "cutsRecoTracksHighPtTripletStepByOriginalAlgoHp ",
          "cutsRecoTracksHighPtTripletStepHp ",
          "cutsRecoTracksHp ",
          "cutsRecoTracksInitialStep ",
          "cutsRecoTracksInitialStepByAlgoMask ",
          "cutsRecoTracksInitialStepByAlgoMaskHp ",
          "cutsRecoTracksInitialStepByOriginalAlgo ",
          "cutsRecoTracksInitialStepByOriginalAlgoHp ",
          "cutsRecoTracksInitialStepHp ",
          "cutsRecoTracksPt09HighPtTripletStep ",
          "cutsRecoTracksPt09HighPtTripletStepHp ",
          "cutsRecoTracksPt09InitialStep ",
          "cutsRecoTracksPt09InitialStepHp ",
          "generalTracksFromPV ",
          "generalTracksFromPVPt09 ",
          "generalTracksPt09 ",
          "quickTrackAssociatorByHits ",
          "quickTrackAssociatorByHitsPreSplitting ",
          "seedTrackshighPtTripletStepSeeds ",
          "seedTracksinitialStepSeeds ",
          "selectedOfflinePrimaryVertices ",
          "selectedOfflinePrimaryVerticesWithBS ",
          "simHitTPAssocProducer ",
          "tpClusterProducer ",
          "tpClusterProducerPreSplitting ",
          "trackValidatorAllTPEfficStandalone ",
          "trackValidatorBHadronTrackingOnly ",
          "trackValidatorBuilding ",
          "trackValidatorBuildingPreSplitting ",
          "trackValidatorFromPVAllTPStandalone ",
          "trackValidatorFromPVStandalone ",
          "trackValidatorSeedingPreSplittingTrackingOnly ",
          "trackValidatorSeedingTrackingOnly ",
          "trackValidatorTPPtLess09Standalone ",
          "trackValidatorTrackingOnly ",
          "trackingParticleNumberOfLayersProducer ",
          "trackingParticleRecoTrackAsssociation ",
          "trackingParticlesBHadron ",
          "trackingParticlesConversion ",
          "trackingParticlesElectron ",
          "trackingParticlesSignal ",
          "v0Validator ",
          "vertexAnalysisTrackingOnly "
         ],
         "marker": {
          "line": {
           "color": "#000000",
           "width": 0.2
          }
         },
         "sort": true,
         "type": "pie",
         "values": [
          0.25,
          4.12,
          0.25,
          0.25,
          0.25,
          0.25,
          0.25,
          0.25,
          0.25,
          0.25,
          0.25,
          0.25,
          1.96,
          1.99,
          1.66,
          1.97,
          1.64,
          1.68,
          4.94,
          3.87,
          4.01,
          3.93,
          3.88,
          3.88,
          3.85,
          1.03,
          0.84,
          1.8,
          1.77,
          3.61,
          0.25,
          4.03,
          0.26,
          0.25,
          42.81,
          185.87,
          1,
          0.74,
          190.26,
          1275.42,
          0.25,
          1229.38,
          70.79,
          443.19,
          0.25,
          173.73,
          40.12,
          0.25,
          1573.98,
          277.02,
          1887.51,
          662.79,
          1609.59,
          1884.98,
          0.25,
          0.25,
          3149.09,
          0.25,
          122.73
         ]
        },
        {
         "direction": "clockwise",
         "domain": {
          "x": [
           0.1,
           0.9
          ],
          "y": [
           0.05,
           0.9
          ]
         },
         "hole": 0.5,
         "labels": [
          "ecalDigis ",
          "hcalDigis ",
          "muonCSCDigis ",
          "muonDTDigis ",
          "muonGEMDigis ",
          "muonRPCDigis ",
          "muonRPCNewDigis ",
          "scalersRawToDigi "
         ],
         "marker": {
          "line": {
           "color": "#000000",
           "width": 0.2
          }
         },
         "sort": true,
         "type": "pie",
         "values": [
          5.05,
          3.4,
          0.25,
          0.25,
          0.25,
          0.25,
          0.25,
          0.25
         ]
        },
        {
         "direction": "clockwise",
         "domain": {
          "x": [
           0.1,
           0.9
          ],
          "y": [
           0.05,
           0.9
          ]
         },
         "hole": 0.5,
         "labels": [
          "ecalRecHit ",
          "hbhereco ",
          "hfprereco ",
          "hfreco ",
          "horeco "
         ],
         "marker": {
          "line": {
           "color": "#000000",
           "width": 0.2
          }
         },
         "sort": true,
         "type": "pie",
         "values": [
          268,
          173.26,
          2.3,
          1.71,
          0.33
         ]
        },
        {
         "direction": "clockwise",
         "domain": {
          "x": [
           0.1,
           0.9
          ],
          "y": [
           0.05,
           0.9
          ]
         },
         "hole": 0.5,
         "labels": [
          "initialStepHitDoublets ",
          "initialStepHitQuadruplets ",
          "initialStepSeedLayers ",
          "initialStepSeeds ",
          "initialStepSelector ",
          "initialStepTrackCandidates ",
          "initialStepTrackingRegions ",
          "initialStepTracks "
         ],
         "marker": {
          "line": {
           "color": "#000000",
           "width": 0.2
          }
         },
         "sort": true,
         "type": "pie",
         "values": [
          127.22,
          787.09,
          24.72,
          326.79,
          11.59,
          3225.43,
          0.28,
          891.58
         ]
        },
        {
         "direction": "clockwise",
         "domain": {
          "x": [
           0.1,
           0.9
          ],
          "y": [
           0.05,
           0.9
          ]
         },
         "hole": 0.5,
         "labels": [
          "highPtTripletStepTrackCandidates "
         ],
         "marker": {
          "line": {
           "color": "#000000",
           "width": 0.2
          }
         },
         "sort": true,
         "type": "pie",
         "values": [
          1.88,
          127.71,
          839.44,
          0.25,
          5.61,
          76.74,
          6.1,
          1549.38,
          0.25,
          443.17,
          0.25
         ]
        },
        {
         "direction": "clockwise",
         "domain": {
          "x": [
           0.1,
           0.9
          ],
          "y": [
           0.05,
           0.9
          ]
         },
         "hole": 0.5,
         "labels": [
          "ecalMultiFitUncalibRecHit ",
          "firstStepPrimaryVerticesUnsorted ",
          "offlineBeamSpot "
         ],
         "marker": {
          "line": {
           "color": "#000000",
           "width": 0.2
          }
         },
         "sort": true,
         "type": "pie",
         "values": [
          238.72,
          1503.16,
          213.22
         ]
        }
       ],
       "layout": {
        "showlegend": false,
        "template": {
         "data": {
          "bar": [
           {
            "error_x": {
             "color": "#2a3f5f"
            },
            "error_y": {
             "color": "#2a3f5f"
            },
            "marker": {
             "line": {
              "color": "#E5ECF6",
              "width": 0.5
             }
            },
            "type": "bar"
           }
          ],
          "barpolar": [
           {
            "marker": {
             "line": {
              "color": "#E5ECF6",
              "width": 0.5
             }
            },
            "type": "barpolar"
           }
          ],
          "carpet": [
           {
            "aaxis": {
             "endlinecolor": "#2a3f5f",
             "gridcolor": "white",
             "linecolor": "white",
             "minorgridcolor": "white",
             "startlinecolor": "#2a3f5f"
            },
            "baxis": {
             "endlinecolor": "#2a3f5f",
             "gridcolor": "white",
             "linecolor": "white",
             "minorgridcolor": "white",
             "startlinecolor": "#2a3f5f"
            },
            "type": "carpet"
           }
          ],
          "choropleth": [
           {
            "colorbar": {
             "outlinewidth": 0,
             "ticks": ""
            },
            "type": "choropleth"
           }
          ],
          "contour": [
           {
            "colorbar": {
             "outlinewidth": 0,
             "ticks": ""
            },
            "colorscale": [
             [
              0,
              "#0d0887"
             ],
             [
              0.1111111111111111,
              "#46039f"
             ],
             [
              0.2222222222222222,
              "#7201a8"
             ],
             [
              0.3333333333333333,
              "#9c179e"
             ],
             [
              0.4444444444444444,
              "#bd3786"
             ],
             [
              0.5555555555555556,
              "#d8576b"
             ],
             [
              0.6666666666666666,
              "#ed7953"
             ],
             [
              0.7777777777777778,
              "#fb9f3a"
             ],
             [
              0.8888888888888888,
              "#fdca26"
             ],
             [
              1,
              "#f0f921"
             ]
            ],
            "type": "contour"
           }
          ],
          "contourcarpet": [
           {
            "colorbar": {
             "outlinewidth": 0,
             "ticks": ""
            },
            "type": "contourcarpet"
           }
          ],
          "heatmap": [
           {
            "colorbar": {
             "outlinewidth": 0,
             "ticks": ""
            },
            "colorscale": [
             [
              0,
              "#0d0887"
             ],
             [
              0.1111111111111111,
              "#46039f"
             ],
             [
              0.2222222222222222,
              "#7201a8"
             ],
             [
              0.3333333333333333,
              "#9c179e"
             ],
             [
              0.4444444444444444,
              "#bd3786"
             ],
             [
              0.5555555555555556,
              "#d8576b"
             ],
             [
              0.6666666666666666,
              "#ed7953"
             ],
             [
              0.7777777777777778,
              "#fb9f3a"
             ],
             [
              0.8888888888888888,
              "#fdca26"
             ],
             [
              1,
              "#f0f921"
             ]
            ],
            "type": "heatmap"
           }
          ],
          "heatmapgl": [
           {
            "colorbar": {
             "outlinewidth": 0,
             "ticks": ""
            },
            "colorscale": [
             [
              0,
              "#0d0887"
             ],
             [
              0.1111111111111111,
              "#46039f"
             ],
             [
              0.2222222222222222,
              "#7201a8"
             ],
             [
              0.3333333333333333,
              "#9c179e"
             ],
             [
              0.4444444444444444,
              "#bd3786"
             ],
             [
              0.5555555555555556,
              "#d8576b"
             ],
             [
              0.6666666666666666,
              "#ed7953"
             ],
             [
              0.7777777777777778,
              "#fb9f3a"
             ],
             [
              0.8888888888888888,
              "#fdca26"
             ],
             [
              1,
              "#f0f921"
             ]
            ],
            "type": "heatmapgl"
           }
          ],
          "histogram": [
           {
            "marker": {
             "colorbar": {
              "outlinewidth": 0,
              "ticks": ""
             }
            },
            "type": "histogram"
           }
          ],
          "histogram2d": [
           {
            "colorbar": {
             "outlinewidth": 0,
             "ticks": ""
            },
            "colorscale": [
             [
              0,
              "#0d0887"
             ],
             [
              0.1111111111111111,
              "#46039f"
             ],
             [
              0.2222222222222222,
              "#7201a8"
             ],
             [
              0.3333333333333333,
              "#9c179e"
             ],
             [
              0.4444444444444444,
              "#bd3786"
             ],
             [
              0.5555555555555556,
              "#d8576b"
             ],
             [
              0.6666666666666666,
              "#ed7953"
             ],
             [
              0.7777777777777778,
              "#fb9f3a"
             ],
             [
              0.8888888888888888,
              "#fdca26"
             ],
             [
              1,
              "#f0f921"
             ]
            ],
            "type": "histogram2d"
           }
          ],
          "histogram2dcontour": [
           {
            "colorbar": {
             "outlinewidth": 0,
             "ticks": ""
            },
            "colorscale": [
             [
              0,
              "#0d0887"
             ],
             [
              0.1111111111111111,
              "#46039f"
             ],
             [
              0.2222222222222222,
              "#7201a8"
             ],
             [
              0.3333333333333333,
              "#9c179e"
             ],
             [
              0.4444444444444444,
              "#bd3786"
             ],
             [
              0.5555555555555556,
              "#d8576b"
             ],
             [
              0.6666666666666666,
              "#ed7953"
             ],
             [
              0.7777777777777778,
              "#fb9f3a"
             ],
             [
              0.8888888888888888,
              "#fdca26"
             ],
             [
              1,
              "#f0f921"
             ]
            ],
            "type": "histogram2dcontour"
           }
          ],
          "mesh3d": [
           {
            "colorbar": {
             "outlinewidth": 0,
             "ticks": ""
            },
            "type": "mesh3d"
           }
          ],
          "parcoords": [
           {
            "line": {
             "colorbar": {
              "outlinewidth": 0,
              "ticks": ""
             }
            },
            "type": "parcoords"
           }
          ],
          "pie": [
           {
            "automargin": true,
            "type": "pie"
           }
          ],
          "scatter": [
           {
            "marker": {
             "colorbar": {
              "outlinewidth": 0,
              "ticks": ""
             }
            },
            "type": "scatter"
           }
          ],
          "scatter3d": [
           {
            "line": {
             "colorbar": {
              "outlinewidth": 0,
              "ticks": ""
             }
            },
            "marker": {
             "colorbar": {
              "outlinewidth": 0,
              "ticks": ""
             }
            },
            "type": "scatter3d"
           }
          ],
          "scattercarpet": [
           {
            "marker": {
             "colorbar": {
              "outlinewidth": 0,
              "ticks": ""
             }
            },
            "type": "scattercarpet"
           }
          ],
          "scattergeo": [
           {
            "marker": {
             "colorbar": {
              "outlinewidth": 0,
              "ticks": ""
             }
            },
            "type": "scattergeo"
           }
          ],
          "scattergl": [
           {
            "marker": {
             "colorbar": {
              "outlinewidth": 0,
              "ticks": ""
             }
            },
            "type": "scattergl"
           }
          ],
          "scattermapbox": [
           {
            "marker": {
             "colorbar": {
              "outlinewidth": 0,
              "ticks": ""
             }
            },
            "type": "scattermapbox"
           }
          ],
          "scatterpolar": [
           {
            "marker": {
             "colorbar": {
              "outlinewidth": 0,
              "ticks": ""
             }
            },
            "type": "scatterpolar"
           }
          ],
          "scatterpolargl": [
           {
            "marker": {
             "colorbar": {
              "outlinewidth": 0,
              "ticks": ""
             }
            },
            "type": "scatterpolargl"
           }
          ],
          "scatterternary": [
           {
            "marker": {
             "colorbar": {
              "outlinewidth": 0,
              "ticks": ""
             }
            },
            "type": "scatterternary"
           }
          ],
          "surface": [
           {
            "colorbar": {
             "outlinewidth": 0,
             "ticks": ""
            },
            "colorscale": [
             [
              0,
              "#0d0887"
             ],
             [
              0.1111111111111111,
              "#46039f"
             ],
             [
              0.2222222222222222,
              "#7201a8"
             ],
             [
              0.3333333333333333,
              "#9c179e"
             ],
             [
              0.4444444444444444,
              "#bd3786"
             ],
             [
              0.5555555555555556,
              "#d8576b"
             ],
             [
              0.6666666666666666,
              "#ed7953"
             ],
             [
              0.7777777777777778,
              "#fb9f3a"
             ],
             [
              0.8888888888888888,
              "#fdca26"
             ],
             [
              1,
              "#f0f921"
             ]
            ],
            "type": "surface"
           }
          ],
          "table": [
           {
            "cells": {
             "fill": {
              "color": "#EBF0F8"
             },
             "line": {
              "color": "white"
             }
            },
            "header": {
             "fill": {
              "color": "#C8D4E3"
             },
             "line": {
              "color": "white"
             }
            },
            "type": "table"
           }
          ]
         },
         "layout": {
          "annotationdefaults": {
           "arrowcolor": "#2a3f5f",
           "arrowhead": 0,
           "arrowwidth": 1
          },
          "coloraxis": {
           "colorbar": {
            "outlinewidth": 0,
            "ticks": ""
           }
          },
          "colorscale": {
           "diverging": [
            [
             0,
             "#8e0152"
            ],
            [
             0.1,
             "#c51b7d"
            ],
            [
             0.2,
             "#de77ae"
            ],
            [
             0.3,
             "#f1b6da"
            ],
            [
             0.4,
             "#fde0ef"
            ],
            [
             0.5,
             "#f7f7f7"
            ],
            [
             0.6,
             "#e6f5d0"
            ],
            [
             0.7,
             "#b8e186"
            ],
            [
             0.8,
             "#7fbc41"
            ],
            [
             0.9,
             "#4d9221"
            ],
            [
             1,
             "#276419"
            ]
           ],
           "sequential": [
            [
             0,
             "#0d0887"
            ],
            [
             0.1111111111111111,
             "#46039f"
            ],
            [
             0.2222222222222222,
             "#7201a8"
            ],
            [
             0.3333333333333333,
             "#9c179e"
            ],
            [
             0.4444444444444444,
             "#bd3786"
            ],
            [
             0.5555555555555556,
             "#d8576b"
            ],
            [
             0.6666666666666666,
             "#ed7953"
            ],
            [
             0.7777777777777778,
             "#fb9f3a"
            ],
            [
             0.8888888888888888,
             "#fdca26"
            ],
            [
             1,
             "#f0f921"
            ]
           ],
           "sequentialminus": [
            [
             0,
             "#0d0887"
            ],
            [
             0.1111111111111111,
             "#46039f"
            ],
            [
             0.2222222222222222,
             "#7201a8"
            ],
            [
             0.3333333333333333,
             "#9c179e"
            ],
            [
             0.4444444444444444,
             "#bd3786"
            ],
            [
             0.5555555555555556,
             "#d8576b"
            ],
            [
             0.6666666666666666,
             "#ed7953"
            ],
            [
             0.7777777777777778,
             "#fb9f3a"
            ],
            [
             0.8888888888888888,
             "#fdca26"
            ],
            [
             1,
             "#f0f921"
            ]
           ]
          },
          "colorway": [
           "#636efa",
           "#EF553B",
           "#00cc96",
           "#ab63fa",
           "#FFA15A",
           "#19d3f3",
           "#FF6692",
           "#B6E880",
           "#FF97FF",
           "#FECB52"
          ],
          "font": {
           "color": "#2a3f5f"
          },
          "geo": {
           "bgcolor": "white",
           "lakecolor": "white",
           "landcolor": "#E5ECF6",
           "showlakes": true,
           "showland": true,
           "subunitcolor": "white"
          },
          "hoverlabel": {
           "align": "left"
          },
          "hovermode": "closest",
          "mapbox": {
           "style": "light"
          },
          "paper_bgcolor": "white",
          "plot_bgcolor": "#E5ECF6",
          "polar": {
           "angularaxis": {
            "gridcolor": "white",
            "linecolor": "white",
            "ticks": ""
           },
           "bgcolor": "#E5ECF6",
           "radialaxis": {
            "gridcolor": "white",
            "linecolor": "white",
            "ticks": ""
           }
          },
          "scene": {
           "xaxis": {
            "backgroundcolor": "#E5ECF6",
            "gridcolor": "white",
            "gridwidth": 2,
            "linecolor": "white",
            "showbackground": true,
            "ticks": "",
            "zerolinecolor": "white"
           },
           "yaxis": {
            "backgroundcolor": "#E5ECF6",
            "gridcolor": "white",
            "gridwidth": 2,
            "linecolor": "white",
            "showbackground": true,
            "ticks": "",
            "zerolinecolor": "white"
           },
           "zaxis": {
            "backgroundcolor": "#E5ECF6",
            "gridcolor": "white",
            "gridwidth": 2,
            "linecolor": "white",
            "showbackground": true,
            "ticks": "",
            "zerolinecolor": "white"
           }
          },
          "shapedefaults": {
           "line": {
            "color": "#2a3f5f"
           }
          },
          "ternary": {
           "aaxis": {
            "gridcolor": "white",
            "linecolor": "white",
            "ticks": ""
           },
           "baxis": {
            "gridcolor": "white",
            "linecolor": "white",
            "ticks": ""
           },
           "bgcolor": "#E5ECF6",
           "caxis": {
            "gridcolor": "white",
            "linecolor": "white",
            "ticks": ""
           }
          },
          "title": {
           "x": 0.05
          },
          "xaxis": {
           "automargin": true,
           "gridcolor": "white",
           "linecolor": "white",
           "ticks": "",
           "title": {
            "standoff": 15
           },
           "zerolinecolor": "white",
           "zerolinewidth": 2
          },
          "yaxis": {
           "automargin": true,
           "gridcolor": "white",
           "linecolor": "white",
           "ticks": "",
           "title": {
            "standoff": 15
           },
           "zerolinecolor": "white",
           "zerolinewidth": 2
          }
         }
        },
        "title": {
         "text": "Modules by path for PU200"
        },
        "updatemenus": [
         {
          "active": -1,
          "buttons": [
           {
            "args": [
             {
              "visible": [
               true,
               false,
               false,
               false,
               false,
               false,
               false
              ]
             }
            ],
            "label": "DQM_offline",
            "method": "update"
           },
           {
            "args": [
             {
              "visible": [
               false,
               true,
               false,
               false,
               false,
               false,
               false
              ]
             }
            ],
            "label": "preval",
            "method": "update"
           },
           {
            "args": [
             {
              "visible": [
               false,
               false,
               true,
               false,
               false,
               false,
               false
              ]
             }
            ],
            "label": "raw_digi",
            "method": "update"
           },
           {
            "args": [
             {
              "visible": [
               false,
               false,
               false,
               true,
               false,
               false,
               false
              ]
             }
            ],
            "label": "caloLocalReco",
            "method": "update"
           },
           {
            "args": [
             {
              "visible": [
               false,
               false,
               false,
               false,
               true,
               false,
               false
              ]
             }
            ],
            "label": "initialStepSequence",
            "method": "update"
           },
           {
            "args": [
             {
              "visible": [
               false,
               false,
               false,
               false,
               false,
               true,
               false
              ]
             }
            ],
            "label": "highPtTripletStepSequence",
            "method": "update"
           },
           {
            "args": [
             {
              "visible": [
               false,
               false,
               false,
               false,
               false,
               false,
               true
              ]
             }
            ],
            "label": "other",
            "method": "update"
           },
           {
            "args": [
             {
              "visible": [
               true,
               true,
               true,
               true,
               true,
               true,
               true
              ]
             }
            ],
            "label": "All",
            "method": "update"
           }
          ],
          "type": "buttons"
         }
        ]
       }
      },
      "text/html": [
       "<div>\n",
       "        \n",
       "        \n",
       "            <div id=\"e03c37e7-a997-42a7-b9ab-74cf2db4ec60\" class=\"plotly-graph-div\" style=\"height:525px; width:100%;\"></div>\n",
       "            <script type=\"text/javascript\">\n",
       "                require([\"plotly\"], function(Plotly) {\n",
       "                    window.PLOTLYENV=window.PLOTLYENV || {};\n",
       "                    \n",
       "                if (document.getElementById(\"e03c37e7-a997-42a7-b9ab-74cf2db4ec60\")) {\n",
       "                    Plotly.newPlot(\n",
       "                        'e03c37e7-a997-42a7-b9ab-74cf2db4ec60',\n",
       "                        [{\"direction\": \"clockwise\", \"domain\": {\"x\": [0.1, 0.9], \"y\": [0.05, 0.9]}, \"hole\": 0.5, \"labels\": [\"PV0p1 \", \"TrackMon_ckf \", \"TrackSeedMonhighPtTripletStep \", \"TrackSeedMoninitialStep \", \"TrackSplitMonitor \", \"TrackerCollisionSelectedTrackMonCommongeneralTracks \", \"TrackerCollisionSelectedTrackMonCommonhighPurityPV0p1 \", \"TrackerCollisionSelectedTrackMonCommonhighPurityPt1 \", \"TrackerCollisionSelectedTrackMonCommonhighPurityPtRange0to1 \", \"dqmInfoTracking \", \"highPurityPV0p1 \", \"highPurityPt1 \", \"highPurityPtRange0to1 \", \"primaryVertexResolution \", \"pvMonitor \", \"trackingDQMgoodOfflinePrimaryVertices \"], \"marker\": {\"line\": {\"color\": \"#000000\", \"width\": 0.2}}, \"sort\": true, \"type\": \"pie\", \"values\": [1.73, 0.26, 41.57, 97.5, 187.85, 1655.6, 54.34, 479.45, 971.62, 0.25, 2.07, 1.36, 2.81, 202.16, 1.22, 2.92]}, {\"direction\": \"clockwise\", \"domain\": {\"x\": [0.1, 0.9], \"y\": [0.05, 0.9]}, \"hole\": 0.5, \"labels\": [\"VertexAssociatorByPositionAndTracks \", \"cutsRecoTracksBtvLike \", \"cutsRecoTracksFromPVHighPtTripletStep \", \"cutsRecoTracksFromPVHighPtTripletStepHp \", \"cutsRecoTracksFromPVHp \", \"cutsRecoTracksFromPVInitialStep \", \"cutsRecoTracksFromPVInitialStepHp \", \"cutsRecoTracksFromPVPt09HighPtTripletStep \", \"cutsRecoTracksFromPVPt09HighPtTripletStepHp \", \"cutsRecoTracksFromPVPt09Hp \", \"cutsRecoTracksFromPVPt09InitialStep \", \"cutsRecoTracksFromPVPt09InitialStepHp \", \"cutsRecoTracksHighPtTripletStep \", \"cutsRecoTracksHighPtTripletStepByAlgoMask \", \"cutsRecoTracksHighPtTripletStepByAlgoMaskHp \", \"cutsRecoTracksHighPtTripletStepByOriginalAlgo \", \"cutsRecoTracksHighPtTripletStepByOriginalAlgoHp \", \"cutsRecoTracksHighPtTripletStepHp \", \"cutsRecoTracksHp \", \"cutsRecoTracksInitialStep \", \"cutsRecoTracksInitialStepByAlgoMask \", \"cutsRecoTracksInitialStepByAlgoMaskHp \", \"cutsRecoTracksInitialStepByOriginalAlgo \", \"cutsRecoTracksInitialStepByOriginalAlgoHp \", \"cutsRecoTracksInitialStepHp \", \"cutsRecoTracksPt09HighPtTripletStep \", \"cutsRecoTracksPt09HighPtTripletStepHp \", \"cutsRecoTracksPt09InitialStep \", \"cutsRecoTracksPt09InitialStepHp \", \"generalTracksFromPV \", \"generalTracksFromPVPt09 \", \"generalTracksPt09 \", \"quickTrackAssociatorByHits \", \"quickTrackAssociatorByHitsPreSplitting \", \"seedTrackshighPtTripletStepSeeds \", \"seedTracksinitialStepSeeds \", \"selectedOfflinePrimaryVertices \", \"selectedOfflinePrimaryVerticesWithBS \", \"simHitTPAssocProducer \", \"tpClusterProducer \", \"tpClusterProducerPreSplitting \", \"trackValidatorAllTPEfficStandalone \", \"trackValidatorBHadronTrackingOnly \", \"trackValidatorBuilding \", \"trackValidatorBuildingPreSplitting \", \"trackValidatorFromPVAllTPStandalone \", \"trackValidatorFromPVStandalone \", \"trackValidatorSeedingPreSplittingTrackingOnly \", \"trackValidatorSeedingTrackingOnly \", \"trackValidatorTPPtLess09Standalone \", \"trackValidatorTrackingOnly \", \"trackingParticleNumberOfLayersProducer \", \"trackingParticleRecoTrackAsssociation \", \"trackingParticlesBHadron \", \"trackingParticlesConversion \", \"trackingParticlesElectron \", \"trackingParticlesSignal \", \"v0Validator \", \"vertexAnalysisTrackingOnly \"], \"marker\": {\"line\": {\"color\": \"#000000\", \"width\": 0.2}}, \"sort\": true, \"type\": \"pie\", \"values\": [0.25, 4.12, 0.25, 0.25, 0.25, 0.25, 0.25, 0.25, 0.25, 0.25, 0.25, 0.25, 1.96, 1.99, 1.66, 1.97, 1.64, 1.68, 4.94, 3.87, 4.01, 3.93, 3.88, 3.88, 3.85, 1.03, 0.84, 1.8, 1.77, 3.61, 0.25, 4.03, 0.26, 0.25, 42.81, 185.87, 1.0, 0.74, 190.26, 1275.42, 0.25, 1229.38, 70.79, 443.19, 0.25, 173.73, 40.12, 0.25, 1573.98, 277.02, 1887.51, 662.79, 1609.59, 1884.98, 0.25, 0.25, 3149.09, 0.25, 122.73]}, {\"direction\": \"clockwise\", \"domain\": {\"x\": [0.1, 0.9], \"y\": [0.05, 0.9]}, \"hole\": 0.5, \"labels\": [\"ecalDigis \", \"hcalDigis \", \"muonCSCDigis \", \"muonDTDigis \", \"muonGEMDigis \", \"muonRPCDigis \", \"muonRPCNewDigis \", \"scalersRawToDigi \"], \"marker\": {\"line\": {\"color\": \"#000000\", \"width\": 0.2}}, \"sort\": true, \"type\": \"pie\", \"values\": [5.05, 3.4, 0.25, 0.25, 0.25, 0.25, 0.25, 0.25]}, {\"direction\": \"clockwise\", \"domain\": {\"x\": [0.1, 0.9], \"y\": [0.05, 0.9]}, \"hole\": 0.5, \"labels\": [\"ecalRecHit \", \"hbhereco \", \"hfprereco \", \"hfreco \", \"horeco \"], \"marker\": {\"line\": {\"color\": \"#000000\", \"width\": 0.2}}, \"sort\": true, \"type\": \"pie\", \"values\": [268.0, 173.26, 2.3, 1.71, 0.33]}, {\"direction\": \"clockwise\", \"domain\": {\"x\": [0.1, 0.9], \"y\": [0.05, 0.9]}, \"hole\": 0.5, \"labels\": [\"initialStepHitDoublets \", \"initialStepHitQuadruplets \", \"initialStepSeedLayers \", \"initialStepSeeds \", \"initialStepSelector \", \"initialStepTrackCandidates \", \"initialStepTrackingRegions \", \"initialStepTracks \"], \"marker\": {\"line\": {\"color\": \"#000000\", \"width\": 0.2}}, \"sort\": true, \"type\": \"pie\", \"values\": [127.22, 787.09, 24.72, 326.79, 11.59, 3225.43, 0.28, 891.58]}, {\"direction\": \"clockwise\", \"domain\": {\"x\": [0.1, 0.9], \"y\": [0.05, 0.9]}, \"hole\": 0.5, \"labels\": [\"highPtTripletStepTrackCandidates \"], \"marker\": {\"line\": {\"color\": \"#000000\", \"width\": 0.2}}, \"sort\": true, \"type\": \"pie\", \"values\": [1.88, 127.71, 839.44, 0.25, 5.61, 76.74, 6.1, 1549.38, 0.25, 443.17, 0.25]}, {\"direction\": \"clockwise\", \"domain\": {\"x\": [0.1, 0.9], \"y\": [0.05, 0.9]}, \"hole\": 0.5, \"labels\": [\"ecalMultiFitUncalibRecHit \", \"firstStepPrimaryVerticesUnsorted \", \"offlineBeamSpot \"], \"marker\": {\"line\": {\"color\": \"#000000\", \"width\": 0.2}}, \"sort\": true, \"type\": \"pie\", \"values\": [238.72, 1503.16, 213.22]}],\n",
       "                        {\"showlegend\": false, \"template\": {\"data\": {\"bar\": [{\"error_x\": {\"color\": \"#2a3f5f\"}, \"error_y\": {\"color\": \"#2a3f5f\"}, \"marker\": {\"line\": {\"color\": \"#E5ECF6\", \"width\": 0.5}}, \"type\": \"bar\"}], \"barpolar\": [{\"marker\": {\"line\": {\"color\": \"#E5ECF6\", \"width\": 0.5}}, \"type\": \"barpolar\"}], \"carpet\": [{\"aaxis\": {\"endlinecolor\": \"#2a3f5f\", \"gridcolor\": \"white\", \"linecolor\": \"white\", \"minorgridcolor\": \"white\", \"startlinecolor\": \"#2a3f5f\"}, \"baxis\": {\"endlinecolor\": \"#2a3f5f\", \"gridcolor\": \"white\", \"linecolor\": \"white\", \"minorgridcolor\": \"white\", \"startlinecolor\": \"#2a3f5f\"}, \"type\": \"carpet\"}], \"choropleth\": [{\"colorbar\": {\"outlinewidth\": 0, \"ticks\": \"\"}, \"type\": \"choropleth\"}], \"contour\": [{\"colorbar\": {\"outlinewidth\": 0, \"ticks\": \"\"}, \"colorscale\": [[0.0, \"#0d0887\"], [0.1111111111111111, \"#46039f\"], [0.2222222222222222, \"#7201a8\"], [0.3333333333333333, \"#9c179e\"], [0.4444444444444444, \"#bd3786\"], [0.5555555555555556, \"#d8576b\"], [0.6666666666666666, \"#ed7953\"], [0.7777777777777778, \"#fb9f3a\"], [0.8888888888888888, \"#fdca26\"], [1.0, \"#f0f921\"]], \"type\": \"contour\"}], \"contourcarpet\": [{\"colorbar\": {\"outlinewidth\": 0, \"ticks\": \"\"}, \"type\": \"contourcarpet\"}], \"heatmap\": [{\"colorbar\": {\"outlinewidth\": 0, \"ticks\": \"\"}, \"colorscale\": [[0.0, \"#0d0887\"], [0.1111111111111111, \"#46039f\"], [0.2222222222222222, \"#7201a8\"], [0.3333333333333333, \"#9c179e\"], [0.4444444444444444, \"#bd3786\"], [0.5555555555555556, \"#d8576b\"], [0.6666666666666666, \"#ed7953\"], [0.7777777777777778, \"#fb9f3a\"], [0.8888888888888888, \"#fdca26\"], [1.0, \"#f0f921\"]], \"type\": \"heatmap\"}], \"heatmapgl\": [{\"colorbar\": {\"outlinewidth\": 0, \"ticks\": \"\"}, \"colorscale\": [[0.0, \"#0d0887\"], [0.1111111111111111, \"#46039f\"], [0.2222222222222222, \"#7201a8\"], [0.3333333333333333, \"#9c179e\"], [0.4444444444444444, \"#bd3786\"], [0.5555555555555556, \"#d8576b\"], [0.6666666666666666, \"#ed7953\"], [0.7777777777777778, \"#fb9f3a\"], [0.8888888888888888, \"#fdca26\"], [1.0, \"#f0f921\"]], \"type\": \"heatmapgl\"}], \"histogram\": [{\"marker\": {\"colorbar\": {\"outlinewidth\": 0, \"ticks\": \"\"}}, \"type\": \"histogram\"}], \"histogram2d\": [{\"colorbar\": {\"outlinewidth\": 0, \"ticks\": \"\"}, \"colorscale\": [[0.0, \"#0d0887\"], [0.1111111111111111, \"#46039f\"], [0.2222222222222222, \"#7201a8\"], [0.3333333333333333, \"#9c179e\"], [0.4444444444444444, \"#bd3786\"], [0.5555555555555556, \"#d8576b\"], [0.6666666666666666, \"#ed7953\"], [0.7777777777777778, \"#fb9f3a\"], [0.8888888888888888, \"#fdca26\"], [1.0, \"#f0f921\"]], \"type\": \"histogram2d\"}], \"histogram2dcontour\": [{\"colorbar\": {\"outlinewidth\": 0, \"ticks\": \"\"}, \"colorscale\": [[0.0, \"#0d0887\"], [0.1111111111111111, \"#46039f\"], [0.2222222222222222, \"#7201a8\"], [0.3333333333333333, \"#9c179e\"], [0.4444444444444444, \"#bd3786\"], [0.5555555555555556, \"#d8576b\"], [0.6666666666666666, \"#ed7953\"], [0.7777777777777778, \"#fb9f3a\"], [0.8888888888888888, \"#fdca26\"], [1.0, \"#f0f921\"]], \"type\": \"histogram2dcontour\"}], \"mesh3d\": [{\"colorbar\": {\"outlinewidth\": 0, \"ticks\": \"\"}, \"type\": \"mesh3d\"}], \"parcoords\": [{\"line\": {\"colorbar\": {\"outlinewidth\": 0, \"ticks\": \"\"}}, \"type\": \"parcoords\"}], \"pie\": [{\"automargin\": true, \"type\": \"pie\"}], \"scatter\": [{\"marker\": {\"colorbar\": {\"outlinewidth\": 0, \"ticks\": \"\"}}, \"type\": \"scatter\"}], \"scatter3d\": [{\"line\": {\"colorbar\": {\"outlinewidth\": 0, \"ticks\": \"\"}}, \"marker\": {\"colorbar\": {\"outlinewidth\": 0, \"ticks\": \"\"}}, \"type\": \"scatter3d\"}], \"scattercarpet\": [{\"marker\": {\"colorbar\": {\"outlinewidth\": 0, \"ticks\": \"\"}}, \"type\": \"scattercarpet\"}], \"scattergeo\": [{\"marker\": {\"colorbar\": {\"outlinewidth\": 0, \"ticks\": \"\"}}, \"type\": \"scattergeo\"}], \"scattergl\": [{\"marker\": {\"colorbar\": {\"outlinewidth\": 0, \"ticks\": \"\"}}, \"type\": \"scattergl\"}], \"scattermapbox\": [{\"marker\": {\"colorbar\": {\"outlinewidth\": 0, \"ticks\": \"\"}}, \"type\": \"scattermapbox\"}], \"scatterpolar\": [{\"marker\": {\"colorbar\": {\"outlinewidth\": 0, \"ticks\": \"\"}}, \"type\": \"scatterpolar\"}], \"scatterpolargl\": [{\"marker\": {\"colorbar\": {\"outlinewidth\": 0, \"ticks\": \"\"}}, \"type\": \"scatterpolargl\"}], \"scatterternary\": [{\"marker\": {\"colorbar\": {\"outlinewidth\": 0, \"ticks\": \"\"}}, \"type\": \"scatterternary\"}], \"surface\": [{\"colorbar\": {\"outlinewidth\": 0, \"ticks\": \"\"}, \"colorscale\": [[0.0, \"#0d0887\"], [0.1111111111111111, \"#46039f\"], [0.2222222222222222, \"#7201a8\"], [0.3333333333333333, \"#9c179e\"], [0.4444444444444444, \"#bd3786\"], [0.5555555555555556, \"#d8576b\"], [0.6666666666666666, \"#ed7953\"], [0.7777777777777778, \"#fb9f3a\"], [0.8888888888888888, \"#fdca26\"], [1.0, \"#f0f921\"]], \"type\": \"surface\"}], \"table\": [{\"cells\": {\"fill\": {\"color\": \"#EBF0F8\"}, \"line\": {\"color\": \"white\"}}, \"header\": {\"fill\": {\"color\": \"#C8D4E3\"}, \"line\": {\"color\": \"white\"}}, \"type\": \"table\"}]}, \"layout\": {\"annotationdefaults\": {\"arrowcolor\": \"#2a3f5f\", \"arrowhead\": 0, \"arrowwidth\": 1}, \"coloraxis\": {\"colorbar\": {\"outlinewidth\": 0, \"ticks\": \"\"}}, \"colorscale\": {\"diverging\": [[0, \"#8e0152\"], [0.1, \"#c51b7d\"], [0.2, \"#de77ae\"], [0.3, \"#f1b6da\"], [0.4, \"#fde0ef\"], [0.5, \"#f7f7f7\"], [0.6, \"#e6f5d0\"], [0.7, \"#b8e186\"], [0.8, \"#7fbc41\"], [0.9, \"#4d9221\"], [1, \"#276419\"]], \"sequential\": [[0.0, \"#0d0887\"], [0.1111111111111111, \"#46039f\"], [0.2222222222222222, \"#7201a8\"], [0.3333333333333333, \"#9c179e\"], [0.4444444444444444, \"#bd3786\"], [0.5555555555555556, \"#d8576b\"], [0.6666666666666666, \"#ed7953\"], [0.7777777777777778, \"#fb9f3a\"], [0.8888888888888888, \"#fdca26\"], [1.0, \"#f0f921\"]], \"sequentialminus\": [[0.0, \"#0d0887\"], [0.1111111111111111, \"#46039f\"], [0.2222222222222222, \"#7201a8\"], [0.3333333333333333, \"#9c179e\"], [0.4444444444444444, \"#bd3786\"], [0.5555555555555556, \"#d8576b\"], [0.6666666666666666, \"#ed7953\"], [0.7777777777777778, \"#fb9f3a\"], [0.8888888888888888, \"#fdca26\"], [1.0, \"#f0f921\"]]}, \"colorway\": [\"#636efa\", \"#EF553B\", \"#00cc96\", \"#ab63fa\", \"#FFA15A\", \"#19d3f3\", \"#FF6692\", \"#B6E880\", \"#FF97FF\", \"#FECB52\"], \"font\": {\"color\": \"#2a3f5f\"}, \"geo\": {\"bgcolor\": \"white\", \"lakecolor\": \"white\", \"landcolor\": \"#E5ECF6\", \"showlakes\": true, \"showland\": true, \"subunitcolor\": \"white\"}, \"hoverlabel\": {\"align\": \"left\"}, \"hovermode\": \"closest\", \"mapbox\": {\"style\": \"light\"}, \"paper_bgcolor\": \"white\", \"plot_bgcolor\": \"#E5ECF6\", \"polar\": {\"angularaxis\": {\"gridcolor\": \"white\", \"linecolor\": \"white\", \"ticks\": \"\"}, \"bgcolor\": \"#E5ECF6\", \"radialaxis\": {\"gridcolor\": \"white\", \"linecolor\": \"white\", \"ticks\": \"\"}}, \"scene\": {\"xaxis\": {\"backgroundcolor\": \"#E5ECF6\", \"gridcolor\": \"white\", \"gridwidth\": 2, \"linecolor\": \"white\", \"showbackground\": true, \"ticks\": \"\", \"zerolinecolor\": \"white\"}, \"yaxis\": {\"backgroundcolor\": \"#E5ECF6\", \"gridcolor\": \"white\", \"gridwidth\": 2, \"linecolor\": \"white\", \"showbackground\": true, \"ticks\": \"\", \"zerolinecolor\": \"white\"}, \"zaxis\": {\"backgroundcolor\": \"#E5ECF6\", \"gridcolor\": \"white\", \"gridwidth\": 2, \"linecolor\": \"white\", \"showbackground\": true, \"ticks\": \"\", \"zerolinecolor\": \"white\"}}, \"shapedefaults\": {\"line\": {\"color\": \"#2a3f5f\"}}, \"ternary\": {\"aaxis\": {\"gridcolor\": \"white\", \"linecolor\": \"white\", \"ticks\": \"\"}, \"baxis\": {\"gridcolor\": \"white\", \"linecolor\": \"white\", \"ticks\": \"\"}, \"bgcolor\": \"#E5ECF6\", \"caxis\": {\"gridcolor\": \"white\", \"linecolor\": \"white\", \"ticks\": \"\"}}, \"title\": {\"x\": 0.05}, \"xaxis\": {\"automargin\": true, \"gridcolor\": \"white\", \"linecolor\": \"white\", \"ticks\": \"\", \"title\": {\"standoff\": 15}, \"zerolinecolor\": \"white\", \"zerolinewidth\": 2}, \"yaxis\": {\"automargin\": true, \"gridcolor\": \"white\", \"linecolor\": \"white\", \"ticks\": \"\", \"title\": {\"standoff\": 15}, \"zerolinecolor\": \"white\", \"zerolinewidth\": 2}}}, \"title\": {\"text\": \"Modules by path for PU200\"}, \"updatemenus\": [{\"active\": -1, \"buttons\": [{\"args\": [{\"visible\": [true, false, false, false, false, false, false]}], \"label\": \"DQM_offline\", \"method\": \"update\"}, {\"args\": [{\"visible\": [false, true, false, false, false, false, false]}], \"label\": \"preval\", \"method\": \"update\"}, {\"args\": [{\"visible\": [false, false, true, false, false, false, false]}], \"label\": \"raw_digi\", \"method\": \"update\"}, {\"args\": [{\"visible\": [false, false, false, true, false, false, false]}], \"label\": \"caloLocalReco\", \"method\": \"update\"}, {\"args\": [{\"visible\": [false, false, false, false, true, false, false]}], \"label\": \"initialStepSequence\", \"method\": \"update\"}, {\"args\": [{\"visible\": [false, false, false, false, false, true, false]}], \"label\": \"highPtTripletStepSequence\", \"method\": \"update\"}, {\"args\": [{\"visible\": [false, false, false, false, false, false, true]}], \"label\": \"other\", \"method\": \"update\"}, {\"args\": [{\"visible\": [true, true, true, true, true, true, true]}], \"label\": \"All\", \"method\": \"update\"}], \"type\": \"buttons\"}]},\n",
       "                        {\"responsive\": true}\n",
       "                    ).then(function(){\n",
       "                            \n",
       "var gd = document.getElementById('e03c37e7-a997-42a7-b9ab-74cf2db4ec60');\n",
       "var x = new MutationObserver(function (mutations, observer) {{\n",
       "        var display = window.getComputedStyle(gd).display;\n",
       "        if (!display || display === 'none') {{\n",
       "            console.log([gd, 'removed!']);\n",
       "            Plotly.purge(gd);\n",
       "            observer.disconnect();\n",
       "        }}\n",
       "}});\n",
       "\n",
       "// Listen for the removal of the full notebook cells\n",
       "var notebookContainer = gd.closest('#notebook-container');\n",
       "if (notebookContainer) {{\n",
       "    x.observe(notebookContainer, {childList: true});\n",
       "}}\n",
       "\n",
       "// Listen for the clearing of the current output cell\n",
       "var outputEl = gd.closest('.output');\n",
       "if (outputEl) {{\n",
       "    x.observe(outputEl, {childList: true});\n",
       "}}\n",
       "\n",
       "                        })\n",
       "                };\n",
       "                });\n",
       "            </script>\n",
       "        </div>"
      ]
     },
     "metadata": {},
     "output_type": "display_data"
    }
   ],
   "source": [
    "#number in the bracket is pileup\n",
    "plot4(200)"
   ]
  },
  {
   "cell_type": "code",
   "execution_count": null,
   "metadata": {},
   "outputs": [],
   "source": []
  }
 ],
 "metadata": {
  "kernelspec": {
   "display_name": "Python 3",
   "language": "python",
   "name": "python3"
  },
  "language_info": {
   "codemirror_mode": {
    "name": "ipython",
    "version": 3
   },
   "file_extension": ".py",
   "mimetype": "text/x-python",
   "name": "python",
   "nbconvert_exporter": "python",
   "pygments_lexer": "ipython3",
   "version": "3.7.6"
  }
 },
 "nbformat": 4,
 "nbformat_minor": 2
}
